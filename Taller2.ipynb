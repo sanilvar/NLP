{
 "cells": [
  {
   "cell_type": "markdown",
   "metadata": {},
   "source": [
    "<img src='https://encrypted-tbn0.gstatic.com/images?q=tbn%3AANd9GcQ-VfNtOyJbsaxu43Kztf_cv1mgBG6ZIQZEVw&usqp=CAU'>\n",
    "\n",
    "# Procesamiento de Lenguage Natural\n",
    "\n",
    "## Taller #2: Adquisición de textos\n",
    "`Fecha de entrega: Agosto 29, 2020. (Antes del inicio de la próxima clase).\n",
    "\n",
    "## Estudiante : Ilvar dario Sanabria González\n",
    "## Código: 616201058"
   ]
  },
  {
   "cell_type": "markdown",
   "metadata": {},
   "source": [
    "# Punto 1:\n",
    "\n",
    "- Descomprimir el archivo `.zip` de los poemas\n",
    "- Leer cada uno de sus archivos\n",
    "- Responder: ¿Cuál archivo tiene el mayor número de palabras?"
   ]
  },
  {
   "cell_type": "markdown",
   "metadata": {},
   "source": [
    "#### Importar las librerias para Leer un archivo zip"
   ]
  },
  {
   "cell_type": "code",
   "execution_count": 6,
   "metadata": {},
   "outputs": [],
   "source": [
    "import os\n",
    "from zipfile import ZipFile"
   ]
  },
  {
   "cell_type": "markdown",
   "metadata": {},
   "source": [
    "#### Leer el archivo .zip en la ubicacion donde esta ubicado"
   ]
  },
  {
   "cell_type": "code",
   "execution_count": 7,
   "metadata": {},
   "outputs": [],
   "source": [
    "nombre_zip='C://tmp//taller2NLP//poemas.zip'\n",
    "directorio='C://tmp//taller2NLP//'"
   ]
  },
  {
   "cell_type": "markdown",
   "metadata": {},
   "source": [
    "#### Extraer los archivos del Zip"
   ]
  },
  {
   "cell_type": "code",
   "execution_count": 8,
   "metadata": {},
   "outputs": [],
   "source": [
    "with  ZipFile(nombre_zip) as archivo:\n",
    "    archivo.extractall(directorio)"
   ]
  },
  {
   "cell_type": "markdown",
   "metadata": {},
   "source": [
    "#### Recorremos el directorio donde se extrajeron los archivos .zip"
   ]
  },
  {
   "cell_type": "code",
   "execution_count": 9,
   "metadata": {},
   "outputs": [
    {
     "name": "stdout",
     "output_type": "stream",
     "text": [
      "A un general (Julio Corta╠üzar).txt\n",
      "Aqui╠ü (Octavio Paz).txt\n",
      "Si╠ündrome (Mario Benedetti).txt\n"
     ]
    }
   ],
   "source": [
    "directorio_poemas=directorio+'//poemas//'\n",
    "listapoemas=[]\n",
    "for raiz, dirs, archivos in os.walk(directorio_poemas):\n",
    "    for archivo in archivos:\n",
    "        if archivo.endswith('.txt'):\n",
    "            print(archivo)\n",
    "            poemas_txt = open(directorio_poemas+archivo, 'r')\n",
    "            texto=poemas_txt.read().split()\n",
    "            num_palabras=len(texto)\n",
    "            listapoemas.append([archivo,len(texto)])\n",
    "            "
   ]
  },
  {
   "cell_type": "markdown",
   "metadata": {},
   "source": [
    "\n",
    "#### El archivo o poema que tiene el mayor numero de palabras es:\n"
   ]
  },
  {
   "cell_type": "code",
   "execution_count": 10,
   "metadata": {},
   "outputs": [
    {
     "name": "stdout",
     "output_type": "stream",
     "text": [
      "['Si╠ündrome (Mario Benedetti).txt', 53]\n"
     ]
    }
   ],
   "source": [
    "print(max(listapoemas))"
   ]
  },
  {
   "cell_type": "markdown",
   "metadata": {},
   "source": [
    "# Punto 2:\n",
    "\n",
    "- Hacer Web Scraping de 10 biografías en Wikipedia (en búcle)\n",
    "- Obtener el **encabezado** de cada biografía\n",
    "- Obtener todos los **contenidos** y **etiquetas de título** asociados a los **links** del primer párrafo"
   ]
  },
  {
   "cell_type": "markdown",
   "metadata": {},
   "source": [
    "<img src='img/carlsagan.png'>"
   ]
  },
  {
   "cell_type": "markdown",
   "metadata": {},
   "source": [
    "#### Obtenemos las librerias"
   ]
  },
  {
   "cell_type": "code",
   "execution_count": 11,
   "metadata": {},
   "outputs": [],
   "source": [
    "import bs4 as bs\n",
    "import urllib.request"
   ]
  },
  {
   "cell_type": "markdown",
   "metadata": {},
   "source": [
    "#### Se establecen los links de las biografias para las que vamos a obtener  los datos"
   ]
  },
  {
   "cell_type": "code",
   "execution_count": 24,
   "metadata": {},
   "outputs": [],
   "source": [
    "biografias=[]\n",
    "base_url='https://es.wikipedia.org'\n",
    "biografias.append('https://es.wikipedia.org/wiki/Carl_Sagan')\n",
    "biografias.append('https://es.wikipedia.org/wiki/Teresa_de_Calcuta')\n",
    "biografias.append('https://es.wikipedia.org/wiki/Martin_Luther_King')\n",
    "biografias.append('https://es.wikipedia.org/wiki/Barack_Obama')\n",
    "biografias.append('https://es.wikipedia.org/wiki/Nelson_Mandela')\n",
    "biografias.append('https://es.wikipedia.org/wiki/Winston_Churchill')\n",
    "biografias.append('https://es.wikipedia.org/wiki/Abraham_Lincoln')\n",
    "biografias.append('https://es.wikipedia.org/wiki/Jorge_Luis_Borges')\n",
    "biografias.append('https://es.wikipedia.org/wiki/Policarpa_Salavarrieta')\n",
    "biografias.append('https://es.wikipedia.org/wiki/Albert_Einstein')"
   ]
  },
  {
   "cell_type": "markdown",
   "metadata": {},
   "source": [
    "#### El siguiente codigo lee las paginas, por cada una procesa el texto y lee el título y el primer parrafo, para cada una de las referencias externas lee el título y los contenidos de los parrafos. toda la información se almacena en una lista"
   ]
  },
  {
   "cell_type": "code",
   "execution_count": 18,
   "metadata": {},
   "outputs": [],
   "source": [
    "contenidos=[]"
   ]
  },
  {
   "cell_type": "markdown",
   "metadata": {},
   "source": [
    "Leemos los links que estan dentro del parrafo"
   ]
  },
  {
   "cell_type": "code",
   "execution_count": null,
   "metadata": {},
   "outputs": [
    {
     "name": "stdout",
     "output_type": "stream",
     "text": [
      "https://es.wikipedia.org/wiki/Carl_Sagan\n",
      "<a href=\"/wiki/Nueva_York\" title=\"Nueva York\">Nueva York</a>\n",
      "Ref >>:https://es.wikipedia.org/wiki/Nueva_York\n",
      "<a href=\"/wiki/9_de_noviembre\" title=\"9 de noviembre\">9 de noviembre</a>\n",
      "Ref >>:https://es.wikipedia.org/wiki/9_de_noviembre\n",
      "<a href=\"/wiki/1934\" title=\"1934\">1934</a>\n",
      "Ref >>:https://es.wikipedia.org/wiki/1934\n",
      "<a href=\"/wiki/Seattle\" title=\"Seattle\">Seattle</a>\n",
      "Ref >>:https://es.wikipedia.org/wiki/Seattle\n",
      "<a href=\"/wiki/20_de_diciembre\" title=\"20 de diciembre\">20 de diciembre</a>\n",
      "Ref >>:https://es.wikipedia.org/wiki/20_de_diciembre\n",
      "<a href=\"/wiki/1996\" title=\"1996\">1996</a>\n",
      "Ref >>:https://es.wikipedia.org/wiki/1996\n",
      "<a href=\"/wiki/Astronom%C3%ADa\" title=\"Astronomía\">astrónomo</a>\n",
      "Ref >>:https://es.wikipedia.org/wiki/Astronom%C3%ADa\n",
      "<a href=\"/wiki/Astrof%C3%ADsica\" title=\"Astrofísica\">astrofísico</a>\n",
      "Ref >>:https://es.wikipedia.org/wiki/Astrof%C3%ADsica\n",
      "<a href=\"/wiki/Cosmolog%C3%ADa\" title=\"Cosmología\">cosmólogo</a>\n",
      "Ref >>:https://es.wikipedia.org/wiki/Cosmolog%C3%ADa\n",
      "<a href=\"/wiki/Astrobiolog%C3%ADa\" title=\"Astrobiología\">astrobiólogo</a>\n",
      "Ref >>:https://es.wikipedia.org/wiki/Astrobiolog%C3%ADa\n",
      "<a href=\"/wiki/Nacionalidad_estadounidense\" title=\"Nacionalidad estadounidense\">estadounidense</a>\n",
      "Ref >>:https://es.wikipedia.org/wiki/Nacionalidad_estadounidense\n",
      "<a href=\"/wiki/Universidad_de_Harvard\" title=\"Universidad de Harvard\">Universidad de Harvard</a>\n",
      "Ref >>:https://es.wikipedia.org/wiki/Universidad_de_Harvard\n",
      "<a class=\"mw-redirect\" href=\"/wiki/Universidad_de_Cornell\" title=\"Universidad de Cornell\">Universidad de Cornell</a>\n",
      "Ref >>:https://es.wikipedia.org/wiki/Universidad_de_Cornell\n",
      "<a class=\"new\" href=\"/w/index.php?title=C%C3%A1tedra_David_Duncan_de_Astronom%C3%ADa_y_Ciencias_del_Espacio&amp;action=edit&amp;redlink=1\" title=\"Cátedra David Duncan de Astronomía y Ciencias del Espacio (aún no redactado)\">Cátedra David Duncan de Astronomía y Ciencias del Espacio</a>\n",
      "Ref >>:https://es.wikipedia.org/w/index.php?title=C%C3%A1tedra_David_Duncan_de_Astronom%C3%ADa_y_Ciencias_del_Espacio&action=edit&redlink=1\n",
      "<a href=\"/wiki/1976\" title=\"1976\">1976</a>\n",
      "Ref >>:https://es.wikipedia.org/wiki/1976\n",
      "<a class=\"new\" href=\"/w/index.php?title=Laboratorio_de_Estudios_Planetarios&amp;action=edit&amp;redlink=1\" title=\"Laboratorio de Estudios Planetarios (aún no redactado)\">Laboratorio de Estudios Planetarios</a>\n",
      "Ref >>:https://es.wikipedia.org/w/index.php?title=Laboratorio_de_Estudios_Planetarios&action=edit&redlink=1\n",
      "https://es.wikipedia.org/wiki/Teresa_de_Calcuta\n",
      "<a href=\"/wiki/Skopie\" title=\"Skopie\">Uskub</a>\n",
      "Ref >>:https://es.wikipedia.org/wiki/Skopie\n",
      "<a href=\"/wiki/Imperio_otomano\" title=\"Imperio otomano\">Imperio otomano</a>\n",
      "Ref >>:https://es.wikipedia.org/wiki/Imperio_otomano\n",
      "<a href=\"/wiki/Skopie\" title=\"Skopie\">Skopie</a>\n",
      "Ref >>:https://es.wikipedia.org/wiki/Skopie\n",
      "<a href=\"/wiki/Macedonia_del_Norte\" title=\"Macedonia del Norte\">Macedonia del Norte</a>\n",
      "Ref >>:https://es.wikipedia.org/wiki/Macedonia_del_Norte\n",
      "<a href=\"/wiki/26_de_agosto\" title=\"26 de agosto\">26 de agosto</a>\n",
      "Ref >>:https://es.wikipedia.org/wiki/26_de_agosto\n",
      "<a href=\"/wiki/1910\" title=\"1910\">1910</a>\n",
      "Ref >>:https://es.wikipedia.org/wiki/1910\n",
      "<a href=\"/wiki/Calcuta\" title=\"Calcuta\">Calcuta</a>\n",
      "Ref >>:https://es.wikipedia.org/wiki/Calcuta\n",
      "<a href=\"/wiki/India\" title=\"India\">India</a>\n",
      "Ref >>:https://es.wikipedia.org/wiki/India\n",
      "<a href=\"/wiki/5_de_septiembre\" title=\"5 de septiembre\">5 de septiembre</a>\n",
      "Ref >>:https://es.wikipedia.org/wiki/5_de_septiembre\n",
      "<a href=\"/wiki/1997\" title=\"1997\">1997</a>\n",
      "Ref >>:https://es.wikipedia.org/wiki/1997\n",
      "<a href=\"#cite_note-brittanica-3\"><span class=\"corchete-llamada\">[</span>3<span class=\"corchete-llamada\">]</span></a>\n",
      "<a href=\"/wiki/Alfabeto_Fon%C3%A9tico_Internacional\" title=\"Alfabeto Fonético Internacional\">[aɡˈnɛs ˈɡɔndʒa bɔjaˈdʒiu]</a>\n",
      "Ref >>:https://es.wikipedia.org/wiki/Alfabeto_Fon%C3%A9tico_Internacional\n",
      "<a href=\"#cite_note-4\"><span class=\"corchete-llamada\">[</span>4<span class=\"corchete-llamada\">]</span></a>\n",
      "<a href=\"#cite_note-5\"><span class=\"corchete-llamada\">[</span>5<span class=\"corchete-llamada\">]</span></a>\n",
      "<a href=\"/wiki/Monja\" title=\"Monja\">monja</a>\n",
      "Ref >>:https://es.wikipedia.org/wiki/Monja\n",
      "<a href=\"/wiki/Iglesia_cat%C3%B3lica\" title=\"Iglesia católica\">católica</a>\n",
      "Ref >>:https://es.wikipedia.org/wiki/Iglesia_cat%C3%B3lica\n",
      "<a href=\"/wiki/Albania\" title=\"Albania\">albanés</a>\n",
      "Ref >>:https://es.wikipedia.org/wiki/Albania\n",
      "<a href=\"#cite_note-spink-6\"><span class=\"corchete-llamada\">[</span>6<span class=\"corchete-llamada\">]</span></a>\n",
      "<a href=\"#cite_note-MToC-7\"><span class=\"corchete-llamada\">[</span>7<span class=\"corchete-llamada\">]</span></a>\n",
      "<a href=\"/wiki/India\" title=\"India\">india</a>\n",
      "Ref >>:https://es.wikipedia.org/wiki/India\n",
      "<a href=\"#cite_note-8\"><span class=\"corchete-llamada\">[</span>8<span class=\"corchete-llamada\">]</span></a>\n",
      "<a href=\"/wiki/Misioneras_de_la_Caridad\" title=\"Misioneras de la Caridad\">Misioneras de la Caridad</a>\n",
      "Ref >>:https://es.wikipedia.org/wiki/Misioneras_de_la_Caridad\n",
      "<a href=\"/wiki/Calcuta\" title=\"Calcuta\">Calcuta</a>\n",
      "Ref >>:https://es.wikipedia.org/wiki/Calcuta\n",
      "<a href=\"/wiki/Beato\" title=\"Beato\">beatificada</a>\n",
      "Ref >>:https://es.wikipedia.org/wiki/Beato\n",
      "<a href=\"/wiki/Juan_Pablo_II\" title=\"Juan Pablo II\">Juan Pablo II</a>\n",
      "Ref >>:https://es.wikipedia.org/wiki/Juan_Pablo_II\n",
      "<a href=\"#cite_note-9\"><span class=\"corchete-llamada\">[</span>9<span class=\"corchete-llamada\">]</span></a>\n",
      "<a href=\"#cite_note-brittanica-3\"><span class=\"corchete-llamada\">[</span>3<span class=\"corchete-llamada\">]</span></a>\n",
      "<a href=\"/wiki/Canonizaci%C3%B3n\" title=\"Canonización\">canonización</a>\n",
      "Ref >>:https://es.wikipedia.org/wiki/Canonizaci%C3%B3n\n",
      "<a href=\"/wiki/Francisco_(papa)\" title=\"Francisco (papa)\">Francisco</a>\n",
      "Ref >>:https://es.wikipedia.org/wiki/Francisco_(papa)\n",
      "<a href=\"/wiki/Congregaci%C3%B3n_para_las_Causas_de_los_Santos\" title=\"Congregación para las Causas de los Santos\">Congregación para las Causas de los Santos</a>\n",
      "Ref >>:https://es.wikipedia.org/wiki/Congregaci%C3%B3n_para_las_Causas_de_los_Santos\n",
      "<a href=\"#cite_note-Ordaz-10\"><span class=\"corchete-llamada\">[</span>10<span class=\"corchete-llamada\">]</span></a>\n",
      "<a href=\"/wiki/Roma\" title=\"Roma\">Roma</a>\n",
      "Ref >>:https://es.wikipedia.org/wiki/Roma\n",
      "<a href=\"#cite_note-11\"><span class=\"corchete-llamada\">[</span>11<span class=\"corchete-llamada\">]</span></a>\n",
      "https://es.wikipedia.org/wiki/Martin_Luther_King\n",
      "https://es.wikipedia.org/wiki/Barack_Obama\n",
      "<a href=\"#cite_note-1\"><span class=\"corchete-llamada\">[</span>1<span class=\"corchete-llamada\">]</span></a>\n",
      "<a href=\"/wiki/Archivo:En-us-Barack-Hussein-Obama.ogg\" title=\"Acerca de este sonido\"><img alt=\"Acerca de este sonido\" data-file-height=\"20\" data-file-width=\"20\" decoding=\"async\" height=\"11\" src=\"//upload.wikimedia.org/wikipedia/commons/thumb/8/8a/Loudspeaker.svg/11px-Loudspeaker.svg.png\" srcset=\"//upload.wikimedia.org/wikipedia/commons/thumb/8/8a/Loudspeaker.svg/17px-Loudspeaker.svg.png 1.5x, //upload.wikimedia.org/wikipedia/commons/thumb/8/8a/Loudspeaker.svg/22px-Loudspeaker.svg.png 2x\" width=\"11\"/></a>\n",
      "Ref >>:https://es.wikipedia.org/wiki/Archivo:En-us-Barack-Hussein-Obama.ogg\n",
      "<a class=\"internal\" href=\"//upload.wikimedia.org/wikipedia/commons/8/82/En-us-Barack-Hussein-Obama.ogg\" title=\"En-us-Barack-Hussein-Obama.ogg\"><span class=\"IPA\" title=\"Representación en el Alfabeto Fonético Internacional (IPA o AFI)\">[bəˈrɑːk huːˈseɪn oʊˈbɑːmə]</span></a>\n",
      "<a href=\"/wiki/Ayuda:Multimedia\" title=\"Ayuda:Multimedia\"><span style=\"cursor:help;\" title=\"¿Problemas al reproducir este archivo?\">?</span></a>\n",
      "Ref >>:https://es.wikipedia.org/wiki/Ayuda:Multimedia\n",
      "<a href=\"/wiki/Archivo:En-us-Barack-Hussein-Obama.ogg\" title=\"Archivo:En-us-Barack-Hussein-Obama.ogg\"><span style=\"cursor:help;\" title=\"Acerca de este sonido\">i</span></a>\n",
      "Ref >>:https://es.wikipedia.org/wiki/Archivo:En-us-Barack-Hussein-Obama.ogg\n",
      "<a href=\"/wiki/Ingl%C3%A9s_estadounidense\" title=\"Inglés estadounidense\">inglés estadounidense</a>\n",
      "Ref >>:https://es.wikipedia.org/wiki/Ingl%C3%A9s_estadounidense\n",
      "<a href=\"/wiki/Honolulu\" title=\"Honolulu\">Honolulu</a>\n",
      "Ref >>:https://es.wikipedia.org/wiki/Honolulu\n",
      "<a href=\"/wiki/Haw%C3%A1i\" title=\"Hawái\">Hawái</a>\n",
      "Ref >>:https://es.wikipedia.org/wiki/Haw%C3%A1i\n"
     ]
    },
    {
     "name": "stdout",
     "output_type": "stream",
     "text": [
      "<a href=\"/wiki/Nacionalidad_estadounidense\" title=\"Nacionalidad estadounidense\">estadounidense</a>\n",
      "Ref >>:https://es.wikipedia.org/wiki/Nacionalidad_estadounidense\n",
      "<a href=\"/wiki/Anexo:Presidentes_de_los_Estados_Unidos\" title=\"Anexo:Presidentes de los Estados Unidos\">44.º</a>\n",
      "Ref >>:https://es.wikipedia.org/wiki/Anexo:Presidentes_de_los_Estados_Unidos\n",
      "<a href=\"/wiki/Presidente_de_los_Estados_Unidos\" title=\"Presidente de los Estados Unidos\">presidente de los Estados Unidos de América</a>\n",
      "Ref >>:https://es.wikipedia.org/wiki/Presidente_de_los_Estados_Unidos\n"
     ]
    }
   ],
   "source": [
    "for link in biografias:\n",
    "    print(link)\n",
    "    request =  urllib.request.urlopen(link)\n",
    "    fuente = request.read()\n",
    "    request.close()\n",
    "\n",
    "    #Se procesa el texto\n",
    "    soup = bs.BeautifulSoup(fuente,'html.parser')\n",
    "\n",
    "    #Se obtiene el titulo de la Biografia\n",
    "    titulo_biografia=soup.find(id=\"firstHeading\").contents\n",
    "\n",
    "    #Se obtiene el primer parrafo\n",
    "    primer_parrafo=soup.find('p').contents\n",
    "    \n",
    "    contenido_links = []\n",
    "    for a in soup.find('p').find_all('a', href=True):\n",
    "        ref_link=a['href']\n",
    "        if ref_link[0]!='#' and ref_link[1]!='/'  :\n",
    "            url_link=base_url+ref_link                                      \n",
    "            \n",
    "            #Obtenemos el objeto de la URL de los links\n",
    "            request =  urllib.request.urlopen(url_link)\n",
    "            fuente = request.read()\n",
    "            request.close()\n",
    "        \n",
    "            #Procesamos la pagina\n",
    "            soup_ref = bs.BeautifulSoup(fuente,'html.parser')\n",
    "        \n",
    "            #Obtenemos el titulo\n",
    "            titulo_ref=soup_ref.find('title').contents\n",
    "        \n",
    "            #Obtenemos los parrafos del contenido\n",
    "            contenido_ref= soup_ref.find(id=\"mw-content-text\").find_all('p')\n",
    "            contenido_links.append([titulo_ref,contenido_ref])\n",
    "    \n",
    "    contenidos.append([titulo_biografia,primer_parrafo,contenido_links]) \n"
   ]
  },
  {
   "cell_type": "code",
   "execution_count": 22,
   "metadata": {},
   "outputs": [
    {
     "data": {
      "text/plain": [
       "'/'"
      ]
     },
     "execution_count": 22,
     "metadata": {},
     "output_type": "execute_result"
    }
   ],
   "source": [
    "ref_link[1]"
   ]
  },
  {
   "cell_type": "code",
   "execution_count": null,
   "metadata": {},
   "outputs": [],
   "source": []
  }
 ],
 "metadata": {
  "kernelspec": {
   "display_name": "Python 3",
   "language": "python",
   "name": "python3"
  },
  "language_info": {
   "codemirror_mode": {
    "name": "ipython",
    "version": 3
   },
   "file_extension": ".py",
   "mimetype": "text/x-python",
   "name": "python",
   "nbconvert_exporter": "python",
   "pygments_lexer": "ipython3",
   "version": "3.7.6"
  }
 },
 "nbformat": 4,
 "nbformat_minor": 2
}
