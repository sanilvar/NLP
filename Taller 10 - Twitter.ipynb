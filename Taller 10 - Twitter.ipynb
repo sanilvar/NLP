{
 "cells": [
  {
   "cell_type": "markdown",
   "metadata": {},
   "source": [
    "<img src='https://encrypted-tbn0.gstatic.com/images?q=tbn%3AANd9GcQ-VfNtOyJbsaxu43Kztf_cv1mgBG6ZIQZEVw&usqp=CAU'>\n",
    "\n",
    "# Procesamiento de Lenguage Natural\n",
    "\n",
    "## Taller #10: Twitter\n",
    "### Ilvar Dario Sanabria. Código: 616201058\n",
    "`Fecha de entrega: Noviembre 14, 2020 (Antes del inicio de la próxima clase).`\n",
    "\n",
    "`Modo de entrega: Subir link de GitHub al aula virtual.`"
   ]
  },
  {
   "cell_type": "markdown",
   "metadata": {},
   "source": [
    "###  `[25 pts]` Punto 1: Extraer Tuits\n",
    "Extraer mínimo 100 tuits de Twitter usando la API\n",
    "\n",
    "(Si exponen sus claves, les haré maldades 😈)\n",
    "\n",
    "❌🎃❌ ¡No Halloween!"
   ]
  },
  {
   "cell_type": "code",
   "execution_count": 2,
   "metadata": {},
   "outputs": [],
   "source": [
    "# Instalamos las librearias\n",
    "import pandas as pd\n",
    "import tweepy"
   ]
  },
  {
   "cell_type": "code",
   "execution_count": 3,
   "metadata": {},
   "outputs": [],
   "source": [
    "# Leer las Claves para acceder al api de twiter\n",
    "\n",
    "keys = pd.read_csv(\"c:/tmp/KeysAPI_twiter.txt\", header=None)\n",
    "keys = dict(zip(keys[0],keys[1]))"
   ]
  },
  {
   "cell_type": "code",
   "execution_count": 4,
   "metadata": {},
   "outputs": [],
   "source": [
    "# Solicitar el acceso a través API\n",
    "\n",
    "auth = tweepy.OAuthHandler(keys['api_key'], keys['api_secret_key'])\n",
    "auth.set_access_token(keys['access_token'], keys['access_token_secret'])\n",
    "\n",
    "api = tweepy.API(auth, wait_on_rate_limit=True)"
   ]
  },
  {
   "cell_type": "code",
   "execution_count": 5,
   "metadata": {},
   "outputs": [
    {
     "data": {
      "text/html": [
       "<div>\n",
       "<style scoped>\n",
       "    .dataframe tbody tr th:only-of-type {\n",
       "        vertical-align: middle;\n",
       "    }\n",
       "\n",
       "    .dataframe tbody tr th {\n",
       "        vertical-align: top;\n",
       "    }\n",
       "\n",
       "    .dataframe thead th {\n",
       "        text-align: right;\n",
       "    }\n",
       "</style>\n",
       "<table border=\"1\" class=\"dataframe\">\n",
       "  <thead>\n",
       "    <tr style=\"text-align: right;\">\n",
       "      <th></th>\n",
       "      <th>city</th>\n",
       "      <th>lat</th>\n",
       "      <th>lng</th>\n",
       "      <th>country</th>\n",
       "      <th>iso2</th>\n",
       "      <th>admin</th>\n",
       "      <th>capital</th>\n",
       "      <th>population</th>\n",
       "      <th>population_proper</th>\n",
       "    </tr>\n",
       "  </thead>\n",
       "  <tbody>\n",
       "    <tr>\n",
       "      <th>0</th>\n",
       "      <td>Bogotá</td>\n",
       "      <td>4.649178</td>\n",
       "      <td>-74.062827</td>\n",
       "      <td>Colombia</td>\n",
       "      <td>CO</td>\n",
       "      <td>Bogotá</td>\n",
       "      <td>primary</td>\n",
       "      <td>7772000.0</td>\n",
       "      <td>6333661.0</td>\n",
       "    </tr>\n",
       "    <tr>\n",
       "      <th>1</th>\n",
       "      <td>Medellín</td>\n",
       "      <td>6.251840</td>\n",
       "      <td>-75.563591</td>\n",
       "      <td>Colombia</td>\n",
       "      <td>CO</td>\n",
       "      <td>Antioquia</td>\n",
       "      <td>admin</td>\n",
       "      <td>3297000.0</td>\n",
       "      <td>1999979.0</td>\n",
       "    </tr>\n",
       "    <tr>\n",
       "      <th>2</th>\n",
       "      <td>Cali</td>\n",
       "      <td>3.437222</td>\n",
       "      <td>-76.522500</td>\n",
       "      <td>Colombia</td>\n",
       "      <td>CO</td>\n",
       "      <td>Valle del Cauca</td>\n",
       "      <td>admin</td>\n",
       "      <td>2254000.0</td>\n",
       "      <td>2178836.0</td>\n",
       "    </tr>\n",
       "    <tr>\n",
       "      <th>3</th>\n",
       "      <td>Barranquilla</td>\n",
       "      <td>10.963889</td>\n",
       "      <td>-74.796389</td>\n",
       "      <td>Colombia</td>\n",
       "      <td>CO</td>\n",
       "      <td>Atlántico</td>\n",
       "      <td>admin</td>\n",
       "      <td>1798000.0</td>\n",
       "      <td>1244491.0</td>\n",
       "    </tr>\n",
       "    <tr>\n",
       "      <th>4</th>\n",
       "      <td>Bucaramanga</td>\n",
       "      <td>7.125393</td>\n",
       "      <td>-73.119804</td>\n",
       "      <td>Colombia</td>\n",
       "      <td>CO</td>\n",
       "      <td>Santander</td>\n",
       "      <td>admin</td>\n",
       "      <td>1009000.0</td>\n",
       "      <td>571820.0</td>\n",
       "    </tr>\n",
       "  </tbody>\n",
       "</table>\n",
       "</div>"
      ],
      "text/plain": [
       "           city        lat        lng   country iso2            admin  \\\n",
       "0        Bogotá   4.649178 -74.062827  Colombia   CO           Bogotá   \n",
       "1      Medellín   6.251840 -75.563591  Colombia   CO        Antioquia   \n",
       "2          Cali   3.437222 -76.522500  Colombia   CO  Valle del Cauca   \n",
       "3  Barranquilla  10.963889 -74.796389  Colombia   CO        Atlántico   \n",
       "4   Bucaramanga   7.125393 -73.119804  Colombia   CO        Santander   \n",
       "\n",
       "   capital  population  population_proper  \n",
       "0  primary   7772000.0          6333661.0  \n",
       "1    admin   3297000.0          1999979.0  \n",
       "2    admin   2254000.0          2178836.0  \n",
       "3    admin   1798000.0          1244491.0  \n",
       "4    admin   1009000.0           571820.0  "
      ]
     },
     "execution_count": 5,
     "metadata": {},
     "output_type": "execute_result"
    }
   ],
   "source": [
    "# Leemos las coord de ciudades desde un archivo\n",
    "\n",
    "ciudades = pd.read_csv(\"c:/tmp/co_small.csv\")\n",
    "ciudades.head()"
   ]
  },
  {
   "cell_type": "code",
   "execution_count": 6,
   "metadata": {},
   "outputs": [
    {
     "name": "stdout",
     "output_type": "stream",
     "text": [
      "Bogotá\n",
      "Medellín\n",
      "Cali\n",
      "Barranquilla\n",
      "Bucaramanga\n",
      "Cartagena\n",
      "Cúcuta\n",
      "Pereira\n",
      "Santa Marta\n",
      "Ibagué\n",
      "Pasto\n",
      "Manizales\n",
      "Villavicencio\n",
      "Neiva\n",
      "Armenia\n",
      "Valledupar\n",
      "Montería\n",
      "Sincelejo\n",
      "Popayán\n",
      "Tunja\n",
      "Ríohacha\n",
      "Florencia\n",
      "Quibdó\n",
      "Arauca\n",
      "Yopal\n",
      "Leticia\n",
      "San Andrés\n",
      "San José del Guaviare\n",
      "Mocoa\n",
      "Puerto Carreño\n",
      "Mitú\n",
      "Inírida\n"
     ]
    }
   ],
   "source": [
    "# Recolectamos los datos relacinados con la palabra #selección#\n",
    "all_tweets = []\n",
    "\n",
    "for ciudad in ciudades.iterrows() :\n",
    "    c = ciudad[1]\n",
    "    gc = f\"{c.lat},{c.lng},70km\"\n",
    "    c_name = c.city\n",
    "      \n",
    "    tweets = tweepy.Cursor(api.search,\n",
    "                        q=['selección -RT'],\n",
    "                        lang='es',\n",
    "                        geocode=gc,\n",
    "                        tweet_mode='extended',\n",
    "                        include_rts=False).items(20)\n",
    "\n",
    "\n",
    "    t = []\n",
    " \n",
    "    for tweet in tweets:\n",
    "        temp = []\n",
    "        temp.append(tweet.full_text)\n",
    "        temp.append(tweet.created_at)\n",
    "        temp.append(c_name)\n",
    "        temp.append(tweet.user.location)\n",
    "        temp.append(tweet.id)\n",
    "        temp.append(f\"https://twitter.com/i/web/status/{tweet.id}\")\n",
    " \n",
    "        t.append(temp)\n",
    "    \n",
    "    all_tweets.extend(t)\n",
    "    print(c_name)\n",
    "    "
   ]
  },
  {
   "cell_type": "code",
   "execution_count": 7,
   "metadata": {},
   "outputs": [
    {
     "data": {
      "text/html": [
       "<div>\n",
       "<style scoped>\n",
       "    .dataframe tbody tr th:only-of-type {\n",
       "        vertical-align: middle;\n",
       "    }\n",
       "\n",
       "    .dataframe tbody tr th {\n",
       "        vertical-align: top;\n",
       "    }\n",
       "\n",
       "    .dataframe thead th {\n",
       "        text-align: right;\n",
       "    }\n",
       "</style>\n",
       "<table border=\"1\" class=\"dataframe\">\n",
       "  <thead>\n",
       "    <tr style=\"text-align: right;\">\n",
       "      <th></th>\n",
       "      <th>tweet</th>\n",
       "      <th>date</th>\n",
       "      <th>city</th>\n",
       "      <th>user_location</th>\n",
       "      <th>id</th>\n",
       "      <th>link</th>\n",
       "    </tr>\n",
       "  </thead>\n",
       "  <tbody>\n",
       "    <tr>\n",
       "      <th>0</th>\n",
       "      <td>#Colombia | El inigualable @santiagoarias13 al...</td>\n",
       "      <td>2020-11-13 21:19:53</td>\n",
       "      <td>Bogotá</td>\n",
       "      <td>Bogotá - Colombia</td>\n",
       "      <td>1327360559579353088</td>\n",
       "      <td>https://twitter.com/i/web/status/1327360559579...</td>\n",
       "    </tr>\n",
       "    <tr>\n",
       "      <th>1</th>\n",
       "      <td>Con esos 30 grados se ve más cansada la selecc...</td>\n",
       "      <td>2020-11-13 21:19:30</td>\n",
       "      <td>Bogotá</td>\n",
       "      <td>bogota</td>\n",
       "      <td>1327360465660481537</td>\n",
       "      <td>https://twitter.com/i/web/status/1327360465660...</td>\n",
       "    </tr>\n",
       "    <tr>\n",
       "      <th>2</th>\n",
       "      <td>Entonces ahora que diran algunos del tema inte...</td>\n",
       "      <td>2020-11-13 21:19:18</td>\n",
       "      <td>Bogotá</td>\n",
       "      <td>Colombia</td>\n",
       "      <td>1327360412593975297</td>\n",
       "      <td>https://twitter.com/i/web/status/1327360412593...</td>\n",
       "    </tr>\n",
       "    <tr>\n",
       "      <th>3</th>\n",
       "      <td>Se supone que la estrategia de jugar en Barran...</td>\n",
       "      <td>2020-11-13 21:19:06</td>\n",
       "      <td>Bogotá</td>\n",
       "      <td>Bogotá</td>\n",
       "      <td>1327360363646607361</td>\n",
       "      <td>https://twitter.com/i/web/status/1327360363646...</td>\n",
       "    </tr>\n",
       "    <tr>\n",
       "      <th>4</th>\n",
       "      <td>Uribe no pesa, no genera, no filtra. Muy poco ...</td>\n",
       "      <td>2020-11-13 21:18:46</td>\n",
       "      <td>Bogotá</td>\n",
       "      <td>Bogotá, Colombia</td>\n",
       "      <td>1327360278682537987</td>\n",
       "      <td>https://twitter.com/i/web/status/1327360278682...</td>\n",
       "    </tr>\n",
       "  </tbody>\n",
       "</table>\n",
       "</div>"
      ],
      "text/plain": [
       "                                               tweet                date  \\\n",
       "0  #Colombia | El inigualable @santiagoarias13 al... 2020-11-13 21:19:53   \n",
       "1  Con esos 30 grados se ve más cansada la selecc... 2020-11-13 21:19:30   \n",
       "2  Entonces ahora que diran algunos del tema inte... 2020-11-13 21:19:18   \n",
       "3  Se supone que la estrategia de jugar en Barran... 2020-11-13 21:19:06   \n",
       "4  Uribe no pesa, no genera, no filtra. Muy poco ... 2020-11-13 21:18:46   \n",
       "\n",
       "     city      user_location                   id  \\\n",
       "0  Bogotá  Bogotá - Colombia  1327360559579353088   \n",
       "1  Bogotá             bogota  1327360465660481537   \n",
       "2  Bogotá           Colombia  1327360412593975297   \n",
       "3  Bogotá            Bogotá   1327360363646607361   \n",
       "4  Bogotá   Bogotá, Colombia  1327360278682537987   \n",
       "\n",
       "                                                link  \n",
       "0  https://twitter.com/i/web/status/1327360559579...  \n",
       "1  https://twitter.com/i/web/status/1327360465660...  \n",
       "2  https://twitter.com/i/web/status/1327360412593...  \n",
       "3  https://twitter.com/i/web/status/1327360363646...  \n",
       "4  https://twitter.com/i/web/status/1327360278682...  "
      ]
     },
     "execution_count": 7,
     "metadata": {},
     "output_type": "execute_result"
    }
   ],
   "source": [
    "#Creamos un dataFrame con los datos recolectados\n",
    "datos_tw = pd.DataFrame(all_tweets)\n",
    "datos_tw.columns = ['tweet', 'date', 'city', 'user_location', 'id', 'link']\n",
    "\n",
    "datos_tw.head()"
   ]
  },
  {
   "cell_type": "code",
   "execution_count": 8,
   "metadata": {},
   "outputs": [],
   "source": [
    "#Se define la funcion de limpieza de datos\n",
    "import re\n",
    " \n",
    "pattern1 = '?P<pic>pic.twitter.com/[^\\s]+'\n",
    "pattern2 = '?P<url>https?://[^\\s]+'\n",
    " \n",
    "def text_clean(row):    \n",
    "    text = row['tweet']\n",
    "    links = [tuple(j for j in i if j)[-1] for i in re.findall(f\"({pattern1})|({pattern2})\",text)]\n",
    "\n",
    "    for link in links:\n",
    "        text = text.replace(link,\"\")\n",
    "\n",
    "    hashtags = [interaction for interaction in text.split() if interaction.startswith(\"#\")]\n",
    "\n",
    "    for hashtag in hashtags:\n",
    "         text = text.replace(hashtag,\"\")\n",
    "\n",
    "    mentions = [interaction for interaction in text.split() if interaction.startswith(\"@\")]\n",
    "\n",
    "    for mention in mentions:\n",
    "         text = text.replace(mention,\"\")\n",
    "\n",
    "    return text, links, hashtags, mentions"
   ]
  },
  {
   "cell_type": "code",
   "execution_count": 9,
   "metadata": {},
   "outputs": [
    {
     "data": {
      "text/html": [
       "<div>\n",
       "<style scoped>\n",
       "    .dataframe tbody tr th:only-of-type {\n",
       "        vertical-align: middle;\n",
       "    }\n",
       "\n",
       "    .dataframe tbody tr th {\n",
       "        vertical-align: top;\n",
       "    }\n",
       "\n",
       "    .dataframe thead th {\n",
       "        text-align: right;\n",
       "    }\n",
       "</style>\n",
       "<table border=\"1\" class=\"dataframe\">\n",
       "  <thead>\n",
       "    <tr style=\"text-align: right;\">\n",
       "      <th></th>\n",
       "      <th>tweet</th>\n",
       "      <th>date</th>\n",
       "      <th>city</th>\n",
       "      <th>user_location</th>\n",
       "      <th>id</th>\n",
       "      <th>link</th>\n",
       "      <th>clean</th>\n",
       "      <th>links</th>\n",
       "      <th>hashtags</th>\n",
       "      <th>mentions</th>\n",
       "    </tr>\n",
       "  </thead>\n",
       "  <tbody>\n",
       "    <tr>\n",
       "      <th>0</th>\n",
       "      <td>#Colombia | El inigualable @santiagoarias13 al...</td>\n",
       "      <td>2020-11-13 21:19:53</td>\n",
       "      <td>Bogotá</td>\n",
       "      <td>Bogotá - Colombia</td>\n",
       "      <td>1327360559579353088</td>\n",
       "      <td>https://twitter.com/i/web/status/1327360559579...</td>\n",
       "      <td>| El inigualable  alentó a la Selección. Más ...</td>\n",
       "      <td>[https://t.co/y6snbl2krJ, https://t.co/1CnwX7R...</td>\n",
       "      <td>[#Colombia]</td>\n",
       "      <td>[@santiagoarias13]</td>\n",
       "    </tr>\n",
       "    <tr>\n",
       "      <th>1</th>\n",
       "      <td>Con esos 30 grados se ve más cansada la selecc...</td>\n",
       "      <td>2020-11-13 21:19:30</td>\n",
       "      <td>Bogotá</td>\n",
       "      <td>bogota</td>\n",
       "      <td>1327360465660481537</td>\n",
       "      <td>https://twitter.com/i/web/status/1327360465660...</td>\n",
       "      <td>Con esos 30 grados se ve más cansada la selecc...</td>\n",
       "      <td>[]</td>\n",
       "      <td>[#Colombia, #golcaracol, #ColombiaVsUruguay]</td>\n",
       "      <td>[]</td>\n",
       "    </tr>\n",
       "    <tr>\n",
       "      <th>2</th>\n",
       "      <td>Entonces ahora que diran algunos del tema inte...</td>\n",
       "      <td>2020-11-13 21:19:18</td>\n",
       "      <td>Bogotá</td>\n",
       "      <td>Colombia</td>\n",
       "      <td>1327360412593975297</td>\n",
       "      <td>https://twitter.com/i/web/status/1327360412593...</td>\n",
       "      <td>Entonces ahora que diran algunos del tema inte...</td>\n",
       "      <td>[]</td>\n",
       "      <td>[]</td>\n",
       "      <td>[]</td>\n",
       "    </tr>\n",
       "    <tr>\n",
       "      <th>3</th>\n",
       "      <td>Se supone que la estrategia de jugar en Barran...</td>\n",
       "      <td>2020-11-13 21:19:06</td>\n",
       "      <td>Bogotá</td>\n",
       "      <td>Bogotá</td>\n",
       "      <td>1327360363646607361</td>\n",
       "      <td>https://twitter.com/i/web/status/1327360363646...</td>\n",
       "      <td>Se supone que la estrategia de jugar en Barran...</td>\n",
       "      <td>[]</td>\n",
       "      <td>[#SeleccionColombia]</td>\n",
       "      <td>[@FCFSeleccionCol]</td>\n",
       "    </tr>\n",
       "    <tr>\n",
       "      <th>4</th>\n",
       "      <td>Uribe no pesa, no genera, no filtra. Muy poco ...</td>\n",
       "      <td>2020-11-13 21:18:46</td>\n",
       "      <td>Bogotá</td>\n",
       "      <td>Bogotá, Colombia</td>\n",
       "      <td>1327360278682537987</td>\n",
       "      <td>https://twitter.com/i/web/status/1327360278682...</td>\n",
       "      <td>Uribe no pesa, no genera, no filtra. Muy poco ...</td>\n",
       "      <td>[]</td>\n",
       "      <td>[]</td>\n",
       "      <td>[]</td>\n",
       "    </tr>\n",
       "  </tbody>\n",
       "</table>\n",
       "</div>"
      ],
      "text/plain": [
       "                                               tweet                date  \\\n",
       "0  #Colombia | El inigualable @santiagoarias13 al... 2020-11-13 21:19:53   \n",
       "1  Con esos 30 grados se ve más cansada la selecc... 2020-11-13 21:19:30   \n",
       "2  Entonces ahora que diran algunos del tema inte... 2020-11-13 21:19:18   \n",
       "3  Se supone que la estrategia de jugar en Barran... 2020-11-13 21:19:06   \n",
       "4  Uribe no pesa, no genera, no filtra. Muy poco ... 2020-11-13 21:18:46   \n",
       "\n",
       "     city      user_location                   id  \\\n",
       "0  Bogotá  Bogotá - Colombia  1327360559579353088   \n",
       "1  Bogotá             bogota  1327360465660481537   \n",
       "2  Bogotá           Colombia  1327360412593975297   \n",
       "3  Bogotá            Bogotá   1327360363646607361   \n",
       "4  Bogotá   Bogotá, Colombia  1327360278682537987   \n",
       "\n",
       "                                                link  \\\n",
       "0  https://twitter.com/i/web/status/1327360559579...   \n",
       "1  https://twitter.com/i/web/status/1327360465660...   \n",
       "2  https://twitter.com/i/web/status/1327360412593...   \n",
       "3  https://twitter.com/i/web/status/1327360363646...   \n",
       "4  https://twitter.com/i/web/status/1327360278682...   \n",
       "\n",
       "                                               clean  \\\n",
       "0   | El inigualable  alentó a la Selección. Más ...   \n",
       "1  Con esos 30 grados se ve más cansada la selecc...   \n",
       "2  Entonces ahora que diran algunos del tema inte...   \n",
       "3  Se supone que la estrategia de jugar en Barran...   \n",
       "4  Uribe no pesa, no genera, no filtra. Muy poco ...   \n",
       "\n",
       "                                               links  \\\n",
       "0  [https://t.co/y6snbl2krJ, https://t.co/1CnwX7R...   \n",
       "1                                                 []   \n",
       "2                                                 []   \n",
       "3                                                 []   \n",
       "4                                                 []   \n",
       "\n",
       "                                       hashtags            mentions  \n",
       "0                                   [#Colombia]  [@santiagoarias13]  \n",
       "1  [#Colombia, #golcaracol, #ColombiaVsUruguay]                  []  \n",
       "2                                            []                  []  \n",
       "3                          [#SeleccionColombia]  [@FCFSeleccionCol]  \n",
       "4                                            []                  []  "
      ]
     },
     "execution_count": 9,
     "metadata": {},
     "output_type": "execute_result"
    }
   ],
   "source": [
    "datos_tw[['clean', 'links', 'hashtags', 'mentions']] = datos_tw.apply(text_clean, axis=1, result_type='expand')\n",
    "\n",
    "datos_tw.head()"
   ]
  },
  {
   "cell_type": "markdown",
   "metadata": {},
   "source": [
    "###  `[25 pts]` Punto 2: Hacer una visualización sobre esos tuits\n",
    "\n",
    "❌🎃❌ ¡No Halloween!"
   ]
  },
  {
   "cell_type": "code",
   "execution_count": 10,
   "metadata": {},
   "outputs": [],
   "source": [
    "## Mostramos los emojis que estan en los twits\n",
    "import regex\n",
    "\n",
    "import emoji\n",
    " \n",
    "def get_emojis(text):\n",
    "    emoji_list = []\n",
    "\n",
    "    data = regex.findall(r'\\X', text)\n",
    "\n",
    "    for word in data:\n",
    "        if any(char in emoji.UNICODE_EMOJI for char in word):\n",
    "             emoji_list.append(word)\n",
    " \n",
    "    return emoji_list\n",
    " \n",
    "datos_tw['emojis'] = datos_tw['clean'].apply(lambda text: get_emojis(text))"
   ]
  },
  {
   "cell_type": "code",
   "execution_count": 11,
   "metadata": {},
   "outputs": [
    {
     "data": {
      "text/plain": [
       "0      []\n",
       "1      []\n",
       "2      []\n",
       "3      []\n",
       "4      []\n",
       "       ..\n",
       "500    []\n",
       "501    []\n",
       "502    []\n",
       "503    []\n",
       "504    []\n",
       "Name: emojis, Length: 505, dtype: object"
      ]
     },
     "execution_count": 11,
     "metadata": {},
     "output_type": "execute_result"
    }
   ],
   "source": [
    "datos_tw['emojis']"
   ]
  },
  {
   "cell_type": "code",
   "execution_count": 12,
   "metadata": {},
   "outputs": [
    {
     "data": {
      "text/html": [
       "        <script type=\"text/javascript\">\n",
       "        window.PlotlyConfig = {MathJaxConfig: 'local'};\n",
       "        if (window.MathJax) {MathJax.Hub.Config({SVG: {font: \"STIX-Web\"}});}\n",
       "        if (typeof require !== 'undefined') {\n",
       "        require.undef(\"plotly\");\n",
       "        requirejs.config({\n",
       "            paths: {\n",
       "                'plotly': ['https://cdn.plot.ly/plotly-latest.min']\n",
       "            }\n",
       "        });\n",
       "        require(['plotly'], function(Plotly) {\n",
       "            window._Plotly = Plotly;\n",
       "        });\n",
       "        }\n",
       "        </script>\n",
       "        "
      ]
     },
     "metadata": {},
     "output_type": "display_data"
    }
   ],
   "source": [
    "## Importamos las librerias necesarias para realizar una grafica\n",
    "import plotly.io as pio\n",
    "import plotly.express as px\n",
    "import plotly.graph_objs as go\n",
    "\n",
    "from plotly.offline import download_plotlyjs, init_notebook_mode, plot, iplot\n",
    " \n",
    "import matplotlib.pyplot as plt\n",
    "\n",
    "%matplotlib inline\n",
    "\n",
    "init_notebook_mode(connected=True)"
   ]
  },
  {
   "cell_type": "code",
   "execution_count": 13,
   "metadata": {},
   "outputs": [
    {
     "data": {
      "text/html": [
       "<div>\n",
       "<style scoped>\n",
       "    .dataframe tbody tr th:only-of-type {\n",
       "        vertical-align: middle;\n",
       "    }\n",
       "\n",
       "    .dataframe tbody tr th {\n",
       "        vertical-align: top;\n",
       "    }\n",
       "\n",
       "    .dataframe thead th {\n",
       "        text-align: right;\n",
       "    }\n",
       "</style>\n",
       "<table border=\"1\" class=\"dataframe\">\n",
       "  <thead>\n",
       "    <tr style=\"text-align: right;\">\n",
       "      <th></th>\n",
       "      <th>fecha</th>\n",
       "      <th>cnt</th>\n",
       "    </tr>\n",
       "  </thead>\n",
       "  <tbody>\n",
       "    <tr>\n",
       "      <th>9</th>\n",
       "      <td>2020-11-04</td>\n",
       "      <td>1</td>\n",
       "    </tr>\n",
       "    <tr>\n",
       "      <th>8</th>\n",
       "      <td>2020-11-05</td>\n",
       "      <td>1</td>\n",
       "    </tr>\n",
       "    <tr>\n",
       "      <th>3</th>\n",
       "      <td>2020-11-06</td>\n",
       "      <td>8</td>\n",
       "    </tr>\n",
       "    <tr>\n",
       "      <th>6</th>\n",
       "      <td>2020-11-07</td>\n",
       "      <td>5</td>\n",
       "    </tr>\n",
       "    <tr>\n",
       "      <th>5</th>\n",
       "      <td>2020-11-08</td>\n",
       "      <td>7</td>\n",
       "    </tr>\n",
       "    <tr>\n",
       "      <th>7</th>\n",
       "      <td>2020-11-09</td>\n",
       "      <td>5</td>\n",
       "    </tr>\n",
       "    <tr>\n",
       "      <th>4</th>\n",
       "      <td>2020-11-10</td>\n",
       "      <td>7</td>\n",
       "    </tr>\n",
       "    <tr>\n",
       "      <th>2</th>\n",
       "      <td>2020-11-11</td>\n",
       "      <td>16</td>\n",
       "    </tr>\n",
       "    <tr>\n",
       "      <th>1</th>\n",
       "      <td>2020-11-12</td>\n",
       "      <td>19</td>\n",
       "    </tr>\n",
       "    <tr>\n",
       "      <th>0</th>\n",
       "      <td>2020-11-13</td>\n",
       "      <td>436</td>\n",
       "    </tr>\n",
       "  </tbody>\n",
       "</table>\n",
       "</div>"
      ],
      "text/plain": [
       "        fecha  cnt\n",
       "9  2020-11-04    1\n",
       "8  2020-11-05    1\n",
       "3  2020-11-06    8\n",
       "6  2020-11-07    5\n",
       "5  2020-11-08    7\n",
       "7  2020-11-09    5\n",
       "4  2020-11-10    7\n",
       "2  2020-11-11   16\n",
       "1  2020-11-12   19\n",
       "0  2020-11-13  436"
      ]
     },
     "execution_count": 13,
     "metadata": {},
     "output_type": "execute_result"
    }
   ],
   "source": [
    "## Imprimimos una serie de tiempo\n",
    "datos_tw['fecha'] = datos_tw.date.dt.date\n",
    "\n",
    "temp = pd.DataFrame(datos_tw.fecha.value_counts()).reset_index()\n",
    "\n",
    "temp.columns = ['fecha', 'cnt']\n",
    "temp = temp.sort_values('fecha')\n",
    "\n",
    "temp"
   ]
  },
  {
   "cell_type": "code",
   "execution_count": 14,
   "metadata": {},
   "outputs": [
    {
     "data": {
      "application/vnd.plotly.v1+json": {
       "config": {
        "linkText": "Export to plot.ly",
        "plotlyServerURL": "https://plot.ly",
        "showLink": false
       },
       "data": [
        {
         "hoverinfo": "text",
         "line": {
          "color": "#1DA1F2"
         },
         "mode": "lines+markers",
         "name": "Días",
         "text": [
          "Fecha: 2020-11-04<br>Tuits: 1",
          "Fecha: 2020-11-05<br>Tuits: 1",
          "Fecha: 2020-11-06<br>Tuits: 8",
          "Fecha: 2020-11-07<br>Tuits: 5",
          "Fecha: 2020-11-08<br>Tuits: 7",
          "Fecha: 2020-11-09<br>Tuits: 5",
          "Fecha: 2020-11-10<br>Tuits: 7",
          "Fecha: 2020-11-11<br>Tuits: 16",
          "Fecha: 2020-11-12<br>Tuits: 19",
          "Fecha: 2020-11-13<br>Tuits: 436"
         ],
         "type": "scatter",
         "x": [
          "2020-11-04",
          "2020-11-05",
          "2020-11-06",
          "2020-11-07",
          "2020-11-08",
          "2020-11-09",
          "2020-11-10",
          "2020-11-11",
          "2020-11-12",
          "2020-11-13"
         ],
         "y": [
          1,
          1,
          8,
          5,
          7,
          5,
          7,
          16,
          19,
          436
         ]
        }
       ],
       "layout": {
        "template": {
         "data": {
          "bar": [
           {
            "error_x": {
             "color": "#2a3f5f"
            },
            "error_y": {
             "color": "#2a3f5f"
            },
            "marker": {
             "line": {
              "color": "#E5ECF6",
              "width": 0.5
             }
            },
            "type": "bar"
           }
          ],
          "barpolar": [
           {
            "marker": {
             "line": {
              "color": "#E5ECF6",
              "width": 0.5
             }
            },
            "type": "barpolar"
           }
          ],
          "carpet": [
           {
            "aaxis": {
             "endlinecolor": "#2a3f5f",
             "gridcolor": "white",
             "linecolor": "white",
             "minorgridcolor": "white",
             "startlinecolor": "#2a3f5f"
            },
            "baxis": {
             "endlinecolor": "#2a3f5f",
             "gridcolor": "white",
             "linecolor": "white",
             "minorgridcolor": "white",
             "startlinecolor": "#2a3f5f"
            },
            "type": "carpet"
           }
          ],
          "choropleth": [
           {
            "colorbar": {
             "outlinewidth": 0,
             "ticks": ""
            },
            "type": "choropleth"
           }
          ],
          "contour": [
           {
            "colorbar": {
             "outlinewidth": 0,
             "ticks": ""
            },
            "colorscale": [
             [
              0,
              "#0d0887"
             ],
             [
              0.1111111111111111,
              "#46039f"
             ],
             [
              0.2222222222222222,
              "#7201a8"
             ],
             [
              0.3333333333333333,
              "#9c179e"
             ],
             [
              0.4444444444444444,
              "#bd3786"
             ],
             [
              0.5555555555555556,
              "#d8576b"
             ],
             [
              0.6666666666666666,
              "#ed7953"
             ],
             [
              0.7777777777777778,
              "#fb9f3a"
             ],
             [
              0.8888888888888888,
              "#fdca26"
             ],
             [
              1,
              "#f0f921"
             ]
            ],
            "type": "contour"
           }
          ],
          "contourcarpet": [
           {
            "colorbar": {
             "outlinewidth": 0,
             "ticks": ""
            },
            "type": "contourcarpet"
           }
          ],
          "heatmap": [
           {
            "colorbar": {
             "outlinewidth": 0,
             "ticks": ""
            },
            "colorscale": [
             [
              0,
              "#0d0887"
             ],
             [
              0.1111111111111111,
              "#46039f"
             ],
             [
              0.2222222222222222,
              "#7201a8"
             ],
             [
              0.3333333333333333,
              "#9c179e"
             ],
             [
              0.4444444444444444,
              "#bd3786"
             ],
             [
              0.5555555555555556,
              "#d8576b"
             ],
             [
              0.6666666666666666,
              "#ed7953"
             ],
             [
              0.7777777777777778,
              "#fb9f3a"
             ],
             [
              0.8888888888888888,
              "#fdca26"
             ],
             [
              1,
              "#f0f921"
             ]
            ],
            "type": "heatmap"
           }
          ],
          "heatmapgl": [
           {
            "colorbar": {
             "outlinewidth": 0,
             "ticks": ""
            },
            "colorscale": [
             [
              0,
              "#0d0887"
             ],
             [
              0.1111111111111111,
              "#46039f"
             ],
             [
              0.2222222222222222,
              "#7201a8"
             ],
             [
              0.3333333333333333,
              "#9c179e"
             ],
             [
              0.4444444444444444,
              "#bd3786"
             ],
             [
              0.5555555555555556,
              "#d8576b"
             ],
             [
              0.6666666666666666,
              "#ed7953"
             ],
             [
              0.7777777777777778,
              "#fb9f3a"
             ],
             [
              0.8888888888888888,
              "#fdca26"
             ],
             [
              1,
              "#f0f921"
             ]
            ],
            "type": "heatmapgl"
           }
          ],
          "histogram": [
           {
            "marker": {
             "colorbar": {
              "outlinewidth": 0,
              "ticks": ""
             }
            },
            "type": "histogram"
           }
          ],
          "histogram2d": [
           {
            "colorbar": {
             "outlinewidth": 0,
             "ticks": ""
            },
            "colorscale": [
             [
              0,
              "#0d0887"
             ],
             [
              0.1111111111111111,
              "#46039f"
             ],
             [
              0.2222222222222222,
              "#7201a8"
             ],
             [
              0.3333333333333333,
              "#9c179e"
             ],
             [
              0.4444444444444444,
              "#bd3786"
             ],
             [
              0.5555555555555556,
              "#d8576b"
             ],
             [
              0.6666666666666666,
              "#ed7953"
             ],
             [
              0.7777777777777778,
              "#fb9f3a"
             ],
             [
              0.8888888888888888,
              "#fdca26"
             ],
             [
              1,
              "#f0f921"
             ]
            ],
            "type": "histogram2d"
           }
          ],
          "histogram2dcontour": [
           {
            "colorbar": {
             "outlinewidth": 0,
             "ticks": ""
            },
            "colorscale": [
             [
              0,
              "#0d0887"
             ],
             [
              0.1111111111111111,
              "#46039f"
             ],
             [
              0.2222222222222222,
              "#7201a8"
             ],
             [
              0.3333333333333333,
              "#9c179e"
             ],
             [
              0.4444444444444444,
              "#bd3786"
             ],
             [
              0.5555555555555556,
              "#d8576b"
             ],
             [
              0.6666666666666666,
              "#ed7953"
             ],
             [
              0.7777777777777778,
              "#fb9f3a"
             ],
             [
              0.8888888888888888,
              "#fdca26"
             ],
             [
              1,
              "#f0f921"
             ]
            ],
            "type": "histogram2dcontour"
           }
          ],
          "mesh3d": [
           {
            "colorbar": {
             "outlinewidth": 0,
             "ticks": ""
            },
            "type": "mesh3d"
           }
          ],
          "parcoords": [
           {
            "line": {
             "colorbar": {
              "outlinewidth": 0,
              "ticks": ""
             }
            },
            "type": "parcoords"
           }
          ],
          "pie": [
           {
            "automargin": true,
            "type": "pie"
           }
          ],
          "scatter": [
           {
            "marker": {
             "colorbar": {
              "outlinewidth": 0,
              "ticks": ""
             }
            },
            "type": "scatter"
           }
          ],
          "scatter3d": [
           {
            "line": {
             "colorbar": {
              "outlinewidth": 0,
              "ticks": ""
             }
            },
            "marker": {
             "colorbar": {
              "outlinewidth": 0,
              "ticks": ""
             }
            },
            "type": "scatter3d"
           }
          ],
          "scattercarpet": [
           {
            "marker": {
             "colorbar": {
              "outlinewidth": 0,
              "ticks": ""
             }
            },
            "type": "scattercarpet"
           }
          ],
          "scattergeo": [
           {
            "marker": {
             "colorbar": {
              "outlinewidth": 0,
              "ticks": ""
             }
            },
            "type": "scattergeo"
           }
          ],
          "scattergl": [
           {
            "marker": {
             "colorbar": {
              "outlinewidth": 0,
              "ticks": ""
             }
            },
            "type": "scattergl"
           }
          ],
          "scattermapbox": [
           {
            "marker": {
             "colorbar": {
              "outlinewidth": 0,
              "ticks": ""
             }
            },
            "type": "scattermapbox"
           }
          ],
          "scatterpolar": [
           {
            "marker": {
             "colorbar": {
              "outlinewidth": 0,
              "ticks": ""
             }
            },
            "type": "scatterpolar"
           }
          ],
          "scatterpolargl": [
           {
            "marker": {
             "colorbar": {
              "outlinewidth": 0,
              "ticks": ""
             }
            },
            "type": "scatterpolargl"
           }
          ],
          "scatterternary": [
           {
            "marker": {
             "colorbar": {
              "outlinewidth": 0,
              "ticks": ""
             }
            },
            "type": "scatterternary"
           }
          ],
          "surface": [
           {
            "colorbar": {
             "outlinewidth": 0,
             "ticks": ""
            },
            "colorscale": [
             [
              0,
              "#0d0887"
             ],
             [
              0.1111111111111111,
              "#46039f"
             ],
             [
              0.2222222222222222,
              "#7201a8"
             ],
             [
              0.3333333333333333,
              "#9c179e"
             ],
             [
              0.4444444444444444,
              "#bd3786"
             ],
             [
              0.5555555555555556,
              "#d8576b"
             ],
             [
              0.6666666666666666,
              "#ed7953"
             ],
             [
              0.7777777777777778,
              "#fb9f3a"
             ],
             [
              0.8888888888888888,
              "#fdca26"
             ],
             [
              1,
              "#f0f921"
             ]
            ],
            "type": "surface"
           }
          ],
          "table": [
           {
            "cells": {
             "fill": {
              "color": "#EBF0F8"
             },
             "line": {
              "color": "white"
             }
            },
            "header": {
             "fill": {
              "color": "#C8D4E3"
             },
             "line": {
              "color": "white"
             }
            },
            "type": "table"
           }
          ]
         },
         "layout": {
          "annotationdefaults": {
           "arrowcolor": "#2a3f5f",
           "arrowhead": 0,
           "arrowwidth": 1
          },
          "coloraxis": {
           "colorbar": {
            "outlinewidth": 0,
            "ticks": ""
           }
          },
          "colorscale": {
           "diverging": [
            [
             0,
             "#8e0152"
            ],
            [
             0.1,
             "#c51b7d"
            ],
            [
             0.2,
             "#de77ae"
            ],
            [
             0.3,
             "#f1b6da"
            ],
            [
             0.4,
             "#fde0ef"
            ],
            [
             0.5,
             "#f7f7f7"
            ],
            [
             0.6,
             "#e6f5d0"
            ],
            [
             0.7,
             "#b8e186"
            ],
            [
             0.8,
             "#7fbc41"
            ],
            [
             0.9,
             "#4d9221"
            ],
            [
             1,
             "#276419"
            ]
           ],
           "sequential": [
            [
             0,
             "#0d0887"
            ],
            [
             0.1111111111111111,
             "#46039f"
            ],
            [
             0.2222222222222222,
             "#7201a8"
            ],
            [
             0.3333333333333333,
             "#9c179e"
            ],
            [
             0.4444444444444444,
             "#bd3786"
            ],
            [
             0.5555555555555556,
             "#d8576b"
            ],
            [
             0.6666666666666666,
             "#ed7953"
            ],
            [
             0.7777777777777778,
             "#fb9f3a"
            ],
            [
             0.8888888888888888,
             "#fdca26"
            ],
            [
             1,
             "#f0f921"
            ]
           ],
           "sequentialminus": [
            [
             0,
             "#0d0887"
            ],
            [
             0.1111111111111111,
             "#46039f"
            ],
            [
             0.2222222222222222,
             "#7201a8"
            ],
            [
             0.3333333333333333,
             "#9c179e"
            ],
            [
             0.4444444444444444,
             "#bd3786"
            ],
            [
             0.5555555555555556,
             "#d8576b"
            ],
            [
             0.6666666666666666,
             "#ed7953"
            ],
            [
             0.7777777777777778,
             "#fb9f3a"
            ],
            [
             0.8888888888888888,
             "#fdca26"
            ],
            [
             1,
             "#f0f921"
            ]
           ]
          },
          "colorway": [
           "#636efa",
           "#EF553B",
           "#00cc96",
           "#ab63fa",
           "#FFA15A",
           "#19d3f3",
           "#FF6692",
           "#B6E880",
           "#FF97FF",
           "#FECB52"
          ],
          "font": {
           "color": "#2a3f5f"
          },
          "geo": {
           "bgcolor": "white",
           "lakecolor": "white",
           "landcolor": "#E5ECF6",
           "showlakes": true,
           "showland": true,
           "subunitcolor": "white"
          },
          "hoverlabel": {
           "align": "left"
          },
          "hovermode": "closest",
          "mapbox": {
           "style": "light"
          },
          "paper_bgcolor": "white",
          "plot_bgcolor": "#E5ECF6",
          "polar": {
           "angularaxis": {
            "gridcolor": "white",
            "linecolor": "white",
            "ticks": ""
           },
           "bgcolor": "#E5ECF6",
           "radialaxis": {
            "gridcolor": "white",
            "linecolor": "white",
            "ticks": ""
           }
          },
          "scene": {
           "xaxis": {
            "backgroundcolor": "#E5ECF6",
            "gridcolor": "white",
            "gridwidth": 2,
            "linecolor": "white",
            "showbackground": true,
            "ticks": "",
            "zerolinecolor": "white"
           },
           "yaxis": {
            "backgroundcolor": "#E5ECF6",
            "gridcolor": "white",
            "gridwidth": 2,
            "linecolor": "white",
            "showbackground": true,
            "ticks": "",
            "zerolinecolor": "white"
           },
           "zaxis": {
            "backgroundcolor": "#E5ECF6",
            "gridcolor": "white",
            "gridwidth": 2,
            "linecolor": "white",
            "showbackground": true,
            "ticks": "",
            "zerolinecolor": "white"
           }
          },
          "shapedefaults": {
           "line": {
            "color": "#2a3f5f"
           }
          },
          "ternary": {
           "aaxis": {
            "gridcolor": "white",
            "linecolor": "white",
            "ticks": ""
           },
           "baxis": {
            "gridcolor": "white",
            "linecolor": "white",
            "ticks": ""
           },
           "bgcolor": "#E5ECF6",
           "caxis": {
            "gridcolor": "white",
            "linecolor": "white",
            "ticks": ""
           }
          },
          "title": {
           "x": 0.05
          },
          "xaxis": {
           "automargin": true,
           "gridcolor": "white",
           "linecolor": "white",
           "ticks": "",
           "title": {
            "standoff": 15
           },
           "zerolinecolor": "white",
           "zerolinewidth": 2
          },
          "yaxis": {
           "automargin": true,
           "gridcolor": "white",
           "linecolor": "white",
           "ticks": "",
           "title": {
            "standoff": 15
           },
           "zerolinecolor": "white",
           "zerolinewidth": 2
          }
         }
        },
        "title": {
         "text": "Número de tuits por día"
        }
       }
      },
      "text/html": [
       "<div>                            <div id=\"7b9d06d3-b41c-4e12-a3ad-1c2945483fba\" class=\"plotly-graph-div\" style=\"height:525px; width:100%;\"></div>            <script type=\"text/javascript\">                require([\"plotly\"], function(Plotly) {                    window.PLOTLYENV=window.PLOTLYENV || {};                                    if (document.getElementById(\"7b9d06d3-b41c-4e12-a3ad-1c2945483fba\")) {                    Plotly.newPlot(                        \"7b9d06d3-b41c-4e12-a3ad-1c2945483fba\",                        [{\"hoverinfo\": \"text\", \"line\": {\"color\": \"#1DA1F2\"}, \"mode\": \"lines+markers\", \"name\": \"D\\u00edas\", \"text\": [\"Fecha: 2020-11-04<br>Tuits: 1\", \"Fecha: 2020-11-05<br>Tuits: 1\", \"Fecha: 2020-11-06<br>Tuits: 8\", \"Fecha: 2020-11-07<br>Tuits: 5\", \"Fecha: 2020-11-08<br>Tuits: 7\", \"Fecha: 2020-11-09<br>Tuits: 5\", \"Fecha: 2020-11-10<br>Tuits: 7\", \"Fecha: 2020-11-11<br>Tuits: 16\", \"Fecha: 2020-11-12<br>Tuits: 19\", \"Fecha: 2020-11-13<br>Tuits: 436\"], \"type\": \"scatter\", \"x\": [\"2020-11-04\", \"2020-11-05\", \"2020-11-06\", \"2020-11-07\", \"2020-11-08\", \"2020-11-09\", \"2020-11-10\", \"2020-11-11\", \"2020-11-12\", \"2020-11-13\"], \"y\": [1, 1, 8, 5, 7, 5, 7, 16, 19, 436]}],                        {\"template\": {\"data\": {\"bar\": [{\"error_x\": {\"color\": \"#2a3f5f\"}, \"error_y\": {\"color\": \"#2a3f5f\"}, \"marker\": {\"line\": {\"color\": \"#E5ECF6\", \"width\": 0.5}}, \"type\": \"bar\"}], \"barpolar\": [{\"marker\": {\"line\": {\"color\": \"#E5ECF6\", \"width\": 0.5}}, \"type\": \"barpolar\"}], \"carpet\": [{\"aaxis\": {\"endlinecolor\": \"#2a3f5f\", \"gridcolor\": \"white\", \"linecolor\": \"white\", \"minorgridcolor\": \"white\", \"startlinecolor\": \"#2a3f5f\"}, \"baxis\": {\"endlinecolor\": \"#2a3f5f\", \"gridcolor\": \"white\", \"linecolor\": \"white\", \"minorgridcolor\": \"white\", \"startlinecolor\": \"#2a3f5f\"}, \"type\": \"carpet\"}], \"choropleth\": [{\"colorbar\": {\"outlinewidth\": 0, \"ticks\": \"\"}, \"type\": \"choropleth\"}], \"contour\": [{\"colorbar\": {\"outlinewidth\": 0, \"ticks\": \"\"}, \"colorscale\": [[0.0, \"#0d0887\"], [0.1111111111111111, \"#46039f\"], [0.2222222222222222, \"#7201a8\"], [0.3333333333333333, \"#9c179e\"], [0.4444444444444444, \"#bd3786\"], [0.5555555555555556, \"#d8576b\"], [0.6666666666666666, \"#ed7953\"], [0.7777777777777778, \"#fb9f3a\"], [0.8888888888888888, \"#fdca26\"], [1.0, \"#f0f921\"]], \"type\": \"contour\"}], \"contourcarpet\": [{\"colorbar\": {\"outlinewidth\": 0, \"ticks\": \"\"}, \"type\": \"contourcarpet\"}], \"heatmap\": [{\"colorbar\": {\"outlinewidth\": 0, \"ticks\": \"\"}, \"colorscale\": [[0.0, \"#0d0887\"], [0.1111111111111111, \"#46039f\"], [0.2222222222222222, \"#7201a8\"], [0.3333333333333333, \"#9c179e\"], [0.4444444444444444, \"#bd3786\"], [0.5555555555555556, \"#d8576b\"], [0.6666666666666666, \"#ed7953\"], [0.7777777777777778, \"#fb9f3a\"], [0.8888888888888888, \"#fdca26\"], [1.0, \"#f0f921\"]], \"type\": \"heatmap\"}], \"heatmapgl\": [{\"colorbar\": {\"outlinewidth\": 0, \"ticks\": \"\"}, \"colorscale\": [[0.0, \"#0d0887\"], [0.1111111111111111, \"#46039f\"], [0.2222222222222222, \"#7201a8\"], [0.3333333333333333, \"#9c179e\"], [0.4444444444444444, \"#bd3786\"], [0.5555555555555556, \"#d8576b\"], [0.6666666666666666, \"#ed7953\"], [0.7777777777777778, \"#fb9f3a\"], [0.8888888888888888, \"#fdca26\"], [1.0, \"#f0f921\"]], \"type\": \"heatmapgl\"}], \"histogram\": [{\"marker\": {\"colorbar\": {\"outlinewidth\": 0, \"ticks\": \"\"}}, \"type\": \"histogram\"}], \"histogram2d\": [{\"colorbar\": {\"outlinewidth\": 0, \"ticks\": \"\"}, \"colorscale\": [[0.0, \"#0d0887\"], [0.1111111111111111, \"#46039f\"], [0.2222222222222222, \"#7201a8\"], [0.3333333333333333, \"#9c179e\"], [0.4444444444444444, \"#bd3786\"], [0.5555555555555556, \"#d8576b\"], [0.6666666666666666, \"#ed7953\"], [0.7777777777777778, \"#fb9f3a\"], [0.8888888888888888, \"#fdca26\"], [1.0, \"#f0f921\"]], \"type\": \"histogram2d\"}], \"histogram2dcontour\": [{\"colorbar\": {\"outlinewidth\": 0, \"ticks\": \"\"}, \"colorscale\": [[0.0, \"#0d0887\"], [0.1111111111111111, \"#46039f\"], [0.2222222222222222, \"#7201a8\"], [0.3333333333333333, \"#9c179e\"], [0.4444444444444444, \"#bd3786\"], [0.5555555555555556, \"#d8576b\"], [0.6666666666666666, \"#ed7953\"], [0.7777777777777778, \"#fb9f3a\"], [0.8888888888888888, \"#fdca26\"], [1.0, \"#f0f921\"]], \"type\": \"histogram2dcontour\"}], \"mesh3d\": [{\"colorbar\": {\"outlinewidth\": 0, \"ticks\": \"\"}, \"type\": \"mesh3d\"}], \"parcoords\": [{\"line\": {\"colorbar\": {\"outlinewidth\": 0, \"ticks\": \"\"}}, \"type\": \"parcoords\"}], \"pie\": [{\"automargin\": true, \"type\": \"pie\"}], \"scatter\": [{\"marker\": {\"colorbar\": {\"outlinewidth\": 0, \"ticks\": \"\"}}, \"type\": \"scatter\"}], \"scatter3d\": [{\"line\": {\"colorbar\": {\"outlinewidth\": 0, \"ticks\": \"\"}}, \"marker\": {\"colorbar\": {\"outlinewidth\": 0, \"ticks\": \"\"}}, \"type\": \"scatter3d\"}], \"scattercarpet\": [{\"marker\": {\"colorbar\": {\"outlinewidth\": 0, \"ticks\": \"\"}}, \"type\": \"scattercarpet\"}], \"scattergeo\": [{\"marker\": {\"colorbar\": {\"outlinewidth\": 0, \"ticks\": \"\"}}, \"type\": \"scattergeo\"}], \"scattergl\": [{\"marker\": {\"colorbar\": {\"outlinewidth\": 0, \"ticks\": \"\"}}, \"type\": \"scattergl\"}], \"scattermapbox\": [{\"marker\": {\"colorbar\": {\"outlinewidth\": 0, \"ticks\": \"\"}}, \"type\": \"scattermapbox\"}], \"scatterpolar\": [{\"marker\": {\"colorbar\": {\"outlinewidth\": 0, \"ticks\": \"\"}}, \"type\": \"scatterpolar\"}], \"scatterpolargl\": [{\"marker\": {\"colorbar\": {\"outlinewidth\": 0, \"ticks\": \"\"}}, \"type\": \"scatterpolargl\"}], \"scatterternary\": [{\"marker\": {\"colorbar\": {\"outlinewidth\": 0, \"ticks\": \"\"}}, \"type\": \"scatterternary\"}], \"surface\": [{\"colorbar\": {\"outlinewidth\": 0, \"ticks\": \"\"}, \"colorscale\": [[0.0, \"#0d0887\"], [0.1111111111111111, \"#46039f\"], [0.2222222222222222, \"#7201a8\"], [0.3333333333333333, \"#9c179e\"], [0.4444444444444444, \"#bd3786\"], [0.5555555555555556, \"#d8576b\"], [0.6666666666666666, \"#ed7953\"], [0.7777777777777778, \"#fb9f3a\"], [0.8888888888888888, \"#fdca26\"], [1.0, \"#f0f921\"]], \"type\": \"surface\"}], \"table\": [{\"cells\": {\"fill\": {\"color\": \"#EBF0F8\"}, \"line\": {\"color\": \"white\"}}, \"header\": {\"fill\": {\"color\": \"#C8D4E3\"}, \"line\": {\"color\": \"white\"}}, \"type\": \"table\"}]}, \"layout\": {\"annotationdefaults\": {\"arrowcolor\": \"#2a3f5f\", \"arrowhead\": 0, \"arrowwidth\": 1}, \"coloraxis\": {\"colorbar\": {\"outlinewidth\": 0, \"ticks\": \"\"}}, \"colorscale\": {\"diverging\": [[0, \"#8e0152\"], [0.1, \"#c51b7d\"], [0.2, \"#de77ae\"], [0.3, \"#f1b6da\"], [0.4, \"#fde0ef\"], [0.5, \"#f7f7f7\"], [0.6, \"#e6f5d0\"], [0.7, \"#b8e186\"], [0.8, \"#7fbc41\"], [0.9, \"#4d9221\"], [1, \"#276419\"]], \"sequential\": [[0.0, \"#0d0887\"], [0.1111111111111111, \"#46039f\"], [0.2222222222222222, \"#7201a8\"], [0.3333333333333333, \"#9c179e\"], [0.4444444444444444, \"#bd3786\"], [0.5555555555555556, \"#d8576b\"], [0.6666666666666666, \"#ed7953\"], [0.7777777777777778, \"#fb9f3a\"], [0.8888888888888888, \"#fdca26\"], [1.0, \"#f0f921\"]], \"sequentialminus\": [[0.0, \"#0d0887\"], [0.1111111111111111, \"#46039f\"], [0.2222222222222222, \"#7201a8\"], [0.3333333333333333, \"#9c179e\"], [0.4444444444444444, \"#bd3786\"], [0.5555555555555556, \"#d8576b\"], [0.6666666666666666, \"#ed7953\"], [0.7777777777777778, \"#fb9f3a\"], [0.8888888888888888, \"#fdca26\"], [1.0, \"#f0f921\"]]}, \"colorway\": [\"#636efa\", \"#EF553B\", \"#00cc96\", \"#ab63fa\", \"#FFA15A\", \"#19d3f3\", \"#FF6692\", \"#B6E880\", \"#FF97FF\", \"#FECB52\"], \"font\": {\"color\": \"#2a3f5f\"}, \"geo\": {\"bgcolor\": \"white\", \"lakecolor\": \"white\", \"landcolor\": \"#E5ECF6\", \"showlakes\": true, \"showland\": true, \"subunitcolor\": \"white\"}, \"hoverlabel\": {\"align\": \"left\"}, \"hovermode\": \"closest\", \"mapbox\": {\"style\": \"light\"}, \"paper_bgcolor\": \"white\", \"plot_bgcolor\": \"#E5ECF6\", \"polar\": {\"angularaxis\": {\"gridcolor\": \"white\", \"linecolor\": \"white\", \"ticks\": \"\"}, \"bgcolor\": \"#E5ECF6\", \"radialaxis\": {\"gridcolor\": \"white\", \"linecolor\": \"white\", \"ticks\": \"\"}}, \"scene\": {\"xaxis\": {\"backgroundcolor\": \"#E5ECF6\", \"gridcolor\": \"white\", \"gridwidth\": 2, \"linecolor\": \"white\", \"showbackground\": true, \"ticks\": \"\", \"zerolinecolor\": \"white\"}, \"yaxis\": {\"backgroundcolor\": \"#E5ECF6\", \"gridcolor\": \"white\", \"gridwidth\": 2, \"linecolor\": \"white\", \"showbackground\": true, \"ticks\": \"\", \"zerolinecolor\": \"white\"}, \"zaxis\": {\"backgroundcolor\": \"#E5ECF6\", \"gridcolor\": \"white\", \"gridwidth\": 2, \"linecolor\": \"white\", \"showbackground\": true, \"ticks\": \"\", \"zerolinecolor\": \"white\"}}, \"shapedefaults\": {\"line\": {\"color\": \"#2a3f5f\"}}, \"ternary\": {\"aaxis\": {\"gridcolor\": \"white\", \"linecolor\": \"white\", \"ticks\": \"\"}, \"baxis\": {\"gridcolor\": \"white\", \"linecolor\": \"white\", \"ticks\": \"\"}, \"bgcolor\": \"#E5ECF6\", \"caxis\": {\"gridcolor\": \"white\", \"linecolor\": \"white\", \"ticks\": \"\"}}, \"title\": {\"x\": 0.05}, \"xaxis\": {\"automargin\": true, \"gridcolor\": \"white\", \"linecolor\": \"white\", \"ticks\": \"\", \"title\": {\"standoff\": 15}, \"zerolinecolor\": \"white\", \"zerolinewidth\": 2}, \"yaxis\": {\"automargin\": true, \"gridcolor\": \"white\", \"linecolor\": \"white\", \"ticks\": \"\", \"title\": {\"standoff\": 15}, \"zerolinecolor\": \"white\", \"zerolinewidth\": 2}}}, \"title\": {\"text\": \"N\\u00famero de tuits por d\\u00eda\"}},                        {\"responsive\": true}                    ).then(function(){\n",
       "                            \n",
       "var gd = document.getElementById('7b9d06d3-b41c-4e12-a3ad-1c2945483fba');\n",
       "var x = new MutationObserver(function (mutations, observer) {{\n",
       "        var display = window.getComputedStyle(gd).display;\n",
       "        if (!display || display === 'none') {{\n",
       "            console.log([gd, 'removed!']);\n",
       "            Plotly.purge(gd);\n",
       "            observer.disconnect();\n",
       "        }}\n",
       "}});\n",
       "\n",
       "// Listen for the removal of the full notebook cells\n",
       "var notebookContainer = gd.closest('#notebook-container');\n",
       "if (notebookContainer) {{\n",
       "    x.observe(notebookContainer, {childList: true});\n",
       "}}\n",
       "\n",
       "// Listen for the clearing of the current output cell\n",
       "var outputEl = gd.closest('.output');\n",
       "if (outputEl) {{\n",
       "    x.observe(outputEl, {childList: true});\n",
       "}}\n",
       "\n",
       "                        })                };                });            </script>        </div>"
      ]
     },
     "metadata": {},
     "output_type": "display_data"
    }
   ],
   "source": [
    "trace = go.Scatter(x=temp.fecha.values,\n",
    "                    y=temp.cnt.values,\n",
    "                    text=[f\"Fecha: {f}<br>Tuits: {c}\" for f,c in zip(temp.fecha.values,temp.cnt.values)],\n",
    "                    hoverinfo='text',\n",
    "                    mode='lines+markers',\n",
    "                    name='Días',\n",
    "                    line={'color':'#1DA1F2'})\n",
    " \n",
    "layout = go.Layout(title='Número de tuits por día') \n",
    "fig = go.Figure(data=[trace], layout=layout)\n",
    "\n",
    "iplot(fig)"
   ]
  },
  {
   "cell_type": "code",
   "execution_count": 15,
   "metadata": {},
   "outputs": [],
   "source": [
    "### Diagrama de barras de la cantidad de emojis"
   ]
  },
  {
   "cell_type": "code",
   "execution_count": 16,
   "metadata": {},
   "outputs": [
    {
     "data": {
      "text/html": [
       "<div>\n",
       "<style scoped>\n",
       "    .dataframe tbody tr th:only-of-type {\n",
       "        vertical-align: middle;\n",
       "    }\n",
       "\n",
       "    .dataframe tbody tr th {\n",
       "        vertical-align: top;\n",
       "    }\n",
       "\n",
       "    .dataframe thead th {\n",
       "        text-align: right;\n",
       "    }\n",
       "</style>\n",
       "<table border=\"1\" class=\"dataframe\">\n",
       "  <thead>\n",
       "    <tr style=\"text-align: right;\">\n",
       "      <th></th>\n",
       "      <th>emoji</th>\n",
       "      <th>cnt</th>\n",
       "    </tr>\n",
       "  </thead>\n",
       "  <tbody>\n",
       "    <tr>\n",
       "      <th>0</th>\n",
       "      <td>🇨🇴</td>\n",
       "      <td>46</td>\n",
       "    </tr>\n",
       "    <tr>\n",
       "      <th>14</th>\n",
       "      <td>⚽</td>\n",
       "      <td>17</td>\n",
       "    </tr>\n",
       "    <tr>\n",
       "      <th>26</th>\n",
       "      <td>🙏</td>\n",
       "      <td>10</td>\n",
       "    </tr>\n",
       "    <tr>\n",
       "      <th>2</th>\n",
       "      <td>⚽️</td>\n",
       "      <td>6</td>\n",
       "    </tr>\n",
       "    <tr>\n",
       "      <th>1</th>\n",
       "      <td>🇺🇾</td>\n",
       "      <td>6</td>\n",
       "    </tr>\n",
       "  </tbody>\n",
       "</table>\n",
       "</div>"
      ],
      "text/plain": [
       "   emoji  cnt\n",
       "0     🇨🇴   46\n",
       "14     ⚽   17\n",
       "26     🙏   10\n",
       "2     ⚽️    6\n",
       "1     🇺🇾    6"
      ]
     },
     "execution_count": 16,
     "metadata": {},
     "output_type": "execute_result"
    }
   ],
   "source": [
    "from collections import Counter\n",
    " \n",
    "temp_emojis = pd.DataFrame(list(zip(Counter(sum(datos_tw.emojis.values,[])).keys(),Counter(sum(datos_tw.emojis.values,[])).values())))\n",
    "\n",
    "temp_emojis.columns = ['emoji', 'cnt']\n",
    "temp_emojis.sort_values('cnt', ascending=False, inplace=True)\n",
    "\n",
    "temp_emojis.head()"
   ]
  },
  {
   "cell_type": "code",
   "execution_count": 17,
   "metadata": {},
   "outputs": [
    {
     "data": {
      "application/vnd.plotly.v1+json": {
       "config": {
        "linkText": "Export to plot.ly",
        "plotlyServerURL": "https://plot.ly",
        "showLink": false
       },
       "data": [
        {
         "type": "bar",
         "x": [
          "🇨🇴",
          "⚽",
          "🙏",
          "⚽️",
          "🇺🇾",
          "😎",
          "🇪🇨",
          "👉🏽",
          "🏆",
          "👹",
          "🎉",
          "👏🏻",
          "🙋🏻‍♂️",
          "💪🏻",
          "🇶🇦"
         ],
         "y": [
          46,
          17,
          10,
          6,
          6,
          5,
          5,
          5,
          4,
          4,
          4,
          4,
          4,
          4,
          4
         ]
        }
       ],
       "layout": {
        "template": {
         "data": {
          "bar": [
           {
            "error_x": {
             "color": "#2a3f5f"
            },
            "error_y": {
             "color": "#2a3f5f"
            },
            "marker": {
             "line": {
              "color": "#E5ECF6",
              "width": 0.5
             }
            },
            "type": "bar"
           }
          ],
          "barpolar": [
           {
            "marker": {
             "line": {
              "color": "#E5ECF6",
              "width": 0.5
             }
            },
            "type": "barpolar"
           }
          ],
          "carpet": [
           {
            "aaxis": {
             "endlinecolor": "#2a3f5f",
             "gridcolor": "white",
             "linecolor": "white",
             "minorgridcolor": "white",
             "startlinecolor": "#2a3f5f"
            },
            "baxis": {
             "endlinecolor": "#2a3f5f",
             "gridcolor": "white",
             "linecolor": "white",
             "minorgridcolor": "white",
             "startlinecolor": "#2a3f5f"
            },
            "type": "carpet"
           }
          ],
          "choropleth": [
           {
            "colorbar": {
             "outlinewidth": 0,
             "ticks": ""
            },
            "type": "choropleth"
           }
          ],
          "contour": [
           {
            "colorbar": {
             "outlinewidth": 0,
             "ticks": ""
            },
            "colorscale": [
             [
              0,
              "#0d0887"
             ],
             [
              0.1111111111111111,
              "#46039f"
             ],
             [
              0.2222222222222222,
              "#7201a8"
             ],
             [
              0.3333333333333333,
              "#9c179e"
             ],
             [
              0.4444444444444444,
              "#bd3786"
             ],
             [
              0.5555555555555556,
              "#d8576b"
             ],
             [
              0.6666666666666666,
              "#ed7953"
             ],
             [
              0.7777777777777778,
              "#fb9f3a"
             ],
             [
              0.8888888888888888,
              "#fdca26"
             ],
             [
              1,
              "#f0f921"
             ]
            ],
            "type": "contour"
           }
          ],
          "contourcarpet": [
           {
            "colorbar": {
             "outlinewidth": 0,
             "ticks": ""
            },
            "type": "contourcarpet"
           }
          ],
          "heatmap": [
           {
            "colorbar": {
             "outlinewidth": 0,
             "ticks": ""
            },
            "colorscale": [
             [
              0,
              "#0d0887"
             ],
             [
              0.1111111111111111,
              "#46039f"
             ],
             [
              0.2222222222222222,
              "#7201a8"
             ],
             [
              0.3333333333333333,
              "#9c179e"
             ],
             [
              0.4444444444444444,
              "#bd3786"
             ],
             [
              0.5555555555555556,
              "#d8576b"
             ],
             [
              0.6666666666666666,
              "#ed7953"
             ],
             [
              0.7777777777777778,
              "#fb9f3a"
             ],
             [
              0.8888888888888888,
              "#fdca26"
             ],
             [
              1,
              "#f0f921"
             ]
            ],
            "type": "heatmap"
           }
          ],
          "heatmapgl": [
           {
            "colorbar": {
             "outlinewidth": 0,
             "ticks": ""
            },
            "colorscale": [
             [
              0,
              "#0d0887"
             ],
             [
              0.1111111111111111,
              "#46039f"
             ],
             [
              0.2222222222222222,
              "#7201a8"
             ],
             [
              0.3333333333333333,
              "#9c179e"
             ],
             [
              0.4444444444444444,
              "#bd3786"
             ],
             [
              0.5555555555555556,
              "#d8576b"
             ],
             [
              0.6666666666666666,
              "#ed7953"
             ],
             [
              0.7777777777777778,
              "#fb9f3a"
             ],
             [
              0.8888888888888888,
              "#fdca26"
             ],
             [
              1,
              "#f0f921"
             ]
            ],
            "type": "heatmapgl"
           }
          ],
          "histogram": [
           {
            "marker": {
             "colorbar": {
              "outlinewidth": 0,
              "ticks": ""
             }
            },
            "type": "histogram"
           }
          ],
          "histogram2d": [
           {
            "colorbar": {
             "outlinewidth": 0,
             "ticks": ""
            },
            "colorscale": [
             [
              0,
              "#0d0887"
             ],
             [
              0.1111111111111111,
              "#46039f"
             ],
             [
              0.2222222222222222,
              "#7201a8"
             ],
             [
              0.3333333333333333,
              "#9c179e"
             ],
             [
              0.4444444444444444,
              "#bd3786"
             ],
             [
              0.5555555555555556,
              "#d8576b"
             ],
             [
              0.6666666666666666,
              "#ed7953"
             ],
             [
              0.7777777777777778,
              "#fb9f3a"
             ],
             [
              0.8888888888888888,
              "#fdca26"
             ],
             [
              1,
              "#f0f921"
             ]
            ],
            "type": "histogram2d"
           }
          ],
          "histogram2dcontour": [
           {
            "colorbar": {
             "outlinewidth": 0,
             "ticks": ""
            },
            "colorscale": [
             [
              0,
              "#0d0887"
             ],
             [
              0.1111111111111111,
              "#46039f"
             ],
             [
              0.2222222222222222,
              "#7201a8"
             ],
             [
              0.3333333333333333,
              "#9c179e"
             ],
             [
              0.4444444444444444,
              "#bd3786"
             ],
             [
              0.5555555555555556,
              "#d8576b"
             ],
             [
              0.6666666666666666,
              "#ed7953"
             ],
             [
              0.7777777777777778,
              "#fb9f3a"
             ],
             [
              0.8888888888888888,
              "#fdca26"
             ],
             [
              1,
              "#f0f921"
             ]
            ],
            "type": "histogram2dcontour"
           }
          ],
          "mesh3d": [
           {
            "colorbar": {
             "outlinewidth": 0,
             "ticks": ""
            },
            "type": "mesh3d"
           }
          ],
          "parcoords": [
           {
            "line": {
             "colorbar": {
              "outlinewidth": 0,
              "ticks": ""
             }
            },
            "type": "parcoords"
           }
          ],
          "pie": [
           {
            "automargin": true,
            "type": "pie"
           }
          ],
          "scatter": [
           {
            "marker": {
             "colorbar": {
              "outlinewidth": 0,
              "ticks": ""
             }
            },
            "type": "scatter"
           }
          ],
          "scatter3d": [
           {
            "line": {
             "colorbar": {
              "outlinewidth": 0,
              "ticks": ""
             }
            },
            "marker": {
             "colorbar": {
              "outlinewidth": 0,
              "ticks": ""
             }
            },
            "type": "scatter3d"
           }
          ],
          "scattercarpet": [
           {
            "marker": {
             "colorbar": {
              "outlinewidth": 0,
              "ticks": ""
             }
            },
            "type": "scattercarpet"
           }
          ],
          "scattergeo": [
           {
            "marker": {
             "colorbar": {
              "outlinewidth": 0,
              "ticks": ""
             }
            },
            "type": "scattergeo"
           }
          ],
          "scattergl": [
           {
            "marker": {
             "colorbar": {
              "outlinewidth": 0,
              "ticks": ""
             }
            },
            "type": "scattergl"
           }
          ],
          "scattermapbox": [
           {
            "marker": {
             "colorbar": {
              "outlinewidth": 0,
              "ticks": ""
             }
            },
            "type": "scattermapbox"
           }
          ],
          "scatterpolar": [
           {
            "marker": {
             "colorbar": {
              "outlinewidth": 0,
              "ticks": ""
             }
            },
            "type": "scatterpolar"
           }
          ],
          "scatterpolargl": [
           {
            "marker": {
             "colorbar": {
              "outlinewidth": 0,
              "ticks": ""
             }
            },
            "type": "scatterpolargl"
           }
          ],
          "scatterternary": [
           {
            "marker": {
             "colorbar": {
              "outlinewidth": 0,
              "ticks": ""
             }
            },
            "type": "scatterternary"
           }
          ],
          "surface": [
           {
            "colorbar": {
             "outlinewidth": 0,
             "ticks": ""
            },
            "colorscale": [
             [
              0,
              "#0d0887"
             ],
             [
              0.1111111111111111,
              "#46039f"
             ],
             [
              0.2222222222222222,
              "#7201a8"
             ],
             [
              0.3333333333333333,
              "#9c179e"
             ],
             [
              0.4444444444444444,
              "#bd3786"
             ],
             [
              0.5555555555555556,
              "#d8576b"
             ],
             [
              0.6666666666666666,
              "#ed7953"
             ],
             [
              0.7777777777777778,
              "#fb9f3a"
             ],
             [
              0.8888888888888888,
              "#fdca26"
             ],
             [
              1,
              "#f0f921"
             ]
            ],
            "type": "surface"
           }
          ],
          "table": [
           {
            "cells": {
             "fill": {
              "color": "#EBF0F8"
             },
             "line": {
              "color": "white"
             }
            },
            "header": {
             "fill": {
              "color": "#C8D4E3"
             },
             "line": {
              "color": "white"
             }
            },
            "type": "table"
           }
          ]
         },
         "layout": {
          "annotationdefaults": {
           "arrowcolor": "#2a3f5f",
           "arrowhead": 0,
           "arrowwidth": 1
          },
          "coloraxis": {
           "colorbar": {
            "outlinewidth": 0,
            "ticks": ""
           }
          },
          "colorscale": {
           "diverging": [
            [
             0,
             "#8e0152"
            ],
            [
             0.1,
             "#c51b7d"
            ],
            [
             0.2,
             "#de77ae"
            ],
            [
             0.3,
             "#f1b6da"
            ],
            [
             0.4,
             "#fde0ef"
            ],
            [
             0.5,
             "#f7f7f7"
            ],
            [
             0.6,
             "#e6f5d0"
            ],
            [
             0.7,
             "#b8e186"
            ],
            [
             0.8,
             "#7fbc41"
            ],
            [
             0.9,
             "#4d9221"
            ],
            [
             1,
             "#276419"
            ]
           ],
           "sequential": [
            [
             0,
             "#0d0887"
            ],
            [
             0.1111111111111111,
             "#46039f"
            ],
            [
             0.2222222222222222,
             "#7201a8"
            ],
            [
             0.3333333333333333,
             "#9c179e"
            ],
            [
             0.4444444444444444,
             "#bd3786"
            ],
            [
             0.5555555555555556,
             "#d8576b"
            ],
            [
             0.6666666666666666,
             "#ed7953"
            ],
            [
             0.7777777777777778,
             "#fb9f3a"
            ],
            [
             0.8888888888888888,
             "#fdca26"
            ],
            [
             1,
             "#f0f921"
            ]
           ],
           "sequentialminus": [
            [
             0,
             "#0d0887"
            ],
            [
             0.1111111111111111,
             "#46039f"
            ],
            [
             0.2222222222222222,
             "#7201a8"
            ],
            [
             0.3333333333333333,
             "#9c179e"
            ],
            [
             0.4444444444444444,
             "#bd3786"
            ],
            [
             0.5555555555555556,
             "#d8576b"
            ],
            [
             0.6666666666666666,
             "#ed7953"
            ],
            [
             0.7777777777777778,
             "#fb9f3a"
            ],
            [
             0.8888888888888888,
             "#fdca26"
            ],
            [
             1,
             "#f0f921"
            ]
           ]
          },
          "colorway": [
           "#636efa",
           "#EF553B",
           "#00cc96",
           "#ab63fa",
           "#FFA15A",
           "#19d3f3",
           "#FF6692",
           "#B6E880",
           "#FF97FF",
           "#FECB52"
          ],
          "font": {
           "color": "#2a3f5f"
          },
          "geo": {
           "bgcolor": "white",
           "lakecolor": "white",
           "landcolor": "#E5ECF6",
           "showlakes": true,
           "showland": true,
           "subunitcolor": "white"
          },
          "hoverlabel": {
           "align": "left"
          },
          "hovermode": "closest",
          "mapbox": {
           "style": "light"
          },
          "paper_bgcolor": "white",
          "plot_bgcolor": "#E5ECF6",
          "polar": {
           "angularaxis": {
            "gridcolor": "white",
            "linecolor": "white",
            "ticks": ""
           },
           "bgcolor": "#E5ECF6",
           "radialaxis": {
            "gridcolor": "white",
            "linecolor": "white",
            "ticks": ""
           }
          },
          "scene": {
           "xaxis": {
            "backgroundcolor": "#E5ECF6",
            "gridcolor": "white",
            "gridwidth": 2,
            "linecolor": "white",
            "showbackground": true,
            "ticks": "",
            "zerolinecolor": "white"
           },
           "yaxis": {
            "backgroundcolor": "#E5ECF6",
            "gridcolor": "white",
            "gridwidth": 2,
            "linecolor": "white",
            "showbackground": true,
            "ticks": "",
            "zerolinecolor": "white"
           },
           "zaxis": {
            "backgroundcolor": "#E5ECF6",
            "gridcolor": "white",
            "gridwidth": 2,
            "linecolor": "white",
            "showbackground": true,
            "ticks": "",
            "zerolinecolor": "white"
           }
          },
          "shapedefaults": {
           "line": {
            "color": "#2a3f5f"
           }
          },
          "ternary": {
           "aaxis": {
            "gridcolor": "white",
            "linecolor": "white",
            "ticks": ""
           },
           "baxis": {
            "gridcolor": "white",
            "linecolor": "white",
            "ticks": ""
           },
           "bgcolor": "#E5ECF6",
           "caxis": {
            "gridcolor": "white",
            "linecolor": "white",
            "ticks": ""
           }
          },
          "title": {
           "x": 0.05
          },
          "xaxis": {
           "automargin": true,
           "gridcolor": "white",
           "linecolor": "white",
           "ticks": "",
           "title": {
            "standoff": 15
           },
           "zerolinecolor": "white",
           "zerolinewidth": 2
          },
          "yaxis": {
           "automargin": true,
           "gridcolor": "white",
           "linecolor": "white",
           "ticks": "",
           "title": {
            "standoff": 15
           },
           "zerolinecolor": "white",
           "zerolinewidth": 2
          }
         }
        },
        "title": {
         "text": "Emojis más usados"
        }
       }
      },
      "text/html": [
       "<div>                            <div id=\"cb20282a-0fb0-431c-a6fa-01c89bcc26ab\" class=\"plotly-graph-div\" style=\"height:525px; width:100%;\"></div>            <script type=\"text/javascript\">                require([\"plotly\"], function(Plotly) {                    window.PLOTLYENV=window.PLOTLYENV || {};                                    if (document.getElementById(\"cb20282a-0fb0-431c-a6fa-01c89bcc26ab\")) {                    Plotly.newPlot(                        \"cb20282a-0fb0-431c-a6fa-01c89bcc26ab\",                        [{\"type\": \"bar\", \"x\": [\"\\ud83c\\udde8\\ud83c\\uddf4\", \"\\u26bd\", \"\\ud83d\\ude4f\", \"\\u26bd\\ufe0f\", \"\\ud83c\\uddfa\\ud83c\\uddfe\", \"\\ud83d\\ude0e\", \"\\ud83c\\uddea\\ud83c\\udde8\", \"\\ud83d\\udc49\\ud83c\\udffd\", \"\\ud83c\\udfc6\", \"\\ud83d\\udc79\", \"\\ud83c\\udf89\", \"\\ud83d\\udc4f\\ud83c\\udffb\", \"\\ud83d\\ude4b\\ud83c\\udffb\\u200d\\u2642\\ufe0f\", \"\\ud83d\\udcaa\\ud83c\\udffb\", \"\\ud83c\\uddf6\\ud83c\\udde6\"], \"y\": [46, 17, 10, 6, 6, 5, 5, 5, 4, 4, 4, 4, 4, 4, 4]}],                        {\"template\": {\"data\": {\"bar\": [{\"error_x\": {\"color\": \"#2a3f5f\"}, \"error_y\": {\"color\": \"#2a3f5f\"}, \"marker\": {\"line\": {\"color\": \"#E5ECF6\", \"width\": 0.5}}, \"type\": \"bar\"}], \"barpolar\": [{\"marker\": {\"line\": {\"color\": \"#E5ECF6\", \"width\": 0.5}}, \"type\": \"barpolar\"}], \"carpet\": [{\"aaxis\": {\"endlinecolor\": \"#2a3f5f\", \"gridcolor\": \"white\", \"linecolor\": \"white\", \"minorgridcolor\": \"white\", \"startlinecolor\": \"#2a3f5f\"}, \"baxis\": {\"endlinecolor\": \"#2a3f5f\", \"gridcolor\": \"white\", \"linecolor\": \"white\", \"minorgridcolor\": \"white\", \"startlinecolor\": \"#2a3f5f\"}, \"type\": \"carpet\"}], \"choropleth\": [{\"colorbar\": {\"outlinewidth\": 0, \"ticks\": \"\"}, \"type\": \"choropleth\"}], \"contour\": [{\"colorbar\": {\"outlinewidth\": 0, \"ticks\": \"\"}, \"colorscale\": [[0.0, \"#0d0887\"], [0.1111111111111111, \"#46039f\"], [0.2222222222222222, \"#7201a8\"], [0.3333333333333333, \"#9c179e\"], [0.4444444444444444, \"#bd3786\"], [0.5555555555555556, \"#d8576b\"], [0.6666666666666666, \"#ed7953\"], [0.7777777777777778, \"#fb9f3a\"], [0.8888888888888888, \"#fdca26\"], [1.0, \"#f0f921\"]], \"type\": \"contour\"}], \"contourcarpet\": [{\"colorbar\": {\"outlinewidth\": 0, \"ticks\": \"\"}, \"type\": \"contourcarpet\"}], \"heatmap\": [{\"colorbar\": {\"outlinewidth\": 0, \"ticks\": \"\"}, \"colorscale\": [[0.0, \"#0d0887\"], [0.1111111111111111, \"#46039f\"], [0.2222222222222222, \"#7201a8\"], [0.3333333333333333, \"#9c179e\"], [0.4444444444444444, \"#bd3786\"], [0.5555555555555556, \"#d8576b\"], [0.6666666666666666, \"#ed7953\"], [0.7777777777777778, \"#fb9f3a\"], [0.8888888888888888, \"#fdca26\"], [1.0, \"#f0f921\"]], \"type\": \"heatmap\"}], \"heatmapgl\": [{\"colorbar\": {\"outlinewidth\": 0, \"ticks\": \"\"}, \"colorscale\": [[0.0, \"#0d0887\"], [0.1111111111111111, \"#46039f\"], [0.2222222222222222, \"#7201a8\"], [0.3333333333333333, \"#9c179e\"], [0.4444444444444444, \"#bd3786\"], [0.5555555555555556, \"#d8576b\"], [0.6666666666666666, \"#ed7953\"], [0.7777777777777778, \"#fb9f3a\"], [0.8888888888888888, \"#fdca26\"], [1.0, \"#f0f921\"]], \"type\": \"heatmapgl\"}], \"histogram\": [{\"marker\": {\"colorbar\": {\"outlinewidth\": 0, \"ticks\": \"\"}}, \"type\": \"histogram\"}], \"histogram2d\": [{\"colorbar\": {\"outlinewidth\": 0, \"ticks\": \"\"}, \"colorscale\": [[0.0, \"#0d0887\"], [0.1111111111111111, \"#46039f\"], [0.2222222222222222, \"#7201a8\"], [0.3333333333333333, \"#9c179e\"], [0.4444444444444444, \"#bd3786\"], [0.5555555555555556, \"#d8576b\"], [0.6666666666666666, \"#ed7953\"], [0.7777777777777778, \"#fb9f3a\"], [0.8888888888888888, \"#fdca26\"], [1.0, \"#f0f921\"]], \"type\": \"histogram2d\"}], \"histogram2dcontour\": [{\"colorbar\": {\"outlinewidth\": 0, \"ticks\": \"\"}, \"colorscale\": [[0.0, \"#0d0887\"], [0.1111111111111111, \"#46039f\"], [0.2222222222222222, \"#7201a8\"], [0.3333333333333333, \"#9c179e\"], [0.4444444444444444, \"#bd3786\"], [0.5555555555555556, \"#d8576b\"], [0.6666666666666666, \"#ed7953\"], [0.7777777777777778, \"#fb9f3a\"], [0.8888888888888888, \"#fdca26\"], [1.0, \"#f0f921\"]], \"type\": \"histogram2dcontour\"}], \"mesh3d\": [{\"colorbar\": {\"outlinewidth\": 0, \"ticks\": \"\"}, \"type\": \"mesh3d\"}], \"parcoords\": [{\"line\": {\"colorbar\": {\"outlinewidth\": 0, \"ticks\": \"\"}}, \"type\": \"parcoords\"}], \"pie\": [{\"automargin\": true, \"type\": \"pie\"}], \"scatter\": [{\"marker\": {\"colorbar\": {\"outlinewidth\": 0, \"ticks\": \"\"}}, \"type\": \"scatter\"}], \"scatter3d\": [{\"line\": {\"colorbar\": {\"outlinewidth\": 0, \"ticks\": \"\"}}, \"marker\": {\"colorbar\": {\"outlinewidth\": 0, \"ticks\": \"\"}}, \"type\": \"scatter3d\"}], \"scattercarpet\": [{\"marker\": {\"colorbar\": {\"outlinewidth\": 0, \"ticks\": \"\"}}, \"type\": \"scattercarpet\"}], \"scattergeo\": [{\"marker\": {\"colorbar\": {\"outlinewidth\": 0, \"ticks\": \"\"}}, \"type\": \"scattergeo\"}], \"scattergl\": [{\"marker\": {\"colorbar\": {\"outlinewidth\": 0, \"ticks\": \"\"}}, \"type\": \"scattergl\"}], \"scattermapbox\": [{\"marker\": {\"colorbar\": {\"outlinewidth\": 0, \"ticks\": \"\"}}, \"type\": \"scattermapbox\"}], \"scatterpolar\": [{\"marker\": {\"colorbar\": {\"outlinewidth\": 0, \"ticks\": \"\"}}, \"type\": \"scatterpolar\"}], \"scatterpolargl\": [{\"marker\": {\"colorbar\": {\"outlinewidth\": 0, \"ticks\": \"\"}}, \"type\": \"scatterpolargl\"}], \"scatterternary\": [{\"marker\": {\"colorbar\": {\"outlinewidth\": 0, \"ticks\": \"\"}}, \"type\": \"scatterternary\"}], \"surface\": [{\"colorbar\": {\"outlinewidth\": 0, \"ticks\": \"\"}, \"colorscale\": [[0.0, \"#0d0887\"], [0.1111111111111111, \"#46039f\"], [0.2222222222222222, \"#7201a8\"], [0.3333333333333333, \"#9c179e\"], [0.4444444444444444, \"#bd3786\"], [0.5555555555555556, \"#d8576b\"], [0.6666666666666666, \"#ed7953\"], [0.7777777777777778, \"#fb9f3a\"], [0.8888888888888888, \"#fdca26\"], [1.0, \"#f0f921\"]], \"type\": \"surface\"}], \"table\": [{\"cells\": {\"fill\": {\"color\": \"#EBF0F8\"}, \"line\": {\"color\": \"white\"}}, \"header\": {\"fill\": {\"color\": \"#C8D4E3\"}, \"line\": {\"color\": \"white\"}}, \"type\": \"table\"}]}, \"layout\": {\"annotationdefaults\": {\"arrowcolor\": \"#2a3f5f\", \"arrowhead\": 0, \"arrowwidth\": 1}, \"coloraxis\": {\"colorbar\": {\"outlinewidth\": 0, \"ticks\": \"\"}}, \"colorscale\": {\"diverging\": [[0, \"#8e0152\"], [0.1, \"#c51b7d\"], [0.2, \"#de77ae\"], [0.3, \"#f1b6da\"], [0.4, \"#fde0ef\"], [0.5, \"#f7f7f7\"], [0.6, \"#e6f5d0\"], [0.7, \"#b8e186\"], [0.8, \"#7fbc41\"], [0.9, \"#4d9221\"], [1, \"#276419\"]], \"sequential\": [[0.0, \"#0d0887\"], [0.1111111111111111, \"#46039f\"], [0.2222222222222222, \"#7201a8\"], [0.3333333333333333, \"#9c179e\"], [0.4444444444444444, \"#bd3786\"], [0.5555555555555556, \"#d8576b\"], [0.6666666666666666, \"#ed7953\"], [0.7777777777777778, \"#fb9f3a\"], [0.8888888888888888, \"#fdca26\"], [1.0, \"#f0f921\"]], \"sequentialminus\": [[0.0, \"#0d0887\"], [0.1111111111111111, \"#46039f\"], [0.2222222222222222, \"#7201a8\"], [0.3333333333333333, \"#9c179e\"], [0.4444444444444444, \"#bd3786\"], [0.5555555555555556, \"#d8576b\"], [0.6666666666666666, \"#ed7953\"], [0.7777777777777778, \"#fb9f3a\"], [0.8888888888888888, \"#fdca26\"], [1.0, \"#f0f921\"]]}, \"colorway\": [\"#636efa\", \"#EF553B\", \"#00cc96\", \"#ab63fa\", \"#FFA15A\", \"#19d3f3\", \"#FF6692\", \"#B6E880\", \"#FF97FF\", \"#FECB52\"], \"font\": {\"color\": \"#2a3f5f\"}, \"geo\": {\"bgcolor\": \"white\", \"lakecolor\": \"white\", \"landcolor\": \"#E5ECF6\", \"showlakes\": true, \"showland\": true, \"subunitcolor\": \"white\"}, \"hoverlabel\": {\"align\": \"left\"}, \"hovermode\": \"closest\", \"mapbox\": {\"style\": \"light\"}, \"paper_bgcolor\": \"white\", \"plot_bgcolor\": \"#E5ECF6\", \"polar\": {\"angularaxis\": {\"gridcolor\": \"white\", \"linecolor\": \"white\", \"ticks\": \"\"}, \"bgcolor\": \"#E5ECF6\", \"radialaxis\": {\"gridcolor\": \"white\", \"linecolor\": \"white\", \"ticks\": \"\"}}, \"scene\": {\"xaxis\": {\"backgroundcolor\": \"#E5ECF6\", \"gridcolor\": \"white\", \"gridwidth\": 2, \"linecolor\": \"white\", \"showbackground\": true, \"ticks\": \"\", \"zerolinecolor\": \"white\"}, \"yaxis\": {\"backgroundcolor\": \"#E5ECF6\", \"gridcolor\": \"white\", \"gridwidth\": 2, \"linecolor\": \"white\", \"showbackground\": true, \"ticks\": \"\", \"zerolinecolor\": \"white\"}, \"zaxis\": {\"backgroundcolor\": \"#E5ECF6\", \"gridcolor\": \"white\", \"gridwidth\": 2, \"linecolor\": \"white\", \"showbackground\": true, \"ticks\": \"\", \"zerolinecolor\": \"white\"}}, \"shapedefaults\": {\"line\": {\"color\": \"#2a3f5f\"}}, \"ternary\": {\"aaxis\": {\"gridcolor\": \"white\", \"linecolor\": \"white\", \"ticks\": \"\"}, \"baxis\": {\"gridcolor\": \"white\", \"linecolor\": \"white\", \"ticks\": \"\"}, \"bgcolor\": \"#E5ECF6\", \"caxis\": {\"gridcolor\": \"white\", \"linecolor\": \"white\", \"ticks\": \"\"}}, \"title\": {\"x\": 0.05}, \"xaxis\": {\"automargin\": true, \"gridcolor\": \"white\", \"linecolor\": \"white\", \"ticks\": \"\", \"title\": {\"standoff\": 15}, \"zerolinecolor\": \"white\", \"zerolinewidth\": 2}, \"yaxis\": {\"automargin\": true, \"gridcolor\": \"white\", \"linecolor\": \"white\", \"ticks\": \"\", \"title\": {\"standoff\": 15}, \"zerolinecolor\": \"white\", \"zerolinewidth\": 2}}}, \"title\": {\"text\": \"Emojis m\\u00e1s usados\"}},                        {\"responsive\": true}                    ).then(function(){\n",
       "                            \n",
       "var gd = document.getElementById('cb20282a-0fb0-431c-a6fa-01c89bcc26ab');\n",
       "var x = new MutationObserver(function (mutations, observer) {{\n",
       "        var display = window.getComputedStyle(gd).display;\n",
       "        if (!display || display === 'none') {{\n",
       "            console.log([gd, 'removed!']);\n",
       "            Plotly.purge(gd);\n",
       "            observer.disconnect();\n",
       "        }}\n",
       "}});\n",
       "\n",
       "// Listen for the removal of the full notebook cells\n",
       "var notebookContainer = gd.closest('#notebook-container');\n",
       "if (notebookContainer) {{\n",
       "    x.observe(notebookContainer, {childList: true});\n",
       "}}\n",
       "\n",
       "// Listen for the clearing of the current output cell\n",
       "var outputEl = gd.closest('.output');\n",
       "if (outputEl) {{\n",
       "    x.observe(outputEl, {childList: true});\n",
       "}}\n",
       "\n",
       "                        })                };                });            </script>        </div>"
      ]
     },
     "metadata": {},
     "output_type": "display_data"
    }
   ],
   "source": [
    "trace = go.Bar(x=temp_emojis.emoji.values[:15],\n",
    "                y=temp_emojis.cnt.values[:15])\n",
    " \n",
    "layout = go.Layout(title='Emojis más usados')\n",
    " \n",
    "fig = go.Figure(data=[trace], layout=layout)\n",
    "\n",
    "iplot(fig)"
   ]
  },
  {
   "cell_type": "markdown",
   "metadata": {},
   "source": [
    "### Hacemos un Mapa de calor de las palabras "
   ]
  },
  {
   "cell_type": "code",
   "execution_count": 18,
   "metadata": {},
   "outputs": [],
   "source": [
    "#Se importan las librerias para quitar las stopwors y hacer TFID \n",
    "import re\n",
    "\n",
    "from nltk.corpus import stopwords\n",
    "\n",
    "from sklearn.feature_extraction.text import TfidfVectorizer\n",
    "\n",
    "stopwords_sp = stopwords.words('spanish')\n",
    " \n",
    "def pre_procesado(texto):\n",
    "     texto = texto.lower()\n",
    "     texto = re.sub(r\"[\\W\\d_]+\", \" \", texto)\n",
    "     texto = \" \".join([palabra for palabra in texto.split() if palabra not in stopwords_sp])\n",
    "     return texto\n",
    " \n",
    "tfidf_vect = TfidfVectorizer(preprocessor=pre_procesado, ngram_range=(1,2), max_features=50)\n",
    "\n",
    "tfidf = tfidf_vect.fit_transform(datos_tw.clean.values)"
   ]
  },
  {
   "cell_type": "code",
   "execution_count": 19,
   "metadata": {},
   "outputs": [
    {
     "data": {
      "text/html": [
       "<div>\n",
       "<style scoped>\n",
       "    .dataframe tbody tr th:only-of-type {\n",
       "        vertical-align: middle;\n",
       "    }\n",
       "\n",
       "    .dataframe tbody tr th {\n",
       "        vertical-align: top;\n",
       "    }\n",
       "\n",
       "    .dataframe thead th {\n",
       "        text-align: right;\n",
       "    }\n",
       "</style>\n",
       "<table border=\"1\" class=\"dataframe\">\n",
       "  <thead>\n",
       "    <tr style=\"text-align: right;\">\n",
       "      <th></th>\n",
       "      <th>así</th>\n",
       "      <th>años</th>\n",
       "      <th>barranquilla</th>\n",
       "      <th>bien</th>\n",
       "      <th>camiseta</th>\n",
       "      <th>colombia</th>\n",
       "      <th>cuadrado</th>\n",
       "      <th>cuadrado selección</th>\n",
       "      <th>debe</th>\n",
       "      <th>díaz</th>\n",
       "      <th>...</th>\n",
       "      <th>ser</th>\n",
       "      <th>si</th>\n",
       "      <th>siempre</th>\n",
       "      <th>tan</th>\n",
       "      <th>uruguay</th>\n",
       "      <th>va</th>\n",
       "      <th>vamos</th>\n",
       "      <th>vamos selección</th>\n",
       "      <th>ver</th>\n",
       "      <th>vez</th>\n",
       "    </tr>\n",
       "  </thead>\n",
       "  <tbody>\n",
       "    <tr>\n",
       "      <th>así</th>\n",
       "      <td>1.000000</td>\n",
       "      <td>0.000000</td>\n",
       "      <td>0.064430</td>\n",
       "      <td>0.000000</td>\n",
       "      <td>0.000000</td>\n",
       "      <td>0.077631</td>\n",
       "      <td>0.049868</td>\n",
       "      <td>0.109550</td>\n",
       "      <td>0.000000</td>\n",
       "      <td>0.000000</td>\n",
       "      <td>...</td>\n",
       "      <td>0.000000</td>\n",
       "      <td>0.089805</td>\n",
       "      <td>0.000000</td>\n",
       "      <td>0.000000</td>\n",
       "      <td>0.039352</td>\n",
       "      <td>0.000000</td>\n",
       "      <td>0.000000</td>\n",
       "      <td>0.000000</td>\n",
       "      <td>0.152552</td>\n",
       "      <td>0.000000</td>\n",
       "    </tr>\n",
       "    <tr>\n",
       "      <th>años</th>\n",
       "      <td>0.000000</td>\n",
       "      <td>1.000000</td>\n",
       "      <td>0.000000</td>\n",
       "      <td>0.000000</td>\n",
       "      <td>0.000000</td>\n",
       "      <td>0.077353</td>\n",
       "      <td>0.000000</td>\n",
       "      <td>0.000000</td>\n",
       "      <td>0.000000</td>\n",
       "      <td>0.000000</td>\n",
       "      <td>...</td>\n",
       "      <td>0.037264</td>\n",
       "      <td>0.084990</td>\n",
       "      <td>0.000000</td>\n",
       "      <td>0.000000</td>\n",
       "      <td>0.000000</td>\n",
       "      <td>0.000000</td>\n",
       "      <td>0.000000</td>\n",
       "      <td>0.000000</td>\n",
       "      <td>0.000000</td>\n",
       "      <td>0.000000</td>\n",
       "    </tr>\n",
       "    <tr>\n",
       "      <th>barranquilla</th>\n",
       "      <td>0.064430</td>\n",
       "      <td>0.000000</td>\n",
       "      <td>1.000000</td>\n",
       "      <td>0.000000</td>\n",
       "      <td>0.000000</td>\n",
       "      <td>0.074826</td>\n",
       "      <td>0.000000</td>\n",
       "      <td>0.000000</td>\n",
       "      <td>0.000000</td>\n",
       "      <td>0.000000</td>\n",
       "      <td>...</td>\n",
       "      <td>0.282309</td>\n",
       "      <td>0.000000</td>\n",
       "      <td>0.000000</td>\n",
       "      <td>0.000000</td>\n",
       "      <td>0.067344</td>\n",
       "      <td>0.000000</td>\n",
       "      <td>0.000000</td>\n",
       "      <td>0.000000</td>\n",
       "      <td>0.032694</td>\n",
       "      <td>0.041864</td>\n",
       "    </tr>\n",
       "    <tr>\n",
       "      <th>bien</th>\n",
       "      <td>0.000000</td>\n",
       "      <td>0.000000</td>\n",
       "      <td>0.000000</td>\n",
       "      <td>1.000000</td>\n",
       "      <td>0.000000</td>\n",
       "      <td>0.036014</td>\n",
       "      <td>0.070110</td>\n",
       "      <td>0.042552</td>\n",
       "      <td>0.000000</td>\n",
       "      <td>0.000000</td>\n",
       "      <td>...</td>\n",
       "      <td>0.029933</td>\n",
       "      <td>0.085183</td>\n",
       "      <td>0.029649</td>\n",
       "      <td>0.000000</td>\n",
       "      <td>0.079036</td>\n",
       "      <td>0.042543</td>\n",
       "      <td>0.000000</td>\n",
       "      <td>0.000000</td>\n",
       "      <td>0.000000</td>\n",
       "      <td>0.113359</td>\n",
       "    </tr>\n",
       "    <tr>\n",
       "      <th>camiseta</th>\n",
       "      <td>0.000000</td>\n",
       "      <td>0.000000</td>\n",
       "      <td>0.000000</td>\n",
       "      <td>0.000000</td>\n",
       "      <td>1.000000</td>\n",
       "      <td>0.061473</td>\n",
       "      <td>0.000000</td>\n",
       "      <td>0.000000</td>\n",
       "      <td>0.000000</td>\n",
       "      <td>0.000000</td>\n",
       "      <td>...</td>\n",
       "      <td>0.000000</td>\n",
       "      <td>0.000000</td>\n",
       "      <td>0.018955</td>\n",
       "      <td>0.057562</td>\n",
       "      <td>0.000000</td>\n",
       "      <td>0.000000</td>\n",
       "      <td>0.000000</td>\n",
       "      <td>0.000000</td>\n",
       "      <td>0.000000</td>\n",
       "      <td>0.000000</td>\n",
       "    </tr>\n",
       "    <tr>\n",
       "      <th>colombia</th>\n",
       "      <td>0.077631</td>\n",
       "      <td>0.077353</td>\n",
       "      <td>0.074826</td>\n",
       "      <td>0.036014</td>\n",
       "      <td>0.061473</td>\n",
       "      <td>1.000000</td>\n",
       "      <td>0.002692</td>\n",
       "      <td>0.005913</td>\n",
       "      <td>0.000000</td>\n",
       "      <td>0.124230</td>\n",
       "      <td>...</td>\n",
       "      <td>0.010371</td>\n",
       "      <td>0.051032</td>\n",
       "      <td>0.143485</td>\n",
       "      <td>0.104556</td>\n",
       "      <td>0.263753</td>\n",
       "      <td>0.105168</td>\n",
       "      <td>0.060465</td>\n",
       "      <td>0.050112</td>\n",
       "      <td>0.038053</td>\n",
       "      <td>0.061231</td>\n",
       "    </tr>\n",
       "    <tr>\n",
       "      <th>cuadrado</th>\n",
       "      <td>0.049868</td>\n",
       "      <td>0.000000</td>\n",
       "      <td>0.000000</td>\n",
       "      <td>0.070110</td>\n",
       "      <td>0.000000</td>\n",
       "      <td>0.002692</td>\n",
       "      <td>1.000000</td>\n",
       "      <td>0.518739</td>\n",
       "      <td>0.077041</td>\n",
       "      <td>0.000000</td>\n",
       "      <td>...</td>\n",
       "      <td>0.012642</td>\n",
       "      <td>0.039330</td>\n",
       "      <td>0.012522</td>\n",
       "      <td>0.000000</td>\n",
       "      <td>0.008014</td>\n",
       "      <td>0.017968</td>\n",
       "      <td>0.015403</td>\n",
       "      <td>0.020116</td>\n",
       "      <td>0.058220</td>\n",
       "      <td>0.037191</td>\n",
       "    </tr>\n",
       "    <tr>\n",
       "      <th>cuadrado selección</th>\n",
       "      <td>0.109550</td>\n",
       "      <td>0.000000</td>\n",
       "      <td>0.000000</td>\n",
       "      <td>0.042552</td>\n",
       "      <td>0.000000</td>\n",
       "      <td>0.005913</td>\n",
       "      <td>0.518739</td>\n",
       "      <td>1.000000</td>\n",
       "      <td>0.000000</td>\n",
       "      <td>0.000000</td>\n",
       "      <td>...</td>\n",
       "      <td>0.000000</td>\n",
       "      <td>0.086400</td>\n",
       "      <td>0.027508</td>\n",
       "      <td>0.000000</td>\n",
       "      <td>0.000000</td>\n",
       "      <td>0.000000</td>\n",
       "      <td>0.000000</td>\n",
       "      <td>0.000000</td>\n",
       "      <td>0.127898</td>\n",
       "      <td>0.000000</td>\n",
       "    </tr>\n",
       "    <tr>\n",
       "      <th>debe</th>\n",
       "      <td>0.000000</td>\n",
       "      <td>0.000000</td>\n",
       "      <td>0.000000</td>\n",
       "      <td>0.000000</td>\n",
       "      <td>0.000000</td>\n",
       "      <td>0.000000</td>\n",
       "      <td>0.077041</td>\n",
       "      <td>0.000000</td>\n",
       "      <td>1.000000</td>\n",
       "      <td>0.000000</td>\n",
       "      <td>...</td>\n",
       "      <td>0.170815</td>\n",
       "      <td>0.000000</td>\n",
       "      <td>0.000000</td>\n",
       "      <td>0.000000</td>\n",
       "      <td>0.000000</td>\n",
       "      <td>0.000000</td>\n",
       "      <td>0.000000</td>\n",
       "      <td>0.000000</td>\n",
       "      <td>0.000000</td>\n",
       "      <td>0.000000</td>\n",
       "    </tr>\n",
       "    <tr>\n",
       "      <th>díaz</th>\n",
       "      <td>0.000000</td>\n",
       "      <td>0.000000</td>\n",
       "      <td>0.000000</td>\n",
       "      <td>0.000000</td>\n",
       "      <td>0.000000</td>\n",
       "      <td>0.124230</td>\n",
       "      <td>0.000000</td>\n",
       "      <td>0.000000</td>\n",
       "      <td>0.000000</td>\n",
       "      <td>1.000000</td>\n",
       "      <td>...</td>\n",
       "      <td>0.000000</td>\n",
       "      <td>0.000000</td>\n",
       "      <td>0.000000</td>\n",
       "      <td>0.000000</td>\n",
       "      <td>0.017809</td>\n",
       "      <td>0.160357</td>\n",
       "      <td>0.000000</td>\n",
       "      <td>0.000000</td>\n",
       "      <td>0.000000</td>\n",
       "      <td>0.086408</td>\n",
       "    </tr>\n",
       "    <tr>\n",
       "      <th>equipo</th>\n",
       "      <td>0.000000</td>\n",
       "      <td>0.000000</td>\n",
       "      <td>0.000000</td>\n",
       "      <td>0.000000</td>\n",
       "      <td>0.000000</td>\n",
       "      <td>0.161848</td>\n",
       "      <td>0.000000</td>\n",
       "      <td>0.000000</td>\n",
       "      <td>0.032379</td>\n",
       "      <td>0.000000</td>\n",
       "      <td>...</td>\n",
       "      <td>0.021257</td>\n",
       "      <td>0.117919</td>\n",
       "      <td>0.137568</td>\n",
       "      <td>0.000000</td>\n",
       "      <td>0.116467</td>\n",
       "      <td>0.236325</td>\n",
       "      <td>0.000000</td>\n",
       "      <td>0.000000</td>\n",
       "      <td>0.000000</td>\n",
       "      <td>0.000000</td>\n",
       "    </tr>\n",
       "    <tr>\n",
       "      <th>falta</th>\n",
       "      <td>0.048596</td>\n",
       "      <td>0.127455</td>\n",
       "      <td>0.000000</td>\n",
       "      <td>0.000000</td>\n",
       "      <td>0.000000</td>\n",
       "      <td>0.078538</td>\n",
       "      <td>0.052276</td>\n",
       "      <td>0.000000</td>\n",
       "      <td>0.025874</td>\n",
       "      <td>0.000000</td>\n",
       "      <td>...</td>\n",
       "      <td>0.016986</td>\n",
       "      <td>0.000000</td>\n",
       "      <td>0.042390</td>\n",
       "      <td>0.000000</td>\n",
       "      <td>0.000000</td>\n",
       "      <td>0.000000</td>\n",
       "      <td>0.000000</td>\n",
       "      <td>0.000000</td>\n",
       "      <td>0.000000</td>\n",
       "      <td>0.062640</td>\n",
       "    </tr>\n",
       "    <tr>\n",
       "      <th>fútbol</th>\n",
       "      <td>0.077041</td>\n",
       "      <td>0.048996</td>\n",
       "      <td>0.000000</td>\n",
       "      <td>0.045371</td>\n",
       "      <td>0.000000</td>\n",
       "      <td>0.194538</td>\n",
       "      <td>0.000000</td>\n",
       "      <td>0.000000</td>\n",
       "      <td>0.000000</td>\n",
       "      <td>0.000000</td>\n",
       "      <td>...</td>\n",
       "      <td>0.044675</td>\n",
       "      <td>0.052897</td>\n",
       "      <td>0.000000</td>\n",
       "      <td>0.000000</td>\n",
       "      <td>0.023829</td>\n",
       "      <td>0.000000</td>\n",
       "      <td>0.000000</td>\n",
       "      <td>0.000000</td>\n",
       "      <td>0.063146</td>\n",
       "      <td>0.000000</td>\n",
       "    </tr>\n",
       "    <tr>\n",
       "      <th>gol</th>\n",
       "      <td>0.000000</td>\n",
       "      <td>0.000000</td>\n",
       "      <td>0.000000</td>\n",
       "      <td>0.051319</td>\n",
       "      <td>0.000000</td>\n",
       "      <td>0.077096</td>\n",
       "      <td>0.011221</td>\n",
       "      <td>0.000000</td>\n",
       "      <td>0.031651</td>\n",
       "      <td>0.000000</td>\n",
       "      <td>...</td>\n",
       "      <td>0.000000</td>\n",
       "      <td>0.078064</td>\n",
       "      <td>0.030424</td>\n",
       "      <td>0.037684</td>\n",
       "      <td>0.038333</td>\n",
       "      <td>0.000000</td>\n",
       "      <td>0.000000</td>\n",
       "      <td>0.000000</td>\n",
       "      <td>0.000000</td>\n",
       "      <td>0.163519</td>\n",
       "    </tr>\n",
       "    <tr>\n",
       "      <th>gran</th>\n",
       "      <td>0.063249</td>\n",
       "      <td>0.000000</td>\n",
       "      <td>0.000000</td>\n",
       "      <td>0.000000</td>\n",
       "      <td>0.000000</td>\n",
       "      <td>0.015656</td>\n",
       "      <td>0.000000</td>\n",
       "      <td>0.000000</td>\n",
       "      <td>0.000000</td>\n",
       "      <td>0.000000</td>\n",
       "      <td>...</td>\n",
       "      <td>0.000000</td>\n",
       "      <td>0.000000</td>\n",
       "      <td>0.040731</td>\n",
       "      <td>0.000000</td>\n",
       "      <td>0.000000</td>\n",
       "      <td>0.051737</td>\n",
       "      <td>0.096651</td>\n",
       "      <td>0.000000</td>\n",
       "      <td>0.036792</td>\n",
       "      <td>0.000000</td>\n",
       "    </tr>\n",
       "    <tr>\n",
       "      <th>hace</th>\n",
       "      <td>0.000000</td>\n",
       "      <td>0.161631</td>\n",
       "      <td>0.000000</td>\n",
       "      <td>0.000000</td>\n",
       "      <td>0.000000</td>\n",
       "      <td>0.071189</td>\n",
       "      <td>0.101653</td>\n",
       "      <td>0.028114</td>\n",
       "      <td>0.000000</td>\n",
       "      <td>0.000000</td>\n",
       "      <td>...</td>\n",
       "      <td>0.046042</td>\n",
       "      <td>0.029194</td>\n",
       "      <td>0.089379</td>\n",
       "      <td>0.078783</td>\n",
       "      <td>0.000000</td>\n",
       "      <td>0.000000</td>\n",
       "      <td>0.000000</td>\n",
       "      <td>0.000000</td>\n",
       "      <td>0.021721</td>\n",
       "      <td>0.027813</td>\n",
       "    </tr>\n",
       "    <tr>\n",
       "      <th>hoy</th>\n",
       "      <td>0.000000</td>\n",
       "      <td>0.000000</td>\n",
       "      <td>0.000000</td>\n",
       "      <td>0.000000</td>\n",
       "      <td>0.015191</td>\n",
       "      <td>0.315866</td>\n",
       "      <td>0.000000</td>\n",
       "      <td>0.000000</td>\n",
       "      <td>0.000000</td>\n",
       "      <td>0.000000</td>\n",
       "      <td>...</td>\n",
       "      <td>0.000000</td>\n",
       "      <td>0.000000</td>\n",
       "      <td>0.154661</td>\n",
       "      <td>0.036528</td>\n",
       "      <td>0.036223</td>\n",
       "      <td>0.062944</td>\n",
       "      <td>0.102255</td>\n",
       "      <td>0.025597</td>\n",
       "      <td>0.000000</td>\n",
       "      <td>0.000000</td>\n",
       "    </tr>\n",
       "    <tr>\n",
       "      <th>hoy juega</th>\n",
       "      <td>0.000000</td>\n",
       "      <td>0.000000</td>\n",
       "      <td>0.000000</td>\n",
       "      <td>0.000000</td>\n",
       "      <td>0.028732</td>\n",
       "      <td>0.137650</td>\n",
       "      <td>0.000000</td>\n",
       "      <td>0.000000</td>\n",
       "      <td>0.000000</td>\n",
       "      <td>0.000000</td>\n",
       "      <td>...</td>\n",
       "      <td>0.000000</td>\n",
       "      <td>0.000000</td>\n",
       "      <td>0.292532</td>\n",
       "      <td>0.000000</td>\n",
       "      <td>0.000000</td>\n",
       "      <td>0.000000</td>\n",
       "      <td>0.000000</td>\n",
       "      <td>0.000000</td>\n",
       "      <td>0.000000</td>\n",
       "      <td>0.000000</td>\n",
       "    </tr>\n",
       "    <tr>\n",
       "      <th>juega</th>\n",
       "      <td>0.000000</td>\n",
       "      <td>0.000000</td>\n",
       "      <td>0.020516</td>\n",
       "      <td>0.207675</td>\n",
       "      <td>0.014544</td>\n",
       "      <td>0.082774</td>\n",
       "      <td>0.076201</td>\n",
       "      <td>0.059256</td>\n",
       "      <td>0.090480</td>\n",
       "      <td>0.025526</td>\n",
       "      <td>...</td>\n",
       "      <td>0.012057</td>\n",
       "      <td>0.000000</td>\n",
       "      <td>0.190682</td>\n",
       "      <td>0.000000</td>\n",
       "      <td>0.000000</td>\n",
       "      <td>0.000000</td>\n",
       "      <td>0.000000</td>\n",
       "      <td>0.000000</td>\n",
       "      <td>0.015862</td>\n",
       "      <td>0.049712</td>\n",
       "    </tr>\n",
       "    <tr>\n",
       "      <th>juega selección</th>\n",
       "      <td>0.000000</td>\n",
       "      <td>0.000000</td>\n",
       "      <td>0.026810</td>\n",
       "      <td>0.000000</td>\n",
       "      <td>0.019006</td>\n",
       "      <td>0.099107</td>\n",
       "      <td>0.007937</td>\n",
       "      <td>0.000000</td>\n",
       "      <td>0.022387</td>\n",
       "      <td>0.000000</td>\n",
       "      <td>...</td>\n",
       "      <td>0.015756</td>\n",
       "      <td>0.000000</td>\n",
       "      <td>0.229966</td>\n",
       "      <td>0.000000</td>\n",
       "      <td>0.000000</td>\n",
       "      <td>0.000000</td>\n",
       "      <td>0.000000</td>\n",
       "      <td>0.000000</td>\n",
       "      <td>0.020729</td>\n",
       "      <td>0.026543</td>\n",
       "    </tr>\n",
       "    <tr>\n",
       "      <th>jugador</th>\n",
       "      <td>0.000000</td>\n",
       "      <td>0.000000</td>\n",
       "      <td>0.000000</td>\n",
       "      <td>0.000000</td>\n",
       "      <td>0.000000</td>\n",
       "      <td>0.063415</td>\n",
       "      <td>0.017080</td>\n",
       "      <td>0.037521</td>\n",
       "      <td>0.028310</td>\n",
       "      <td>0.000000</td>\n",
       "      <td>...</td>\n",
       "      <td>0.018585</td>\n",
       "      <td>0.000000</td>\n",
       "      <td>0.055895</td>\n",
       "      <td>0.046023</td>\n",
       "      <td>0.000000</td>\n",
       "      <td>0.000000</td>\n",
       "      <td>0.000000</td>\n",
       "      <td>0.000000</td>\n",
       "      <td>0.031966</td>\n",
       "      <td>0.000000</td>\n",
       "    </tr>\n",
       "    <tr>\n",
       "      <th>jugadores</th>\n",
       "      <td>0.000000</td>\n",
       "      <td>0.000000</td>\n",
       "      <td>0.000000</td>\n",
       "      <td>0.055864</td>\n",
       "      <td>0.000000</td>\n",
       "      <td>0.042331</td>\n",
       "      <td>0.000000</td>\n",
       "      <td>0.000000</td>\n",
       "      <td>0.000000</td>\n",
       "      <td>0.000000</td>\n",
       "      <td>...</td>\n",
       "      <td>0.118541</td>\n",
       "      <td>0.000000</td>\n",
       "      <td>0.000000</td>\n",
       "      <td>0.000000</td>\n",
       "      <td>0.030221</td>\n",
       "      <td>0.088280</td>\n",
       "      <td>0.000000</td>\n",
       "      <td>0.000000</td>\n",
       "      <td>0.000000</td>\n",
       "      <td>0.000000</td>\n",
       "    </tr>\n",
       "    <tr>\n",
       "      <th>jugando</th>\n",
       "      <td>0.000000</td>\n",
       "      <td>0.048870</td>\n",
       "      <td>0.000000</td>\n",
       "      <td>0.000000</td>\n",
       "      <td>0.000000</td>\n",
       "      <td>0.023289</td>\n",
       "      <td>0.000000</td>\n",
       "      <td>0.000000</td>\n",
       "      <td>0.000000</td>\n",
       "      <td>0.000000</td>\n",
       "      <td>...</td>\n",
       "      <td>0.020960</td>\n",
       "      <td>0.051043</td>\n",
       "      <td>0.000000</td>\n",
       "      <td>0.165963</td>\n",
       "      <td>0.000000</td>\n",
       "      <td>0.000000</td>\n",
       "      <td>0.000000</td>\n",
       "      <td>0.000000</td>\n",
       "      <td>0.000000</td>\n",
       "      <td>0.000000</td>\n",
       "    </tr>\n",
       "    <tr>\n",
       "      <th>jugar</th>\n",
       "      <td>0.094516</td>\n",
       "      <td>0.000000</td>\n",
       "      <td>0.214572</td>\n",
       "      <td>0.055188</td>\n",
       "      <td>0.000000</td>\n",
       "      <td>0.049233</td>\n",
       "      <td>0.013357</td>\n",
       "      <td>0.000000</td>\n",
       "      <td>0.000000</td>\n",
       "      <td>0.000000</td>\n",
       "      <td>...</td>\n",
       "      <td>0.000000</td>\n",
       "      <td>0.000000</td>\n",
       "      <td>0.000000</td>\n",
       "      <td>0.000000</td>\n",
       "      <td>0.014492</td>\n",
       "      <td>0.000000</td>\n",
       "      <td>0.000000</td>\n",
       "      <td>0.000000</td>\n",
       "      <td>0.242613</td>\n",
       "      <td>0.061826</td>\n",
       "    </tr>\n",
       "    <tr>\n",
       "      <th>lateral</th>\n",
       "      <td>0.091173</td>\n",
       "      <td>0.000000</td>\n",
       "      <td>0.000000</td>\n",
       "      <td>0.045037</td>\n",
       "      <td>0.000000</td>\n",
       "      <td>0.007499</td>\n",
       "      <td>0.294079</td>\n",
       "      <td>0.029147</td>\n",
       "      <td>0.174002</td>\n",
       "      <td>0.000000</td>\n",
       "      <td>...</td>\n",
       "      <td>0.035222</td>\n",
       "      <td>0.000000</td>\n",
       "      <td>0.000000</td>\n",
       "      <td>0.000000</td>\n",
       "      <td>0.000000</td>\n",
       "      <td>0.050061</td>\n",
       "      <td>0.042913</td>\n",
       "      <td>0.056045</td>\n",
       "      <td>0.000000</td>\n",
       "      <td>0.000000</td>\n",
       "    </tr>\n",
       "    <tr>\n",
       "      <th>liga</th>\n",
       "      <td>0.000000</td>\n",
       "      <td>0.194904</td>\n",
       "      <td>0.053505</td>\n",
       "      <td>0.000000</td>\n",
       "      <td>0.000000</td>\n",
       "      <td>0.066738</td>\n",
       "      <td>0.000000</td>\n",
       "      <td>0.000000</td>\n",
       "      <td>0.000000</td>\n",
       "      <td>0.000000</td>\n",
       "      <td>...</td>\n",
       "      <td>0.000000</td>\n",
       "      <td>0.000000</td>\n",
       "      <td>0.000000</td>\n",
       "      <td>0.000000</td>\n",
       "      <td>0.000000</td>\n",
       "      <td>0.000000</td>\n",
       "      <td>0.000000</td>\n",
       "      <td>0.000000</td>\n",
       "      <td>0.000000</td>\n",
       "      <td>0.000000</td>\n",
       "    </tr>\n",
       "    <tr>\n",
       "      <th>luis</th>\n",
       "      <td>0.000000</td>\n",
       "      <td>0.000000</td>\n",
       "      <td>0.000000</td>\n",
       "      <td>0.000000</td>\n",
       "      <td>0.000000</td>\n",
       "      <td>0.095341</td>\n",
       "      <td>0.000000</td>\n",
       "      <td>0.000000</td>\n",
       "      <td>0.033939</td>\n",
       "      <td>0.480422</td>\n",
       "      <td>...</td>\n",
       "      <td>0.022281</td>\n",
       "      <td>0.000000</td>\n",
       "      <td>0.000000</td>\n",
       "      <td>0.000000</td>\n",
       "      <td>0.018910</td>\n",
       "      <td>0.000000</td>\n",
       "      <td>0.000000</td>\n",
       "      <td>0.000000</td>\n",
       "      <td>0.000000</td>\n",
       "      <td>0.091748</td>\n",
       "    </tr>\n",
       "    <tr>\n",
       "      <th>luis díaz</th>\n",
       "      <td>0.000000</td>\n",
       "      <td>0.000000</td>\n",
       "      <td>0.000000</td>\n",
       "      <td>0.000000</td>\n",
       "      <td>0.000000</td>\n",
       "      <td>0.133489</td>\n",
       "      <td>0.000000</td>\n",
       "      <td>0.000000</td>\n",
       "      <td>0.000000</td>\n",
       "      <td>0.672651</td>\n",
       "      <td>...</td>\n",
       "      <td>0.000000</td>\n",
       "      <td>0.000000</td>\n",
       "      <td>0.000000</td>\n",
       "      <td>0.000000</td>\n",
       "      <td>0.026476</td>\n",
       "      <td>0.000000</td>\n",
       "      <td>0.000000</td>\n",
       "      <td>0.000000</td>\n",
       "      <td>0.000000</td>\n",
       "      <td>0.128459</td>\n",
       "    </tr>\n",
       "    <tr>\n",
       "      <th>mal</th>\n",
       "      <td>0.000000</td>\n",
       "      <td>0.000000</td>\n",
       "      <td>0.000000</td>\n",
       "      <td>0.038846</td>\n",
       "      <td>0.000000</td>\n",
       "      <td>0.000000</td>\n",
       "      <td>0.013674</td>\n",
       "      <td>0.000000</td>\n",
       "      <td>0.038569</td>\n",
       "      <td>0.000000</td>\n",
       "      <td>...</td>\n",
       "      <td>0.027145</td>\n",
       "      <td>0.000000</td>\n",
       "      <td>0.000000</td>\n",
       "      <td>0.214935</td>\n",
       "      <td>0.000000</td>\n",
       "      <td>0.137274</td>\n",
       "      <td>0.000000</td>\n",
       "      <td>0.000000</td>\n",
       "      <td>0.103445</td>\n",
       "      <td>0.000000</td>\n",
       "    </tr>\n",
       "    <tr>\n",
       "      <th>mejor</th>\n",
       "      <td>0.000000</td>\n",
       "      <td>0.000000</td>\n",
       "      <td>0.000000</td>\n",
       "      <td>0.000000</td>\n",
       "      <td>0.056423</td>\n",
       "      <td>0.052036</td>\n",
       "      <td>0.194800</td>\n",
       "      <td>0.000000</td>\n",
       "      <td>0.000000</td>\n",
       "      <td>0.113326</td>\n",
       "      <td>...</td>\n",
       "      <td>0.000000</td>\n",
       "      <td>0.000000</td>\n",
       "      <td>0.089470</td>\n",
       "      <td>0.000000</td>\n",
       "      <td>0.000000</td>\n",
       "      <td>0.000000</td>\n",
       "      <td>0.000000</td>\n",
       "      <td>0.000000</td>\n",
       "      <td>0.000000</td>\n",
       "      <td>0.000000</td>\n",
       "    </tr>\n",
       "    <tr>\n",
       "      <th>mina</th>\n",
       "      <td>0.000000</td>\n",
       "      <td>0.082771</td>\n",
       "      <td>0.000000</td>\n",
       "      <td>0.025767</td>\n",
       "      <td>0.000000</td>\n",
       "      <td>0.044101</td>\n",
       "      <td>0.000000</td>\n",
       "      <td>0.000000</td>\n",
       "      <td>0.000000</td>\n",
       "      <td>0.000000</td>\n",
       "      <td>...</td>\n",
       "      <td>0.103730</td>\n",
       "      <td>0.073398</td>\n",
       "      <td>0.000000</td>\n",
       "      <td>0.043459</td>\n",
       "      <td>0.029159</td>\n",
       "      <td>0.091055</td>\n",
       "      <td>0.000000</td>\n",
       "      <td>0.000000</td>\n",
       "      <td>0.000000</td>\n",
       "      <td>0.000000</td>\n",
       "    </tr>\n",
       "    <tr>\n",
       "      <th>partido</th>\n",
       "      <td>0.088671</td>\n",
       "      <td>0.076257</td>\n",
       "      <td>0.102675</td>\n",
       "      <td>0.053430</td>\n",
       "      <td>0.000000</td>\n",
       "      <td>0.191650</td>\n",
       "      <td>0.044292</td>\n",
       "      <td>0.012443</td>\n",
       "      <td>0.000000</td>\n",
       "      <td>0.000000</td>\n",
       "      <td>...</td>\n",
       "      <td>0.029592</td>\n",
       "      <td>0.134392</td>\n",
       "      <td>0.000000</td>\n",
       "      <td>0.030995</td>\n",
       "      <td>0.054638</td>\n",
       "      <td>0.000000</td>\n",
       "      <td>0.000000</td>\n",
       "      <td>0.000000</td>\n",
       "      <td>0.030198</td>\n",
       "      <td>0.088505</td>\n",
       "    </tr>\n",
       "    <tr>\n",
       "      <th>partido selección</th>\n",
       "      <td>0.092686</td>\n",
       "      <td>0.123971</td>\n",
       "      <td>0.071629</td>\n",
       "      <td>0.000000</td>\n",
       "      <td>0.000000</td>\n",
       "      <td>0.147048</td>\n",
       "      <td>0.030007</td>\n",
       "      <td>0.000000</td>\n",
       "      <td>0.000000</td>\n",
       "      <td>0.000000</td>\n",
       "      <td>...</td>\n",
       "      <td>0.000000</td>\n",
       "      <td>0.000000</td>\n",
       "      <td>0.000000</td>\n",
       "      <td>0.025194</td>\n",
       "      <td>0.000000</td>\n",
       "      <td>0.000000</td>\n",
       "      <td>0.000000</td>\n",
       "      <td>0.000000</td>\n",
       "      <td>0.049093</td>\n",
       "      <td>0.143881</td>\n",
       "    </tr>\n",
       "    <tr>\n",
       "      <th>partidos</th>\n",
       "      <td>0.000000</td>\n",
       "      <td>0.000000</td>\n",
       "      <td>0.000000</td>\n",
       "      <td>0.000000</td>\n",
       "      <td>0.022472</td>\n",
       "      <td>0.044429</td>\n",
       "      <td>0.067706</td>\n",
       "      <td>0.000000</td>\n",
       "      <td>0.000000</td>\n",
       "      <td>0.000000</td>\n",
       "      <td>...</td>\n",
       "      <td>0.000000</td>\n",
       "      <td>0.000000</td>\n",
       "      <td>0.062178</td>\n",
       "      <td>0.000000</td>\n",
       "      <td>0.109736</td>\n",
       "      <td>0.000000</td>\n",
       "      <td>0.000000</td>\n",
       "      <td>0.000000</td>\n",
       "      <td>0.038014</td>\n",
       "      <td>0.000000</td>\n",
       "    </tr>\n",
       "    <tr>\n",
       "      <th>partidos selección</th>\n",
       "      <td>0.000000</td>\n",
       "      <td>0.000000</td>\n",
       "      <td>0.000000</td>\n",
       "      <td>0.000000</td>\n",
       "      <td>0.035247</td>\n",
       "      <td>0.069687</td>\n",
       "      <td>0.000000</td>\n",
       "      <td>0.000000</td>\n",
       "      <td>0.000000</td>\n",
       "      <td>0.000000</td>\n",
       "      <td>...</td>\n",
       "      <td>0.000000</td>\n",
       "      <td>0.000000</td>\n",
       "      <td>0.013894</td>\n",
       "      <td>0.000000</td>\n",
       "      <td>0.126501</td>\n",
       "      <td>0.000000</td>\n",
       "      <td>0.000000</td>\n",
       "      <td>0.000000</td>\n",
       "      <td>0.059625</td>\n",
       "      <td>0.000000</td>\n",
       "    </tr>\n",
       "    <tr>\n",
       "      <th>país</th>\n",
       "      <td>0.000000</td>\n",
       "      <td>0.000000</td>\n",
       "      <td>0.050157</td>\n",
       "      <td>0.087227</td>\n",
       "      <td>0.000000</td>\n",
       "      <td>0.071768</td>\n",
       "      <td>0.012892</td>\n",
       "      <td>0.000000</td>\n",
       "      <td>0.036362</td>\n",
       "      <td>0.000000</td>\n",
       "      <td>...</td>\n",
       "      <td>0.000000</td>\n",
       "      <td>0.000000</td>\n",
       "      <td>0.000000</td>\n",
       "      <td>0.000000</td>\n",
       "      <td>0.000000</td>\n",
       "      <td>0.000000</td>\n",
       "      <td>0.000000</td>\n",
       "      <td>0.000000</td>\n",
       "      <td>0.000000</td>\n",
       "      <td>0.000000</td>\n",
       "    </tr>\n",
       "    <tr>\n",
       "      <th>queiroz</th>\n",
       "      <td>0.000000</td>\n",
       "      <td>0.000000</td>\n",
       "      <td>0.000000</td>\n",
       "      <td>0.043112</td>\n",
       "      <td>0.000000</td>\n",
       "      <td>0.066041</td>\n",
       "      <td>0.089753</td>\n",
       "      <td>0.000000</td>\n",
       "      <td>0.182273</td>\n",
       "      <td>0.050714</td>\n",
       "      <td>...</td>\n",
       "      <td>0.058887</td>\n",
       "      <td>0.000000</td>\n",
       "      <td>0.000000</td>\n",
       "      <td>0.000000</td>\n",
       "      <td>0.011321</td>\n",
       "      <td>0.000000</td>\n",
       "      <td>0.000000</td>\n",
       "      <td>0.000000</td>\n",
       "      <td>0.000000</td>\n",
       "      <td>0.058413</td>\n",
       "    </tr>\n",
       "    <tr>\n",
       "      <th>seleccion</th>\n",
       "      <td>0.000000</td>\n",
       "      <td>0.000000</td>\n",
       "      <td>0.000000</td>\n",
       "      <td>0.069487</td>\n",
       "      <td>0.048163</td>\n",
       "      <td>0.014021</td>\n",
       "      <td>0.038422</td>\n",
       "      <td>0.000000</td>\n",
       "      <td>0.108376</td>\n",
       "      <td>0.000000</td>\n",
       "      <td>...</td>\n",
       "      <td>0.000000</td>\n",
       "      <td>0.000000</td>\n",
       "      <td>0.024331</td>\n",
       "      <td>0.089512</td>\n",
       "      <td>0.000000</td>\n",
       "      <td>0.037083</td>\n",
       "      <td>0.168318</td>\n",
       "      <td>0.000000</td>\n",
       "      <td>0.026371</td>\n",
       "      <td>0.070332</td>\n",
       "    </tr>\n",
       "    <tr>\n",
       "      <th>selección</th>\n",
       "      <td>0.058336</td>\n",
       "      <td>0.070217</td>\n",
       "      <td>0.061400</td>\n",
       "      <td>0.047366</td>\n",
       "      <td>0.069488</td>\n",
       "      <td>0.230567</td>\n",
       "      <td>0.127733</td>\n",
       "      <td>0.066403</td>\n",
       "      <td>0.030686</td>\n",
       "      <td>0.054838</td>\n",
       "      <td>...</td>\n",
       "      <td>0.069811</td>\n",
       "      <td>0.065591</td>\n",
       "      <td>0.088270</td>\n",
       "      <td>0.072687</td>\n",
       "      <td>0.091423</td>\n",
       "      <td>0.044115</td>\n",
       "      <td>0.067543</td>\n",
       "      <td>0.060948</td>\n",
       "      <td>0.075951</td>\n",
       "      <td>0.043091</td>\n",
       "    </tr>\n",
       "    <tr>\n",
       "      <th>selección colombia</th>\n",
       "      <td>0.086803</td>\n",
       "      <td>0.073775</td>\n",
       "      <td>0.070355</td>\n",
       "      <td>0.028492</td>\n",
       "      <td>0.023351</td>\n",
       "      <td>0.922347</td>\n",
       "      <td>0.003010</td>\n",
       "      <td>0.006612</td>\n",
       "      <td>0.000000</td>\n",
       "      <td>0.087251</td>\n",
       "      <td>...</td>\n",
       "      <td>0.000000</td>\n",
       "      <td>0.057062</td>\n",
       "      <td>0.160439</td>\n",
       "      <td>0.116910</td>\n",
       "      <td>0.181391</td>\n",
       "      <td>0.068886</td>\n",
       "      <td>0.067609</td>\n",
       "      <td>0.056033</td>\n",
       "      <td>0.042550</td>\n",
       "      <td>0.033190</td>\n",
       "    </tr>\n",
       "    <tr>\n",
       "      <th>ser</th>\n",
       "      <td>0.000000</td>\n",
       "      <td>0.037264</td>\n",
       "      <td>0.282309</td>\n",
       "      <td>0.029933</td>\n",
       "      <td>0.000000</td>\n",
       "      <td>0.010371</td>\n",
       "      <td>0.012642</td>\n",
       "      <td>0.000000</td>\n",
       "      <td>0.170815</td>\n",
       "      <td>0.000000</td>\n",
       "      <td>...</td>\n",
       "      <td>1.000000</td>\n",
       "      <td>0.000000</td>\n",
       "      <td>0.000000</td>\n",
       "      <td>0.082632</td>\n",
       "      <td>0.000000</td>\n",
       "      <td>0.033272</td>\n",
       "      <td>0.000000</td>\n",
       "      <td>0.000000</td>\n",
       "      <td>0.081573</td>\n",
       "      <td>0.000000</td>\n",
       "    </tr>\n",
       "    <tr>\n",
       "      <th>si</th>\n",
       "      <td>0.089805</td>\n",
       "      <td>0.084990</td>\n",
       "      <td>0.000000</td>\n",
       "      <td>0.085183</td>\n",
       "      <td>0.000000</td>\n",
       "      <td>0.051032</td>\n",
       "      <td>0.039330</td>\n",
       "      <td>0.086400</td>\n",
       "      <td>0.000000</td>\n",
       "      <td>0.000000</td>\n",
       "      <td>...</td>\n",
       "      <td>0.000000</td>\n",
       "      <td>1.000000</td>\n",
       "      <td>0.000000</td>\n",
       "      <td>0.065106</td>\n",
       "      <td>0.112276</td>\n",
       "      <td>0.090380</td>\n",
       "      <td>0.000000</td>\n",
       "      <td>0.000000</td>\n",
       "      <td>0.133140</td>\n",
       "      <td>0.172438</td>\n",
       "    </tr>\n",
       "    <tr>\n",
       "      <th>siempre</th>\n",
       "      <td>0.000000</td>\n",
       "      <td>0.000000</td>\n",
       "      <td>0.000000</td>\n",
       "      <td>0.029649</td>\n",
       "      <td>0.018955</td>\n",
       "      <td>0.143485</td>\n",
       "      <td>0.012522</td>\n",
       "      <td>0.027508</td>\n",
       "      <td>0.000000</td>\n",
       "      <td>0.000000</td>\n",
       "      <td>...</td>\n",
       "      <td>0.000000</td>\n",
       "      <td>0.000000</td>\n",
       "      <td>1.000000</td>\n",
       "      <td>0.026583</td>\n",
       "      <td>0.000000</td>\n",
       "      <td>0.000000</td>\n",
       "      <td>0.000000</td>\n",
       "      <td>0.000000</td>\n",
       "      <td>0.109988</td>\n",
       "      <td>0.000000</td>\n",
       "    </tr>\n",
       "    <tr>\n",
       "      <th>tan</th>\n",
       "      <td>0.000000</td>\n",
       "      <td>0.000000</td>\n",
       "      <td>0.000000</td>\n",
       "      <td>0.000000</td>\n",
       "      <td>0.057562</td>\n",
       "      <td>0.104556</td>\n",
       "      <td>0.000000</td>\n",
       "      <td>0.000000</td>\n",
       "      <td>0.000000</td>\n",
       "      <td>0.000000</td>\n",
       "      <td>...</td>\n",
       "      <td>0.082632</td>\n",
       "      <td>0.065106</td>\n",
       "      <td>0.026583</td>\n",
       "      <td>1.000000</td>\n",
       "      <td>0.022479</td>\n",
       "      <td>0.047574</td>\n",
       "      <td>0.000000</td>\n",
       "      <td>0.000000</td>\n",
       "      <td>0.083517</td>\n",
       "      <td>0.000000</td>\n",
       "    </tr>\n",
       "    <tr>\n",
       "      <th>uruguay</th>\n",
       "      <td>0.039352</td>\n",
       "      <td>0.000000</td>\n",
       "      <td>0.067344</td>\n",
       "      <td>0.079036</td>\n",
       "      <td>0.000000</td>\n",
       "      <td>0.263753</td>\n",
       "      <td>0.008014</td>\n",
       "      <td>0.000000</td>\n",
       "      <td>0.000000</td>\n",
       "      <td>0.017809</td>\n",
       "      <td>...</td>\n",
       "      <td>0.000000</td>\n",
       "      <td>0.112276</td>\n",
       "      <td>0.000000</td>\n",
       "      <td>0.022479</td>\n",
       "      <td>1.000000</td>\n",
       "      <td>0.065825</td>\n",
       "      <td>0.000000</td>\n",
       "      <td>0.000000</td>\n",
       "      <td>0.000000</td>\n",
       "      <td>0.020513</td>\n",
       "    </tr>\n",
       "    <tr>\n",
       "      <th>va</th>\n",
       "      <td>0.000000</td>\n",
       "      <td>0.000000</td>\n",
       "      <td>0.000000</td>\n",
       "      <td>0.042543</td>\n",
       "      <td>0.000000</td>\n",
       "      <td>0.105168</td>\n",
       "      <td>0.017968</td>\n",
       "      <td>0.000000</td>\n",
       "      <td>0.000000</td>\n",
       "      <td>0.160357</td>\n",
       "      <td>...</td>\n",
       "      <td>0.033272</td>\n",
       "      <td>0.090380</td>\n",
       "      <td>0.000000</td>\n",
       "      <td>0.047574</td>\n",
       "      <td>0.065825</td>\n",
       "      <td>1.000000</td>\n",
       "      <td>0.042052</td>\n",
       "      <td>0.054920</td>\n",
       "      <td>0.039995</td>\n",
       "      <td>0.000000</td>\n",
       "    </tr>\n",
       "    <tr>\n",
       "      <th>vamos</th>\n",
       "      <td>0.000000</td>\n",
       "      <td>0.000000</td>\n",
       "      <td>0.000000</td>\n",
       "      <td>0.000000</td>\n",
       "      <td>0.000000</td>\n",
       "      <td>0.060465</td>\n",
       "      <td>0.015403</td>\n",
       "      <td>0.000000</td>\n",
       "      <td>0.000000</td>\n",
       "      <td>0.000000</td>\n",
       "      <td>...</td>\n",
       "      <td>0.000000</td>\n",
       "      <td>0.000000</td>\n",
       "      <td>0.000000</td>\n",
       "      <td>0.000000</td>\n",
       "      <td>0.000000</td>\n",
       "      <td>0.042052</td>\n",
       "      <td>1.000000</td>\n",
       "      <td>0.765695</td>\n",
       "      <td>0.000000</td>\n",
       "      <td>0.000000</td>\n",
       "    </tr>\n",
       "    <tr>\n",
       "      <th>vamos selección</th>\n",
       "      <td>0.000000</td>\n",
       "      <td>0.000000</td>\n",
       "      <td>0.000000</td>\n",
       "      <td>0.000000</td>\n",
       "      <td>0.000000</td>\n",
       "      <td>0.050112</td>\n",
       "      <td>0.020116</td>\n",
       "      <td>0.000000</td>\n",
       "      <td>0.000000</td>\n",
       "      <td>0.000000</td>\n",
       "      <td>...</td>\n",
       "      <td>0.000000</td>\n",
       "      <td>0.000000</td>\n",
       "      <td>0.000000</td>\n",
       "      <td>0.000000</td>\n",
       "      <td>0.000000</td>\n",
       "      <td>0.054920</td>\n",
       "      <td>0.765695</td>\n",
       "      <td>1.000000</td>\n",
       "      <td>0.000000</td>\n",
       "      <td>0.000000</td>\n",
       "    </tr>\n",
       "    <tr>\n",
       "      <th>ver</th>\n",
       "      <td>0.152552</td>\n",
       "      <td>0.000000</td>\n",
       "      <td>0.032694</td>\n",
       "      <td>0.000000</td>\n",
       "      <td>0.000000</td>\n",
       "      <td>0.038053</td>\n",
       "      <td>0.058220</td>\n",
       "      <td>0.127898</td>\n",
       "      <td>0.000000</td>\n",
       "      <td>0.000000</td>\n",
       "      <td>...</td>\n",
       "      <td>0.081573</td>\n",
       "      <td>0.133140</td>\n",
       "      <td>0.109988</td>\n",
       "      <td>0.083517</td>\n",
       "      <td>0.000000</td>\n",
       "      <td>0.039995</td>\n",
       "      <td>0.000000</td>\n",
       "      <td>0.000000</td>\n",
       "      <td>1.000000</td>\n",
       "      <td>0.071106</td>\n",
       "    </tr>\n",
       "    <tr>\n",
       "      <th>vez</th>\n",
       "      <td>0.000000</td>\n",
       "      <td>0.000000</td>\n",
       "      <td>0.041864</td>\n",
       "      <td>0.113359</td>\n",
       "      <td>0.000000</td>\n",
       "      <td>0.061231</td>\n",
       "      <td>0.037191</td>\n",
       "      <td>0.000000</td>\n",
       "      <td>0.000000</td>\n",
       "      <td>0.086408</td>\n",
       "      <td>...</td>\n",
       "      <td>0.000000</td>\n",
       "      <td>0.172438</td>\n",
       "      <td>0.000000</td>\n",
       "      <td>0.000000</td>\n",
       "      <td>0.020513</td>\n",
       "      <td>0.000000</td>\n",
       "      <td>0.000000</td>\n",
       "      <td>0.000000</td>\n",
       "      <td>0.071106</td>\n",
       "      <td>1.000000</td>\n",
       "    </tr>\n",
       "  </tbody>\n",
       "</table>\n",
       "<p>50 rows × 50 columns</p>\n",
       "</div>"
      ],
      "text/plain": [
       "                         así      años  barranquilla      bien  camiseta  \\\n",
       "así                 1.000000  0.000000      0.064430  0.000000  0.000000   \n",
       "años                0.000000  1.000000      0.000000  0.000000  0.000000   \n",
       "barranquilla        0.064430  0.000000      1.000000  0.000000  0.000000   \n",
       "bien                0.000000  0.000000      0.000000  1.000000  0.000000   \n",
       "camiseta            0.000000  0.000000      0.000000  0.000000  1.000000   \n",
       "colombia            0.077631  0.077353      0.074826  0.036014  0.061473   \n",
       "cuadrado            0.049868  0.000000      0.000000  0.070110  0.000000   \n",
       "cuadrado selección  0.109550  0.000000      0.000000  0.042552  0.000000   \n",
       "debe                0.000000  0.000000      0.000000  0.000000  0.000000   \n",
       "díaz                0.000000  0.000000      0.000000  0.000000  0.000000   \n",
       "equipo              0.000000  0.000000      0.000000  0.000000  0.000000   \n",
       "falta               0.048596  0.127455      0.000000  0.000000  0.000000   \n",
       "fútbol              0.077041  0.048996      0.000000  0.045371  0.000000   \n",
       "gol                 0.000000  0.000000      0.000000  0.051319  0.000000   \n",
       "gran                0.063249  0.000000      0.000000  0.000000  0.000000   \n",
       "hace                0.000000  0.161631      0.000000  0.000000  0.000000   \n",
       "hoy                 0.000000  0.000000      0.000000  0.000000  0.015191   \n",
       "hoy juega           0.000000  0.000000      0.000000  0.000000  0.028732   \n",
       "juega               0.000000  0.000000      0.020516  0.207675  0.014544   \n",
       "juega selección     0.000000  0.000000      0.026810  0.000000  0.019006   \n",
       "jugador             0.000000  0.000000      0.000000  0.000000  0.000000   \n",
       "jugadores           0.000000  0.000000      0.000000  0.055864  0.000000   \n",
       "jugando             0.000000  0.048870      0.000000  0.000000  0.000000   \n",
       "jugar               0.094516  0.000000      0.214572  0.055188  0.000000   \n",
       "lateral             0.091173  0.000000      0.000000  0.045037  0.000000   \n",
       "liga                0.000000  0.194904      0.053505  0.000000  0.000000   \n",
       "luis                0.000000  0.000000      0.000000  0.000000  0.000000   \n",
       "luis díaz           0.000000  0.000000      0.000000  0.000000  0.000000   \n",
       "mal                 0.000000  0.000000      0.000000  0.038846  0.000000   \n",
       "mejor               0.000000  0.000000      0.000000  0.000000  0.056423   \n",
       "mina                0.000000  0.082771      0.000000  0.025767  0.000000   \n",
       "partido             0.088671  0.076257      0.102675  0.053430  0.000000   \n",
       "partido selección   0.092686  0.123971      0.071629  0.000000  0.000000   \n",
       "partidos            0.000000  0.000000      0.000000  0.000000  0.022472   \n",
       "partidos selección  0.000000  0.000000      0.000000  0.000000  0.035247   \n",
       "país                0.000000  0.000000      0.050157  0.087227  0.000000   \n",
       "queiroz             0.000000  0.000000      0.000000  0.043112  0.000000   \n",
       "seleccion           0.000000  0.000000      0.000000  0.069487  0.048163   \n",
       "selección           0.058336  0.070217      0.061400  0.047366  0.069488   \n",
       "selección colombia  0.086803  0.073775      0.070355  0.028492  0.023351   \n",
       "ser                 0.000000  0.037264      0.282309  0.029933  0.000000   \n",
       "si                  0.089805  0.084990      0.000000  0.085183  0.000000   \n",
       "siempre             0.000000  0.000000      0.000000  0.029649  0.018955   \n",
       "tan                 0.000000  0.000000      0.000000  0.000000  0.057562   \n",
       "uruguay             0.039352  0.000000      0.067344  0.079036  0.000000   \n",
       "va                  0.000000  0.000000      0.000000  0.042543  0.000000   \n",
       "vamos               0.000000  0.000000      0.000000  0.000000  0.000000   \n",
       "vamos selección     0.000000  0.000000      0.000000  0.000000  0.000000   \n",
       "ver                 0.152552  0.000000      0.032694  0.000000  0.000000   \n",
       "vez                 0.000000  0.000000      0.041864  0.113359  0.000000   \n",
       "\n",
       "                    colombia  cuadrado  cuadrado selección      debe  \\\n",
       "así                 0.077631  0.049868            0.109550  0.000000   \n",
       "años                0.077353  0.000000            0.000000  0.000000   \n",
       "barranquilla        0.074826  0.000000            0.000000  0.000000   \n",
       "bien                0.036014  0.070110            0.042552  0.000000   \n",
       "camiseta            0.061473  0.000000            0.000000  0.000000   \n",
       "colombia            1.000000  0.002692            0.005913  0.000000   \n",
       "cuadrado            0.002692  1.000000            0.518739  0.077041   \n",
       "cuadrado selección  0.005913  0.518739            1.000000  0.000000   \n",
       "debe                0.000000  0.077041            0.000000  1.000000   \n",
       "díaz                0.124230  0.000000            0.000000  0.000000   \n",
       "equipo              0.161848  0.000000            0.000000  0.032379   \n",
       "falta               0.078538  0.052276            0.000000  0.025874   \n",
       "fútbol              0.194538  0.000000            0.000000  0.000000   \n",
       "gol                 0.077096  0.011221            0.000000  0.031651   \n",
       "gran                0.015656  0.000000            0.000000  0.000000   \n",
       "hace                0.071189  0.101653            0.028114  0.000000   \n",
       "hoy                 0.315866  0.000000            0.000000  0.000000   \n",
       "hoy juega           0.137650  0.000000            0.000000  0.000000   \n",
       "juega               0.082774  0.076201            0.059256  0.090480   \n",
       "juega selección     0.099107  0.007937            0.000000  0.022387   \n",
       "jugador             0.063415  0.017080            0.037521  0.028310   \n",
       "jugadores           0.042331  0.000000            0.000000  0.000000   \n",
       "jugando             0.023289  0.000000            0.000000  0.000000   \n",
       "jugar               0.049233  0.013357            0.000000  0.000000   \n",
       "lateral             0.007499  0.294079            0.029147  0.174002   \n",
       "liga                0.066738  0.000000            0.000000  0.000000   \n",
       "luis                0.095341  0.000000            0.000000  0.033939   \n",
       "luis díaz           0.133489  0.000000            0.000000  0.000000   \n",
       "mal                 0.000000  0.013674            0.000000  0.038569   \n",
       "mejor               0.052036  0.194800            0.000000  0.000000   \n",
       "mina                0.044101  0.000000            0.000000  0.000000   \n",
       "partido             0.191650  0.044292            0.012443  0.000000   \n",
       "partido selección   0.147048  0.030007            0.000000  0.000000   \n",
       "partidos            0.044429  0.067706            0.000000  0.000000   \n",
       "partidos selección  0.069687  0.000000            0.000000  0.000000   \n",
       "país                0.071768  0.012892            0.000000  0.036362   \n",
       "queiroz             0.066041  0.089753            0.000000  0.182273   \n",
       "seleccion           0.014021  0.038422            0.000000  0.108376   \n",
       "selección           0.230567  0.127733            0.066403  0.030686   \n",
       "selección colombia  0.922347  0.003010            0.006612  0.000000   \n",
       "ser                 0.010371  0.012642            0.000000  0.170815   \n",
       "si                  0.051032  0.039330            0.086400  0.000000   \n",
       "siempre             0.143485  0.012522            0.027508  0.000000   \n",
       "tan                 0.104556  0.000000            0.000000  0.000000   \n",
       "uruguay             0.263753  0.008014            0.000000  0.000000   \n",
       "va                  0.105168  0.017968            0.000000  0.000000   \n",
       "vamos               0.060465  0.015403            0.000000  0.000000   \n",
       "vamos selección     0.050112  0.020116            0.000000  0.000000   \n",
       "ver                 0.038053  0.058220            0.127898  0.000000   \n",
       "vez                 0.061231  0.037191            0.000000  0.000000   \n",
       "\n",
       "                        díaz  ...       ser        si   siempre       tan  \\\n",
       "así                 0.000000  ...  0.000000  0.089805  0.000000  0.000000   \n",
       "años                0.000000  ...  0.037264  0.084990  0.000000  0.000000   \n",
       "barranquilla        0.000000  ...  0.282309  0.000000  0.000000  0.000000   \n",
       "bien                0.000000  ...  0.029933  0.085183  0.029649  0.000000   \n",
       "camiseta            0.000000  ...  0.000000  0.000000  0.018955  0.057562   \n",
       "colombia            0.124230  ...  0.010371  0.051032  0.143485  0.104556   \n",
       "cuadrado            0.000000  ...  0.012642  0.039330  0.012522  0.000000   \n",
       "cuadrado selección  0.000000  ...  0.000000  0.086400  0.027508  0.000000   \n",
       "debe                0.000000  ...  0.170815  0.000000  0.000000  0.000000   \n",
       "díaz                1.000000  ...  0.000000  0.000000  0.000000  0.000000   \n",
       "equipo              0.000000  ...  0.021257  0.117919  0.137568  0.000000   \n",
       "falta               0.000000  ...  0.016986  0.000000  0.042390  0.000000   \n",
       "fútbol              0.000000  ...  0.044675  0.052897  0.000000  0.000000   \n",
       "gol                 0.000000  ...  0.000000  0.078064  0.030424  0.037684   \n",
       "gran                0.000000  ...  0.000000  0.000000  0.040731  0.000000   \n",
       "hace                0.000000  ...  0.046042  0.029194  0.089379  0.078783   \n",
       "hoy                 0.000000  ...  0.000000  0.000000  0.154661  0.036528   \n",
       "hoy juega           0.000000  ...  0.000000  0.000000  0.292532  0.000000   \n",
       "juega               0.025526  ...  0.012057  0.000000  0.190682  0.000000   \n",
       "juega selección     0.000000  ...  0.015756  0.000000  0.229966  0.000000   \n",
       "jugador             0.000000  ...  0.018585  0.000000  0.055895  0.046023   \n",
       "jugadores           0.000000  ...  0.118541  0.000000  0.000000  0.000000   \n",
       "jugando             0.000000  ...  0.020960  0.051043  0.000000  0.165963   \n",
       "jugar               0.000000  ...  0.000000  0.000000  0.000000  0.000000   \n",
       "lateral             0.000000  ...  0.035222  0.000000  0.000000  0.000000   \n",
       "liga                0.000000  ...  0.000000  0.000000  0.000000  0.000000   \n",
       "luis                0.480422  ...  0.022281  0.000000  0.000000  0.000000   \n",
       "luis díaz           0.672651  ...  0.000000  0.000000  0.000000  0.000000   \n",
       "mal                 0.000000  ...  0.027145  0.000000  0.000000  0.214935   \n",
       "mejor               0.113326  ...  0.000000  0.000000  0.089470  0.000000   \n",
       "mina                0.000000  ...  0.103730  0.073398  0.000000  0.043459   \n",
       "partido             0.000000  ...  0.029592  0.134392  0.000000  0.030995   \n",
       "partido selección   0.000000  ...  0.000000  0.000000  0.000000  0.025194   \n",
       "partidos            0.000000  ...  0.000000  0.000000  0.062178  0.000000   \n",
       "partidos selección  0.000000  ...  0.000000  0.000000  0.013894  0.000000   \n",
       "país                0.000000  ...  0.000000  0.000000  0.000000  0.000000   \n",
       "queiroz             0.050714  ...  0.058887  0.000000  0.000000  0.000000   \n",
       "seleccion           0.000000  ...  0.000000  0.000000  0.024331  0.089512   \n",
       "selección           0.054838  ...  0.069811  0.065591  0.088270  0.072687   \n",
       "selección colombia  0.087251  ...  0.000000  0.057062  0.160439  0.116910   \n",
       "ser                 0.000000  ...  1.000000  0.000000  0.000000  0.082632   \n",
       "si                  0.000000  ...  0.000000  1.000000  0.000000  0.065106   \n",
       "siempre             0.000000  ...  0.000000  0.000000  1.000000  0.026583   \n",
       "tan                 0.000000  ...  0.082632  0.065106  0.026583  1.000000   \n",
       "uruguay             0.017809  ...  0.000000  0.112276  0.000000  0.022479   \n",
       "va                  0.160357  ...  0.033272  0.090380  0.000000  0.047574   \n",
       "vamos               0.000000  ...  0.000000  0.000000  0.000000  0.000000   \n",
       "vamos selección     0.000000  ...  0.000000  0.000000  0.000000  0.000000   \n",
       "ver                 0.000000  ...  0.081573  0.133140  0.109988  0.083517   \n",
       "vez                 0.086408  ...  0.000000  0.172438  0.000000  0.000000   \n",
       "\n",
       "                     uruguay        va     vamos  vamos selección       ver  \\\n",
       "así                 0.039352  0.000000  0.000000         0.000000  0.152552   \n",
       "años                0.000000  0.000000  0.000000         0.000000  0.000000   \n",
       "barranquilla        0.067344  0.000000  0.000000         0.000000  0.032694   \n",
       "bien                0.079036  0.042543  0.000000         0.000000  0.000000   \n",
       "camiseta            0.000000  0.000000  0.000000         0.000000  0.000000   \n",
       "colombia            0.263753  0.105168  0.060465         0.050112  0.038053   \n",
       "cuadrado            0.008014  0.017968  0.015403         0.020116  0.058220   \n",
       "cuadrado selección  0.000000  0.000000  0.000000         0.000000  0.127898   \n",
       "debe                0.000000  0.000000  0.000000         0.000000  0.000000   \n",
       "díaz                0.017809  0.160357  0.000000         0.000000  0.000000   \n",
       "equipo              0.116467  0.236325  0.000000         0.000000  0.000000   \n",
       "falta               0.000000  0.000000  0.000000         0.000000  0.000000   \n",
       "fútbol              0.023829  0.000000  0.000000         0.000000  0.063146   \n",
       "gol                 0.038333  0.000000  0.000000         0.000000  0.000000   \n",
       "gran                0.000000  0.051737  0.096651         0.000000  0.036792   \n",
       "hace                0.000000  0.000000  0.000000         0.000000  0.021721   \n",
       "hoy                 0.036223  0.062944  0.102255         0.025597  0.000000   \n",
       "hoy juega           0.000000  0.000000  0.000000         0.000000  0.000000   \n",
       "juega               0.000000  0.000000  0.000000         0.000000  0.015862   \n",
       "juega selección     0.000000  0.000000  0.000000         0.000000  0.020729   \n",
       "jugador             0.000000  0.000000  0.000000         0.000000  0.031966   \n",
       "jugadores           0.030221  0.088280  0.000000         0.000000  0.000000   \n",
       "jugando             0.000000  0.000000  0.000000         0.000000  0.000000   \n",
       "jugar               0.014492  0.000000  0.000000         0.000000  0.242613   \n",
       "lateral             0.000000  0.050061  0.042913         0.056045  0.000000   \n",
       "liga                0.000000  0.000000  0.000000         0.000000  0.000000   \n",
       "luis                0.018910  0.000000  0.000000         0.000000  0.000000   \n",
       "luis díaz           0.026476  0.000000  0.000000         0.000000  0.000000   \n",
       "mal                 0.000000  0.137274  0.000000         0.000000  0.103445   \n",
       "mejor               0.000000  0.000000  0.000000         0.000000  0.000000   \n",
       "mina                0.029159  0.091055  0.000000         0.000000  0.000000   \n",
       "partido             0.054638  0.000000  0.000000         0.000000  0.030198   \n",
       "partido selección   0.000000  0.000000  0.000000         0.000000  0.049093   \n",
       "partidos            0.109736  0.000000  0.000000         0.000000  0.038014   \n",
       "partidos selección  0.126501  0.000000  0.000000         0.000000  0.059625   \n",
       "país                0.000000  0.000000  0.000000         0.000000  0.000000   \n",
       "queiroz             0.011321  0.000000  0.000000         0.000000  0.000000   \n",
       "seleccion           0.000000  0.037083  0.168318         0.000000  0.026371   \n",
       "selección           0.091423  0.044115  0.067543         0.060948  0.075951   \n",
       "selección colombia  0.181391  0.068886  0.067609         0.056033  0.042550   \n",
       "ser                 0.000000  0.033272  0.000000         0.000000  0.081573   \n",
       "si                  0.112276  0.090380  0.000000         0.000000  0.133140   \n",
       "siempre             0.000000  0.000000  0.000000         0.000000  0.109988   \n",
       "tan                 0.022479  0.047574  0.000000         0.000000  0.083517   \n",
       "uruguay             1.000000  0.065825  0.000000         0.000000  0.000000   \n",
       "va                  0.065825  1.000000  0.042052         0.054920  0.039995   \n",
       "vamos               0.000000  0.042052  1.000000         0.765695  0.000000   \n",
       "vamos selección     0.000000  0.054920  0.765695         1.000000  0.000000   \n",
       "ver                 0.000000  0.039995  0.000000         0.000000  1.000000   \n",
       "vez                 0.020513  0.000000  0.000000         0.000000  0.071106   \n",
       "\n",
       "                         vez  \n",
       "así                 0.000000  \n",
       "años                0.000000  \n",
       "barranquilla        0.041864  \n",
       "bien                0.113359  \n",
       "camiseta            0.000000  \n",
       "colombia            0.061231  \n",
       "cuadrado            0.037191  \n",
       "cuadrado selección  0.000000  \n",
       "debe                0.000000  \n",
       "díaz                0.086408  \n",
       "equipo              0.000000  \n",
       "falta               0.062640  \n",
       "fútbol              0.000000  \n",
       "gol                 0.163519  \n",
       "gran                0.000000  \n",
       "hace                0.027813  \n",
       "hoy                 0.000000  \n",
       "hoy juega           0.000000  \n",
       "juega               0.049712  \n",
       "juega selección     0.026543  \n",
       "jugador             0.000000  \n",
       "jugadores           0.000000  \n",
       "jugando             0.000000  \n",
       "jugar               0.061826  \n",
       "lateral             0.000000  \n",
       "liga                0.000000  \n",
       "luis                0.091748  \n",
       "luis díaz           0.128459  \n",
       "mal                 0.000000  \n",
       "mejor               0.000000  \n",
       "mina                0.000000  \n",
       "partido             0.088505  \n",
       "partido selección   0.143881  \n",
       "partidos            0.000000  \n",
       "partidos selección  0.000000  \n",
       "país                0.000000  \n",
       "queiroz             0.058413  \n",
       "seleccion           0.070332  \n",
       "selección           0.043091  \n",
       "selección colombia  0.033190  \n",
       "ser                 0.000000  \n",
       "si                  0.172438  \n",
       "siempre             0.000000  \n",
       "tan                 0.000000  \n",
       "uruguay             0.020513  \n",
       "va                  0.000000  \n",
       "vamos               0.000000  \n",
       "vamos selección     0.000000  \n",
       "ver                 0.071106  \n",
       "vez                 1.000000  \n",
       "\n",
       "[50 rows x 50 columns]"
      ]
     },
     "execution_count": 19,
     "metadata": {},
     "output_type": "execute_result"
    }
   ],
   "source": [
    "# Se obtienen las distancias entre palabras\n",
    "from sklearn.metrics.pairwise import cosine_similarity\n",
    " \n",
    "voc = [k for k,v in sorted(tfidf_vect.vocabulary_.items(), key=lambda kv: kv[1])]\n",
    "\n",
    "temp = pd.DataFrame(tfidf.toarray())\n",
    "temp = cosine_similarity(temp.T.values)\n",
    "temp = pd.DataFrame(temp)\n",
    "temp.columns = voc\n",
    "temp.index = voc\n",
    "\n",
    "temp"
   ]
  },
  {
   "cell_type": "markdown",
   "metadata": {},
   "source": [
    "#### Se hace la grafica de calor con base en las distancias"
   ]
  },
  {
   "cell_type": "code",
   "execution_count": 20,
   "metadata": {},
   "outputs": [],
   "source": [
    "import scipy.cluster.hierarchy as sch\n",
    "\n",
    "import numpy as np\n",
    " \n",
    "pairwise_distances = sch.distance.pdist(temp)\n",
    "linkage = sch.linkage(pairwise_distances, method='ward')\n",
    "\n",
    "idx_to_cluster_array = sch.fcluster(linkage, pairwise_distances.max() * 1, criterion='distance')\n",
    "idx = np.argsort(idx_to_cluster_array)\n",
    "\n",
    "temp = temp.copy()\n",
    "\n",
    "temp2 = temp.iloc[idx, :].T.iloc[idx, :]\n",
    "\n",
    "my_idx = idx_to_cluster_array"
   ]
  },
  {
   "cell_type": "code",
   "execution_count": 22,
   "metadata": {},
   "outputs": [
    {
     "data": {
      "application/vnd.plotly.v1+json": {
       "config": {
        "linkText": "Export to plot.ly",
        "plotlyServerURL": "https://plot.ly",
        "showLink": false
       },
       "data": [
        {
         "colorscale": [
          [
           0,
           "rgb(247,251,255)"
          ],
          [
           0.125,
           "rgb(222,235,247)"
          ],
          [
           0.25,
           "rgb(198,219,239)"
          ],
          [
           0.375,
           "rgb(158,202,225)"
          ],
          [
           0.5,
           "rgb(107,174,214)"
          ],
          [
           0.625,
           "rgb(66,146,198)"
          ],
          [
           0.75,
           "rgb(33,113,181)"
          ],
          [
           0.875,
           "rgb(8,81,156)"
          ],
          [
           1,
           "rgb(8,48,107)"
          ]
         ],
         "type": "heatmap",
         "x": [
          "hoy",
          "juega selección",
          "juega",
          "hoy juega",
          "siempre",
          "luis díaz",
          "luis",
          "díaz",
          "colombia",
          "selección colombia",
          "partido",
          "partido selección",
          "vamos selección",
          "vamos",
          "partidos",
          "partidos selección",
          "jugando",
          "mina",
          "tan",
          "hace",
          "mal",
          "falta",
          "cuadrado selección",
          "cuadrado",
          "si",
          "queiroz",
          "seleccion",
          "selección",
          "va",
          "uruguay",
          "ser",
          "país",
          "así",
          "lateral",
          "liga",
          "ver",
          "jugar",
          "jugadores",
          "jugador",
          "gran",
          "gol",
          "fútbol",
          "equipo",
          "debe",
          "camiseta",
          "bien",
          "barranquilla",
          "años",
          "mejor",
          "vez"
         ],
         "y": [
          "hoy",
          "juega selección",
          "juega",
          "hoy juega",
          "siempre",
          "luis díaz",
          "luis",
          "díaz",
          "colombia",
          "selección colombia",
          "partido",
          "partido selección",
          "vamos selección",
          "vamos",
          "partidos",
          "partidos selección",
          "jugando",
          "mina",
          "tan",
          "hace",
          "mal",
          "falta",
          "cuadrado selección",
          "cuadrado",
          "si",
          "queiroz",
          "seleccion",
          "selección",
          "va",
          "uruguay",
          "ser",
          "país",
          "así",
          "lateral",
          "liga",
          "ver",
          "jugar",
          "jugadores",
          "jugador",
          "gran",
          "gol",
          "fútbol",
          "equipo",
          "debe",
          "camiseta",
          "bien",
          "barranquilla",
          "años",
          "mejor",
          "vez"
         ],
         "z": [
          [
           1.0000000000000009,
           0.2920200378090734,
           0.2901977073029096,
           0.5468709584903407,
           0.15466124945098852,
           0,
           0,
           0,
           0.31586634414030745,
           0.33629415800011675,
           0.03727722379715917,
           0.029367732268780724,
           0.025597411790756846,
           0.10225546440912749,
           0.00709877470708179,
           0.011134415923573816,
           0,
           0,
           0.03652828803334966,
           0,
           0,
           0,
           0,
           0,
           0,
           0,
           0.046742674984207214,
           0.11648213013807318,
           0.06294441300334225,
           0.03622323923196872,
           0,
           0.233603424620518,
           0,
           0,
           0.08325023069558425,
           0,
           0,
           0,
           0,
           0.06617738098119719,
           0.08000693454767248,
           0.09280059734875917,
           0.06598343834951491,
           0,
           0.015190626409897458,
           0,
           0,
           0,
           0,
           0
          ],
          [
           0.2920200378090734,
           1.0000000000000004,
           0.7652263138166588,
           0.49655110902877675,
           0.22996582285742379,
           0,
           0,
           0,
           0.09910719514267613,
           0.11081731092650078,
           0,
           0,
           0,
           0,
           0.008881958682617883,
           0.013931336923484338,
           0.0173724104680077,
           0.014923489976734,
           0,
           0.011433680635070763,
           0.04348478450067919,
           0,
           0,
           0.007936964651310762,
           0,
           0,
           0,
           0.09518916958286908,
           0,
           0,
           0.015756449224571173,
           0.05134671056699374,
           0,
           0,
           0,
           0.020728593992950607,
           0,
           0,
           0,
           0,
           0.017222014456247,
           0.03468152399631149,
           0,
           0.022387397861648544,
           0.01900645135296286,
           0,
           0.026810293334805484,
           0,
           0,
           0.02654270769359656
          ],
          [
           0.2901977073029096,
           0.7652263138166588,
           0.9999999999999998,
           0.5062014573615591,
           0.1906823639777555,
           0.037947860080072775,
           0.02710321778854469,
           0.02552566272284618,
           0.08277352039037203,
           0.0925537135056208,
           0.021817874123594195,
           0.03546903500501572,
           0,
           0,
           0.006796708502171545,
           0.010660625600495825,
           0.01329382562454346,
           0.03698188469824782,
           0,
           0.00874935328573211,
           0.07181305467094652,
           0,
           0.059255676113576614,
           0.07620128678976762,
           0,
           0.028626130120064108,
           0.04512529285794044,
           0.1173736031074338,
           0,
           0,
           0.012057249558957945,
           0.039291854053791486,
           0,
           0.07245044645687741,
           0,
           0.015862065571827722,
           0,
           0,
           0,
           0,
           0.013178738638851096,
           0.026539214765241424,
           0,
           0.09048031667506881,
           0.01454423670756341,
           0.20767536893085095,
           0.020515941940936522,
           0,
           0,
           0.049711916762671254
          ],
          [
           0.5468709584903407,
           0.49655110902877675,
           0.5062014573615591,
           1,
           0.2925319958483533,
           0,
           0,
           0,
           0.13764963248250894,
           0.15391377083947255,
           0,
           0,
           0,
           0,
           0.013426884500881503,
           0.02106004525562118,
           0,
           0,
           0,
           0,
           0,
           0,
           0,
           0,
           0,
           0,
           0,
           0.06251682723842976,
           0,
           0,
           0,
           0.04771102083835779,
           0,
           0,
           0,
           0,
           0,
           0,
           0,
           0,
           0,
           0,
           0,
           0,
           0.028732111486544098,
           0,
           0,
           0,
           0,
           0
          ],
          [
           0.15466124945098852,
           0.22996582285742379,
           0.1906823639777555,
           0.2925319958483533,
           1.0000000000000002,
           0,
           0,
           0,
           0.1434850968579225,
           0.16043873069894354,
           0,
           0,
           0,
           0,
           0.06217841793297644,
           0.013893850556121226,
           0,
           0,
           0.026582821353463237,
           0.08937889211887012,
           0,
           0.042390095057106766,
           0.02750848863643487,
           0.012521993723215242,
           0,
           0,
           0.024331450601029543,
           0.08827019964821312,
           0,
           0,
           0,
           0,
           0,
           0,
           0,
           0.10998758064434558,
           0,
           0,
           0.05589528111860444,
           0.04073075956679286,
           0.030424387965922273,
           0,
           0.13756766047828517,
           0,
           0.018955308894661876,
           0.029648671085731746,
           0,
           0,
           0.08947047546696521,
           0
          ],
          [
           0,
           0,
           0.037947860080072775,
           0,
           0,
           0.9999999999999998,
           0.7142225604119681,
           0.6726509128310568,
           0.13348949999599766,
           0.129711908373669,
           0,
           0,
           0,
           0,
           0,
           0,
           0,
           0,
           0,
           0,
           0,
           0,
           0,
           0,
           0,
           0.07539411382708966,
           0,
           0.03865332108378938,
           0,
           0.02647616351910214,
           0,
           0,
           0,
           0,
           0,
           0,
           0,
           0,
           0,
           0,
           0,
           0,
           0,
           0,
           0,
           0,
           0,
           0,
           0.16847679767222049,
           0.1284588691740194
          ],
          [
           0,
           0,
           0.02710321778854469,
           0,
           0,
           0.7142225604119681,
           0.9999999999999998,
           0.4804224572256451,
           0.09534121247525486,
           0.09264317131456448,
           0,
           0,
           0,
           0,
           0,
           0,
           0,
           0,
           0,
           0,
           0,
           0.020265852883817548,
           0,
           0,
           0,
           0.05384817701757534,
           0,
           0.05922751547041294,
           0,
           0.018909873298499077,
           0.02228097318853034,
           0,
           0,
           0,
           0,
           0,
           0,
           0,
           0.022173636134380056,
           0,
           0,
           0,
           0.025360467960760465,
           0.033939400352923935,
           0,
           0,
           0,
           0,
           0.12032992980346245,
           0.0917482224490942
          ],
          [
           0,
           0,
           0.02552566272284618,
           0,
           0,
           0.6726509128310568,
           0.4804224572256451,
           1,
           0.12423016982719086,
           0.08725083357260688,
           0,
           0,
           0,
           0,
           0,
           0,
           0,
           0,
           0,
           0,
           0,
           0,
           0,
           0,
           0,
           0.050713919487880475,
           0,
           0.05483772501139898,
           0.16035722966808122,
           0.017809215559388386,
           0,
           0,
           0,
           0,
           0,
           0,
           0,
           0,
           0,
           0,
           0,
           0,
           0,
           0,
           0,
           0,
           0,
           0,
           0.11332607174507241,
           0.08640797561114949
          ],
          [
           0.31586634414030745,
           0.09910719514267613,
           0.08277352039037203,
           0.13764963248250894,
           0.1434850968579225,
           0.13348949999599766,
           0.09534121247525486,
           0.12423016982719086,
           1.0000000000000009,
           0.9223469899996063,
           0.1916496596214174,
           0.14704790035830767,
           0.05011229354632448,
           0.060464604992476446,
           0.04442936416843296,
           0.06968738131353125,
           0.023288581270557485,
           0.044100696589126624,
           0.10455647361576091,
           0.07118871226927843,
           0,
           0.07853794090789858,
           0.0059129292703325965,
           0.0026915932818952683,
           0.05103215101473981,
           0.06604149926250333,
           0.014021077005474744,
           0.23056657753384688,
           0.10516797335705562,
           0.26375315512574793,
           0.010371184232466312,
           0.07176775149800148,
           0.07763069941852571,
           0.007499047815080436,
           0.06673788267738472,
           0.038053306427167706,
           0.049232605423430664,
           0.04233119817284767,
           0.06341466720507972,
           0.01565616444769242,
           0.07709562631024645,
           0.19453843112332983,
           0.1618475008416708,
           0,
           0.06147279875502502,
           0.036013635938904526,
           0.07482624344828101,
           0.07735303176238457,
           0.05203620002850467,
           0.06123122896292371
          ],
          [
           0.33629415800011675,
           0.11081731092650078,
           0.0925537135056208,
           0.15391377083947255,
           0.16043873069894354,
           0.129711908373669,
           0.09264317131456448,
           0.08725083357260688,
           0.9223469899996063,
           1.0000000000000004,
           0.17769508896975686,
           0.13596123078402875,
           0.05603336475387576,
           0.06760886454160206,
           0.049678962826381706,
           0.07792136778321382,
           0.026040268297181913,
           0.04190166654596904,
           0.11691045467865291,
           0.07960009009078292,
           0,
           0.0878176746359157,
           0.006611577701230875,
           0.0030096213415995413,
           0.05706190895733845,
           0.07384470267057022,
           0,
           0.2270151735963065,
           0.06888587982549148,
           0.18139085921160406,
           0,
           0.08024754631387215,
           0.08680323706588339,
           0.00838510576532925,
           0.07462336800662248,
           0.04254953521840719,
           0.055049736147569896,
           0.047332885801666634,
           0.07090749448462427,
           0.01750603516746352,
           0.08620494182684217,
           0.15663453348628895,
           0.17206610620414636,
           0,
           0.023350537365512205,
           0.028491514203051287,
           0.0703546812812658,
           0.07377458367641213,
           0.05818459244750933,
           0.0331902662806032
          ],
          [
           0.03727722379715917,
           0,
           0.021817874123594195,
           0,
           0,
           0,
           0,
           0,
           0.1916496596214174,
           0.17769508896975686,
           0.9999999999999994,
           0.6309302328444439,
           0,
           0,
           0.01908178926316061,
           0.029929753653128208,
           0.03807088320857957,
           0.06073139596760535,
           0.03099517666256605,
           0.1605818183921049,
           0,
           0.031088026332880155,
           0.012442626722176917,
           0.0442923611615578,
           0.13439183758105303,
           0.01082819351392496,
           0,
           0.10909634191596286,
           0,
           0.05463814199659949,
           0.029591563465595244,
           0,
           0.08867065288933812,
           0.01578030929660584,
           0,
           0.030198311058208433,
           0.06823019763686394,
           0.06805211074889687,
           0,
           0,
           0,
           0.08160104182210949,
           0.03930197104026265,
           0,
           0,
           0.05343033623354602,
           0.10267530040359885,
           0.07625742061738651,
           0,
           0.08850451536220796
          ],
          [
           0.029367732268780724,
           0,
           0.03546903500501572,
           0,
           0,
           0,
           0,
           0,
           0.14704790035830767,
           0.13596123078402875,
           0.6309302328444439,
           1,
           0,
           0,
           0,
           0,
           0,
           0,
           0.025194228360734892,
           0.08834916703300033,
           0,
           0.05053940122632482,
           0,
           0.030006835682220356,
           0,
           0,
           0,
           0.07374932254225346,
           0,
           0,
           0,
           0,
           0.09268576574176708,
           0,
           0,
           0.04909300264307779,
           0.08838670615045202,
           0,
           0,
           0,
           0,
           0.04941419084075053,
           0,
           0,
           0,
           0,
           0.0716290015687523,
           0.12397069970924898,
           0,
           0.14388064280237817
          ],
          [
           0.025597411790756846,
           0,
           0,
           0,
           0,
           0,
           0,
           0,
           0.05011229354632448,
           0.05603336475387576,
           0,
           0,
           0.9999999999999996,
           0.7656947672370791,
           0,
           0,
           0,
           0,
           0,
           0,
           0,
           0,
           0,
           0.020115943665042615,
           0,
           0,
           0,
           0.06094751808678635,
           0.0549204992119321,
           0,
           0,
           0,
           0,
           0.05604502894411989,
           0,
           0,
           0,
           0,
           0,
           0,
           0,
           0,
           0,
           0,
           0,
           0,
           0,
           0,
           0,
           0
          ],
          [
           0.10225546440912749,
           0,
           0,
           0,
           0,
           0,
           0,
           0,
           0.060464604992476446,
           0.06760886454160206,
           0,
           0,
           0.7656947672370791,
           1.0000000000000002,
           0,
           0,
           0,
           0,
           0,
           0,
           0,
           0,
           0,
           0.01540267280235901,
           0,
           0,
           0.16831787967550843,
           0.06754289636823964,
           0.04205233886062456,
           0,
           0,
           0,
           0,
           0.04291338539216326,
           0,
           0,
           0,
           0,
           0,
           0.0966508388002985,
           0,
           0,
           0,
           0,
           0,
           0,
           0,
           0,
           0,
           0
          ],
          [
           0.00709877470708179,
           0.008881958682617883,
           0.006796708502171545,
           0.013426884500881503,
           0.06217841793297644,
           0,
           0,
           0,
           0.04442936416843296,
           0.049678962826381706,
           0.01908178926316061,
           0,
           0,
           0,
           1,
           0.7095240351525905,
           0.0614031721628957,
           0,
           0,
           0,
           0,
           0,
           0,
           0.06770626054383115,
           0,
           0,
           0.015275354169839661,
           0.08284829392245324,
           0,
           0.1097363219268612,
           0,
           0,
           0,
           0.0452149817216196,
           0,
           0.038014049834520496,
           0.024237656746713084,
           0,
           0.032443489018629576,
           0,
           0,
           0.11796227269430258,
           0,
           0,
           0.02247194749800431,
           0,
           0,
           0,
           0.0167018580131486,
           0
          ],
          [
           0.011134415923573816,
           0.013931336923484338,
           0.010660625600495825,
           0.02106004525562118,
           0.013893850556121226,
           0,
           0,
           0,
           0.06968738131353125,
           0.07792136778321382,
           0.029929753653128208,
           0,
           0,
           0,
           0.7095240351525905,
           0.9999999999999998,
           0,
           0,
           0,
           0,
           0,
           0,
           0,
           0,
           0,
           0,
           0,
           0.05139549312616144,
           0,
           0.12650113327637444,
           0,
           0,
           0,
           0,
           0,
           0.05962497181024239,
           0,
           0,
           0,
           0,
           0,
           0.18502362191577948,
           0,
           0,
           0.035247211015991334,
           0,
           0,
           0,
           0,
           0
          ],
          [
           0,
           0.0173724104680077,
           0.01329382562454346,
           0,
           0,
           0,
           0,
           0,
           0.023288581270557485,
           0.026040268297181913,
           0.03807088320857957,
           0,
           0,
           0,
           0.0614031721628957,
           0,
           1.0000000000000002,
           0.0759909026512455,
           0.16596298113205044,
           0.09055575620355817,
           0.26139126631156917,
           0,
           0,
           0,
           0.05104348146617149,
           0,
           0,
           0.06984495945524616,
           0,
           0,
           0.02096014713602149,
           0,
           0,
           0,
           0,
           0,
           0,
           0,
           0,
           0,
           0,
           0,
           0.06746433410683471,
           0,
           0,
           0,
           0,
           0.04886977284705963,
           0,
           0
          ],
          [
           0,
           0.014923489976734,
           0.03698188469824782,
           0,
           0,
           0,
           0,
           0,
           0.044100696589126624,
           0.04190166654596904,
           0.06073139596760535,
           0,
           0,
           0,
           0,
           0,
           0.0759909026512455,
           1,
           0.043458603709557585,
           0.2079292375827048,
           0.28453404074021615,
           0,
           0,
           0,
           0.07339843704095549,
           0,
           0.052209884320314315,
           0.07534415928245826,
           0.09105477722726976,
           0.029159354382679244,
           0.10373003064259961,
           0,
           0,
           0,
           0,
           0,
           0,
           0.04675284596168304,
           0.110764926264844,
           0,
           0.06528397349847906,
           0,
           0.08266538528382528,
           0,
           0,
           0.025766914035337627,
           0,
           0.08277126203664595,
           0,
           0
          ],
          [
           0.03652828803334966,
           0,
           0,
           0,
           0.026582821353463237,
           0,
           0,
           0,
           0.10455647361576091,
           0.11691045467865291,
           0.03099517666256605,
           0.025194228360734892,
           0,
           0,
           0,
           0,
           0.16596298113205044,
           0.043458603709557585,
           0.9999999999999998,
           0.0787828083244138,
           0.2149354054321451,
           0,
           0,
           0,
           0.06510617462619621,
           0,
           0.08951192922483062,
           0.07268702472275813,
           0.04757399848431008,
           0.022478505068934656,
           0.08263229689083049,
           0,
           0,
           0,
           0,
           0.08351718420110615,
           0,
           0,
           0.04602347922790909,
           0,
           0.03768389895761681,
           0,
           0,
           0,
           0.05756197274968033,
           0,
           0,
           0,
           0,
           0
          ],
          [
           0,
           0.011433680635070763,
           0.00874935328573211,
           0,
           0.08937889211887012,
           0,
           0,
           0,
           0.07118871226927843,
           0.07960009009078292,
           0.1605818183921049,
           0.08834916703300033,
           0,
           0,
           0,
           0,
           0.09055575620355817,
           0.2079292375827048,
           0.0787828083244138,
           1,
           0.019697847176781896,
           0.4757185829470555,
           0.028114343725200566,
           0.10165315568880581,
           0.029193641969578764,
           0.05681622784881257,
           0,
           0.10954421214454081,
           0,
           0,
           0.04604176138821381,
           0,
           0,
           0.03565589883557438,
           0,
           0.021720521192468516,
           0.034665703221724804,
           0,
           0.03075682182331277,
           0,
           0,
           0.039469079057254955,
           0.044401762890404574,
           0,
           0,
           0,
           0,
           0.16163120355077182,
           0,
           0.027812858178433375
          ],
          [
           0,
           0.04348478450067919,
           0.07181305467094652,
           0,
           0,
           0,
           0,
           0,
           0,
           0,
           0,
           0,
           0,
           0,
           0,
           0,
           0.26139126631156917,
           0.28453404074021615,
           0.2149354054321451,
           0.019697847176781896,
           0.9999999999999996,
           0,
           0,
           0.013673734796255468,
           0,
           0,
           0.0787116739387059,
           0.04266433480138389,
           0.13727427342499834,
           0,
           0.027145075919151357,
           0.03408647145066957,
           0,
           0,
           0,
           0.10344500603143769,
           0.16509704565002692,
           0.025935522039689907,
           0,
           0,
           0.1280921230513077,
           0,
           0,
           0.03856881749975848,
           0,
           0.03884622542952131,
           0,
           0,
           0,
           0
          ],
          [
           0,
           0,
           0,
           0,
           0.042390095057106766,
           0,
           0.020265852883817548,
           0,
           0.07853794090789858,
           0.0878176746359157,
           0.031088026332880155,
           0.05053940122632482,
           0,
           0,
           0,
           0,
           0,
           0,
           0,
           0.4757185829470555,
           0,
           1.0000000000000002,
           0,
           0.052275977597392054,
           0,
           0,
           0,
           0.08093817353573475,
           0,
           0,
           0.016986381377190864,
           0,
           0.04859558757542985,
           0,
           0,
           0,
           0,
           0,
           0.05545633494466696,
           0,
           0,
           0,
           0.019334100761238864,
           0.02587443525154023,
           0,
           0,
           0,
           0.1274550630249481,
           0,
           0.06264014119777965
          ],
          [
           0,
           0,
           0.059255676113576614,
           0,
           0.02750848863643487,
           0,
           0,
           0,
           0.0059129292703325965,
           0.006611577701230875,
           0.012442626722176917,
           0,
           0,
           0,
           0,
           0,
           0,
           0,
           0,
           0.028114343725200566,
           0,
           0,
           1,
           0.5187385939583037,
           0.08639981737649817,
           0,
           0,
           0.06640344719466601,
           0,
           0,
           0,
           0,
           0.10955013029608231,
           0.02914659161964322,
           0,
           0.12789817140574364,
           0,
           0,
           0.03752082810594333,
           0,
           0,
           0,
           0,
           0,
           0,
           0.04255236819892855,
           0,
           0,
           0,
           0
          ],
          [
           0,
           0.007936964651310762,
           0.07620128678976762,
           0,
           0.012521993723215242,
           0,
           0,
           0,
           0.0026915932818952683,
           0.0030096213415995413,
           0.0442923611615578,
           0.030006835682220356,
           0.020115943665042615,
           0.01540267280235901,
           0.06770626054383115,
           0,
           0,
           0,
           0,
           0.10165315568880581,
           0.013673734796255468,
           0.052275977597392054,
           0.5187385939583037,
           1.0000000000000002,
           0.03932960422414789,
           0.089752986687094,
           0.03842246468149316,
           0.12773344133682724,
           0.01796801522067506,
           0.008014152271729054,
           0.012642160098567036,
           0.012891528776639061,
           0.049867735813302005,
           0.2940787286265555,
           0,
           0.05821985063302228,
           0.013356911236350974,
           0,
           0.017079657855508835,
           0,
           0.011221192990192069,
           0,
           0,
           0.07704053650715338,
           0,
           0.07010987385146773,
           0,
           0,
           0.19480036702552386,
           0.03719142645983305
          ],
          [
           0,
           0,
           0,
           0,
           0,
           0,
           0,
           0,
           0.05103215101473981,
           0.05706190895733845,
           0.13439183758105303,
           0,
           0,
           0,
           0,
           0,
           0.05104348146617149,
           0.07339843704095549,
           0.06510617462619621,
           0.029193641969578764,
           0,
           0,
           0.08639981737649817,
           0.03932960422414789,
           1,
           0,
           0,
           0.06559125341151663,
           0.09037981263616537,
           0.11227628477523117,
           0,
           0,
           0.08980492658479153,
           0,
           0,
           0.1331397908910395,
           0,
           0,
           0,
           0,
           0.07806440972903288,
           0.052896950957719215,
           0.11791861829438717,
           0,
           0,
           0.08518346998778539,
           0,
           0.08499020615850936,
           0,
           0.17243845896172483
          ],
          [
           0,
           0,
           0.028626130120064108,
           0,
           0,
           0.07539411382708966,
           0.05384817701757534,
           0.050713919487880475,
           0.06604149926250333,
           0.07384470267057022,
           0.01082819351392496,
           0,
           0,
           0,
           0,
           0,
           0,
           0,
           0,
           0.05681622784881257,
           0,
           0,
           0,
           0.089752986687094,
           0,
           0.9999999999999996,
           0,
           0.046608170127783406,
           0,
           0.011321156114357144,
           0.058886733826466996,
           0,
           0,
           0,
           0,
           0,
           0.0271938049880428,
           0.10575663273912053,
           0,
           0,
           0.0782106164140789,
           0,
           0,
           0.18227326995170243,
           0,
           0.04311186106875841,
           0,
           0,
           0,
           0.058412848906897935
          ],
          [
           0.046742674984207214,
           0,
           0.04512529285794044,
           0,
           0.024331450601029543,
           0,
           0,
           0,
           0.014021077005474744,
           0,
           0,
           0,
           0,
           0.16831787967550843,
           0.015275354169839661,
           0,
           0,
           0.052209884320314315,
           0.08951192922483062,
           0,
           0.0787116739387059,
           0,
           0,
           0.03842246468149316,
           0,
           0,
           1,
           0,
           0.03708343775160024,
           0,
           0,
           0,
           0,
           0.10704882560000678,
           0,
           0.026371035637549965,
           0,
           0.03886757345920364,
           0.031025487649661076,
           0.03411292749483707,
           0.09908617679076073,
           0,
           0,
           0.10837631782921839,
           0.0481633475297745,
           0.06948711366664362,
           0,
           0,
           0.015971873099585112,
           0.07033201864218722
          ],
          [
           0.11648213013807318,
           0.09518916958286908,
           0.1173736031074338,
           0.06251682723842976,
           0.08827019964821312,
           0.03865332108378938,
           0.05922751547041294,
           0.05483772501139898,
           0.23056657753384688,
           0.2270151735963065,
           0.10909634191596286,
           0.07374932254225346,
           0.06094751808678635,
           0.06754289636823964,
           0.08284829392245324,
           0.05139549312616144,
           0.06984495945524616,
           0.07534415928245826,
           0.07268702472275813,
           0.10954421214454081,
           0.04266433480138389,
           0.08093817353573475,
           0.06640344719466601,
           0.12773344133682724,
           0.06559125341151663,
           0.046608170127783406,
           0,
           0.9999999999999973,
           0.044114920630885866,
           0.09142346149399506,
           0.0698107222836741,
           0.052107276852703,
           0.05833605566072597,
           0.04072429096022721,
           0.053624491546545056,
           0.07595113539678339,
           0.04773984516686588,
           0.11610271502335978,
           0.06882022242370932,
           0.047914857877716446,
           0.0575759028980649,
           0.0483338955392947,
           0.05284334022737524,
           0.030685994209906073,
           0.069488328229835,
           0.04736612673752978,
           0.0613996419473886,
           0.07021706668316462,
           0.07384405446407556,
           0.04309065403625601
          ],
          [
           0.06294441300334225,
           0,
           0,
           0,
           0,
           0,
           0,
           0.16035722966808122,
           0.10516797335705562,
           0.06888587982549148,
           0,
           0,
           0.0549204992119321,
           0.04205233886062456,
           0,
           0,
           0,
           0.09105477722726976,
           0.04757399848431008,
           0,
           0.13727427342499834,
           0,
           0,
           0.01796801522067506,
           0.09037981263616537,
           0,
           0.03708343775160024,
           0.044114920630885866,
           1.0000000000000002,
           0.06582539724417144,
           0.03327202773306198,
           0,
           0,
           0.050060685686901724,
           0,
           0.03999535119521131,
           0,
           0.08827951093541471,
           0,
           0.051737009278090905,
           0,
           0,
           0.2363246097423595,
           0,
           0,
           0.04254336690439015,
           0,
           0,
           0,
           0
          ],
          [
           0.03622323923196872,
           0,
           0,
           0,
           0,
           0.02647616351910214,
           0.018909873298499077,
           0.017809215559388386,
           0.26375315512574793,
           0.18139085921160406,
           0.05463814199659949,
           0,
           0,
           0,
           0.1097363219268612,
           0.12650113327637444,
           0,
           0.029159354382679244,
           0.022478505068934656,
           0,
           0,
           0,
           0,
           0.008014152271729054,
           0.11227628477523117,
           0.011321156114357144,
           0,
           0.09142346149399506,
           0.06582539724417144,
           1,
           0,
           0,
           0.03935157909044631,
           0,
           0,
           0,
           0.01449241524900859,
           0.030221046342073583,
           0,
           0,
           0.03833349070470754,
           0.023829055903725506,
           0.11646697970893473,
           0,
           0,
           0.07903617584781318,
           0.06734440319260114,
           0,
           0,
           0.020512849886696997
          ],
          [
           0,
           0.015756449224571173,
           0.012057249558957945,
           0,
           0,
           0,
           0.02228097318853034,
           0,
           0.010371184232466312,
           0,
           0.029591563465595244,
           0,
           0,
           0,
           0,
           0,
           0.02096014713602149,
           0.10373003064259961,
           0.08263229689083049,
           0.04604176138821381,
           0.027145075919151357,
           0.016986381377190864,
           0,
           0.012642160098567036,
           0,
           0.058886733826466996,
           0,
           0.0698107222836741,
           0.03327202773306198,
           0,
           1,
           0,
           0,
           0.03522232118156441,
           0,
           0.08157297107427923,
           0,
           0.11854136200926807,
           0.018585442322952905,
           0,
           0,
           0.04467514611016539,
           0.021256572973027483,
           0.17081500677432715,
           0,
           0.029933192338267172,
           0.28230880524552515,
           0.03726404803904454,
           0,
           0
          ],
          [
           0.233603424620518,
           0.05134671056699374,
           0.039291854053791486,
           0.04771102083835779,
           0,
           0,
           0,
           0,
           0.07176775149800148,
           0.08024754631387215,
           0,
           0,
           0,
           0,
           0,
           0,
           0,
           0,
           0,
           0,
           0.03408647145066957,
           0,
           0,
           0.012891528776639061,
           0,
           0,
           0,
           0.052107276852703,
           0,
           0,
           0,
           1,
           0,
           0,
           0.22428423175260678,
           0,
           0,
           0,
           0,
           0,
           0.027972670247150038,
           0,
           0.13409428662326114,
           0.03636248823658897,
           0,
           0.08722666679073506,
           0.05015716533566994,
           0,
           0,
           0
          ],
          [
           0,
           0,
           0,
           0,
           0,
           0,
           0,
           0,
           0.07763069941852571,
           0.08680323706588339,
           0.08867065288933812,
           0.09268576574176708,
           0,
           0,
           0,
           0,
           0,
           0,
           0,
           0,
           0,
           0.04859558757542985,
           0.10955013029608231,
           0.049867735813302005,
           0.08980492658479153,
           0,
           0,
           0.05833605566072597,
           0,
           0.03935157909044631,
           0,
           0,
           1.0000000000000002,
           0.09117319035591952,
           0,
           0.15255168278965073,
           0.0945159050110974,
           0,
           0,
           0.06324910220934074,
           0,
           0.07704051386774424,
           0,
           0,
           0,
           0,
           0.06443037457457038,
           0,
           0,
           0
          ],
          [
           0,
           0,
           0.07245044645687741,
           0,
           0,
           0,
           0,
           0,
           0.007499047815080436,
           0.00838510576532925,
           0.01578030929660584,
           0,
           0.05604502894411989,
           0.04291338539216326,
           0.0452149817216196,
           0,
           0,
           0,
           0,
           0.03565589883557438,
           0,
           0,
           0.02914659161964322,
           0.2940787286265555,
           0,
           0,
           0.10704882560000678,
           0.04072429096022721,
           0.050060685686901724,
           0,
           0.03522232118156441,
           0,
           0.09117319035591952,
           0.9999999999999998,
           0,
           0,
           0.07442737853220613,
           0,
           0,
           0,
           0,
           0,
           0,
           0.17400247432848873,
           0,
           0.045037114818299806,
           0,
           0,
           0,
           0
          ],
          [
           0.08325023069558425,
           0,
           0,
           0,
           0,
           0,
           0,
           0,
           0.06673788267738472,
           0.07462336800662248,
           0,
           0,
           0,
           0,
           0,
           0,
           0,
           0,
           0,
           0,
           0,
           0,
           0,
           0,
           0,
           0,
           0,
           0.053624491546545056,
           0,
           0,
           0,
           0.22428423175260678,
           0,
           0,
           0.9999999999999998,
           0,
           0,
           0,
           0,
           0.2099570383535329,
           0,
           0,
           0.14304350820566725,
           0,
           0,
           0,
           0.053504568106045876,
           0.19490398952841112,
           0,
           0
          ],
          [
           0,
           0.020728593992950607,
           0.015862065571827722,
           0,
           0.10998758064434558,
           0,
           0,
           0,
           0.038053306427167706,
           0.04254953521840719,
           0.030198311058208433,
           0.04909300264307779,
           0,
           0,
           0.038014049834520496,
           0.05962497181024239,
           0,
           0,
           0.08351718420110615,
           0.021720521192468516,
           0.10344500603143769,
           0,
           0.12789817140574364,
           0.05821985063302228,
           0.1331397908910395,
           0,
           0.026371035637549965,
           0.07595113539678339,
           0.03999535119521131,
           0,
           0.08157297107427923,
           0,
           0.15255168278965073,
           0,
           0,
           0.9999999999999999,
           0.242612992074418,
           0,
           0.03196570946485153,
           0.03679158670757037,
           0,
           0.06314569770233788,
           0,
           0,
           0,
           0,
           0.03269353108062155,
           0,
           0,
           0.0711058279640071
          ],
          [
           0,
           0,
           0,
           0,
           0,
           0,
           0,
           0,
           0.049232605423430664,
           0.055049736147569896,
           0.06823019763686394,
           0.08838670615045202,
           0,
           0,
           0.024237656746713084,
           0,
           0,
           0,
           0,
           0.034665703221724804,
           0.16509704565002692,
           0,
           0,
           0.013356911236350974,
           0,
           0.0271938049880428,
           0,
           0.04773984516686588,
           0,
           0.01449241524900859,
           0,
           0,
           0.0945159050110974,
           0.07442737853220613,
           0,
           0.242612992074418,
           0.9999999999999998,
           0.012984951818919007,
           0,
           0,
           0,
           0.1007798108010878,
           0,
           0,
           0,
           0.05518826756338676,
           0.21457153730131948,
           0,
           0.1736100577079587,
           0.06182636443350795
          ],
          [
           0,
           0,
           0,
           0,
           0,
           0,
           0,
           0,
           0.04233119817284767,
           0.047332885801666634,
           0.06805211074889687,
           0,
           0,
           0,
           0,
           0,
           0,
           0.04675284596168304,
           0,
           0,
           0.025935522039689907,
           0,
           0,
           0,
           0,
           0.10575663273912053,
           0.03886757345920364,
           0.11610271502335978,
           0.08827951093541471,
           0.030221046342073583,
           0.11854136200926807,
           0,
           0,
           0,
           0,
           0,
           0.012984951818919007,
           0.9999999999999998,
           0.0377195197156683,
           0,
           0,
           0.032002094510468065,
           0.10004751207550401,
           0,
           0,
           0.05586406641795848,
           0,
           0,
           0,
           0
          ],
          [
           0,
           0,
           0,
           0,
           0.05589528111860444,
           0,
           0.022173636134380056,
           0,
           0.06341466720507972,
           0.07090749448462427,
           0,
           0,
           0,
           0,
           0.032443489018629576,
           0,
           0,
           0.110764926264844,
           0.04602347922790909,
           0.03075682182331277,
           0,
           0.05545633494466696,
           0.03752082810594333,
           0.017079657855508835,
           0,
           0,
           0.031025487649661076,
           0.06882022242370932,
           0,
           0,
           0.018585442322952905,
           0,
           0,
           0,
           0,
           0.03196570946485153,
           0,
           0.0377195197156683,
           1,
           0,
           0,
           0.06930784450697478,
           0.02115417089637897,
           0.02831019823046076,
           0,
           0,
           0,
           0,
           0.10320948130189456,
           0
          ],
          [
           0.06617738098119719,
           0,
           0,
           0,
           0.04073075956679286,
           0,
           0,
           0,
           0.01565616444769242,
           0.01750603516746352,
           0,
           0,
           0,
           0.0966508388002985,
           0,
           0,
           0,
           0,
           0,
           0,
           0,
           0,
           0,
           0,
           0,
           0,
           0.03411292749483707,
           0.047914857877716446,
           0.051737009278090905,
           0,
           0,
           0,
           0.06324910220934074,
           0,
           0.2099570383535329,
           0.03679158670757037,
           0,
           0,
           0,
           1,
           0,
           0,
           0,
           0,
           0,
           0,
           0,
           0,
           0.05048901721300439,
           0
          ],
          [
           0.08000693454767248,
           0.017222014456247,
           0.013178738638851096,
           0,
           0.030424387965922273,
           0,
           0,
           0,
           0.07709562631024645,
           0.08620494182684217,
           0,
           0,
           0,
           0,
           0,
           0,
           0,
           0.06528397349847906,
           0.03768389895761681,
           0,
           0.1280921230513077,
           0,
           0,
           0.011221192990192069,
           0.07806440972903288,
           0.0782106164140789,
           0.09908617679076073,
           0.0575759028980649,
           0,
           0.03833349070470754,
           0,
           0.027972670247150038,
           0,
           0,
           0,
           0,
           0,
           0,
           0,
           0,
           0.9999999999999996,
           0,
           0.05882271294570204,
           0.031651055912449426,
           0,
           0.05131854360605437,
           0,
           0,
           0,
           0.16351904331559863
          ],
          [
           0.09280059734875917,
           0.03468152399631149,
           0.026539214765241424,
           0,
           0,
           0,
           0,
           0,
           0.19453843112332983,
           0.15663453348628895,
           0.08160104182210949,
           0.04941419084075053,
           0,
           0,
           0.11796227269430258,
           0.18502362191577948,
           0,
           0,
           0,
           0.039469079057254955,
           0,
           0,
           0,
           0,
           0.052896950957719215,
           0,
           0,
           0.0483338955392947,
           0,
           0.023829055903725506,
           0.04467514611016539,
           0,
           0.07704051386774424,
           0,
           0,
           0.06314569770233788,
           0.1007798108010878,
           0.032002094510468065,
           0.06930784450697478,
           0,
           0,
           0.9999999999999999,
           0,
           0,
           0,
           0.04537146812321942,
           0,
           0.04899594022380556,
           0,
           0
          ],
          [
           0.06598343834951491,
           0,
           0,
           0,
           0.13756766047828517,
           0,
           0.025360467960760465,
           0,
           0.1618475008416708,
           0.17206610620414636,
           0.03930197104026265,
           0,
           0,
           0,
           0,
           0,
           0.06746433410683471,
           0.08266538528382528,
           0,
           0.044401762890404574,
           0,
           0.019334100761238864,
           0,
           0,
           0.11791861829438717,
           0,
           0,
           0.05284334022737524,
           0.2363246097423595,
           0.11646697970893473,
           0.021256572973027483,
           0.13409428662326114,
           0,
           0,
           0.14304350820566725,
           0,
           0,
           0.10004751207550401,
           0.02115417089637897,
           0,
           0.05882271294570204,
           0,
           1,
           0.03237898695709119,
           0,
           0,
           0,
           0,
           0,
           0
          ],
          [
           0,
           0.022387397861648544,
           0.09048031667506881,
           0,
           0,
           0,
           0.033939400352923935,
           0,
           0,
           0,
           0,
           0,
           0,
           0,
           0,
           0,
           0,
           0,
           0,
           0,
           0.03856881749975848,
           0.02587443525154023,
           0,
           0.07704053650715338,
           0,
           0.18227326995170243,
           0.10837631782921839,
           0.030685994209906073,
           0,
           0,
           0.17081500677432715,
           0.03636248823658897,
           0,
           0.17400247432848873,
           0,
           0,
           0,
           0,
           0.02831019823046076,
           0,
           0.031651055912449426,
           0,
           0.03237898695709119,
           0.9999999999999999,
           0,
           0,
           0,
           0,
           0,
           0
          ],
          [
           0.015190626409897458,
           0.01900645135296286,
           0.01454423670756341,
           0.028732111486544098,
           0.018955308894661876,
           0,
           0,
           0,
           0.06147279875502502,
           0.023350537365512205,
           0,
           0,
           0,
           0,
           0.02247194749800431,
           0.035247211015991334,
           0,
           0,
           0.05756197274968033,
           0,
           0,
           0,
           0,
           0,
           0,
           0,
           0.0481633475297745,
           0.069488328229835,
           0,
           0,
           0,
           0,
           0,
           0,
           0,
           0,
           0,
           0,
           0,
           0,
           0,
           0,
           0,
           0,
           1.0000000000000002,
           0,
           0,
           0,
           0.056423083556014636,
           0
          ],
          [
           0,
           0,
           0.20767536893085095,
           0,
           0.029648671085731746,
           0,
           0,
           0,
           0.036013635938904526,
           0.028491514203051287,
           0.05343033623354602,
           0,
           0,
           0,
           0,
           0,
           0,
           0.025766914035337627,
           0,
           0,
           0.03884622542952131,
           0,
           0.04255236819892855,
           0.07010987385146773,
           0.08518346998778539,
           0.04311186106875841,
           0.06948711366664362,
           0.04736612673752978,
           0.04254336690439015,
           0.07903617584781318,
           0.029933192338267172,
           0.08722666679073506,
           0,
           0.045037114818299806,
           0,
           0,
           0.05518826756338676,
           0.05586406641795848,
           0,
           0,
           0.05131854360605437,
           0.04537146812321942,
           0,
           0,
           0,
           1.0000000000000002,
           0,
           0,
           0,
           0.11335883543223613
          ],
          [
           0,
           0.026810293334805484,
           0.020515941940936522,
           0,
           0,
           0,
           0,
           0,
           0.07482624344828101,
           0.0703546812812658,
           0.10267530040359885,
           0.0716290015687523,
           0,
           0,
           0,
           0,
           0,
           0,
           0,
           0,
           0,
           0,
           0,
           0,
           0,
           0,
           0,
           0.0613996419473886,
           0,
           0.06734440319260114,
           0.28230880524552515,
           0.05015716533566994,
           0.06443037457457038,
           0,
           0.053504568106045876,
           0.03269353108062155,
           0.21457153730131948,
           0,
           0,
           0,
           0,
           0,
           0,
           0,
           0,
           0,
           0.9999999999999999,
           0,
           0,
           0.041863661338514574
          ],
          [
           0,
           0,
           0,
           0,
           0,
           0,
           0,
           0,
           0.07735303176238457,
           0.07377458367641213,
           0.07625742061738651,
           0.12397069970924898,
           0,
           0,
           0,
           0,
           0.04886977284705963,
           0.08277126203664595,
           0,
           0.16163120355077182,
           0,
           0.1274550630249481,
           0,
           0,
           0.08499020615850936,
           0,
           0,
           0.07021706668316462,
           0,
           0,
           0.03726404803904454,
           0,
           0,
           0,
           0.19490398952841112,
           0,
           0,
           0,
           0,
           0,
           0,
           0.04899594022380556,
           0,
           0,
           0,
           0,
           0,
           0.9999999999999999,
           0,
           0
          ],
          [
           0,
           0,
           0,
           0,
           0.08947047546696521,
           0.16847679767222049,
           0.12032992980346245,
           0.11332607174507241,
           0.05203620002850467,
           0.05818459244750933,
           0,
           0,
           0,
           0,
           0.0167018580131486,
           0,
           0,
           0,
           0,
           0,
           0,
           0,
           0,
           0.19480036702552386,
           0,
           0,
           0.015971873099585112,
           0.07384405446407556,
           0,
           0,
           0,
           0,
           0,
           0,
           0,
           0,
           0.1736100577079587,
           0,
           0.10320948130189456,
           0.05048901721300439,
           0,
           0,
           0,
           0,
           0.056423083556014636,
           0,
           0,
           0,
           0.9999999999999999,
           0
          ],
          [
           0,
           0.02654270769359656,
           0.049711916762671254,
           0,
           0,
           0.1284588691740194,
           0.0917482224490942,
           0.08640797561114949,
           0.06123122896292371,
           0.0331902662806032,
           0.08850451536220796,
           0.14388064280237817,
           0,
           0,
           0,
           0,
           0,
           0,
           0,
           0.027812858178433375,
           0,
           0.06264014119777965,
           0,
           0.03719142645983305,
           0.17243845896172483,
           0.058412848906897935,
           0.07033201864218722,
           0.04309065403625601,
           0,
           0.020512849886696997,
           0,
           0,
           0,
           0,
           0,
           0.0711058279640071,
           0.06182636443350795,
           0,
           0,
           0,
           0.16351904331559863,
           0,
           0,
           0,
           0,
           0.11335883543223613,
           0.041863661338514574,
           0,
           0,
           0.9999999999999998
          ]
         ]
        }
       ],
       "layout": {
        "height": 800,
        "template": {
         "data": {
          "bar": [
           {
            "error_x": {
             "color": "#2a3f5f"
            },
            "error_y": {
             "color": "#2a3f5f"
            },
            "marker": {
             "line": {
              "color": "#E5ECF6",
              "width": 0.5
             }
            },
            "type": "bar"
           }
          ],
          "barpolar": [
           {
            "marker": {
             "line": {
              "color": "#E5ECF6",
              "width": 0.5
             }
            },
            "type": "barpolar"
           }
          ],
          "carpet": [
           {
            "aaxis": {
             "endlinecolor": "#2a3f5f",
             "gridcolor": "white",
             "linecolor": "white",
             "minorgridcolor": "white",
             "startlinecolor": "#2a3f5f"
            },
            "baxis": {
             "endlinecolor": "#2a3f5f",
             "gridcolor": "white",
             "linecolor": "white",
             "minorgridcolor": "white",
             "startlinecolor": "#2a3f5f"
            },
            "type": "carpet"
           }
          ],
          "choropleth": [
           {
            "colorbar": {
             "outlinewidth": 0,
             "ticks": ""
            },
            "type": "choropleth"
           }
          ],
          "contour": [
           {
            "colorbar": {
             "outlinewidth": 0,
             "ticks": ""
            },
            "colorscale": [
             [
              0,
              "#0d0887"
             ],
             [
              0.1111111111111111,
              "#46039f"
             ],
             [
              0.2222222222222222,
              "#7201a8"
             ],
             [
              0.3333333333333333,
              "#9c179e"
             ],
             [
              0.4444444444444444,
              "#bd3786"
             ],
             [
              0.5555555555555556,
              "#d8576b"
             ],
             [
              0.6666666666666666,
              "#ed7953"
             ],
             [
              0.7777777777777778,
              "#fb9f3a"
             ],
             [
              0.8888888888888888,
              "#fdca26"
             ],
             [
              1,
              "#f0f921"
             ]
            ],
            "type": "contour"
           }
          ],
          "contourcarpet": [
           {
            "colorbar": {
             "outlinewidth": 0,
             "ticks": ""
            },
            "type": "contourcarpet"
           }
          ],
          "heatmap": [
           {
            "colorbar": {
             "outlinewidth": 0,
             "ticks": ""
            },
            "colorscale": [
             [
              0,
              "#0d0887"
             ],
             [
              0.1111111111111111,
              "#46039f"
             ],
             [
              0.2222222222222222,
              "#7201a8"
             ],
             [
              0.3333333333333333,
              "#9c179e"
             ],
             [
              0.4444444444444444,
              "#bd3786"
             ],
             [
              0.5555555555555556,
              "#d8576b"
             ],
             [
              0.6666666666666666,
              "#ed7953"
             ],
             [
              0.7777777777777778,
              "#fb9f3a"
             ],
             [
              0.8888888888888888,
              "#fdca26"
             ],
             [
              1,
              "#f0f921"
             ]
            ],
            "type": "heatmap"
           }
          ],
          "heatmapgl": [
           {
            "colorbar": {
             "outlinewidth": 0,
             "ticks": ""
            },
            "colorscale": [
             [
              0,
              "#0d0887"
             ],
             [
              0.1111111111111111,
              "#46039f"
             ],
             [
              0.2222222222222222,
              "#7201a8"
             ],
             [
              0.3333333333333333,
              "#9c179e"
             ],
             [
              0.4444444444444444,
              "#bd3786"
             ],
             [
              0.5555555555555556,
              "#d8576b"
             ],
             [
              0.6666666666666666,
              "#ed7953"
             ],
             [
              0.7777777777777778,
              "#fb9f3a"
             ],
             [
              0.8888888888888888,
              "#fdca26"
             ],
             [
              1,
              "#f0f921"
             ]
            ],
            "type": "heatmapgl"
           }
          ],
          "histogram": [
           {
            "marker": {
             "colorbar": {
              "outlinewidth": 0,
              "ticks": ""
             }
            },
            "type": "histogram"
           }
          ],
          "histogram2d": [
           {
            "colorbar": {
             "outlinewidth": 0,
             "ticks": ""
            },
            "colorscale": [
             [
              0,
              "#0d0887"
             ],
             [
              0.1111111111111111,
              "#46039f"
             ],
             [
              0.2222222222222222,
              "#7201a8"
             ],
             [
              0.3333333333333333,
              "#9c179e"
             ],
             [
              0.4444444444444444,
              "#bd3786"
             ],
             [
              0.5555555555555556,
              "#d8576b"
             ],
             [
              0.6666666666666666,
              "#ed7953"
             ],
             [
              0.7777777777777778,
              "#fb9f3a"
             ],
             [
              0.8888888888888888,
              "#fdca26"
             ],
             [
              1,
              "#f0f921"
             ]
            ],
            "type": "histogram2d"
           }
          ],
          "histogram2dcontour": [
           {
            "colorbar": {
             "outlinewidth": 0,
             "ticks": ""
            },
            "colorscale": [
             [
              0,
              "#0d0887"
             ],
             [
              0.1111111111111111,
              "#46039f"
             ],
             [
              0.2222222222222222,
              "#7201a8"
             ],
             [
              0.3333333333333333,
              "#9c179e"
             ],
             [
              0.4444444444444444,
              "#bd3786"
             ],
             [
              0.5555555555555556,
              "#d8576b"
             ],
             [
              0.6666666666666666,
              "#ed7953"
             ],
             [
              0.7777777777777778,
              "#fb9f3a"
             ],
             [
              0.8888888888888888,
              "#fdca26"
             ],
             [
              1,
              "#f0f921"
             ]
            ],
            "type": "histogram2dcontour"
           }
          ],
          "mesh3d": [
           {
            "colorbar": {
             "outlinewidth": 0,
             "ticks": ""
            },
            "type": "mesh3d"
           }
          ],
          "parcoords": [
           {
            "line": {
             "colorbar": {
              "outlinewidth": 0,
              "ticks": ""
             }
            },
            "type": "parcoords"
           }
          ],
          "pie": [
           {
            "automargin": true,
            "type": "pie"
           }
          ],
          "scatter": [
           {
            "marker": {
             "colorbar": {
              "outlinewidth": 0,
              "ticks": ""
             }
            },
            "type": "scatter"
           }
          ],
          "scatter3d": [
           {
            "line": {
             "colorbar": {
              "outlinewidth": 0,
              "ticks": ""
             }
            },
            "marker": {
             "colorbar": {
              "outlinewidth": 0,
              "ticks": ""
             }
            },
            "type": "scatter3d"
           }
          ],
          "scattercarpet": [
           {
            "marker": {
             "colorbar": {
              "outlinewidth": 0,
              "ticks": ""
             }
            },
            "type": "scattercarpet"
           }
          ],
          "scattergeo": [
           {
            "marker": {
             "colorbar": {
              "outlinewidth": 0,
              "ticks": ""
             }
            },
            "type": "scattergeo"
           }
          ],
          "scattergl": [
           {
            "marker": {
             "colorbar": {
              "outlinewidth": 0,
              "ticks": ""
             }
            },
            "type": "scattergl"
           }
          ],
          "scattermapbox": [
           {
            "marker": {
             "colorbar": {
              "outlinewidth": 0,
              "ticks": ""
             }
            },
            "type": "scattermapbox"
           }
          ],
          "scatterpolar": [
           {
            "marker": {
             "colorbar": {
              "outlinewidth": 0,
              "ticks": ""
             }
            },
            "type": "scatterpolar"
           }
          ],
          "scatterpolargl": [
           {
            "marker": {
             "colorbar": {
              "outlinewidth": 0,
              "ticks": ""
             }
            },
            "type": "scatterpolargl"
           }
          ],
          "scatterternary": [
           {
            "marker": {
             "colorbar": {
              "outlinewidth": 0,
              "ticks": ""
             }
            },
            "type": "scatterternary"
           }
          ],
          "surface": [
           {
            "colorbar": {
             "outlinewidth": 0,
             "ticks": ""
            },
            "colorscale": [
             [
              0,
              "#0d0887"
             ],
             [
              0.1111111111111111,
              "#46039f"
             ],
             [
              0.2222222222222222,
              "#7201a8"
             ],
             [
              0.3333333333333333,
              "#9c179e"
             ],
             [
              0.4444444444444444,
              "#bd3786"
             ],
             [
              0.5555555555555556,
              "#d8576b"
             ],
             [
              0.6666666666666666,
              "#ed7953"
             ],
             [
              0.7777777777777778,
              "#fb9f3a"
             ],
             [
              0.8888888888888888,
              "#fdca26"
             ],
             [
              1,
              "#f0f921"
             ]
            ],
            "type": "surface"
           }
          ],
          "table": [
           {
            "cells": {
             "fill": {
              "color": "#EBF0F8"
             },
             "line": {
              "color": "white"
             }
            },
            "header": {
             "fill": {
              "color": "#C8D4E3"
             },
             "line": {
              "color": "white"
             }
            },
            "type": "table"
           }
          ]
         },
         "layout": {
          "annotationdefaults": {
           "arrowcolor": "#2a3f5f",
           "arrowhead": 0,
           "arrowwidth": 1
          },
          "coloraxis": {
           "colorbar": {
            "outlinewidth": 0,
            "ticks": ""
           }
          },
          "colorscale": {
           "diverging": [
            [
             0,
             "#8e0152"
            ],
            [
             0.1,
             "#c51b7d"
            ],
            [
             0.2,
             "#de77ae"
            ],
            [
             0.3,
             "#f1b6da"
            ],
            [
             0.4,
             "#fde0ef"
            ],
            [
             0.5,
             "#f7f7f7"
            ],
            [
             0.6,
             "#e6f5d0"
            ],
            [
             0.7,
             "#b8e186"
            ],
            [
             0.8,
             "#7fbc41"
            ],
            [
             0.9,
             "#4d9221"
            ],
            [
             1,
             "#276419"
            ]
           ],
           "sequential": [
            [
             0,
             "#0d0887"
            ],
            [
             0.1111111111111111,
             "#46039f"
            ],
            [
             0.2222222222222222,
             "#7201a8"
            ],
            [
             0.3333333333333333,
             "#9c179e"
            ],
            [
             0.4444444444444444,
             "#bd3786"
            ],
            [
             0.5555555555555556,
             "#d8576b"
            ],
            [
             0.6666666666666666,
             "#ed7953"
            ],
            [
             0.7777777777777778,
             "#fb9f3a"
            ],
            [
             0.8888888888888888,
             "#fdca26"
            ],
            [
             1,
             "#f0f921"
            ]
           ],
           "sequentialminus": [
            [
             0,
             "#0d0887"
            ],
            [
             0.1111111111111111,
             "#46039f"
            ],
            [
             0.2222222222222222,
             "#7201a8"
            ],
            [
             0.3333333333333333,
             "#9c179e"
            ],
            [
             0.4444444444444444,
             "#bd3786"
            ],
            [
             0.5555555555555556,
             "#d8576b"
            ],
            [
             0.6666666666666666,
             "#ed7953"
            ],
            [
             0.7777777777777778,
             "#fb9f3a"
            ],
            [
             0.8888888888888888,
             "#fdca26"
            ],
            [
             1,
             "#f0f921"
            ]
           ]
          },
          "colorway": [
           "#636efa",
           "#EF553B",
           "#00cc96",
           "#ab63fa",
           "#FFA15A",
           "#19d3f3",
           "#FF6692",
           "#B6E880",
           "#FF97FF",
           "#FECB52"
          ],
          "font": {
           "color": "#2a3f5f"
          },
          "geo": {
           "bgcolor": "white",
           "lakecolor": "white",
           "landcolor": "#E5ECF6",
           "showlakes": true,
           "showland": true,
           "subunitcolor": "white"
          },
          "hoverlabel": {
           "align": "left"
          },
          "hovermode": "closest",
          "mapbox": {
           "style": "light"
          },
          "paper_bgcolor": "white",
          "plot_bgcolor": "#E5ECF6",
          "polar": {
           "angularaxis": {
            "gridcolor": "white",
            "linecolor": "white",
            "ticks": ""
           },
           "bgcolor": "#E5ECF6",
           "radialaxis": {
            "gridcolor": "white",
            "linecolor": "white",
            "ticks": ""
           }
          },
          "scene": {
           "xaxis": {
            "backgroundcolor": "#E5ECF6",
            "gridcolor": "white",
            "gridwidth": 2,
            "linecolor": "white",
            "showbackground": true,
            "ticks": "",
            "zerolinecolor": "white"
           },
           "yaxis": {
            "backgroundcolor": "#E5ECF6",
            "gridcolor": "white",
            "gridwidth": 2,
            "linecolor": "white",
            "showbackground": true,
            "ticks": "",
            "zerolinecolor": "white"
           },
           "zaxis": {
            "backgroundcolor": "#E5ECF6",
            "gridcolor": "white",
            "gridwidth": 2,
            "linecolor": "white",
            "showbackground": true,
            "ticks": "",
            "zerolinecolor": "white"
           }
          },
          "shapedefaults": {
           "line": {
            "color": "#2a3f5f"
           }
          },
          "ternary": {
           "aaxis": {
            "gridcolor": "white",
            "linecolor": "white",
            "ticks": ""
           },
           "baxis": {
            "gridcolor": "white",
            "linecolor": "white",
            "ticks": ""
           },
           "bgcolor": "#E5ECF6",
           "caxis": {
            "gridcolor": "white",
            "linecolor": "white",
            "ticks": ""
           }
          },
          "title": {
           "x": 0.05
          },
          "xaxis": {
           "automargin": true,
           "gridcolor": "white",
           "linecolor": "white",
           "ticks": "",
           "title": {
            "standoff": 15
           },
           "zerolinecolor": "white",
           "zerolinewidth": 2
          },
          "yaxis": {
           "automargin": true,
           "gridcolor": "white",
           "linecolor": "white",
           "ticks": "",
           "title": {
            "standoff": 15
           },
           "zerolinecolor": "white",
           "zerolinewidth": 2
          }
         }
        },
        "title": {
         "text": " Mapa de calor entre palabras - Twits relacionados con la \"Selección\""
        },
        "width": 800
       }
      },
      "text/html": [
       "<div>                            <div id=\"158c2e7f-9d9e-42ba-a060-737b16753859\" class=\"plotly-graph-div\" style=\"height:800px; width:800px;\"></div>            <script type=\"text/javascript\">                require([\"plotly\"], function(Plotly) {                    window.PLOTLYENV=window.PLOTLYENV || {};                                    if (document.getElementById(\"158c2e7f-9d9e-42ba-a060-737b16753859\")) {                    Plotly.newPlot(                        \"158c2e7f-9d9e-42ba-a060-737b16753859\",                        [{\"colorscale\": [[0.0, \"rgb(247,251,255)\"], [0.125, \"rgb(222,235,247)\"], [0.25, \"rgb(198,219,239)\"], [0.375, \"rgb(158,202,225)\"], [0.5, \"rgb(107,174,214)\"], [0.625, \"rgb(66,146,198)\"], [0.75, \"rgb(33,113,181)\"], [0.875, \"rgb(8,81,156)\"], [1.0, \"rgb(8,48,107)\"]], \"type\": \"heatmap\", \"x\": [\"hoy\", \"juega selecci\\u00f3n\", \"juega\", \"hoy juega\", \"siempre\", \"luis d\\u00edaz\", \"luis\", \"d\\u00edaz\", \"colombia\", \"selecci\\u00f3n colombia\", \"partido\", \"partido selecci\\u00f3n\", \"vamos selecci\\u00f3n\", \"vamos\", \"partidos\", \"partidos selecci\\u00f3n\", \"jugando\", \"mina\", \"tan\", \"hace\", \"mal\", \"falta\", \"cuadrado selecci\\u00f3n\", \"cuadrado\", \"si\", \"queiroz\", \"seleccion\", \"selecci\\u00f3n\", \"va\", \"uruguay\", \"ser\", \"pa\\u00eds\", \"as\\u00ed\", \"lateral\", \"liga\", \"ver\", \"jugar\", \"jugadores\", \"jugador\", \"gran\", \"gol\", \"f\\u00fatbol\", \"equipo\", \"debe\", \"camiseta\", \"bien\", \"barranquilla\", \"a\\u00f1os\", \"mejor\", \"vez\"], \"y\": [\"hoy\", \"juega selecci\\u00f3n\", \"juega\", \"hoy juega\", \"siempre\", \"luis d\\u00edaz\", \"luis\", \"d\\u00edaz\", \"colombia\", \"selecci\\u00f3n colombia\", \"partido\", \"partido selecci\\u00f3n\", \"vamos selecci\\u00f3n\", \"vamos\", \"partidos\", \"partidos selecci\\u00f3n\", \"jugando\", \"mina\", \"tan\", \"hace\", \"mal\", \"falta\", \"cuadrado selecci\\u00f3n\", \"cuadrado\", \"si\", \"queiroz\", \"seleccion\", \"selecci\\u00f3n\", \"va\", \"uruguay\", \"ser\", \"pa\\u00eds\", \"as\\u00ed\", \"lateral\", \"liga\", \"ver\", \"jugar\", \"jugadores\", \"jugador\", \"gran\", \"gol\", \"f\\u00fatbol\", \"equipo\", \"debe\", \"camiseta\", \"bien\", \"barranquilla\", \"a\\u00f1os\", \"mejor\", \"vez\"], \"z\": [[1.0000000000000009, 0.2920200378090734, 0.2901977073029096, 0.5468709584903407, 0.15466124945098852, 0.0, 0.0, 0.0, 0.31586634414030745, 0.33629415800011675, 0.03727722379715917, 0.029367732268780724, 0.025597411790756846, 0.10225546440912749, 0.00709877470708179, 0.011134415923573816, 0.0, 0.0, 0.03652828803334966, 0.0, 0.0, 0.0, 0.0, 0.0, 0.0, 0.0, 0.046742674984207214, 0.11648213013807318, 0.06294441300334225, 0.03622323923196872, 0.0, 0.233603424620518, 0.0, 0.0, 0.08325023069558425, 0.0, 0.0, 0.0, 0.0, 0.06617738098119719, 0.08000693454767248, 0.09280059734875917, 0.06598343834951491, 0.0, 0.015190626409897458, 0.0, 0.0, 0.0, 0.0, 0.0], [0.2920200378090734, 1.0000000000000004, 0.7652263138166588, 0.49655110902877675, 0.22996582285742379, 0.0, 0.0, 0.0, 0.09910719514267613, 0.11081731092650078, 0.0, 0.0, 0.0, 0.0, 0.008881958682617883, 0.013931336923484338, 0.0173724104680077, 0.014923489976734, 0.0, 0.011433680635070763, 0.04348478450067919, 0.0, 0.0, 0.007936964651310762, 0.0, 0.0, 0.0, 0.09518916958286908, 0.0, 0.0, 0.015756449224571173, 0.05134671056699374, 0.0, 0.0, 0.0, 0.020728593992950607, 0.0, 0.0, 0.0, 0.0, 0.017222014456247, 0.03468152399631149, 0.0, 0.022387397861648544, 0.01900645135296286, 0.0, 0.026810293334805484, 0.0, 0.0, 0.02654270769359656], [0.2901977073029096, 0.7652263138166588, 0.9999999999999998, 0.5062014573615591, 0.1906823639777555, 0.037947860080072775, 0.02710321778854469, 0.02552566272284618, 0.08277352039037203, 0.0925537135056208, 0.021817874123594195, 0.03546903500501572, 0.0, 0.0, 0.006796708502171545, 0.010660625600495825, 0.01329382562454346, 0.03698188469824782, 0.0, 0.00874935328573211, 0.07181305467094652, 0.0, 0.059255676113576614, 0.07620128678976762, 0.0, 0.028626130120064108, 0.04512529285794044, 0.1173736031074338, 0.0, 0.0, 0.012057249558957945, 0.039291854053791486, 0.0, 0.07245044645687741, 0.0, 0.015862065571827722, 0.0, 0.0, 0.0, 0.0, 0.013178738638851096, 0.026539214765241424, 0.0, 0.09048031667506881, 0.01454423670756341, 0.20767536893085095, 0.020515941940936522, 0.0, 0.0, 0.049711916762671254], [0.5468709584903407, 0.49655110902877675, 0.5062014573615591, 1.0, 0.2925319958483533, 0.0, 0.0, 0.0, 0.13764963248250894, 0.15391377083947255, 0.0, 0.0, 0.0, 0.0, 0.013426884500881503, 0.02106004525562118, 0.0, 0.0, 0.0, 0.0, 0.0, 0.0, 0.0, 0.0, 0.0, 0.0, 0.0, 0.06251682723842976, 0.0, 0.0, 0.0, 0.04771102083835779, 0.0, 0.0, 0.0, 0.0, 0.0, 0.0, 0.0, 0.0, 0.0, 0.0, 0.0, 0.0, 0.028732111486544098, 0.0, 0.0, 0.0, 0.0, 0.0], [0.15466124945098852, 0.22996582285742379, 0.1906823639777555, 0.2925319958483533, 1.0000000000000002, 0.0, 0.0, 0.0, 0.1434850968579225, 0.16043873069894354, 0.0, 0.0, 0.0, 0.0, 0.06217841793297644, 0.013893850556121226, 0.0, 0.0, 0.026582821353463237, 0.08937889211887012, 0.0, 0.042390095057106766, 0.02750848863643487, 0.012521993723215242, 0.0, 0.0, 0.024331450601029543, 0.08827019964821312, 0.0, 0.0, 0.0, 0.0, 0.0, 0.0, 0.0, 0.10998758064434558, 0.0, 0.0, 0.05589528111860444, 0.04073075956679286, 0.030424387965922273, 0.0, 0.13756766047828517, 0.0, 0.018955308894661876, 0.029648671085731746, 0.0, 0.0, 0.08947047546696521, 0.0], [0.0, 0.0, 0.037947860080072775, 0.0, 0.0, 0.9999999999999998, 0.7142225604119681, 0.6726509128310568, 0.13348949999599766, 0.129711908373669, 0.0, 0.0, 0.0, 0.0, 0.0, 0.0, 0.0, 0.0, 0.0, 0.0, 0.0, 0.0, 0.0, 0.0, 0.0, 0.07539411382708966, 0.0, 0.03865332108378938, 0.0, 0.02647616351910214, 0.0, 0.0, 0.0, 0.0, 0.0, 0.0, 0.0, 0.0, 0.0, 0.0, 0.0, 0.0, 0.0, 0.0, 0.0, 0.0, 0.0, 0.0, 0.16847679767222049, 0.1284588691740194], [0.0, 0.0, 0.02710321778854469, 0.0, 0.0, 0.7142225604119681, 0.9999999999999998, 0.4804224572256451, 0.09534121247525486, 0.09264317131456448, 0.0, 0.0, 0.0, 0.0, 0.0, 0.0, 0.0, 0.0, 0.0, 0.0, 0.0, 0.020265852883817548, 0.0, 0.0, 0.0, 0.05384817701757534, 0.0, 0.05922751547041294, 0.0, 0.018909873298499077, 0.02228097318853034, 0.0, 0.0, 0.0, 0.0, 0.0, 0.0, 0.0, 0.022173636134380056, 0.0, 0.0, 0.0, 0.025360467960760465, 0.033939400352923935, 0.0, 0.0, 0.0, 0.0, 0.12032992980346245, 0.0917482224490942], [0.0, 0.0, 0.02552566272284618, 0.0, 0.0, 0.6726509128310568, 0.4804224572256451, 1.0, 0.12423016982719086, 0.08725083357260688, 0.0, 0.0, 0.0, 0.0, 0.0, 0.0, 0.0, 0.0, 0.0, 0.0, 0.0, 0.0, 0.0, 0.0, 0.0, 0.050713919487880475, 0.0, 0.05483772501139898, 0.16035722966808122, 0.017809215559388386, 0.0, 0.0, 0.0, 0.0, 0.0, 0.0, 0.0, 0.0, 0.0, 0.0, 0.0, 0.0, 0.0, 0.0, 0.0, 0.0, 0.0, 0.0, 0.11332607174507241, 0.08640797561114949], [0.31586634414030745, 0.09910719514267613, 0.08277352039037203, 0.13764963248250894, 0.1434850968579225, 0.13348949999599766, 0.09534121247525486, 0.12423016982719086, 1.0000000000000009, 0.9223469899996063, 0.1916496596214174, 0.14704790035830767, 0.05011229354632448, 0.060464604992476446, 0.04442936416843296, 0.06968738131353125, 0.023288581270557485, 0.044100696589126624, 0.10455647361576091, 0.07118871226927843, 0.0, 0.07853794090789858, 0.0059129292703325965, 0.0026915932818952683, 0.05103215101473981, 0.06604149926250333, 0.014021077005474744, 0.23056657753384688, 0.10516797335705562, 0.26375315512574793, 0.010371184232466312, 0.07176775149800148, 0.07763069941852571, 0.007499047815080436, 0.06673788267738472, 0.038053306427167706, 0.049232605423430664, 0.04233119817284767, 0.06341466720507972, 0.01565616444769242, 0.07709562631024645, 0.19453843112332983, 0.1618475008416708, 0.0, 0.06147279875502502, 0.036013635938904526, 0.07482624344828101, 0.07735303176238457, 0.05203620002850467, 0.06123122896292371], [0.33629415800011675, 0.11081731092650078, 0.0925537135056208, 0.15391377083947255, 0.16043873069894354, 0.129711908373669, 0.09264317131456448, 0.08725083357260688, 0.9223469899996063, 1.0000000000000004, 0.17769508896975686, 0.13596123078402875, 0.05603336475387576, 0.06760886454160206, 0.049678962826381706, 0.07792136778321382, 0.026040268297181913, 0.04190166654596904, 0.11691045467865291, 0.07960009009078292, 0.0, 0.0878176746359157, 0.006611577701230875, 0.0030096213415995413, 0.05706190895733845, 0.07384470267057022, 0.0, 0.2270151735963065, 0.06888587982549148, 0.18139085921160406, 0.0, 0.08024754631387215, 0.08680323706588339, 0.00838510576532925, 0.07462336800662248, 0.04254953521840719, 0.055049736147569896, 0.047332885801666634, 0.07090749448462427, 0.01750603516746352, 0.08620494182684217, 0.15663453348628895, 0.17206610620414636, 0.0, 0.023350537365512205, 0.028491514203051287, 0.0703546812812658, 0.07377458367641213, 0.05818459244750933, 0.0331902662806032], [0.03727722379715917, 0.0, 0.021817874123594195, 0.0, 0.0, 0.0, 0.0, 0.0, 0.1916496596214174, 0.17769508896975686, 0.9999999999999994, 0.6309302328444439, 0.0, 0.0, 0.01908178926316061, 0.029929753653128208, 0.03807088320857957, 0.06073139596760535, 0.03099517666256605, 0.1605818183921049, 0.0, 0.031088026332880155, 0.012442626722176917, 0.0442923611615578, 0.13439183758105303, 0.01082819351392496, 0.0, 0.10909634191596286, 0.0, 0.05463814199659949, 0.029591563465595244, 0.0, 0.08867065288933812, 0.01578030929660584, 0.0, 0.030198311058208433, 0.06823019763686394, 0.06805211074889687, 0.0, 0.0, 0.0, 0.08160104182210949, 0.03930197104026265, 0.0, 0.0, 0.05343033623354602, 0.10267530040359885, 0.07625742061738651, 0.0, 0.08850451536220796], [0.029367732268780724, 0.0, 0.03546903500501572, 0.0, 0.0, 0.0, 0.0, 0.0, 0.14704790035830767, 0.13596123078402875, 0.6309302328444439, 1.0, 0.0, 0.0, 0.0, 0.0, 0.0, 0.0, 0.025194228360734892, 0.08834916703300033, 0.0, 0.05053940122632482, 0.0, 0.030006835682220356, 0.0, 0.0, 0.0, 0.07374932254225346, 0.0, 0.0, 0.0, 0.0, 0.09268576574176708, 0.0, 0.0, 0.04909300264307779, 0.08838670615045202, 0.0, 0.0, 0.0, 0.0, 0.04941419084075053, 0.0, 0.0, 0.0, 0.0, 0.0716290015687523, 0.12397069970924898, 0.0, 0.14388064280237817], [0.025597411790756846, 0.0, 0.0, 0.0, 0.0, 0.0, 0.0, 0.0, 0.05011229354632448, 0.05603336475387576, 0.0, 0.0, 0.9999999999999996, 0.7656947672370791, 0.0, 0.0, 0.0, 0.0, 0.0, 0.0, 0.0, 0.0, 0.0, 0.020115943665042615, 0.0, 0.0, 0.0, 0.06094751808678635, 0.0549204992119321, 0.0, 0.0, 0.0, 0.0, 0.05604502894411989, 0.0, 0.0, 0.0, 0.0, 0.0, 0.0, 0.0, 0.0, 0.0, 0.0, 0.0, 0.0, 0.0, 0.0, 0.0, 0.0], [0.10225546440912749, 0.0, 0.0, 0.0, 0.0, 0.0, 0.0, 0.0, 0.060464604992476446, 0.06760886454160206, 0.0, 0.0, 0.7656947672370791, 1.0000000000000002, 0.0, 0.0, 0.0, 0.0, 0.0, 0.0, 0.0, 0.0, 0.0, 0.01540267280235901, 0.0, 0.0, 0.16831787967550843, 0.06754289636823964, 0.04205233886062456, 0.0, 0.0, 0.0, 0.0, 0.04291338539216326, 0.0, 0.0, 0.0, 0.0, 0.0, 0.0966508388002985, 0.0, 0.0, 0.0, 0.0, 0.0, 0.0, 0.0, 0.0, 0.0, 0.0], [0.00709877470708179, 0.008881958682617883, 0.006796708502171545, 0.013426884500881503, 0.06217841793297644, 0.0, 0.0, 0.0, 0.04442936416843296, 0.049678962826381706, 0.01908178926316061, 0.0, 0.0, 0.0, 1.0, 0.7095240351525905, 0.0614031721628957, 0.0, 0.0, 0.0, 0.0, 0.0, 0.0, 0.06770626054383115, 0.0, 0.0, 0.015275354169839661, 0.08284829392245324, 0.0, 0.1097363219268612, 0.0, 0.0, 0.0, 0.0452149817216196, 0.0, 0.038014049834520496, 0.024237656746713084, 0.0, 0.032443489018629576, 0.0, 0.0, 0.11796227269430258, 0.0, 0.0, 0.02247194749800431, 0.0, 0.0, 0.0, 0.0167018580131486, 0.0], [0.011134415923573816, 0.013931336923484338, 0.010660625600495825, 0.02106004525562118, 0.013893850556121226, 0.0, 0.0, 0.0, 0.06968738131353125, 0.07792136778321382, 0.029929753653128208, 0.0, 0.0, 0.0, 0.7095240351525905, 0.9999999999999998, 0.0, 0.0, 0.0, 0.0, 0.0, 0.0, 0.0, 0.0, 0.0, 0.0, 0.0, 0.05139549312616144, 0.0, 0.12650113327637444, 0.0, 0.0, 0.0, 0.0, 0.0, 0.05962497181024239, 0.0, 0.0, 0.0, 0.0, 0.0, 0.18502362191577948, 0.0, 0.0, 0.035247211015991334, 0.0, 0.0, 0.0, 0.0, 0.0], [0.0, 0.0173724104680077, 0.01329382562454346, 0.0, 0.0, 0.0, 0.0, 0.0, 0.023288581270557485, 0.026040268297181913, 0.03807088320857957, 0.0, 0.0, 0.0, 0.0614031721628957, 0.0, 1.0000000000000002, 0.0759909026512455, 0.16596298113205044, 0.09055575620355817, 0.26139126631156917, 0.0, 0.0, 0.0, 0.05104348146617149, 0.0, 0.0, 0.06984495945524616, 0.0, 0.0, 0.02096014713602149, 0.0, 0.0, 0.0, 0.0, 0.0, 0.0, 0.0, 0.0, 0.0, 0.0, 0.0, 0.06746433410683471, 0.0, 0.0, 0.0, 0.0, 0.04886977284705963, 0.0, 0.0], [0.0, 0.014923489976734, 0.03698188469824782, 0.0, 0.0, 0.0, 0.0, 0.0, 0.044100696589126624, 0.04190166654596904, 0.06073139596760535, 0.0, 0.0, 0.0, 0.0, 0.0, 0.0759909026512455, 1.0, 0.043458603709557585, 0.2079292375827048, 0.28453404074021615, 0.0, 0.0, 0.0, 0.07339843704095549, 0.0, 0.052209884320314315, 0.07534415928245826, 0.09105477722726976, 0.029159354382679244, 0.10373003064259961, 0.0, 0.0, 0.0, 0.0, 0.0, 0.0, 0.04675284596168304, 0.110764926264844, 0.0, 0.06528397349847906, 0.0, 0.08266538528382528, 0.0, 0.0, 0.025766914035337627, 0.0, 0.08277126203664595, 0.0, 0.0], [0.03652828803334966, 0.0, 0.0, 0.0, 0.026582821353463237, 0.0, 0.0, 0.0, 0.10455647361576091, 0.11691045467865291, 0.03099517666256605, 0.025194228360734892, 0.0, 0.0, 0.0, 0.0, 0.16596298113205044, 0.043458603709557585, 0.9999999999999998, 0.0787828083244138, 0.2149354054321451, 0.0, 0.0, 0.0, 0.06510617462619621, 0.0, 0.08951192922483062, 0.07268702472275813, 0.04757399848431008, 0.022478505068934656, 0.08263229689083049, 0.0, 0.0, 0.0, 0.0, 0.08351718420110615, 0.0, 0.0, 0.04602347922790909, 0.0, 0.03768389895761681, 0.0, 0.0, 0.0, 0.05756197274968033, 0.0, 0.0, 0.0, 0.0, 0.0], [0.0, 0.011433680635070763, 0.00874935328573211, 0.0, 0.08937889211887012, 0.0, 0.0, 0.0, 0.07118871226927843, 0.07960009009078292, 0.1605818183921049, 0.08834916703300033, 0.0, 0.0, 0.0, 0.0, 0.09055575620355817, 0.2079292375827048, 0.0787828083244138, 1.0, 0.019697847176781896, 0.4757185829470555, 0.028114343725200566, 0.10165315568880581, 0.029193641969578764, 0.05681622784881257, 0.0, 0.10954421214454081, 0.0, 0.0, 0.04604176138821381, 0.0, 0.0, 0.03565589883557438, 0.0, 0.021720521192468516, 0.034665703221724804, 0.0, 0.03075682182331277, 0.0, 0.0, 0.039469079057254955, 0.044401762890404574, 0.0, 0.0, 0.0, 0.0, 0.16163120355077182, 0.0, 0.027812858178433375], [0.0, 0.04348478450067919, 0.07181305467094652, 0.0, 0.0, 0.0, 0.0, 0.0, 0.0, 0.0, 0.0, 0.0, 0.0, 0.0, 0.0, 0.0, 0.26139126631156917, 0.28453404074021615, 0.2149354054321451, 0.019697847176781896, 0.9999999999999996, 0.0, 0.0, 0.013673734796255468, 0.0, 0.0, 0.0787116739387059, 0.04266433480138389, 0.13727427342499834, 0.0, 0.027145075919151357, 0.03408647145066957, 0.0, 0.0, 0.0, 0.10344500603143769, 0.16509704565002692, 0.025935522039689907, 0.0, 0.0, 0.1280921230513077, 0.0, 0.0, 0.03856881749975848, 0.0, 0.03884622542952131, 0.0, 0.0, 0.0, 0.0], [0.0, 0.0, 0.0, 0.0, 0.042390095057106766, 0.0, 0.020265852883817548, 0.0, 0.07853794090789858, 0.0878176746359157, 0.031088026332880155, 0.05053940122632482, 0.0, 0.0, 0.0, 0.0, 0.0, 0.0, 0.0, 0.4757185829470555, 0.0, 1.0000000000000002, 0.0, 0.052275977597392054, 0.0, 0.0, 0.0, 0.08093817353573475, 0.0, 0.0, 0.016986381377190864, 0.0, 0.04859558757542985, 0.0, 0.0, 0.0, 0.0, 0.0, 0.05545633494466696, 0.0, 0.0, 0.0, 0.019334100761238864, 0.02587443525154023, 0.0, 0.0, 0.0, 0.1274550630249481, 0.0, 0.06264014119777965], [0.0, 0.0, 0.059255676113576614, 0.0, 0.02750848863643487, 0.0, 0.0, 0.0, 0.0059129292703325965, 0.006611577701230875, 0.012442626722176917, 0.0, 0.0, 0.0, 0.0, 0.0, 0.0, 0.0, 0.0, 0.028114343725200566, 0.0, 0.0, 1.0, 0.5187385939583037, 0.08639981737649817, 0.0, 0.0, 0.06640344719466601, 0.0, 0.0, 0.0, 0.0, 0.10955013029608231, 0.02914659161964322, 0.0, 0.12789817140574364, 0.0, 0.0, 0.03752082810594333, 0.0, 0.0, 0.0, 0.0, 0.0, 0.0, 0.04255236819892855, 0.0, 0.0, 0.0, 0.0], [0.0, 0.007936964651310762, 0.07620128678976762, 0.0, 0.012521993723215242, 0.0, 0.0, 0.0, 0.0026915932818952683, 0.0030096213415995413, 0.0442923611615578, 0.030006835682220356, 0.020115943665042615, 0.01540267280235901, 0.06770626054383115, 0.0, 0.0, 0.0, 0.0, 0.10165315568880581, 0.013673734796255468, 0.052275977597392054, 0.5187385939583037, 1.0000000000000002, 0.03932960422414789, 0.089752986687094, 0.03842246468149316, 0.12773344133682724, 0.01796801522067506, 0.008014152271729054, 0.012642160098567036, 0.012891528776639061, 0.049867735813302005, 0.2940787286265555, 0.0, 0.05821985063302228, 0.013356911236350974, 0.0, 0.017079657855508835, 0.0, 0.011221192990192069, 0.0, 0.0, 0.07704053650715338, 0.0, 0.07010987385146773, 0.0, 0.0, 0.19480036702552386, 0.03719142645983305], [0.0, 0.0, 0.0, 0.0, 0.0, 0.0, 0.0, 0.0, 0.05103215101473981, 0.05706190895733845, 0.13439183758105303, 0.0, 0.0, 0.0, 0.0, 0.0, 0.05104348146617149, 0.07339843704095549, 0.06510617462619621, 0.029193641969578764, 0.0, 0.0, 0.08639981737649817, 0.03932960422414789, 1.0, 0.0, 0.0, 0.06559125341151663, 0.09037981263616537, 0.11227628477523117, 0.0, 0.0, 0.08980492658479153, 0.0, 0.0, 0.1331397908910395, 0.0, 0.0, 0.0, 0.0, 0.07806440972903288, 0.052896950957719215, 0.11791861829438717, 0.0, 0.0, 0.08518346998778539, 0.0, 0.08499020615850936, 0.0, 0.17243845896172483], [0.0, 0.0, 0.028626130120064108, 0.0, 0.0, 0.07539411382708966, 0.05384817701757534, 0.050713919487880475, 0.06604149926250333, 0.07384470267057022, 0.01082819351392496, 0.0, 0.0, 0.0, 0.0, 0.0, 0.0, 0.0, 0.0, 0.05681622784881257, 0.0, 0.0, 0.0, 0.089752986687094, 0.0, 0.9999999999999996, 0.0, 0.046608170127783406, 0.0, 0.011321156114357144, 0.058886733826466996, 0.0, 0.0, 0.0, 0.0, 0.0, 0.0271938049880428, 0.10575663273912053, 0.0, 0.0, 0.0782106164140789, 0.0, 0.0, 0.18227326995170243, 0.0, 0.04311186106875841, 0.0, 0.0, 0.0, 0.058412848906897935], [0.046742674984207214, 0.0, 0.04512529285794044, 0.0, 0.024331450601029543, 0.0, 0.0, 0.0, 0.014021077005474744, 0.0, 0.0, 0.0, 0.0, 0.16831787967550843, 0.015275354169839661, 0.0, 0.0, 0.052209884320314315, 0.08951192922483062, 0.0, 0.0787116739387059, 0.0, 0.0, 0.03842246468149316, 0.0, 0.0, 1.0, 0.0, 0.03708343775160024, 0.0, 0.0, 0.0, 0.0, 0.10704882560000678, 0.0, 0.026371035637549965, 0.0, 0.03886757345920364, 0.031025487649661076, 0.03411292749483707, 0.09908617679076073, 0.0, 0.0, 0.10837631782921839, 0.0481633475297745, 0.06948711366664362, 0.0, 0.0, 0.015971873099585112, 0.07033201864218722], [0.11648213013807318, 0.09518916958286908, 0.1173736031074338, 0.06251682723842976, 0.08827019964821312, 0.03865332108378938, 0.05922751547041294, 0.05483772501139898, 0.23056657753384688, 0.2270151735963065, 0.10909634191596286, 0.07374932254225346, 0.06094751808678635, 0.06754289636823964, 0.08284829392245324, 0.05139549312616144, 0.06984495945524616, 0.07534415928245826, 0.07268702472275813, 0.10954421214454081, 0.04266433480138389, 0.08093817353573475, 0.06640344719466601, 0.12773344133682724, 0.06559125341151663, 0.046608170127783406, 0.0, 0.9999999999999973, 0.044114920630885866, 0.09142346149399506, 0.0698107222836741, 0.052107276852703, 0.05833605566072597, 0.04072429096022721, 0.053624491546545056, 0.07595113539678339, 0.04773984516686588, 0.11610271502335978, 0.06882022242370932, 0.047914857877716446, 0.0575759028980649, 0.0483338955392947, 0.05284334022737524, 0.030685994209906073, 0.069488328229835, 0.04736612673752978, 0.0613996419473886, 0.07021706668316462, 0.07384405446407556, 0.04309065403625601], [0.06294441300334225, 0.0, 0.0, 0.0, 0.0, 0.0, 0.0, 0.16035722966808122, 0.10516797335705562, 0.06888587982549148, 0.0, 0.0, 0.0549204992119321, 0.04205233886062456, 0.0, 0.0, 0.0, 0.09105477722726976, 0.04757399848431008, 0.0, 0.13727427342499834, 0.0, 0.0, 0.01796801522067506, 0.09037981263616537, 0.0, 0.03708343775160024, 0.044114920630885866, 1.0000000000000002, 0.06582539724417144, 0.03327202773306198, 0.0, 0.0, 0.050060685686901724, 0.0, 0.03999535119521131, 0.0, 0.08827951093541471, 0.0, 0.051737009278090905, 0.0, 0.0, 0.2363246097423595, 0.0, 0.0, 0.04254336690439015, 0.0, 0.0, 0.0, 0.0], [0.03622323923196872, 0.0, 0.0, 0.0, 0.0, 0.02647616351910214, 0.018909873298499077, 0.017809215559388386, 0.26375315512574793, 0.18139085921160406, 0.05463814199659949, 0.0, 0.0, 0.0, 0.1097363219268612, 0.12650113327637444, 0.0, 0.029159354382679244, 0.022478505068934656, 0.0, 0.0, 0.0, 0.0, 0.008014152271729054, 0.11227628477523117, 0.011321156114357144, 0.0, 0.09142346149399506, 0.06582539724417144, 1.0, 0.0, 0.0, 0.03935157909044631, 0.0, 0.0, 0.0, 0.01449241524900859, 0.030221046342073583, 0.0, 0.0, 0.03833349070470754, 0.023829055903725506, 0.11646697970893473, 0.0, 0.0, 0.07903617584781318, 0.06734440319260114, 0.0, 0.0, 0.020512849886696997], [0.0, 0.015756449224571173, 0.012057249558957945, 0.0, 0.0, 0.0, 0.02228097318853034, 0.0, 0.010371184232466312, 0.0, 0.029591563465595244, 0.0, 0.0, 0.0, 0.0, 0.0, 0.02096014713602149, 0.10373003064259961, 0.08263229689083049, 0.04604176138821381, 0.027145075919151357, 0.016986381377190864, 0.0, 0.012642160098567036, 0.0, 0.058886733826466996, 0.0, 0.0698107222836741, 0.03327202773306198, 0.0, 1.0, 0.0, 0.0, 0.03522232118156441, 0.0, 0.08157297107427923, 0.0, 0.11854136200926807, 0.018585442322952905, 0.0, 0.0, 0.04467514611016539, 0.021256572973027483, 0.17081500677432715, 0.0, 0.029933192338267172, 0.28230880524552515, 0.03726404803904454, 0.0, 0.0], [0.233603424620518, 0.05134671056699374, 0.039291854053791486, 0.04771102083835779, 0.0, 0.0, 0.0, 0.0, 0.07176775149800148, 0.08024754631387215, 0.0, 0.0, 0.0, 0.0, 0.0, 0.0, 0.0, 0.0, 0.0, 0.0, 0.03408647145066957, 0.0, 0.0, 0.012891528776639061, 0.0, 0.0, 0.0, 0.052107276852703, 0.0, 0.0, 0.0, 1.0, 0.0, 0.0, 0.22428423175260678, 0.0, 0.0, 0.0, 0.0, 0.0, 0.027972670247150038, 0.0, 0.13409428662326114, 0.03636248823658897, 0.0, 0.08722666679073506, 0.05015716533566994, 0.0, 0.0, 0.0], [0.0, 0.0, 0.0, 0.0, 0.0, 0.0, 0.0, 0.0, 0.07763069941852571, 0.08680323706588339, 0.08867065288933812, 0.09268576574176708, 0.0, 0.0, 0.0, 0.0, 0.0, 0.0, 0.0, 0.0, 0.0, 0.04859558757542985, 0.10955013029608231, 0.049867735813302005, 0.08980492658479153, 0.0, 0.0, 0.05833605566072597, 0.0, 0.03935157909044631, 0.0, 0.0, 1.0000000000000002, 0.09117319035591952, 0.0, 0.15255168278965073, 0.0945159050110974, 0.0, 0.0, 0.06324910220934074, 0.0, 0.07704051386774424, 0.0, 0.0, 0.0, 0.0, 0.06443037457457038, 0.0, 0.0, 0.0], [0.0, 0.0, 0.07245044645687741, 0.0, 0.0, 0.0, 0.0, 0.0, 0.007499047815080436, 0.00838510576532925, 0.01578030929660584, 0.0, 0.05604502894411989, 0.04291338539216326, 0.0452149817216196, 0.0, 0.0, 0.0, 0.0, 0.03565589883557438, 0.0, 0.0, 0.02914659161964322, 0.2940787286265555, 0.0, 0.0, 0.10704882560000678, 0.04072429096022721, 0.050060685686901724, 0.0, 0.03522232118156441, 0.0, 0.09117319035591952, 0.9999999999999998, 0.0, 0.0, 0.07442737853220613, 0.0, 0.0, 0.0, 0.0, 0.0, 0.0, 0.17400247432848873, 0.0, 0.045037114818299806, 0.0, 0.0, 0.0, 0.0], [0.08325023069558425, 0.0, 0.0, 0.0, 0.0, 0.0, 0.0, 0.0, 0.06673788267738472, 0.07462336800662248, 0.0, 0.0, 0.0, 0.0, 0.0, 0.0, 0.0, 0.0, 0.0, 0.0, 0.0, 0.0, 0.0, 0.0, 0.0, 0.0, 0.0, 0.053624491546545056, 0.0, 0.0, 0.0, 0.22428423175260678, 0.0, 0.0, 0.9999999999999998, 0.0, 0.0, 0.0, 0.0, 0.2099570383535329, 0.0, 0.0, 0.14304350820566725, 0.0, 0.0, 0.0, 0.053504568106045876, 0.19490398952841112, 0.0, 0.0], [0.0, 0.020728593992950607, 0.015862065571827722, 0.0, 0.10998758064434558, 0.0, 0.0, 0.0, 0.038053306427167706, 0.04254953521840719, 0.030198311058208433, 0.04909300264307779, 0.0, 0.0, 0.038014049834520496, 0.05962497181024239, 0.0, 0.0, 0.08351718420110615, 0.021720521192468516, 0.10344500603143769, 0.0, 0.12789817140574364, 0.05821985063302228, 0.1331397908910395, 0.0, 0.026371035637549965, 0.07595113539678339, 0.03999535119521131, 0.0, 0.08157297107427923, 0.0, 0.15255168278965073, 0.0, 0.0, 0.9999999999999999, 0.242612992074418, 0.0, 0.03196570946485153, 0.03679158670757037, 0.0, 0.06314569770233788, 0.0, 0.0, 0.0, 0.0, 0.03269353108062155, 0.0, 0.0, 0.0711058279640071], [0.0, 0.0, 0.0, 0.0, 0.0, 0.0, 0.0, 0.0, 0.049232605423430664, 0.055049736147569896, 0.06823019763686394, 0.08838670615045202, 0.0, 0.0, 0.024237656746713084, 0.0, 0.0, 0.0, 0.0, 0.034665703221724804, 0.16509704565002692, 0.0, 0.0, 0.013356911236350974, 0.0, 0.0271938049880428, 0.0, 0.04773984516686588, 0.0, 0.01449241524900859, 0.0, 0.0, 0.0945159050110974, 0.07442737853220613, 0.0, 0.242612992074418, 0.9999999999999998, 0.012984951818919007, 0.0, 0.0, 0.0, 0.1007798108010878, 0.0, 0.0, 0.0, 0.05518826756338676, 0.21457153730131948, 0.0, 0.1736100577079587, 0.06182636443350795], [0.0, 0.0, 0.0, 0.0, 0.0, 0.0, 0.0, 0.0, 0.04233119817284767, 0.047332885801666634, 0.06805211074889687, 0.0, 0.0, 0.0, 0.0, 0.0, 0.0, 0.04675284596168304, 0.0, 0.0, 0.025935522039689907, 0.0, 0.0, 0.0, 0.0, 0.10575663273912053, 0.03886757345920364, 0.11610271502335978, 0.08827951093541471, 0.030221046342073583, 0.11854136200926807, 0.0, 0.0, 0.0, 0.0, 0.0, 0.012984951818919007, 0.9999999999999998, 0.0377195197156683, 0.0, 0.0, 0.032002094510468065, 0.10004751207550401, 0.0, 0.0, 0.05586406641795848, 0.0, 0.0, 0.0, 0.0], [0.0, 0.0, 0.0, 0.0, 0.05589528111860444, 0.0, 0.022173636134380056, 0.0, 0.06341466720507972, 0.07090749448462427, 0.0, 0.0, 0.0, 0.0, 0.032443489018629576, 0.0, 0.0, 0.110764926264844, 0.04602347922790909, 0.03075682182331277, 0.0, 0.05545633494466696, 0.03752082810594333, 0.017079657855508835, 0.0, 0.0, 0.031025487649661076, 0.06882022242370932, 0.0, 0.0, 0.018585442322952905, 0.0, 0.0, 0.0, 0.0, 0.03196570946485153, 0.0, 0.0377195197156683, 1.0, 0.0, 0.0, 0.06930784450697478, 0.02115417089637897, 0.02831019823046076, 0.0, 0.0, 0.0, 0.0, 0.10320948130189456, 0.0], [0.06617738098119719, 0.0, 0.0, 0.0, 0.04073075956679286, 0.0, 0.0, 0.0, 0.01565616444769242, 0.01750603516746352, 0.0, 0.0, 0.0, 0.0966508388002985, 0.0, 0.0, 0.0, 0.0, 0.0, 0.0, 0.0, 0.0, 0.0, 0.0, 0.0, 0.0, 0.03411292749483707, 0.047914857877716446, 0.051737009278090905, 0.0, 0.0, 0.0, 0.06324910220934074, 0.0, 0.2099570383535329, 0.03679158670757037, 0.0, 0.0, 0.0, 1.0, 0.0, 0.0, 0.0, 0.0, 0.0, 0.0, 0.0, 0.0, 0.05048901721300439, 0.0], [0.08000693454767248, 0.017222014456247, 0.013178738638851096, 0.0, 0.030424387965922273, 0.0, 0.0, 0.0, 0.07709562631024645, 0.08620494182684217, 0.0, 0.0, 0.0, 0.0, 0.0, 0.0, 0.0, 0.06528397349847906, 0.03768389895761681, 0.0, 0.1280921230513077, 0.0, 0.0, 0.011221192990192069, 0.07806440972903288, 0.0782106164140789, 0.09908617679076073, 0.0575759028980649, 0.0, 0.03833349070470754, 0.0, 0.027972670247150038, 0.0, 0.0, 0.0, 0.0, 0.0, 0.0, 0.0, 0.0, 0.9999999999999996, 0.0, 0.05882271294570204, 0.031651055912449426, 0.0, 0.05131854360605437, 0.0, 0.0, 0.0, 0.16351904331559863], [0.09280059734875917, 0.03468152399631149, 0.026539214765241424, 0.0, 0.0, 0.0, 0.0, 0.0, 0.19453843112332983, 0.15663453348628895, 0.08160104182210949, 0.04941419084075053, 0.0, 0.0, 0.11796227269430258, 0.18502362191577948, 0.0, 0.0, 0.0, 0.039469079057254955, 0.0, 0.0, 0.0, 0.0, 0.052896950957719215, 0.0, 0.0, 0.0483338955392947, 0.0, 0.023829055903725506, 0.04467514611016539, 0.0, 0.07704051386774424, 0.0, 0.0, 0.06314569770233788, 0.1007798108010878, 0.032002094510468065, 0.06930784450697478, 0.0, 0.0, 0.9999999999999999, 0.0, 0.0, 0.0, 0.04537146812321942, 0.0, 0.04899594022380556, 0.0, 0.0], [0.06598343834951491, 0.0, 0.0, 0.0, 0.13756766047828517, 0.0, 0.025360467960760465, 0.0, 0.1618475008416708, 0.17206610620414636, 0.03930197104026265, 0.0, 0.0, 0.0, 0.0, 0.0, 0.06746433410683471, 0.08266538528382528, 0.0, 0.044401762890404574, 0.0, 0.019334100761238864, 0.0, 0.0, 0.11791861829438717, 0.0, 0.0, 0.05284334022737524, 0.2363246097423595, 0.11646697970893473, 0.021256572973027483, 0.13409428662326114, 0.0, 0.0, 0.14304350820566725, 0.0, 0.0, 0.10004751207550401, 0.02115417089637897, 0.0, 0.05882271294570204, 0.0, 1.0, 0.03237898695709119, 0.0, 0.0, 0.0, 0.0, 0.0, 0.0], [0.0, 0.022387397861648544, 0.09048031667506881, 0.0, 0.0, 0.0, 0.033939400352923935, 0.0, 0.0, 0.0, 0.0, 0.0, 0.0, 0.0, 0.0, 0.0, 0.0, 0.0, 0.0, 0.0, 0.03856881749975848, 0.02587443525154023, 0.0, 0.07704053650715338, 0.0, 0.18227326995170243, 0.10837631782921839, 0.030685994209906073, 0.0, 0.0, 0.17081500677432715, 0.03636248823658897, 0.0, 0.17400247432848873, 0.0, 0.0, 0.0, 0.0, 0.02831019823046076, 0.0, 0.031651055912449426, 0.0, 0.03237898695709119, 0.9999999999999999, 0.0, 0.0, 0.0, 0.0, 0.0, 0.0], [0.015190626409897458, 0.01900645135296286, 0.01454423670756341, 0.028732111486544098, 0.018955308894661876, 0.0, 0.0, 0.0, 0.06147279875502502, 0.023350537365512205, 0.0, 0.0, 0.0, 0.0, 0.02247194749800431, 0.035247211015991334, 0.0, 0.0, 0.05756197274968033, 0.0, 0.0, 0.0, 0.0, 0.0, 0.0, 0.0, 0.0481633475297745, 0.069488328229835, 0.0, 0.0, 0.0, 0.0, 0.0, 0.0, 0.0, 0.0, 0.0, 0.0, 0.0, 0.0, 0.0, 0.0, 0.0, 0.0, 1.0000000000000002, 0.0, 0.0, 0.0, 0.056423083556014636, 0.0], [0.0, 0.0, 0.20767536893085095, 0.0, 0.029648671085731746, 0.0, 0.0, 0.0, 0.036013635938904526, 0.028491514203051287, 0.05343033623354602, 0.0, 0.0, 0.0, 0.0, 0.0, 0.0, 0.025766914035337627, 0.0, 0.0, 0.03884622542952131, 0.0, 0.04255236819892855, 0.07010987385146773, 0.08518346998778539, 0.04311186106875841, 0.06948711366664362, 0.04736612673752978, 0.04254336690439015, 0.07903617584781318, 0.029933192338267172, 0.08722666679073506, 0.0, 0.045037114818299806, 0.0, 0.0, 0.05518826756338676, 0.05586406641795848, 0.0, 0.0, 0.05131854360605437, 0.04537146812321942, 0.0, 0.0, 0.0, 1.0000000000000002, 0.0, 0.0, 0.0, 0.11335883543223613], [0.0, 0.026810293334805484, 0.020515941940936522, 0.0, 0.0, 0.0, 0.0, 0.0, 0.07482624344828101, 0.0703546812812658, 0.10267530040359885, 0.0716290015687523, 0.0, 0.0, 0.0, 0.0, 0.0, 0.0, 0.0, 0.0, 0.0, 0.0, 0.0, 0.0, 0.0, 0.0, 0.0, 0.0613996419473886, 0.0, 0.06734440319260114, 0.28230880524552515, 0.05015716533566994, 0.06443037457457038, 0.0, 0.053504568106045876, 0.03269353108062155, 0.21457153730131948, 0.0, 0.0, 0.0, 0.0, 0.0, 0.0, 0.0, 0.0, 0.0, 0.9999999999999999, 0.0, 0.0, 0.041863661338514574], [0.0, 0.0, 0.0, 0.0, 0.0, 0.0, 0.0, 0.0, 0.07735303176238457, 0.07377458367641213, 0.07625742061738651, 0.12397069970924898, 0.0, 0.0, 0.0, 0.0, 0.04886977284705963, 0.08277126203664595, 0.0, 0.16163120355077182, 0.0, 0.1274550630249481, 0.0, 0.0, 0.08499020615850936, 0.0, 0.0, 0.07021706668316462, 0.0, 0.0, 0.03726404803904454, 0.0, 0.0, 0.0, 0.19490398952841112, 0.0, 0.0, 0.0, 0.0, 0.0, 0.0, 0.04899594022380556, 0.0, 0.0, 0.0, 0.0, 0.0, 0.9999999999999999, 0.0, 0.0], [0.0, 0.0, 0.0, 0.0, 0.08947047546696521, 0.16847679767222049, 0.12032992980346245, 0.11332607174507241, 0.05203620002850467, 0.05818459244750933, 0.0, 0.0, 0.0, 0.0, 0.0167018580131486, 0.0, 0.0, 0.0, 0.0, 0.0, 0.0, 0.0, 0.0, 0.19480036702552386, 0.0, 0.0, 0.015971873099585112, 0.07384405446407556, 0.0, 0.0, 0.0, 0.0, 0.0, 0.0, 0.0, 0.0, 0.1736100577079587, 0.0, 0.10320948130189456, 0.05048901721300439, 0.0, 0.0, 0.0, 0.0, 0.056423083556014636, 0.0, 0.0, 0.0, 0.9999999999999999, 0.0], [0.0, 0.02654270769359656, 0.049711916762671254, 0.0, 0.0, 0.1284588691740194, 0.0917482224490942, 0.08640797561114949, 0.06123122896292371, 0.0331902662806032, 0.08850451536220796, 0.14388064280237817, 0.0, 0.0, 0.0, 0.0, 0.0, 0.0, 0.0, 0.027812858178433375, 0.0, 0.06264014119777965, 0.0, 0.03719142645983305, 0.17243845896172483, 0.058412848906897935, 0.07033201864218722, 0.04309065403625601, 0.0, 0.020512849886696997, 0.0, 0.0, 0.0, 0.0, 0.0, 0.0711058279640071, 0.06182636443350795, 0.0, 0.0, 0.0, 0.16351904331559863, 0.0, 0.0, 0.0, 0.0, 0.11335883543223613, 0.041863661338514574, 0.0, 0.0, 0.9999999999999998]]}],                        {\"height\": 800, \"template\": {\"data\": {\"bar\": [{\"error_x\": {\"color\": \"#2a3f5f\"}, \"error_y\": {\"color\": \"#2a3f5f\"}, \"marker\": {\"line\": {\"color\": \"#E5ECF6\", \"width\": 0.5}}, \"type\": \"bar\"}], \"barpolar\": [{\"marker\": {\"line\": {\"color\": \"#E5ECF6\", \"width\": 0.5}}, \"type\": \"barpolar\"}], \"carpet\": [{\"aaxis\": {\"endlinecolor\": \"#2a3f5f\", \"gridcolor\": \"white\", \"linecolor\": \"white\", \"minorgridcolor\": \"white\", \"startlinecolor\": \"#2a3f5f\"}, \"baxis\": {\"endlinecolor\": \"#2a3f5f\", \"gridcolor\": \"white\", \"linecolor\": \"white\", \"minorgridcolor\": \"white\", \"startlinecolor\": \"#2a3f5f\"}, \"type\": \"carpet\"}], \"choropleth\": [{\"colorbar\": {\"outlinewidth\": 0, \"ticks\": \"\"}, \"type\": \"choropleth\"}], \"contour\": [{\"colorbar\": {\"outlinewidth\": 0, \"ticks\": \"\"}, \"colorscale\": [[0.0, \"#0d0887\"], [0.1111111111111111, \"#46039f\"], [0.2222222222222222, \"#7201a8\"], [0.3333333333333333, \"#9c179e\"], [0.4444444444444444, \"#bd3786\"], [0.5555555555555556, \"#d8576b\"], [0.6666666666666666, \"#ed7953\"], [0.7777777777777778, \"#fb9f3a\"], [0.8888888888888888, \"#fdca26\"], [1.0, \"#f0f921\"]], \"type\": \"contour\"}], \"contourcarpet\": [{\"colorbar\": {\"outlinewidth\": 0, \"ticks\": \"\"}, \"type\": \"contourcarpet\"}], \"heatmap\": [{\"colorbar\": {\"outlinewidth\": 0, \"ticks\": \"\"}, \"colorscale\": [[0.0, \"#0d0887\"], [0.1111111111111111, \"#46039f\"], [0.2222222222222222, \"#7201a8\"], [0.3333333333333333, \"#9c179e\"], [0.4444444444444444, \"#bd3786\"], [0.5555555555555556, \"#d8576b\"], [0.6666666666666666, \"#ed7953\"], [0.7777777777777778, \"#fb9f3a\"], [0.8888888888888888, \"#fdca26\"], [1.0, \"#f0f921\"]], \"type\": \"heatmap\"}], \"heatmapgl\": [{\"colorbar\": {\"outlinewidth\": 0, \"ticks\": \"\"}, \"colorscale\": [[0.0, \"#0d0887\"], [0.1111111111111111, \"#46039f\"], [0.2222222222222222, \"#7201a8\"], [0.3333333333333333, \"#9c179e\"], [0.4444444444444444, \"#bd3786\"], [0.5555555555555556, \"#d8576b\"], [0.6666666666666666, \"#ed7953\"], [0.7777777777777778, \"#fb9f3a\"], [0.8888888888888888, \"#fdca26\"], [1.0, \"#f0f921\"]], \"type\": \"heatmapgl\"}], \"histogram\": [{\"marker\": {\"colorbar\": {\"outlinewidth\": 0, \"ticks\": \"\"}}, \"type\": \"histogram\"}], \"histogram2d\": [{\"colorbar\": {\"outlinewidth\": 0, \"ticks\": \"\"}, \"colorscale\": [[0.0, \"#0d0887\"], [0.1111111111111111, \"#46039f\"], [0.2222222222222222, \"#7201a8\"], [0.3333333333333333, \"#9c179e\"], [0.4444444444444444, \"#bd3786\"], [0.5555555555555556, \"#d8576b\"], [0.6666666666666666, \"#ed7953\"], [0.7777777777777778, \"#fb9f3a\"], [0.8888888888888888, \"#fdca26\"], [1.0, \"#f0f921\"]], \"type\": \"histogram2d\"}], \"histogram2dcontour\": [{\"colorbar\": {\"outlinewidth\": 0, \"ticks\": \"\"}, \"colorscale\": [[0.0, \"#0d0887\"], [0.1111111111111111, \"#46039f\"], [0.2222222222222222, \"#7201a8\"], [0.3333333333333333, \"#9c179e\"], [0.4444444444444444, \"#bd3786\"], [0.5555555555555556, \"#d8576b\"], [0.6666666666666666, \"#ed7953\"], [0.7777777777777778, \"#fb9f3a\"], [0.8888888888888888, \"#fdca26\"], [1.0, \"#f0f921\"]], \"type\": \"histogram2dcontour\"}], \"mesh3d\": [{\"colorbar\": {\"outlinewidth\": 0, \"ticks\": \"\"}, \"type\": \"mesh3d\"}], \"parcoords\": [{\"line\": {\"colorbar\": {\"outlinewidth\": 0, \"ticks\": \"\"}}, \"type\": \"parcoords\"}], \"pie\": [{\"automargin\": true, \"type\": \"pie\"}], \"scatter\": [{\"marker\": {\"colorbar\": {\"outlinewidth\": 0, \"ticks\": \"\"}}, \"type\": \"scatter\"}], \"scatter3d\": [{\"line\": {\"colorbar\": {\"outlinewidth\": 0, \"ticks\": \"\"}}, \"marker\": {\"colorbar\": {\"outlinewidth\": 0, \"ticks\": \"\"}}, \"type\": \"scatter3d\"}], \"scattercarpet\": [{\"marker\": {\"colorbar\": {\"outlinewidth\": 0, \"ticks\": \"\"}}, \"type\": \"scattercarpet\"}], \"scattergeo\": [{\"marker\": {\"colorbar\": {\"outlinewidth\": 0, \"ticks\": \"\"}}, \"type\": \"scattergeo\"}], \"scattergl\": [{\"marker\": {\"colorbar\": {\"outlinewidth\": 0, \"ticks\": \"\"}}, \"type\": \"scattergl\"}], \"scattermapbox\": [{\"marker\": {\"colorbar\": {\"outlinewidth\": 0, \"ticks\": \"\"}}, \"type\": \"scattermapbox\"}], \"scatterpolar\": [{\"marker\": {\"colorbar\": {\"outlinewidth\": 0, \"ticks\": \"\"}}, \"type\": \"scatterpolar\"}], \"scatterpolargl\": [{\"marker\": {\"colorbar\": {\"outlinewidth\": 0, \"ticks\": \"\"}}, \"type\": \"scatterpolargl\"}], \"scatterternary\": [{\"marker\": {\"colorbar\": {\"outlinewidth\": 0, \"ticks\": \"\"}}, \"type\": \"scatterternary\"}], \"surface\": [{\"colorbar\": {\"outlinewidth\": 0, \"ticks\": \"\"}, \"colorscale\": [[0.0, \"#0d0887\"], [0.1111111111111111, \"#46039f\"], [0.2222222222222222, \"#7201a8\"], [0.3333333333333333, \"#9c179e\"], [0.4444444444444444, \"#bd3786\"], [0.5555555555555556, \"#d8576b\"], [0.6666666666666666, \"#ed7953\"], [0.7777777777777778, \"#fb9f3a\"], [0.8888888888888888, \"#fdca26\"], [1.0, \"#f0f921\"]], \"type\": \"surface\"}], \"table\": [{\"cells\": {\"fill\": {\"color\": \"#EBF0F8\"}, \"line\": {\"color\": \"white\"}}, \"header\": {\"fill\": {\"color\": \"#C8D4E3\"}, \"line\": {\"color\": \"white\"}}, \"type\": \"table\"}]}, \"layout\": {\"annotationdefaults\": {\"arrowcolor\": \"#2a3f5f\", \"arrowhead\": 0, \"arrowwidth\": 1}, \"coloraxis\": {\"colorbar\": {\"outlinewidth\": 0, \"ticks\": \"\"}}, \"colorscale\": {\"diverging\": [[0, \"#8e0152\"], [0.1, \"#c51b7d\"], [0.2, \"#de77ae\"], [0.3, \"#f1b6da\"], [0.4, \"#fde0ef\"], [0.5, \"#f7f7f7\"], [0.6, \"#e6f5d0\"], [0.7, \"#b8e186\"], [0.8, \"#7fbc41\"], [0.9, \"#4d9221\"], [1, \"#276419\"]], \"sequential\": [[0.0, \"#0d0887\"], [0.1111111111111111, \"#46039f\"], [0.2222222222222222, \"#7201a8\"], [0.3333333333333333, \"#9c179e\"], [0.4444444444444444, \"#bd3786\"], [0.5555555555555556, \"#d8576b\"], [0.6666666666666666, \"#ed7953\"], [0.7777777777777778, \"#fb9f3a\"], [0.8888888888888888, \"#fdca26\"], [1.0, \"#f0f921\"]], \"sequentialminus\": [[0.0, \"#0d0887\"], [0.1111111111111111, \"#46039f\"], [0.2222222222222222, \"#7201a8\"], [0.3333333333333333, \"#9c179e\"], [0.4444444444444444, \"#bd3786\"], [0.5555555555555556, \"#d8576b\"], [0.6666666666666666, \"#ed7953\"], [0.7777777777777778, \"#fb9f3a\"], [0.8888888888888888, \"#fdca26\"], [1.0, \"#f0f921\"]]}, \"colorway\": [\"#636efa\", \"#EF553B\", \"#00cc96\", \"#ab63fa\", \"#FFA15A\", \"#19d3f3\", \"#FF6692\", \"#B6E880\", \"#FF97FF\", \"#FECB52\"], \"font\": {\"color\": \"#2a3f5f\"}, \"geo\": {\"bgcolor\": \"white\", \"lakecolor\": \"white\", \"landcolor\": \"#E5ECF6\", \"showlakes\": true, \"showland\": true, \"subunitcolor\": \"white\"}, \"hoverlabel\": {\"align\": \"left\"}, \"hovermode\": \"closest\", \"mapbox\": {\"style\": \"light\"}, \"paper_bgcolor\": \"white\", \"plot_bgcolor\": \"#E5ECF6\", \"polar\": {\"angularaxis\": {\"gridcolor\": \"white\", \"linecolor\": \"white\", \"ticks\": \"\"}, \"bgcolor\": \"#E5ECF6\", \"radialaxis\": {\"gridcolor\": \"white\", \"linecolor\": \"white\", \"ticks\": \"\"}}, \"scene\": {\"xaxis\": {\"backgroundcolor\": \"#E5ECF6\", \"gridcolor\": \"white\", \"gridwidth\": 2, \"linecolor\": \"white\", \"showbackground\": true, \"ticks\": \"\", \"zerolinecolor\": \"white\"}, \"yaxis\": {\"backgroundcolor\": \"#E5ECF6\", \"gridcolor\": \"white\", \"gridwidth\": 2, \"linecolor\": \"white\", \"showbackground\": true, \"ticks\": \"\", \"zerolinecolor\": \"white\"}, \"zaxis\": {\"backgroundcolor\": \"#E5ECF6\", \"gridcolor\": \"white\", \"gridwidth\": 2, \"linecolor\": \"white\", \"showbackground\": true, \"ticks\": \"\", \"zerolinecolor\": \"white\"}}, \"shapedefaults\": {\"line\": {\"color\": \"#2a3f5f\"}}, \"ternary\": {\"aaxis\": {\"gridcolor\": \"white\", \"linecolor\": \"white\", \"ticks\": \"\"}, \"baxis\": {\"gridcolor\": \"white\", \"linecolor\": \"white\", \"ticks\": \"\"}, \"bgcolor\": \"#E5ECF6\", \"caxis\": {\"gridcolor\": \"white\", \"linecolor\": \"white\", \"ticks\": \"\"}}, \"title\": {\"x\": 0.05}, \"xaxis\": {\"automargin\": true, \"gridcolor\": \"white\", \"linecolor\": \"white\", \"ticks\": \"\", \"title\": {\"standoff\": 15}, \"zerolinecolor\": \"white\", \"zerolinewidth\": 2}, \"yaxis\": {\"automargin\": true, \"gridcolor\": \"white\", \"linecolor\": \"white\", \"ticks\": \"\", \"title\": {\"standoff\": 15}, \"zerolinecolor\": \"white\", \"zerolinewidth\": 2}}}, \"title\": {\"text\": \" Mapa de calor entre palabras - Twits relacionados con la \\\"Selecci\\u00f3n\\\"\"}, \"width\": 800},                        {\"responsive\": true}                    ).then(function(){\n",
       "                            \n",
       "var gd = document.getElementById('158c2e7f-9d9e-42ba-a060-737b16753859');\n",
       "var x = new MutationObserver(function (mutations, observer) {{\n",
       "        var display = window.getComputedStyle(gd).display;\n",
       "        if (!display || display === 'none') {{\n",
       "            console.log([gd, 'removed!']);\n",
       "            Plotly.purge(gd);\n",
       "            observer.disconnect();\n",
       "        }}\n",
       "}});\n",
       "\n",
       "// Listen for the removal of the full notebook cells\n",
       "var notebookContainer = gd.closest('#notebook-container');\n",
       "if (notebookContainer) {{\n",
       "    x.observe(notebookContainer, {childList: true});\n",
       "}}\n",
       "\n",
       "// Listen for the clearing of the current output cell\n",
       "var outputEl = gd.closest('.output');\n",
       "if (outputEl) {{\n",
       "    x.observe(outputEl, {childList: true});\n",
       "}}\n",
       "\n",
       "                        })                };                });            </script>        </div>"
      ]
     },
     "metadata": {},
     "output_type": "display_data"
    }
   ],
   "source": [
    "trace = go.Heatmap(z=temp2.values.tolist(),\n",
    "                    x=temp2.index.values,\n",
    "                    y=temp2.columns.values,\n",
    "                    colorscale='Blues')\n",
    " \n",
    "layout = go.Layout(title=' Mapa de calor entre palabras - Twits relacionados con la \"Selección\"', width=800, height=800)\n",
    " \n",
    "fig = go.Figure(data=[trace],layout=layout)\n",
    "\n",
    "iplot(fig)"
   ]
  }
 ],
 "metadata": {
  "kernelspec": {
   "display_name": "Python 3",
   "language": "python",
   "name": "python3"
  },
  "language_info": {
   "codemirror_mode": {
    "name": "ipython",
    "version": 3
   },
   "file_extension": ".py",
   "mimetype": "text/x-python",
   "name": "python",
   "nbconvert_exporter": "python",
   "pygments_lexer": "ipython3",
   "version": "3.7.6"
  }
 },
 "nbformat": 4,
 "nbformat_minor": 2
}
