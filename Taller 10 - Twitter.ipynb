{
 "cells": [
  {
   "cell_type": "markdown",
   "metadata": {},
   "source": [
    "<img src='https://encrypted-tbn0.gstatic.com/images?q=tbn%3AANd9GcQ-VfNtOyJbsaxu43Kztf_cv1mgBG6ZIQZEVw&usqp=CAU'>\n",
    "\n",
    "# Procesamiento de Lenguage Natural\n",
    "\n",
    "## Taller #10: Twitter\n",
    "### Ilvar Dario Sanabria. Código: 616201058\n",
    "`Fecha de entrega: Noviembre 14, 2020 (Antes del inicio de la próxima clase).`\n",
    "\n",
    "`Modo de entrega: Subir link de GitHub al aula virtual.`"
   ]
  },
  {
   "cell_type": "markdown",
   "metadata": {},
   "source": [
    "###  `[25 pts]` Punto 1: Extraer Tuits\n",
    "Extraer mínimo 100 tuits de Twitter usando la API\n",
    "\n",
    "(Si exponen sus claves, les haré maldades 😈)\n",
    "\n",
    "❌🎃❌ ¡No Halloween!"
   ]
  },
  {
   "cell_type": "code",
   "execution_count": 100,
   "metadata": {},
   "outputs": [],
   "source": [
    "# Instalamos las librearias\n",
    "import pandas as pd\n",
    "import tweepy"
   ]
  },
  {
   "cell_type": "code",
   "execution_count": 101,
   "metadata": {},
   "outputs": [],
   "source": [
    "# Leer las Claves para acceder al api de twiter\n",
    "\n",
    "keys = pd.read_csv(\"c:/tmp/KeysAPI_twiter.txt\", header=None)\n",
    "keys = dict(zip(keys[0],keys[1]))"
   ]
  },
  {
   "cell_type": "code",
   "execution_count": 102,
   "metadata": {},
   "outputs": [],
   "source": [
    "# Solicitar el acceso a través API\n",
    "\n",
    "auth = tweepy.OAuthHandler(keys['api_key'], keys['api_secret_key'])\n",
    "auth.set_access_token(keys['access_token'], keys['access_token_secret'])\n",
    "\n",
    "api = tweepy.API(auth, wait_on_rate_limit=True)"
   ]
  },
  {
   "cell_type": "code",
   "execution_count": 103,
   "metadata": {},
   "outputs": [
    {
     "data": {
      "text/html": [
       "<div>\n",
       "<style scoped>\n",
       "    .dataframe tbody tr th:only-of-type {\n",
       "        vertical-align: middle;\n",
       "    }\n",
       "\n",
       "    .dataframe tbody tr th {\n",
       "        vertical-align: top;\n",
       "    }\n",
       "\n",
       "    .dataframe thead th {\n",
       "        text-align: right;\n",
       "    }\n",
       "</style>\n",
       "<table border=\"1\" class=\"dataframe\">\n",
       "  <thead>\n",
       "    <tr style=\"text-align: right;\">\n",
       "      <th></th>\n",
       "      <th>city</th>\n",
       "      <th>lat</th>\n",
       "      <th>lng</th>\n",
       "      <th>country</th>\n",
       "      <th>iso2</th>\n",
       "      <th>admin</th>\n",
       "      <th>capital</th>\n",
       "      <th>population</th>\n",
       "      <th>population_proper</th>\n",
       "    </tr>\n",
       "  </thead>\n",
       "  <tbody>\n",
       "    <tr>\n",
       "      <th>0</th>\n",
       "      <td>Bogotá</td>\n",
       "      <td>4.649178</td>\n",
       "      <td>-74.062827</td>\n",
       "      <td>Colombia</td>\n",
       "      <td>CO</td>\n",
       "      <td>Bogotá</td>\n",
       "      <td>primary</td>\n",
       "      <td>7772000.0</td>\n",
       "      <td>6333661.0</td>\n",
       "    </tr>\n",
       "    <tr>\n",
       "      <th>1</th>\n",
       "      <td>Medellín</td>\n",
       "      <td>6.251840</td>\n",
       "      <td>-75.563591</td>\n",
       "      <td>Colombia</td>\n",
       "      <td>CO</td>\n",
       "      <td>Antioquia</td>\n",
       "      <td>admin</td>\n",
       "      <td>3297000.0</td>\n",
       "      <td>1999979.0</td>\n",
       "    </tr>\n",
       "    <tr>\n",
       "      <th>2</th>\n",
       "      <td>Cali</td>\n",
       "      <td>3.437222</td>\n",
       "      <td>-76.522500</td>\n",
       "      <td>Colombia</td>\n",
       "      <td>CO</td>\n",
       "      <td>Valle del Cauca</td>\n",
       "      <td>admin</td>\n",
       "      <td>2254000.0</td>\n",
       "      <td>2178836.0</td>\n",
       "    </tr>\n",
       "    <tr>\n",
       "      <th>3</th>\n",
       "      <td>Barranquilla</td>\n",
       "      <td>10.963889</td>\n",
       "      <td>-74.796389</td>\n",
       "      <td>Colombia</td>\n",
       "      <td>CO</td>\n",
       "      <td>Atlántico</td>\n",
       "      <td>admin</td>\n",
       "      <td>1798000.0</td>\n",
       "      <td>1244491.0</td>\n",
       "    </tr>\n",
       "    <tr>\n",
       "      <th>4</th>\n",
       "      <td>Bucaramanga</td>\n",
       "      <td>7.125393</td>\n",
       "      <td>-73.119804</td>\n",
       "      <td>Colombia</td>\n",
       "      <td>CO</td>\n",
       "      <td>Santander</td>\n",
       "      <td>admin</td>\n",
       "      <td>1009000.0</td>\n",
       "      <td>571820.0</td>\n",
       "    </tr>\n",
       "  </tbody>\n",
       "</table>\n",
       "</div>"
      ],
      "text/plain": [
       "           city        lat        lng   country iso2            admin  \\\n",
       "0        Bogotá   4.649178 -74.062827  Colombia   CO           Bogotá   \n",
       "1      Medellín   6.251840 -75.563591  Colombia   CO        Antioquia   \n",
       "2          Cali   3.437222 -76.522500  Colombia   CO  Valle del Cauca   \n",
       "3  Barranquilla  10.963889 -74.796389  Colombia   CO        Atlántico   \n",
       "4   Bucaramanga   7.125393 -73.119804  Colombia   CO        Santander   \n",
       "\n",
       "   capital  population  population_proper  \n",
       "0  primary   7772000.0          6333661.0  \n",
       "1    admin   3297000.0          1999979.0  \n",
       "2    admin   2254000.0          2178836.0  \n",
       "3    admin   1798000.0          1244491.0  \n",
       "4    admin   1009000.0           571820.0  "
      ]
     },
     "execution_count": 103,
     "metadata": {},
     "output_type": "execute_result"
    }
   ],
   "source": [
    "# Leemos las coord de ciudades desde un archivo\n",
    "\n",
    "ciudades = pd.read_csv(\"c:/tmp/co_small.csv\")\n",
    "ciudades.head()"
   ]
  },
  {
   "cell_type": "code",
   "execution_count": 104,
   "metadata": {},
   "outputs": [
    {
     "name": "stdout",
     "output_type": "stream",
     "text": [
      "Bogotá\n",
      "Medellín\n",
      "Cali\n",
      "Barranquilla\n",
      "Bucaramanga\n",
      "Cartagena\n",
      "Cúcuta\n",
      "Pereira\n",
      "Santa Marta\n",
      "Ibagué\n",
      "Pasto\n",
      "Manizales\n",
      "Villavicencio\n",
      "Neiva\n",
      "Armenia\n",
      "Valledupar\n",
      "Montería\n",
      "Sincelejo\n",
      "Popayán\n",
      "Tunja\n",
      "Ríohacha\n",
      "Florencia\n",
      "Quibdó\n",
      "Arauca\n",
      "Yopal\n",
      "Leticia\n",
      "San Andrés\n",
      "San José del Guaviare\n",
      "Mocoa\n",
      "Puerto Carreño\n",
      "Mitú\n",
      "Inírida\n"
     ]
    }
   ],
   "source": [
    "# Recolectamos los datos relacionados con la palabra #selección# (por el partido de futbol !)\n",
    "all_tweets = []\n",
    "\n",
    "for ciudad in ciudades.iterrows() :\n",
    "    c = ciudad[1]\n",
    "    gc = f\"{c.lat},{c.lng},70km\"\n",
    "    c_name = c.city\n",
    "      \n",
    "    tweets = tweepy.Cursor(api.search,\n",
    "                        q=['selección -RT'],\n",
    "                        lang='es',\n",
    "                        geocode=gc,\n",
    "                        tweet_mode='extended',\n",
    "                        include_rts=False).items(20)\n",
    "\n",
    "\n",
    "    t = []\n",
    " \n",
    "    for tweet in tweets:\n",
    "        temp = []\n",
    "        temp.append(tweet.full_text)\n",
    "        temp.append(tweet.created_at)\n",
    "        temp.append(c_name)\n",
    "        temp.append(tweet.user.location)\n",
    "        temp.append(tweet.id)\n",
    "        temp.append(f\"https://twitter.com/i/web/status/{tweet.id}\")\n",
    " \n",
    "        t.append(temp)\n",
    "    \n",
    "    all_tweets.extend(t)\n",
    "    print(c_name)\n",
    "    "
   ]
  },
  {
   "cell_type": "code",
   "execution_count": 105,
   "metadata": {},
   "outputs": [
    {
     "data": {
      "text/html": [
       "<div>\n",
       "<style scoped>\n",
       "    .dataframe tbody tr th:only-of-type {\n",
       "        vertical-align: middle;\n",
       "    }\n",
       "\n",
       "    .dataframe tbody tr th {\n",
       "        vertical-align: top;\n",
       "    }\n",
       "\n",
       "    .dataframe thead th {\n",
       "        text-align: right;\n",
       "    }\n",
       "</style>\n",
       "<table border=\"1\" class=\"dataframe\">\n",
       "  <thead>\n",
       "    <tr style=\"text-align: right;\">\n",
       "      <th></th>\n",
       "      <th>tweet</th>\n",
       "      <th>date</th>\n",
       "      <th>city</th>\n",
       "      <th>user_location</th>\n",
       "      <th>id</th>\n",
       "      <th>link</th>\n",
       "    </tr>\n",
       "  </thead>\n",
       "  <tbody>\n",
       "    <tr>\n",
       "      <th>0</th>\n",
       "      <td>@CaracolTV que paso en el noticiero...olvidaro...</td>\n",
       "      <td>2020-11-14 01:55:58</td>\n",
       "      <td>Bogotá</td>\n",
       "      <td>bogota</td>\n",
       "      <td>1327430039017820161</td>\n",
       "      <td>https://twitter.com/i/web/status/1327430039017...</td>\n",
       "    </tr>\n",
       "    <tr>\n",
       "      <th>1</th>\n",
       "      <td>@VickyDavilaH Toda la selección jugó a nada. U...</td>\n",
       "      <td>2020-11-14 01:52:33</td>\n",
       "      <td>Bogotá</td>\n",
       "      <td>Bogotá</td>\n",
       "      <td>1327429181525909504</td>\n",
       "      <td>https://twitter.com/i/web/status/1327429181525...</td>\n",
       "    </tr>\n",
       "    <tr>\n",
       "      <th>2</th>\n",
       "      <td>Duvan zapata es muy malo en la selección</td>\n",
       "      <td>2020-11-14 01:51:01</td>\n",
       "      <td>Bogotá</td>\n",
       "      <td>Bogota</td>\n",
       "      <td>1327428794605596672</td>\n",
       "      <td>https://twitter.com/i/web/status/1327428794605...</td>\n",
       "    </tr>\n",
       "    <tr>\n",
       "      <th>3</th>\n",
       "      <td>@yeziddaniel @FCFSeleccionCol @mluciaramirez E...</td>\n",
       "      <td>2020-11-14 01:51:00</td>\n",
       "      <td>Bogotá</td>\n",
       "      <td>Bogotá</td>\n",
       "      <td>1327428788670648321</td>\n",
       "      <td>https://twitter.com/i/web/status/1327428788670...</td>\n",
       "    </tr>\n",
       "    <tr>\n",
       "      <th>4</th>\n",
       "      <td>@ch107 @AT_P8 fácil porque en la Juve cuando l...</td>\n",
       "      <td>2020-11-14 01:50:56</td>\n",
       "      <td>Bogotá</td>\n",
       "      <td>Colombia</td>\n",
       "      <td>1327428770626736129</td>\n",
       "      <td>https://twitter.com/i/web/status/1327428770626...</td>\n",
       "    </tr>\n",
       "  </tbody>\n",
       "</table>\n",
       "</div>"
      ],
      "text/plain": [
       "                                               tweet                date  \\\n",
       "0  @CaracolTV que paso en el noticiero...olvidaro... 2020-11-14 01:55:58   \n",
       "1  @VickyDavilaH Toda la selección jugó a nada. U... 2020-11-14 01:52:33   \n",
       "2           Duvan zapata es muy malo en la selección 2020-11-14 01:51:01   \n",
       "3  @yeziddaniel @FCFSeleccionCol @mluciaramirez E... 2020-11-14 01:51:00   \n",
       "4  @ch107 @AT_P8 fácil porque en la Juve cuando l... 2020-11-14 01:50:56   \n",
       "\n",
       "     city user_location                   id  \\\n",
       "0  Bogotá        bogota  1327430039017820161   \n",
       "1  Bogotá        Bogotá  1327429181525909504   \n",
       "2  Bogotá        Bogota  1327428794605596672   \n",
       "3  Bogotá        Bogotá  1327428788670648321   \n",
       "4  Bogotá      Colombia  1327428770626736129   \n",
       "\n",
       "                                                link  \n",
       "0  https://twitter.com/i/web/status/1327430039017...  \n",
       "1  https://twitter.com/i/web/status/1327429181525...  \n",
       "2  https://twitter.com/i/web/status/1327428794605...  \n",
       "3  https://twitter.com/i/web/status/1327428788670...  \n",
       "4  https://twitter.com/i/web/status/1327428770626...  "
      ]
     },
     "execution_count": 105,
     "metadata": {},
     "output_type": "execute_result"
    }
   ],
   "source": [
    "#Creamos un dataFrame con los datos recolectados\n",
    "datos_tw = pd.DataFrame(all_tweets)\n",
    "datos_tw.columns = ['tweet', 'date', 'city', 'user_location', 'id', 'link']\n",
    "\n",
    "datos_tw.head()"
   ]
  },
  {
   "cell_type": "code",
   "execution_count": 106,
   "metadata": {},
   "outputs": [],
   "source": [
    "#Se define la funcion de limpieza de datos\n",
    "import re\n",
    " \n",
    "pattern1 = '?P<pic>pic.twitter.com/[^\\s]+'\n",
    "pattern2 = '?P<url>https?://[^\\s]+'\n",
    " \n",
    "def text_clean(row):    \n",
    "    text = row['tweet']\n",
    "    links = [tuple(j for j in i if j)[-1] for i in re.findall(f\"({pattern1})|({pattern2})\",text)]\n",
    "\n",
    "    for link in links:\n",
    "        text = text.replace(link,\"\")\n",
    "\n",
    "    hashtags = [interaction for interaction in text.split() if interaction.startswith(\"#\")]\n",
    "\n",
    "    for hashtag in hashtags:\n",
    "         text = text.replace(hashtag,\"\")\n",
    "\n",
    "    mentions = [interaction for interaction in text.split() if interaction.startswith(\"@\")]\n",
    "\n",
    "    for mention in mentions:\n",
    "         text = text.replace(mention,\"\")\n",
    "\n",
    "    return text, links, hashtags, mentions"
   ]
  },
  {
   "cell_type": "code",
   "execution_count": 107,
   "metadata": {},
   "outputs": [
    {
     "data": {
      "text/html": [
       "<div>\n",
       "<style scoped>\n",
       "    .dataframe tbody tr th:only-of-type {\n",
       "        vertical-align: middle;\n",
       "    }\n",
       "\n",
       "    .dataframe tbody tr th {\n",
       "        vertical-align: top;\n",
       "    }\n",
       "\n",
       "    .dataframe thead th {\n",
       "        text-align: right;\n",
       "    }\n",
       "</style>\n",
       "<table border=\"1\" class=\"dataframe\">\n",
       "  <thead>\n",
       "    <tr style=\"text-align: right;\">\n",
       "      <th></th>\n",
       "      <th>tweet</th>\n",
       "      <th>date</th>\n",
       "      <th>city</th>\n",
       "      <th>user_location</th>\n",
       "      <th>id</th>\n",
       "      <th>link</th>\n",
       "      <th>clean</th>\n",
       "      <th>links</th>\n",
       "      <th>hashtags</th>\n",
       "      <th>mentions</th>\n",
       "    </tr>\n",
       "  </thead>\n",
       "  <tbody>\n",
       "    <tr>\n",
       "      <th>0</th>\n",
       "      <td>@CaracolTV que paso en el noticiero...olvidaro...</td>\n",
       "      <td>2020-11-14 01:55:58</td>\n",
       "      <td>Bogotá</td>\n",
       "      <td>bogota</td>\n",
       "      <td>1327430039017820161</td>\n",
       "      <td>https://twitter.com/i/web/status/1327430039017...</td>\n",
       "      <td>que paso en el noticiero...olvidaron las noti...</td>\n",
       "      <td>[]</td>\n",
       "      <td>[]</td>\n",
       "      <td>[@CaracolTV]</td>\n",
       "    </tr>\n",
       "    <tr>\n",
       "      <th>1</th>\n",
       "      <td>@VickyDavilaH Toda la selección jugó a nada. U...</td>\n",
       "      <td>2020-11-14 01:52:33</td>\n",
       "      <td>Bogotá</td>\n",
       "      <td>Bogotá</td>\n",
       "      <td>1327429181525909504</td>\n",
       "      <td>https://twitter.com/i/web/status/1327429181525...</td>\n",
       "      <td>Toda la selección jugó a nada. Un equipo perd...</td>\n",
       "      <td>[]</td>\n",
       "      <td>[]</td>\n",
       "      <td>[@VickyDavilaH]</td>\n",
       "    </tr>\n",
       "    <tr>\n",
       "      <th>2</th>\n",
       "      <td>Duvan zapata es muy malo en la selección</td>\n",
       "      <td>2020-11-14 01:51:01</td>\n",
       "      <td>Bogotá</td>\n",
       "      <td>Bogota</td>\n",
       "      <td>1327428794605596672</td>\n",
       "      <td>https://twitter.com/i/web/status/1327428794605...</td>\n",
       "      <td>Duvan zapata es muy malo en la selección</td>\n",
       "      <td>[]</td>\n",
       "      <td>[]</td>\n",
       "      <td>[]</td>\n",
       "    </tr>\n",
       "    <tr>\n",
       "      <th>3</th>\n",
       "      <td>@yeziddaniel @FCFSeleccionCol @mluciaramirez E...</td>\n",
       "      <td>2020-11-14 01:51:00</td>\n",
       "      <td>Bogotá</td>\n",
       "      <td>Bogotá</td>\n",
       "      <td>1327428788670648321</td>\n",
       "      <td>https://twitter.com/i/web/status/1327428788670...</td>\n",
       "      <td>El trino obviamente! La selección se recupe...</td>\n",
       "      <td>[]</td>\n",
       "      <td>[]</td>\n",
       "      <td>[@yeziddaniel, @FCFSeleccionCol, @mluciaramirez]</td>\n",
       "    </tr>\n",
       "    <tr>\n",
       "      <th>4</th>\n",
       "      <td>@ch107 @AT_P8 fácil porque en la Juve cuando l...</td>\n",
       "      <td>2020-11-14 01:50:56</td>\n",
       "      <td>Bogotá</td>\n",
       "      <td>Colombia</td>\n",
       "      <td>1327428770626736129</td>\n",
       "      <td>https://twitter.com/i/web/status/1327428770626...</td>\n",
       "      <td>fácil porque en la Juve cuando la embarra, t...</td>\n",
       "      <td>[]</td>\n",
       "      <td>[]</td>\n",
       "      <td>[@ch107, @AT_P8]</td>\n",
       "    </tr>\n",
       "  </tbody>\n",
       "</table>\n",
       "</div>"
      ],
      "text/plain": [
       "                                               tweet                date  \\\n",
       "0  @CaracolTV que paso en el noticiero...olvidaro... 2020-11-14 01:55:58   \n",
       "1  @VickyDavilaH Toda la selección jugó a nada. U... 2020-11-14 01:52:33   \n",
       "2           Duvan zapata es muy malo en la selección 2020-11-14 01:51:01   \n",
       "3  @yeziddaniel @FCFSeleccionCol @mluciaramirez E... 2020-11-14 01:51:00   \n",
       "4  @ch107 @AT_P8 fácil porque en la Juve cuando l... 2020-11-14 01:50:56   \n",
       "\n",
       "     city user_location                   id  \\\n",
       "0  Bogotá        bogota  1327430039017820161   \n",
       "1  Bogotá        Bogotá  1327429181525909504   \n",
       "2  Bogotá        Bogota  1327428794605596672   \n",
       "3  Bogotá        Bogotá  1327428788670648321   \n",
       "4  Bogotá      Colombia  1327428770626736129   \n",
       "\n",
       "                                                link  \\\n",
       "0  https://twitter.com/i/web/status/1327430039017...   \n",
       "1  https://twitter.com/i/web/status/1327429181525...   \n",
       "2  https://twitter.com/i/web/status/1327428794605...   \n",
       "3  https://twitter.com/i/web/status/1327428788670...   \n",
       "4  https://twitter.com/i/web/status/1327428770626...   \n",
       "\n",
       "                                               clean links hashtags  \\\n",
       "0   que paso en el noticiero...olvidaron las noti...    []       []   \n",
       "1   Toda la selección jugó a nada. Un equipo perd...    []       []   \n",
       "2           Duvan zapata es muy malo en la selección    []       []   \n",
       "3     El trino obviamente! La selección se recupe...    []       []   \n",
       "4    fácil porque en la Juve cuando la embarra, t...    []       []   \n",
       "\n",
       "                                           mentions  \n",
       "0                                      [@CaracolTV]  \n",
       "1                                   [@VickyDavilaH]  \n",
       "2                                                []  \n",
       "3  [@yeziddaniel, @FCFSeleccionCol, @mluciaramirez]  \n",
       "4                                  [@ch107, @AT_P8]  "
      ]
     },
     "execution_count": 107,
     "metadata": {},
     "output_type": "execute_result"
    }
   ],
   "source": [
    "datos_tw[['clean', 'links', 'hashtags', 'mentions']] = datos_tw.apply(text_clean, axis=1, result_type='expand')\n",
    "\n",
    "datos_tw.head()"
   ]
  },
  {
   "cell_type": "markdown",
   "metadata": {},
   "source": [
    "###  `[25 pts]` Punto 2: Hacer una visualización sobre esos tuits\n",
    "\n",
    "❌🎃❌ ¡No Halloween!"
   ]
  },
  {
   "cell_type": "markdown",
   "metadata": {},
   "source": [
    "### Mostramos los emojis que estan en los twits"
   ]
  },
  {
   "cell_type": "code",
   "execution_count": 108,
   "metadata": {},
   "outputs": [],
   "source": [
    "\n",
    "import regex\n",
    "\n",
    "import emoji\n",
    " \n",
    "def get_emojis(text):\n",
    "    emoji_list = []\n",
    "\n",
    "    data = regex.findall(r'\\X', text)\n",
    "\n",
    "    for word in data:\n",
    "        if any(char in emoji.UNICODE_EMOJI for char in word):\n",
    "             emoji_list.append(word)\n",
    " \n",
    "    return emoji_list\n",
    " \n",
    "datos_tw['emojis'] = datos_tw['clean'].apply(lambda text: get_emojis(text))"
   ]
  },
  {
   "cell_type": "code",
   "execution_count": 109,
   "metadata": {},
   "outputs": [
    {
     "data": {
      "text/plain": [
       "0      []\n",
       "1      []\n",
       "2      []\n",
       "3      []\n",
       "4      []\n",
       "       ..\n",
       "517    []\n",
       "518    []\n",
       "519    []\n",
       "520    []\n",
       "521    []\n",
       "Name: emojis, Length: 522, dtype: object"
      ]
     },
     "execution_count": 109,
     "metadata": {},
     "output_type": "execute_result"
    }
   ],
   "source": [
    "datos_tw['emojis']"
   ]
  },
  {
   "cell_type": "code",
   "execution_count": 110,
   "metadata": {},
   "outputs": [
    {
     "data": {
      "text/html": [
       "        <script type=\"text/javascript\">\n",
       "        window.PlotlyConfig = {MathJaxConfig: 'local'};\n",
       "        if (window.MathJax) {MathJax.Hub.Config({SVG: {font: \"STIX-Web\"}});}\n",
       "        if (typeof require !== 'undefined') {\n",
       "        require.undef(\"plotly\");\n",
       "        requirejs.config({\n",
       "            paths: {\n",
       "                'plotly': ['https://cdn.plot.ly/plotly-latest.min']\n",
       "            }\n",
       "        });\n",
       "        require(['plotly'], function(Plotly) {\n",
       "            window._Plotly = Plotly;\n",
       "        });\n",
       "        }\n",
       "        </script>\n",
       "        "
      ]
     },
     "metadata": {},
     "output_type": "display_data"
    }
   ],
   "source": [
    "## Importamos las librerias necesarias para realizar una grafica\n",
    "import plotly.io as pio\n",
    "import plotly.express as px\n",
    "import plotly.graph_objs as go\n",
    "\n",
    "from plotly.offline import download_plotlyjs, init_notebook_mode, plot, iplot\n",
    " \n",
    "import matplotlib.pyplot as plt\n",
    "\n",
    "%matplotlib inline\n",
    "\n",
    "init_notebook_mode(connected=True)"
   ]
  },
  {
   "cell_type": "markdown",
   "metadata": {},
   "source": [
    "### Imprimimos una serie de tiempo"
   ]
  },
  {
   "cell_type": "code",
   "execution_count": 114,
   "metadata": {},
   "outputs": [
    {
     "data": {
      "text/html": [
       "<div>\n",
       "<style scoped>\n",
       "    .dataframe tbody tr th:only-of-type {\n",
       "        vertical-align: middle;\n",
       "    }\n",
       "\n",
       "    .dataframe tbody tr th {\n",
       "        vertical-align: top;\n",
       "    }\n",
       "\n",
       "    .dataframe thead th {\n",
       "        text-align: right;\n",
       "    }\n",
       "</style>\n",
       "<table border=\"1\" class=\"dataframe\">\n",
       "  <thead>\n",
       "    <tr style=\"text-align: right;\">\n",
       "      <th></th>\n",
       "      <th>fecha</th>\n",
       "      <th>cnt</th>\n",
       "    </tr>\n",
       "  </thead>\n",
       "  <tbody>\n",
       "    <tr>\n",
       "      <th>8</th>\n",
       "      <td>2020-11-05</td>\n",
       "      <td>1</td>\n",
       "    </tr>\n",
       "    <tr>\n",
       "      <th>3</th>\n",
       "      <td>2020-11-06</td>\n",
       "      <td>2</td>\n",
       "    </tr>\n",
       "    <tr>\n",
       "      <th>6</th>\n",
       "      <td>2020-11-07</td>\n",
       "      <td>1</td>\n",
       "    </tr>\n",
       "    <tr>\n",
       "      <th>7</th>\n",
       "      <td>2020-11-08</td>\n",
       "      <td>1</td>\n",
       "    </tr>\n",
       "    <tr>\n",
       "      <th>9</th>\n",
       "      <td>2020-11-09</td>\n",
       "      <td>1</td>\n",
       "    </tr>\n",
       "    <tr>\n",
       "      <th>4</th>\n",
       "      <td>2020-11-10</td>\n",
       "      <td>1</td>\n",
       "    </tr>\n",
       "    <tr>\n",
       "      <th>5</th>\n",
       "      <td>2020-11-11</td>\n",
       "      <td>1</td>\n",
       "    </tr>\n",
       "    <tr>\n",
       "      <th>2</th>\n",
       "      <td>2020-11-12</td>\n",
       "      <td>2</td>\n",
       "    </tr>\n",
       "    <tr>\n",
       "      <th>1</th>\n",
       "      <td>2020-11-13</td>\n",
       "      <td>141</td>\n",
       "    </tr>\n",
       "    <tr>\n",
       "      <th>0</th>\n",
       "      <td>2020-11-14</td>\n",
       "      <td>371</td>\n",
       "    </tr>\n",
       "  </tbody>\n",
       "</table>\n",
       "</div>"
      ],
      "text/plain": [
       "        fecha  cnt\n",
       "8  2020-11-05    1\n",
       "3  2020-11-06    2\n",
       "6  2020-11-07    1\n",
       "7  2020-11-08    1\n",
       "9  2020-11-09    1\n",
       "4  2020-11-10    1\n",
       "5  2020-11-11    1\n",
       "2  2020-11-12    2\n",
       "1  2020-11-13  141\n",
       "0  2020-11-14  371"
      ]
     },
     "execution_count": 114,
     "metadata": {},
     "output_type": "execute_result"
    }
   ],
   "source": [
    "\n",
    "datos_tw['fecha'] = datos_tw.date.dt.date\n",
    "\n",
    "temp = pd.DataFrame(datos_tw.fecha.value_counts()).reset_index()\n",
    "\n",
    "temp.columns = ['fecha', 'cnt']\n",
    "temp = temp.sort_values('fecha')\n",
    "\n",
    "temp"
   ]
  },
  {
   "cell_type": "code",
   "execution_count": 115,
   "metadata": {},
   "outputs": [
    {
     "data": {
      "application/vnd.plotly.v1+json": {
       "config": {
        "linkText": "Export to plot.ly",
        "plotlyServerURL": "https://plot.ly",
        "showLink": false
       },
       "data": [
        {
         "hoverinfo": "text",
         "line": {
          "color": "#1DA1F2"
         },
         "mode": "lines+markers",
         "name": "Días",
         "text": [
          "Fecha: 2020-11-05<br>Tuits: 1",
          "Fecha: 2020-11-06<br>Tuits: 2",
          "Fecha: 2020-11-07<br>Tuits: 1",
          "Fecha: 2020-11-08<br>Tuits: 1",
          "Fecha: 2020-11-09<br>Tuits: 1",
          "Fecha: 2020-11-10<br>Tuits: 1",
          "Fecha: 2020-11-11<br>Tuits: 1",
          "Fecha: 2020-11-12<br>Tuits: 2",
          "Fecha: 2020-11-13<br>Tuits: 141",
          "Fecha: 2020-11-14<br>Tuits: 371"
         ],
         "type": "scatter",
         "x": [
          "2020-11-05",
          "2020-11-06",
          "2020-11-07",
          "2020-11-08",
          "2020-11-09",
          "2020-11-10",
          "2020-11-11",
          "2020-11-12",
          "2020-11-13",
          "2020-11-14"
         ],
         "y": [
          1,
          2,
          1,
          1,
          1,
          1,
          1,
          2,
          141,
          371
         ]
        }
       ],
       "layout": {
        "template": {
         "data": {
          "bar": [
           {
            "error_x": {
             "color": "#2a3f5f"
            },
            "error_y": {
             "color": "#2a3f5f"
            },
            "marker": {
             "line": {
              "color": "#E5ECF6",
              "width": 0.5
             }
            },
            "type": "bar"
           }
          ],
          "barpolar": [
           {
            "marker": {
             "line": {
              "color": "#E5ECF6",
              "width": 0.5
             }
            },
            "type": "barpolar"
           }
          ],
          "carpet": [
           {
            "aaxis": {
             "endlinecolor": "#2a3f5f",
             "gridcolor": "white",
             "linecolor": "white",
             "minorgridcolor": "white",
             "startlinecolor": "#2a3f5f"
            },
            "baxis": {
             "endlinecolor": "#2a3f5f",
             "gridcolor": "white",
             "linecolor": "white",
             "minorgridcolor": "white",
             "startlinecolor": "#2a3f5f"
            },
            "type": "carpet"
           }
          ],
          "choropleth": [
           {
            "colorbar": {
             "outlinewidth": 0,
             "ticks": ""
            },
            "type": "choropleth"
           }
          ],
          "contour": [
           {
            "colorbar": {
             "outlinewidth": 0,
             "ticks": ""
            },
            "colorscale": [
             [
              0,
              "#0d0887"
             ],
             [
              0.1111111111111111,
              "#46039f"
             ],
             [
              0.2222222222222222,
              "#7201a8"
             ],
             [
              0.3333333333333333,
              "#9c179e"
             ],
             [
              0.4444444444444444,
              "#bd3786"
             ],
             [
              0.5555555555555556,
              "#d8576b"
             ],
             [
              0.6666666666666666,
              "#ed7953"
             ],
             [
              0.7777777777777778,
              "#fb9f3a"
             ],
             [
              0.8888888888888888,
              "#fdca26"
             ],
             [
              1,
              "#f0f921"
             ]
            ],
            "type": "contour"
           }
          ],
          "contourcarpet": [
           {
            "colorbar": {
             "outlinewidth": 0,
             "ticks": ""
            },
            "type": "contourcarpet"
           }
          ],
          "heatmap": [
           {
            "colorbar": {
             "outlinewidth": 0,
             "ticks": ""
            },
            "colorscale": [
             [
              0,
              "#0d0887"
             ],
             [
              0.1111111111111111,
              "#46039f"
             ],
             [
              0.2222222222222222,
              "#7201a8"
             ],
             [
              0.3333333333333333,
              "#9c179e"
             ],
             [
              0.4444444444444444,
              "#bd3786"
             ],
             [
              0.5555555555555556,
              "#d8576b"
             ],
             [
              0.6666666666666666,
              "#ed7953"
             ],
             [
              0.7777777777777778,
              "#fb9f3a"
             ],
             [
              0.8888888888888888,
              "#fdca26"
             ],
             [
              1,
              "#f0f921"
             ]
            ],
            "type": "heatmap"
           }
          ],
          "heatmapgl": [
           {
            "colorbar": {
             "outlinewidth": 0,
             "ticks": ""
            },
            "colorscale": [
             [
              0,
              "#0d0887"
             ],
             [
              0.1111111111111111,
              "#46039f"
             ],
             [
              0.2222222222222222,
              "#7201a8"
             ],
             [
              0.3333333333333333,
              "#9c179e"
             ],
             [
              0.4444444444444444,
              "#bd3786"
             ],
             [
              0.5555555555555556,
              "#d8576b"
             ],
             [
              0.6666666666666666,
              "#ed7953"
             ],
             [
              0.7777777777777778,
              "#fb9f3a"
             ],
             [
              0.8888888888888888,
              "#fdca26"
             ],
             [
              1,
              "#f0f921"
             ]
            ],
            "type": "heatmapgl"
           }
          ],
          "histogram": [
           {
            "marker": {
             "colorbar": {
              "outlinewidth": 0,
              "ticks": ""
             }
            },
            "type": "histogram"
           }
          ],
          "histogram2d": [
           {
            "colorbar": {
             "outlinewidth": 0,
             "ticks": ""
            },
            "colorscale": [
             [
              0,
              "#0d0887"
             ],
             [
              0.1111111111111111,
              "#46039f"
             ],
             [
              0.2222222222222222,
              "#7201a8"
             ],
             [
              0.3333333333333333,
              "#9c179e"
             ],
             [
              0.4444444444444444,
              "#bd3786"
             ],
             [
              0.5555555555555556,
              "#d8576b"
             ],
             [
              0.6666666666666666,
              "#ed7953"
             ],
             [
              0.7777777777777778,
              "#fb9f3a"
             ],
             [
              0.8888888888888888,
              "#fdca26"
             ],
             [
              1,
              "#f0f921"
             ]
            ],
            "type": "histogram2d"
           }
          ],
          "histogram2dcontour": [
           {
            "colorbar": {
             "outlinewidth": 0,
             "ticks": ""
            },
            "colorscale": [
             [
              0,
              "#0d0887"
             ],
             [
              0.1111111111111111,
              "#46039f"
             ],
             [
              0.2222222222222222,
              "#7201a8"
             ],
             [
              0.3333333333333333,
              "#9c179e"
             ],
             [
              0.4444444444444444,
              "#bd3786"
             ],
             [
              0.5555555555555556,
              "#d8576b"
             ],
             [
              0.6666666666666666,
              "#ed7953"
             ],
             [
              0.7777777777777778,
              "#fb9f3a"
             ],
             [
              0.8888888888888888,
              "#fdca26"
             ],
             [
              1,
              "#f0f921"
             ]
            ],
            "type": "histogram2dcontour"
           }
          ],
          "mesh3d": [
           {
            "colorbar": {
             "outlinewidth": 0,
             "ticks": ""
            },
            "type": "mesh3d"
           }
          ],
          "parcoords": [
           {
            "line": {
             "colorbar": {
              "outlinewidth": 0,
              "ticks": ""
             }
            },
            "type": "parcoords"
           }
          ],
          "pie": [
           {
            "automargin": true,
            "type": "pie"
           }
          ],
          "scatter": [
           {
            "marker": {
             "colorbar": {
              "outlinewidth": 0,
              "ticks": ""
             }
            },
            "type": "scatter"
           }
          ],
          "scatter3d": [
           {
            "line": {
             "colorbar": {
              "outlinewidth": 0,
              "ticks": ""
             }
            },
            "marker": {
             "colorbar": {
              "outlinewidth": 0,
              "ticks": ""
             }
            },
            "type": "scatter3d"
           }
          ],
          "scattercarpet": [
           {
            "marker": {
             "colorbar": {
              "outlinewidth": 0,
              "ticks": ""
             }
            },
            "type": "scattercarpet"
           }
          ],
          "scattergeo": [
           {
            "marker": {
             "colorbar": {
              "outlinewidth": 0,
              "ticks": ""
             }
            },
            "type": "scattergeo"
           }
          ],
          "scattergl": [
           {
            "marker": {
             "colorbar": {
              "outlinewidth": 0,
              "ticks": ""
             }
            },
            "type": "scattergl"
           }
          ],
          "scattermapbox": [
           {
            "marker": {
             "colorbar": {
              "outlinewidth": 0,
              "ticks": ""
             }
            },
            "type": "scattermapbox"
           }
          ],
          "scatterpolar": [
           {
            "marker": {
             "colorbar": {
              "outlinewidth": 0,
              "ticks": ""
             }
            },
            "type": "scatterpolar"
           }
          ],
          "scatterpolargl": [
           {
            "marker": {
             "colorbar": {
              "outlinewidth": 0,
              "ticks": ""
             }
            },
            "type": "scatterpolargl"
           }
          ],
          "scatterternary": [
           {
            "marker": {
             "colorbar": {
              "outlinewidth": 0,
              "ticks": ""
             }
            },
            "type": "scatterternary"
           }
          ],
          "surface": [
           {
            "colorbar": {
             "outlinewidth": 0,
             "ticks": ""
            },
            "colorscale": [
             [
              0,
              "#0d0887"
             ],
             [
              0.1111111111111111,
              "#46039f"
             ],
             [
              0.2222222222222222,
              "#7201a8"
             ],
             [
              0.3333333333333333,
              "#9c179e"
             ],
             [
              0.4444444444444444,
              "#bd3786"
             ],
             [
              0.5555555555555556,
              "#d8576b"
             ],
             [
              0.6666666666666666,
              "#ed7953"
             ],
             [
              0.7777777777777778,
              "#fb9f3a"
             ],
             [
              0.8888888888888888,
              "#fdca26"
             ],
             [
              1,
              "#f0f921"
             ]
            ],
            "type": "surface"
           }
          ],
          "table": [
           {
            "cells": {
             "fill": {
              "color": "#EBF0F8"
             },
             "line": {
              "color": "white"
             }
            },
            "header": {
             "fill": {
              "color": "#C8D4E3"
             },
             "line": {
              "color": "white"
             }
            },
            "type": "table"
           }
          ]
         },
         "layout": {
          "annotationdefaults": {
           "arrowcolor": "#2a3f5f",
           "arrowhead": 0,
           "arrowwidth": 1
          },
          "coloraxis": {
           "colorbar": {
            "outlinewidth": 0,
            "ticks": ""
           }
          },
          "colorscale": {
           "diverging": [
            [
             0,
             "#8e0152"
            ],
            [
             0.1,
             "#c51b7d"
            ],
            [
             0.2,
             "#de77ae"
            ],
            [
             0.3,
             "#f1b6da"
            ],
            [
             0.4,
             "#fde0ef"
            ],
            [
             0.5,
             "#f7f7f7"
            ],
            [
             0.6,
             "#e6f5d0"
            ],
            [
             0.7,
             "#b8e186"
            ],
            [
             0.8,
             "#7fbc41"
            ],
            [
             0.9,
             "#4d9221"
            ],
            [
             1,
             "#276419"
            ]
           ],
           "sequential": [
            [
             0,
             "#0d0887"
            ],
            [
             0.1111111111111111,
             "#46039f"
            ],
            [
             0.2222222222222222,
             "#7201a8"
            ],
            [
             0.3333333333333333,
             "#9c179e"
            ],
            [
             0.4444444444444444,
             "#bd3786"
            ],
            [
             0.5555555555555556,
             "#d8576b"
            ],
            [
             0.6666666666666666,
             "#ed7953"
            ],
            [
             0.7777777777777778,
             "#fb9f3a"
            ],
            [
             0.8888888888888888,
             "#fdca26"
            ],
            [
             1,
             "#f0f921"
            ]
           ],
           "sequentialminus": [
            [
             0,
             "#0d0887"
            ],
            [
             0.1111111111111111,
             "#46039f"
            ],
            [
             0.2222222222222222,
             "#7201a8"
            ],
            [
             0.3333333333333333,
             "#9c179e"
            ],
            [
             0.4444444444444444,
             "#bd3786"
            ],
            [
             0.5555555555555556,
             "#d8576b"
            ],
            [
             0.6666666666666666,
             "#ed7953"
            ],
            [
             0.7777777777777778,
             "#fb9f3a"
            ],
            [
             0.8888888888888888,
             "#fdca26"
            ],
            [
             1,
             "#f0f921"
            ]
           ]
          },
          "colorway": [
           "#636efa",
           "#EF553B",
           "#00cc96",
           "#ab63fa",
           "#FFA15A",
           "#19d3f3",
           "#FF6692",
           "#B6E880",
           "#FF97FF",
           "#FECB52"
          ],
          "font": {
           "color": "#2a3f5f"
          },
          "geo": {
           "bgcolor": "white",
           "lakecolor": "white",
           "landcolor": "#E5ECF6",
           "showlakes": true,
           "showland": true,
           "subunitcolor": "white"
          },
          "hoverlabel": {
           "align": "left"
          },
          "hovermode": "closest",
          "mapbox": {
           "style": "light"
          },
          "paper_bgcolor": "white",
          "plot_bgcolor": "#E5ECF6",
          "polar": {
           "angularaxis": {
            "gridcolor": "white",
            "linecolor": "white",
            "ticks": ""
           },
           "bgcolor": "#E5ECF6",
           "radialaxis": {
            "gridcolor": "white",
            "linecolor": "white",
            "ticks": ""
           }
          },
          "scene": {
           "xaxis": {
            "backgroundcolor": "#E5ECF6",
            "gridcolor": "white",
            "gridwidth": 2,
            "linecolor": "white",
            "showbackground": true,
            "ticks": "",
            "zerolinecolor": "white"
           },
           "yaxis": {
            "backgroundcolor": "#E5ECF6",
            "gridcolor": "white",
            "gridwidth": 2,
            "linecolor": "white",
            "showbackground": true,
            "ticks": "",
            "zerolinecolor": "white"
           },
           "zaxis": {
            "backgroundcolor": "#E5ECF6",
            "gridcolor": "white",
            "gridwidth": 2,
            "linecolor": "white",
            "showbackground": true,
            "ticks": "",
            "zerolinecolor": "white"
           }
          },
          "shapedefaults": {
           "line": {
            "color": "#2a3f5f"
           }
          },
          "ternary": {
           "aaxis": {
            "gridcolor": "white",
            "linecolor": "white",
            "ticks": ""
           },
           "baxis": {
            "gridcolor": "white",
            "linecolor": "white",
            "ticks": ""
           },
           "bgcolor": "#E5ECF6",
           "caxis": {
            "gridcolor": "white",
            "linecolor": "white",
            "ticks": ""
           }
          },
          "title": {
           "x": 0.05
          },
          "xaxis": {
           "automargin": true,
           "gridcolor": "white",
           "linecolor": "white",
           "ticks": "",
           "title": {
            "standoff": 15
           },
           "zerolinecolor": "white",
           "zerolinewidth": 2
          },
          "yaxis": {
           "automargin": true,
           "gridcolor": "white",
           "linecolor": "white",
           "ticks": "",
           "title": {
            "standoff": 15
           },
           "zerolinecolor": "white",
           "zerolinewidth": 2
          }
         }
        },
        "title": {
         "text": "Número de tuits por día"
        }
       }
      },
      "text/html": [
       "<div>                            <div id=\"b2c14a76-459f-499b-b81a-52aec9ad21d8\" class=\"plotly-graph-div\" style=\"height:525px; width:100%;\"></div>            <script type=\"text/javascript\">                require([\"plotly\"], function(Plotly) {                    window.PLOTLYENV=window.PLOTLYENV || {};                                    if (document.getElementById(\"b2c14a76-459f-499b-b81a-52aec9ad21d8\")) {                    Plotly.newPlot(                        \"b2c14a76-459f-499b-b81a-52aec9ad21d8\",                        [{\"hoverinfo\": \"text\", \"line\": {\"color\": \"#1DA1F2\"}, \"mode\": \"lines+markers\", \"name\": \"D\\u00edas\", \"text\": [\"Fecha: 2020-11-05<br>Tuits: 1\", \"Fecha: 2020-11-06<br>Tuits: 2\", \"Fecha: 2020-11-07<br>Tuits: 1\", \"Fecha: 2020-11-08<br>Tuits: 1\", \"Fecha: 2020-11-09<br>Tuits: 1\", \"Fecha: 2020-11-10<br>Tuits: 1\", \"Fecha: 2020-11-11<br>Tuits: 1\", \"Fecha: 2020-11-12<br>Tuits: 2\", \"Fecha: 2020-11-13<br>Tuits: 141\", \"Fecha: 2020-11-14<br>Tuits: 371\"], \"type\": \"scatter\", \"x\": [\"2020-11-05\", \"2020-11-06\", \"2020-11-07\", \"2020-11-08\", \"2020-11-09\", \"2020-11-10\", \"2020-11-11\", \"2020-11-12\", \"2020-11-13\", \"2020-11-14\"], \"y\": [1, 2, 1, 1, 1, 1, 1, 2, 141, 371]}],                        {\"template\": {\"data\": {\"bar\": [{\"error_x\": {\"color\": \"#2a3f5f\"}, \"error_y\": {\"color\": \"#2a3f5f\"}, \"marker\": {\"line\": {\"color\": \"#E5ECF6\", \"width\": 0.5}}, \"type\": \"bar\"}], \"barpolar\": [{\"marker\": {\"line\": {\"color\": \"#E5ECF6\", \"width\": 0.5}}, \"type\": \"barpolar\"}], \"carpet\": [{\"aaxis\": {\"endlinecolor\": \"#2a3f5f\", \"gridcolor\": \"white\", \"linecolor\": \"white\", \"minorgridcolor\": \"white\", \"startlinecolor\": \"#2a3f5f\"}, \"baxis\": {\"endlinecolor\": \"#2a3f5f\", \"gridcolor\": \"white\", \"linecolor\": \"white\", \"minorgridcolor\": \"white\", \"startlinecolor\": \"#2a3f5f\"}, \"type\": \"carpet\"}], \"choropleth\": [{\"colorbar\": {\"outlinewidth\": 0, \"ticks\": \"\"}, \"type\": \"choropleth\"}], \"contour\": [{\"colorbar\": {\"outlinewidth\": 0, \"ticks\": \"\"}, \"colorscale\": [[0.0, \"#0d0887\"], [0.1111111111111111, \"#46039f\"], [0.2222222222222222, \"#7201a8\"], [0.3333333333333333, \"#9c179e\"], [0.4444444444444444, \"#bd3786\"], [0.5555555555555556, \"#d8576b\"], [0.6666666666666666, \"#ed7953\"], [0.7777777777777778, \"#fb9f3a\"], [0.8888888888888888, \"#fdca26\"], [1.0, \"#f0f921\"]], \"type\": \"contour\"}], \"contourcarpet\": [{\"colorbar\": {\"outlinewidth\": 0, \"ticks\": \"\"}, \"type\": \"contourcarpet\"}], \"heatmap\": [{\"colorbar\": {\"outlinewidth\": 0, \"ticks\": \"\"}, \"colorscale\": [[0.0, \"#0d0887\"], [0.1111111111111111, \"#46039f\"], [0.2222222222222222, \"#7201a8\"], [0.3333333333333333, \"#9c179e\"], [0.4444444444444444, \"#bd3786\"], [0.5555555555555556, \"#d8576b\"], [0.6666666666666666, \"#ed7953\"], [0.7777777777777778, \"#fb9f3a\"], [0.8888888888888888, \"#fdca26\"], [1.0, \"#f0f921\"]], \"type\": \"heatmap\"}], \"heatmapgl\": [{\"colorbar\": {\"outlinewidth\": 0, \"ticks\": \"\"}, \"colorscale\": [[0.0, \"#0d0887\"], [0.1111111111111111, \"#46039f\"], [0.2222222222222222, \"#7201a8\"], [0.3333333333333333, \"#9c179e\"], [0.4444444444444444, \"#bd3786\"], [0.5555555555555556, \"#d8576b\"], [0.6666666666666666, \"#ed7953\"], [0.7777777777777778, \"#fb9f3a\"], [0.8888888888888888, \"#fdca26\"], [1.0, \"#f0f921\"]], \"type\": \"heatmapgl\"}], \"histogram\": [{\"marker\": {\"colorbar\": {\"outlinewidth\": 0, \"ticks\": \"\"}}, \"type\": \"histogram\"}], \"histogram2d\": [{\"colorbar\": {\"outlinewidth\": 0, \"ticks\": \"\"}, \"colorscale\": [[0.0, \"#0d0887\"], [0.1111111111111111, \"#46039f\"], [0.2222222222222222, \"#7201a8\"], [0.3333333333333333, \"#9c179e\"], [0.4444444444444444, \"#bd3786\"], [0.5555555555555556, \"#d8576b\"], [0.6666666666666666, \"#ed7953\"], [0.7777777777777778, \"#fb9f3a\"], [0.8888888888888888, \"#fdca26\"], [1.0, \"#f0f921\"]], \"type\": \"histogram2d\"}], \"histogram2dcontour\": [{\"colorbar\": {\"outlinewidth\": 0, \"ticks\": \"\"}, \"colorscale\": [[0.0, \"#0d0887\"], [0.1111111111111111, \"#46039f\"], [0.2222222222222222, \"#7201a8\"], [0.3333333333333333, \"#9c179e\"], [0.4444444444444444, \"#bd3786\"], [0.5555555555555556, \"#d8576b\"], [0.6666666666666666, \"#ed7953\"], [0.7777777777777778, \"#fb9f3a\"], [0.8888888888888888, \"#fdca26\"], [1.0, \"#f0f921\"]], \"type\": \"histogram2dcontour\"}], \"mesh3d\": [{\"colorbar\": {\"outlinewidth\": 0, \"ticks\": \"\"}, \"type\": \"mesh3d\"}], \"parcoords\": [{\"line\": {\"colorbar\": {\"outlinewidth\": 0, \"ticks\": \"\"}}, \"type\": \"parcoords\"}], \"pie\": [{\"automargin\": true, \"type\": \"pie\"}], \"scatter\": [{\"marker\": {\"colorbar\": {\"outlinewidth\": 0, \"ticks\": \"\"}}, \"type\": \"scatter\"}], \"scatter3d\": [{\"line\": {\"colorbar\": {\"outlinewidth\": 0, \"ticks\": \"\"}}, \"marker\": {\"colorbar\": {\"outlinewidth\": 0, \"ticks\": \"\"}}, \"type\": \"scatter3d\"}], \"scattercarpet\": [{\"marker\": {\"colorbar\": {\"outlinewidth\": 0, \"ticks\": \"\"}}, \"type\": \"scattercarpet\"}], \"scattergeo\": [{\"marker\": {\"colorbar\": {\"outlinewidth\": 0, \"ticks\": \"\"}}, \"type\": \"scattergeo\"}], \"scattergl\": [{\"marker\": {\"colorbar\": {\"outlinewidth\": 0, \"ticks\": \"\"}}, \"type\": \"scattergl\"}], \"scattermapbox\": [{\"marker\": {\"colorbar\": {\"outlinewidth\": 0, \"ticks\": \"\"}}, \"type\": \"scattermapbox\"}], \"scatterpolar\": [{\"marker\": {\"colorbar\": {\"outlinewidth\": 0, \"ticks\": \"\"}}, \"type\": \"scatterpolar\"}], \"scatterpolargl\": [{\"marker\": {\"colorbar\": {\"outlinewidth\": 0, \"ticks\": \"\"}}, \"type\": \"scatterpolargl\"}], \"scatterternary\": [{\"marker\": {\"colorbar\": {\"outlinewidth\": 0, \"ticks\": \"\"}}, \"type\": \"scatterternary\"}], \"surface\": [{\"colorbar\": {\"outlinewidth\": 0, \"ticks\": \"\"}, \"colorscale\": [[0.0, \"#0d0887\"], [0.1111111111111111, \"#46039f\"], [0.2222222222222222, \"#7201a8\"], [0.3333333333333333, \"#9c179e\"], [0.4444444444444444, \"#bd3786\"], [0.5555555555555556, \"#d8576b\"], [0.6666666666666666, \"#ed7953\"], [0.7777777777777778, \"#fb9f3a\"], [0.8888888888888888, \"#fdca26\"], [1.0, \"#f0f921\"]], \"type\": \"surface\"}], \"table\": [{\"cells\": {\"fill\": {\"color\": \"#EBF0F8\"}, \"line\": {\"color\": \"white\"}}, \"header\": {\"fill\": {\"color\": \"#C8D4E3\"}, \"line\": {\"color\": \"white\"}}, \"type\": \"table\"}]}, \"layout\": {\"annotationdefaults\": {\"arrowcolor\": \"#2a3f5f\", \"arrowhead\": 0, \"arrowwidth\": 1}, \"coloraxis\": {\"colorbar\": {\"outlinewidth\": 0, \"ticks\": \"\"}}, \"colorscale\": {\"diverging\": [[0, \"#8e0152\"], [0.1, \"#c51b7d\"], [0.2, \"#de77ae\"], [0.3, \"#f1b6da\"], [0.4, \"#fde0ef\"], [0.5, \"#f7f7f7\"], [0.6, \"#e6f5d0\"], [0.7, \"#b8e186\"], [0.8, \"#7fbc41\"], [0.9, \"#4d9221\"], [1, \"#276419\"]], \"sequential\": [[0.0, \"#0d0887\"], [0.1111111111111111, \"#46039f\"], [0.2222222222222222, \"#7201a8\"], [0.3333333333333333, \"#9c179e\"], [0.4444444444444444, \"#bd3786\"], [0.5555555555555556, \"#d8576b\"], [0.6666666666666666, \"#ed7953\"], [0.7777777777777778, \"#fb9f3a\"], [0.8888888888888888, \"#fdca26\"], [1.0, \"#f0f921\"]], \"sequentialminus\": [[0.0, \"#0d0887\"], [0.1111111111111111, \"#46039f\"], [0.2222222222222222, \"#7201a8\"], [0.3333333333333333, \"#9c179e\"], [0.4444444444444444, \"#bd3786\"], [0.5555555555555556, \"#d8576b\"], [0.6666666666666666, \"#ed7953\"], [0.7777777777777778, \"#fb9f3a\"], [0.8888888888888888, \"#fdca26\"], [1.0, \"#f0f921\"]]}, \"colorway\": [\"#636efa\", \"#EF553B\", \"#00cc96\", \"#ab63fa\", \"#FFA15A\", \"#19d3f3\", \"#FF6692\", \"#B6E880\", \"#FF97FF\", \"#FECB52\"], \"font\": {\"color\": \"#2a3f5f\"}, \"geo\": {\"bgcolor\": \"white\", \"lakecolor\": \"white\", \"landcolor\": \"#E5ECF6\", \"showlakes\": true, \"showland\": true, \"subunitcolor\": \"white\"}, \"hoverlabel\": {\"align\": \"left\"}, \"hovermode\": \"closest\", \"mapbox\": {\"style\": \"light\"}, \"paper_bgcolor\": \"white\", \"plot_bgcolor\": \"#E5ECF6\", \"polar\": {\"angularaxis\": {\"gridcolor\": \"white\", \"linecolor\": \"white\", \"ticks\": \"\"}, \"bgcolor\": \"#E5ECF6\", \"radialaxis\": {\"gridcolor\": \"white\", \"linecolor\": \"white\", \"ticks\": \"\"}}, \"scene\": {\"xaxis\": {\"backgroundcolor\": \"#E5ECF6\", \"gridcolor\": \"white\", \"gridwidth\": 2, \"linecolor\": \"white\", \"showbackground\": true, \"ticks\": \"\", \"zerolinecolor\": \"white\"}, \"yaxis\": {\"backgroundcolor\": \"#E5ECF6\", \"gridcolor\": \"white\", \"gridwidth\": 2, \"linecolor\": \"white\", \"showbackground\": true, \"ticks\": \"\", \"zerolinecolor\": \"white\"}, \"zaxis\": {\"backgroundcolor\": \"#E5ECF6\", \"gridcolor\": \"white\", \"gridwidth\": 2, \"linecolor\": \"white\", \"showbackground\": true, \"ticks\": \"\", \"zerolinecolor\": \"white\"}}, \"shapedefaults\": {\"line\": {\"color\": \"#2a3f5f\"}}, \"ternary\": {\"aaxis\": {\"gridcolor\": \"white\", \"linecolor\": \"white\", \"ticks\": \"\"}, \"baxis\": {\"gridcolor\": \"white\", \"linecolor\": \"white\", \"ticks\": \"\"}, \"bgcolor\": \"#E5ECF6\", \"caxis\": {\"gridcolor\": \"white\", \"linecolor\": \"white\", \"ticks\": \"\"}}, \"title\": {\"x\": 0.05}, \"xaxis\": {\"automargin\": true, \"gridcolor\": \"white\", \"linecolor\": \"white\", \"ticks\": \"\", \"title\": {\"standoff\": 15}, \"zerolinecolor\": \"white\", \"zerolinewidth\": 2}, \"yaxis\": {\"automargin\": true, \"gridcolor\": \"white\", \"linecolor\": \"white\", \"ticks\": \"\", \"title\": {\"standoff\": 15}, \"zerolinecolor\": \"white\", \"zerolinewidth\": 2}}}, \"title\": {\"text\": \"N\\u00famero de tuits por d\\u00eda\"}},                        {\"responsive\": true}                    ).then(function(){\n",
       "                            \n",
       "var gd = document.getElementById('b2c14a76-459f-499b-b81a-52aec9ad21d8');\n",
       "var x = new MutationObserver(function (mutations, observer) {{\n",
       "        var display = window.getComputedStyle(gd).display;\n",
       "        if (!display || display === 'none') {{\n",
       "            console.log([gd, 'removed!']);\n",
       "            Plotly.purge(gd);\n",
       "            observer.disconnect();\n",
       "        }}\n",
       "}});\n",
       "\n",
       "// Listen for the removal of the full notebook cells\n",
       "var notebookContainer = gd.closest('#notebook-container');\n",
       "if (notebookContainer) {{\n",
       "    x.observe(notebookContainer, {childList: true});\n",
       "}}\n",
       "\n",
       "// Listen for the clearing of the current output cell\n",
       "var outputEl = gd.closest('.output');\n",
       "if (outputEl) {{\n",
       "    x.observe(outputEl, {childList: true});\n",
       "}}\n",
       "\n",
       "                        })                };                });            </script>        </div>"
      ]
     },
     "metadata": {},
     "output_type": "display_data"
    }
   ],
   "source": [
    "trace = go.Scatter(x=temp.fecha.values,\n",
    "                    y=temp.cnt.values,\n",
    "                    text=[f\"Fecha: {f}<br>Tuits: {c}\" for f,c in zip(temp.fecha.values,temp.cnt.values)],\n",
    "                    hoverinfo='text',\n",
    "                    mode='lines+markers',\n",
    "                    name='Días',\n",
    "                    line={'color':'#1DA1F2'})\n",
    " \n",
    "layout = go.Layout(title='Número de tuits por día') \n",
    "fig = go.Figure(data=[trace], layout=layout)\n",
    "\n",
    "iplot(fig)"
   ]
  },
  {
   "cell_type": "markdown",
   "metadata": {},
   "source": [
    "### Diagrama de barras de la cantidad de emojis"
   ]
  },
  {
   "cell_type": "code",
   "execution_count": 116,
   "metadata": {},
   "outputs": [
    {
     "data": {
      "text/html": [
       "<div>\n",
       "<style scoped>\n",
       "    .dataframe tbody tr th:only-of-type {\n",
       "        vertical-align: middle;\n",
       "    }\n",
       "\n",
       "    .dataframe tbody tr th {\n",
       "        vertical-align: top;\n",
       "    }\n",
       "\n",
       "    .dataframe thead th {\n",
       "        text-align: right;\n",
       "    }\n",
       "</style>\n",
       "<table border=\"1\" class=\"dataframe\">\n",
       "  <thead>\n",
       "    <tr style=\"text-align: right;\">\n",
       "      <th></th>\n",
       "      <th>emoji</th>\n",
       "      <th>cnt</th>\n",
       "    </tr>\n",
       "  </thead>\n",
       "  <tbody>\n",
       "    <tr>\n",
       "      <th>1</th>\n",
       "      <td>🤣</td>\n",
       "      <td>31</td>\n",
       "    </tr>\n",
       "    <tr>\n",
       "      <th>6</th>\n",
       "      <td>🇨🇴</td>\n",
       "      <td>18</td>\n",
       "    </tr>\n",
       "    <tr>\n",
       "      <th>55</th>\n",
       "      <td>🤡</td>\n",
       "      <td>15</td>\n",
       "    </tr>\n",
       "    <tr>\n",
       "      <th>20</th>\n",
       "      <td>❤</td>\n",
       "      <td>9</td>\n",
       "    </tr>\n",
       "    <tr>\n",
       "      <th>21</th>\n",
       "      <td>🇺🇾</td>\n",
       "      <td>6</td>\n",
       "    </tr>\n",
       "  </tbody>\n",
       "</table>\n",
       "</div>"
      ],
      "text/plain": [
       "   emoji  cnt\n",
       "1      🤣   31\n",
       "6     🇨🇴   18\n",
       "55     🤡   15\n",
       "20     ❤    9\n",
       "21    🇺🇾    6"
      ]
     },
     "execution_count": 116,
     "metadata": {},
     "output_type": "execute_result"
    }
   ],
   "source": [
    "from collections import Counter\n",
    " \n",
    "temp_emojis = pd.DataFrame(list(zip(Counter(sum(datos_tw.emojis.values,[])).keys(),Counter(sum(datos_tw.emojis.values,[])).values())))\n",
    "\n",
    "temp_emojis.columns = ['emoji', 'cnt']\n",
    "temp_emojis.sort_values('cnt', ascending=False, inplace=True)\n",
    "\n",
    "temp_emojis.head()"
   ]
  },
  {
   "cell_type": "code",
   "execution_count": 17,
   "metadata": {},
   "outputs": [
    {
     "data": {
      "application/vnd.plotly.v1+json": {
       "config": {
        "linkText": "Export to plot.ly",
        "plotlyServerURL": "https://plot.ly",
        "showLink": false
       },
       "data": [
        {
         "type": "bar",
         "x": [
          "🇨🇴",
          "⚽",
          "🙏",
          "⚽️",
          "🇺🇾",
          "😎",
          "🇪🇨",
          "👉🏽",
          "🏆",
          "👹",
          "🎉",
          "👏🏻",
          "🙋🏻‍♂️",
          "💪🏻",
          "🇶🇦"
         ],
         "y": [
          46,
          17,
          10,
          6,
          6,
          5,
          5,
          5,
          4,
          4,
          4,
          4,
          4,
          4,
          4
         ]
        }
       ],
       "layout": {
        "template": {
         "data": {
          "bar": [
           {
            "error_x": {
             "color": "#2a3f5f"
            },
            "error_y": {
             "color": "#2a3f5f"
            },
            "marker": {
             "line": {
              "color": "#E5ECF6",
              "width": 0.5
             }
            },
            "type": "bar"
           }
          ],
          "barpolar": [
           {
            "marker": {
             "line": {
              "color": "#E5ECF6",
              "width": 0.5
             }
            },
            "type": "barpolar"
           }
          ],
          "carpet": [
           {
            "aaxis": {
             "endlinecolor": "#2a3f5f",
             "gridcolor": "white",
             "linecolor": "white",
             "minorgridcolor": "white",
             "startlinecolor": "#2a3f5f"
            },
            "baxis": {
             "endlinecolor": "#2a3f5f",
             "gridcolor": "white",
             "linecolor": "white",
             "minorgridcolor": "white",
             "startlinecolor": "#2a3f5f"
            },
            "type": "carpet"
           }
          ],
          "choropleth": [
           {
            "colorbar": {
             "outlinewidth": 0,
             "ticks": ""
            },
            "type": "choropleth"
           }
          ],
          "contour": [
           {
            "colorbar": {
             "outlinewidth": 0,
             "ticks": ""
            },
            "colorscale": [
             [
              0,
              "#0d0887"
             ],
             [
              0.1111111111111111,
              "#46039f"
             ],
             [
              0.2222222222222222,
              "#7201a8"
             ],
             [
              0.3333333333333333,
              "#9c179e"
             ],
             [
              0.4444444444444444,
              "#bd3786"
             ],
             [
              0.5555555555555556,
              "#d8576b"
             ],
             [
              0.6666666666666666,
              "#ed7953"
             ],
             [
              0.7777777777777778,
              "#fb9f3a"
             ],
             [
              0.8888888888888888,
              "#fdca26"
             ],
             [
              1,
              "#f0f921"
             ]
            ],
            "type": "contour"
           }
          ],
          "contourcarpet": [
           {
            "colorbar": {
             "outlinewidth": 0,
             "ticks": ""
            },
            "type": "contourcarpet"
           }
          ],
          "heatmap": [
           {
            "colorbar": {
             "outlinewidth": 0,
             "ticks": ""
            },
            "colorscale": [
             [
              0,
              "#0d0887"
             ],
             [
              0.1111111111111111,
              "#46039f"
             ],
             [
              0.2222222222222222,
              "#7201a8"
             ],
             [
              0.3333333333333333,
              "#9c179e"
             ],
             [
              0.4444444444444444,
              "#bd3786"
             ],
             [
              0.5555555555555556,
              "#d8576b"
             ],
             [
              0.6666666666666666,
              "#ed7953"
             ],
             [
              0.7777777777777778,
              "#fb9f3a"
             ],
             [
              0.8888888888888888,
              "#fdca26"
             ],
             [
              1,
              "#f0f921"
             ]
            ],
            "type": "heatmap"
           }
          ],
          "heatmapgl": [
           {
            "colorbar": {
             "outlinewidth": 0,
             "ticks": ""
            },
            "colorscale": [
             [
              0,
              "#0d0887"
             ],
             [
              0.1111111111111111,
              "#46039f"
             ],
             [
              0.2222222222222222,
              "#7201a8"
             ],
             [
              0.3333333333333333,
              "#9c179e"
             ],
             [
              0.4444444444444444,
              "#bd3786"
             ],
             [
              0.5555555555555556,
              "#d8576b"
             ],
             [
              0.6666666666666666,
              "#ed7953"
             ],
             [
              0.7777777777777778,
              "#fb9f3a"
             ],
             [
              0.8888888888888888,
              "#fdca26"
             ],
             [
              1,
              "#f0f921"
             ]
            ],
            "type": "heatmapgl"
           }
          ],
          "histogram": [
           {
            "marker": {
             "colorbar": {
              "outlinewidth": 0,
              "ticks": ""
             }
            },
            "type": "histogram"
           }
          ],
          "histogram2d": [
           {
            "colorbar": {
             "outlinewidth": 0,
             "ticks": ""
            },
            "colorscale": [
             [
              0,
              "#0d0887"
             ],
             [
              0.1111111111111111,
              "#46039f"
             ],
             [
              0.2222222222222222,
              "#7201a8"
             ],
             [
              0.3333333333333333,
              "#9c179e"
             ],
             [
              0.4444444444444444,
              "#bd3786"
             ],
             [
              0.5555555555555556,
              "#d8576b"
             ],
             [
              0.6666666666666666,
              "#ed7953"
             ],
             [
              0.7777777777777778,
              "#fb9f3a"
             ],
             [
              0.8888888888888888,
              "#fdca26"
             ],
             [
              1,
              "#f0f921"
             ]
            ],
            "type": "histogram2d"
           }
          ],
          "histogram2dcontour": [
           {
            "colorbar": {
             "outlinewidth": 0,
             "ticks": ""
            },
            "colorscale": [
             [
              0,
              "#0d0887"
             ],
             [
              0.1111111111111111,
              "#46039f"
             ],
             [
              0.2222222222222222,
              "#7201a8"
             ],
             [
              0.3333333333333333,
              "#9c179e"
             ],
             [
              0.4444444444444444,
              "#bd3786"
             ],
             [
              0.5555555555555556,
              "#d8576b"
             ],
             [
              0.6666666666666666,
              "#ed7953"
             ],
             [
              0.7777777777777778,
              "#fb9f3a"
             ],
             [
              0.8888888888888888,
              "#fdca26"
             ],
             [
              1,
              "#f0f921"
             ]
            ],
            "type": "histogram2dcontour"
           }
          ],
          "mesh3d": [
           {
            "colorbar": {
             "outlinewidth": 0,
             "ticks": ""
            },
            "type": "mesh3d"
           }
          ],
          "parcoords": [
           {
            "line": {
             "colorbar": {
              "outlinewidth": 0,
              "ticks": ""
             }
            },
            "type": "parcoords"
           }
          ],
          "pie": [
           {
            "automargin": true,
            "type": "pie"
           }
          ],
          "scatter": [
           {
            "marker": {
             "colorbar": {
              "outlinewidth": 0,
              "ticks": ""
             }
            },
            "type": "scatter"
           }
          ],
          "scatter3d": [
           {
            "line": {
             "colorbar": {
              "outlinewidth": 0,
              "ticks": ""
             }
            },
            "marker": {
             "colorbar": {
              "outlinewidth": 0,
              "ticks": ""
             }
            },
            "type": "scatter3d"
           }
          ],
          "scattercarpet": [
           {
            "marker": {
             "colorbar": {
              "outlinewidth": 0,
              "ticks": ""
             }
            },
            "type": "scattercarpet"
           }
          ],
          "scattergeo": [
           {
            "marker": {
             "colorbar": {
              "outlinewidth": 0,
              "ticks": ""
             }
            },
            "type": "scattergeo"
           }
          ],
          "scattergl": [
           {
            "marker": {
             "colorbar": {
              "outlinewidth": 0,
              "ticks": ""
             }
            },
            "type": "scattergl"
           }
          ],
          "scattermapbox": [
           {
            "marker": {
             "colorbar": {
              "outlinewidth": 0,
              "ticks": ""
             }
            },
            "type": "scattermapbox"
           }
          ],
          "scatterpolar": [
           {
            "marker": {
             "colorbar": {
              "outlinewidth": 0,
              "ticks": ""
             }
            },
            "type": "scatterpolar"
           }
          ],
          "scatterpolargl": [
           {
            "marker": {
             "colorbar": {
              "outlinewidth": 0,
              "ticks": ""
             }
            },
            "type": "scatterpolargl"
           }
          ],
          "scatterternary": [
           {
            "marker": {
             "colorbar": {
              "outlinewidth": 0,
              "ticks": ""
             }
            },
            "type": "scatterternary"
           }
          ],
          "surface": [
           {
            "colorbar": {
             "outlinewidth": 0,
             "ticks": ""
            },
            "colorscale": [
             [
              0,
              "#0d0887"
             ],
             [
              0.1111111111111111,
              "#46039f"
             ],
             [
              0.2222222222222222,
              "#7201a8"
             ],
             [
              0.3333333333333333,
              "#9c179e"
             ],
             [
              0.4444444444444444,
              "#bd3786"
             ],
             [
              0.5555555555555556,
              "#d8576b"
             ],
             [
              0.6666666666666666,
              "#ed7953"
             ],
             [
              0.7777777777777778,
              "#fb9f3a"
             ],
             [
              0.8888888888888888,
              "#fdca26"
             ],
             [
              1,
              "#f0f921"
             ]
            ],
            "type": "surface"
           }
          ],
          "table": [
           {
            "cells": {
             "fill": {
              "color": "#EBF0F8"
             },
             "line": {
              "color": "white"
             }
            },
            "header": {
             "fill": {
              "color": "#C8D4E3"
             },
             "line": {
              "color": "white"
             }
            },
            "type": "table"
           }
          ]
         },
         "layout": {
          "annotationdefaults": {
           "arrowcolor": "#2a3f5f",
           "arrowhead": 0,
           "arrowwidth": 1
          },
          "coloraxis": {
           "colorbar": {
            "outlinewidth": 0,
            "ticks": ""
           }
          },
          "colorscale": {
           "diverging": [
            [
             0,
             "#8e0152"
            ],
            [
             0.1,
             "#c51b7d"
            ],
            [
             0.2,
             "#de77ae"
            ],
            [
             0.3,
             "#f1b6da"
            ],
            [
             0.4,
             "#fde0ef"
            ],
            [
             0.5,
             "#f7f7f7"
            ],
            [
             0.6,
             "#e6f5d0"
            ],
            [
             0.7,
             "#b8e186"
            ],
            [
             0.8,
             "#7fbc41"
            ],
            [
             0.9,
             "#4d9221"
            ],
            [
             1,
             "#276419"
            ]
           ],
           "sequential": [
            [
             0,
             "#0d0887"
            ],
            [
             0.1111111111111111,
             "#46039f"
            ],
            [
             0.2222222222222222,
             "#7201a8"
            ],
            [
             0.3333333333333333,
             "#9c179e"
            ],
            [
             0.4444444444444444,
             "#bd3786"
            ],
            [
             0.5555555555555556,
             "#d8576b"
            ],
            [
             0.6666666666666666,
             "#ed7953"
            ],
            [
             0.7777777777777778,
             "#fb9f3a"
            ],
            [
             0.8888888888888888,
             "#fdca26"
            ],
            [
             1,
             "#f0f921"
            ]
           ],
           "sequentialminus": [
            [
             0,
             "#0d0887"
            ],
            [
             0.1111111111111111,
             "#46039f"
            ],
            [
             0.2222222222222222,
             "#7201a8"
            ],
            [
             0.3333333333333333,
             "#9c179e"
            ],
            [
             0.4444444444444444,
             "#bd3786"
            ],
            [
             0.5555555555555556,
             "#d8576b"
            ],
            [
             0.6666666666666666,
             "#ed7953"
            ],
            [
             0.7777777777777778,
             "#fb9f3a"
            ],
            [
             0.8888888888888888,
             "#fdca26"
            ],
            [
             1,
             "#f0f921"
            ]
           ]
          },
          "colorway": [
           "#636efa",
           "#EF553B",
           "#00cc96",
           "#ab63fa",
           "#FFA15A",
           "#19d3f3",
           "#FF6692",
           "#B6E880",
           "#FF97FF",
           "#FECB52"
          ],
          "font": {
           "color": "#2a3f5f"
          },
          "geo": {
           "bgcolor": "white",
           "lakecolor": "white",
           "landcolor": "#E5ECF6",
           "showlakes": true,
           "showland": true,
           "subunitcolor": "white"
          },
          "hoverlabel": {
           "align": "left"
          },
          "hovermode": "closest",
          "mapbox": {
           "style": "light"
          },
          "paper_bgcolor": "white",
          "plot_bgcolor": "#E5ECF6",
          "polar": {
           "angularaxis": {
            "gridcolor": "white",
            "linecolor": "white",
            "ticks": ""
           },
           "bgcolor": "#E5ECF6",
           "radialaxis": {
            "gridcolor": "white",
            "linecolor": "white",
            "ticks": ""
           }
          },
          "scene": {
           "xaxis": {
            "backgroundcolor": "#E5ECF6",
            "gridcolor": "white",
            "gridwidth": 2,
            "linecolor": "white",
            "showbackground": true,
            "ticks": "",
            "zerolinecolor": "white"
           },
           "yaxis": {
            "backgroundcolor": "#E5ECF6",
            "gridcolor": "white",
            "gridwidth": 2,
            "linecolor": "white",
            "showbackground": true,
            "ticks": "",
            "zerolinecolor": "white"
           },
           "zaxis": {
            "backgroundcolor": "#E5ECF6",
            "gridcolor": "white",
            "gridwidth": 2,
            "linecolor": "white",
            "showbackground": true,
            "ticks": "",
            "zerolinecolor": "white"
           }
          },
          "shapedefaults": {
           "line": {
            "color": "#2a3f5f"
           }
          },
          "ternary": {
           "aaxis": {
            "gridcolor": "white",
            "linecolor": "white",
            "ticks": ""
           },
           "baxis": {
            "gridcolor": "white",
            "linecolor": "white",
            "ticks": ""
           },
           "bgcolor": "#E5ECF6",
           "caxis": {
            "gridcolor": "white",
            "linecolor": "white",
            "ticks": ""
           }
          },
          "title": {
           "x": 0.05
          },
          "xaxis": {
           "automargin": true,
           "gridcolor": "white",
           "linecolor": "white",
           "ticks": "",
           "title": {
            "standoff": 15
           },
           "zerolinecolor": "white",
           "zerolinewidth": 2
          },
          "yaxis": {
           "automargin": true,
           "gridcolor": "white",
           "linecolor": "white",
           "ticks": "",
           "title": {
            "standoff": 15
           },
           "zerolinecolor": "white",
           "zerolinewidth": 2
          }
         }
        },
        "title": {
         "text": "Emojis más usados"
        }
       }
      },
      "text/html": [
       "<div>                            <div id=\"cb20282a-0fb0-431c-a6fa-01c89bcc26ab\" class=\"plotly-graph-div\" style=\"height:525px; width:100%;\"></div>            <script type=\"text/javascript\">                require([\"plotly\"], function(Plotly) {                    window.PLOTLYENV=window.PLOTLYENV || {};                                    if (document.getElementById(\"cb20282a-0fb0-431c-a6fa-01c89bcc26ab\")) {                    Plotly.newPlot(                        \"cb20282a-0fb0-431c-a6fa-01c89bcc26ab\",                        [{\"type\": \"bar\", \"x\": [\"\\ud83c\\udde8\\ud83c\\uddf4\", \"\\u26bd\", \"\\ud83d\\ude4f\", \"\\u26bd\\ufe0f\", \"\\ud83c\\uddfa\\ud83c\\uddfe\", \"\\ud83d\\ude0e\", \"\\ud83c\\uddea\\ud83c\\udde8\", \"\\ud83d\\udc49\\ud83c\\udffd\", \"\\ud83c\\udfc6\", \"\\ud83d\\udc79\", \"\\ud83c\\udf89\", \"\\ud83d\\udc4f\\ud83c\\udffb\", \"\\ud83d\\ude4b\\ud83c\\udffb\\u200d\\u2642\\ufe0f\", \"\\ud83d\\udcaa\\ud83c\\udffb\", \"\\ud83c\\uddf6\\ud83c\\udde6\"], \"y\": [46, 17, 10, 6, 6, 5, 5, 5, 4, 4, 4, 4, 4, 4, 4]}],                        {\"template\": {\"data\": {\"bar\": [{\"error_x\": {\"color\": \"#2a3f5f\"}, \"error_y\": {\"color\": \"#2a3f5f\"}, \"marker\": {\"line\": {\"color\": \"#E5ECF6\", \"width\": 0.5}}, \"type\": \"bar\"}], \"barpolar\": [{\"marker\": {\"line\": {\"color\": \"#E5ECF6\", \"width\": 0.5}}, \"type\": \"barpolar\"}], \"carpet\": [{\"aaxis\": {\"endlinecolor\": \"#2a3f5f\", \"gridcolor\": \"white\", \"linecolor\": \"white\", \"minorgridcolor\": \"white\", \"startlinecolor\": \"#2a3f5f\"}, \"baxis\": {\"endlinecolor\": \"#2a3f5f\", \"gridcolor\": \"white\", \"linecolor\": \"white\", \"minorgridcolor\": \"white\", \"startlinecolor\": \"#2a3f5f\"}, \"type\": \"carpet\"}], \"choropleth\": [{\"colorbar\": {\"outlinewidth\": 0, \"ticks\": \"\"}, \"type\": \"choropleth\"}], \"contour\": [{\"colorbar\": {\"outlinewidth\": 0, \"ticks\": \"\"}, \"colorscale\": [[0.0, \"#0d0887\"], [0.1111111111111111, \"#46039f\"], [0.2222222222222222, \"#7201a8\"], [0.3333333333333333, \"#9c179e\"], [0.4444444444444444, \"#bd3786\"], [0.5555555555555556, \"#d8576b\"], [0.6666666666666666, \"#ed7953\"], [0.7777777777777778, \"#fb9f3a\"], [0.8888888888888888, \"#fdca26\"], [1.0, \"#f0f921\"]], \"type\": \"contour\"}], \"contourcarpet\": [{\"colorbar\": {\"outlinewidth\": 0, \"ticks\": \"\"}, \"type\": \"contourcarpet\"}], \"heatmap\": [{\"colorbar\": {\"outlinewidth\": 0, \"ticks\": \"\"}, \"colorscale\": [[0.0, \"#0d0887\"], [0.1111111111111111, \"#46039f\"], [0.2222222222222222, \"#7201a8\"], [0.3333333333333333, \"#9c179e\"], [0.4444444444444444, \"#bd3786\"], [0.5555555555555556, \"#d8576b\"], [0.6666666666666666, \"#ed7953\"], [0.7777777777777778, \"#fb9f3a\"], [0.8888888888888888, \"#fdca26\"], [1.0, \"#f0f921\"]], \"type\": \"heatmap\"}], \"heatmapgl\": [{\"colorbar\": {\"outlinewidth\": 0, \"ticks\": \"\"}, \"colorscale\": [[0.0, \"#0d0887\"], [0.1111111111111111, \"#46039f\"], [0.2222222222222222, \"#7201a8\"], [0.3333333333333333, \"#9c179e\"], [0.4444444444444444, \"#bd3786\"], [0.5555555555555556, \"#d8576b\"], [0.6666666666666666, \"#ed7953\"], [0.7777777777777778, \"#fb9f3a\"], [0.8888888888888888, \"#fdca26\"], [1.0, \"#f0f921\"]], \"type\": \"heatmapgl\"}], \"histogram\": [{\"marker\": {\"colorbar\": {\"outlinewidth\": 0, \"ticks\": \"\"}}, \"type\": \"histogram\"}], \"histogram2d\": [{\"colorbar\": {\"outlinewidth\": 0, \"ticks\": \"\"}, \"colorscale\": [[0.0, \"#0d0887\"], [0.1111111111111111, \"#46039f\"], [0.2222222222222222, \"#7201a8\"], [0.3333333333333333, \"#9c179e\"], [0.4444444444444444, \"#bd3786\"], [0.5555555555555556, \"#d8576b\"], [0.6666666666666666, \"#ed7953\"], [0.7777777777777778, \"#fb9f3a\"], [0.8888888888888888, \"#fdca26\"], [1.0, \"#f0f921\"]], \"type\": \"histogram2d\"}], \"histogram2dcontour\": [{\"colorbar\": {\"outlinewidth\": 0, \"ticks\": \"\"}, \"colorscale\": [[0.0, \"#0d0887\"], [0.1111111111111111, \"#46039f\"], [0.2222222222222222, \"#7201a8\"], [0.3333333333333333, \"#9c179e\"], [0.4444444444444444, \"#bd3786\"], [0.5555555555555556, \"#d8576b\"], [0.6666666666666666, \"#ed7953\"], [0.7777777777777778, \"#fb9f3a\"], [0.8888888888888888, \"#fdca26\"], [1.0, \"#f0f921\"]], \"type\": \"histogram2dcontour\"}], \"mesh3d\": [{\"colorbar\": {\"outlinewidth\": 0, \"ticks\": \"\"}, \"type\": \"mesh3d\"}], \"parcoords\": [{\"line\": {\"colorbar\": {\"outlinewidth\": 0, \"ticks\": \"\"}}, \"type\": \"parcoords\"}], \"pie\": [{\"automargin\": true, \"type\": \"pie\"}], \"scatter\": [{\"marker\": {\"colorbar\": {\"outlinewidth\": 0, \"ticks\": \"\"}}, \"type\": \"scatter\"}], \"scatter3d\": [{\"line\": {\"colorbar\": {\"outlinewidth\": 0, \"ticks\": \"\"}}, \"marker\": {\"colorbar\": {\"outlinewidth\": 0, \"ticks\": \"\"}}, \"type\": \"scatter3d\"}], \"scattercarpet\": [{\"marker\": {\"colorbar\": {\"outlinewidth\": 0, \"ticks\": \"\"}}, \"type\": \"scattercarpet\"}], \"scattergeo\": [{\"marker\": {\"colorbar\": {\"outlinewidth\": 0, \"ticks\": \"\"}}, \"type\": \"scattergeo\"}], \"scattergl\": [{\"marker\": {\"colorbar\": {\"outlinewidth\": 0, \"ticks\": \"\"}}, \"type\": \"scattergl\"}], \"scattermapbox\": [{\"marker\": {\"colorbar\": {\"outlinewidth\": 0, \"ticks\": \"\"}}, \"type\": \"scattermapbox\"}], \"scatterpolar\": [{\"marker\": {\"colorbar\": {\"outlinewidth\": 0, \"ticks\": \"\"}}, \"type\": \"scatterpolar\"}], \"scatterpolargl\": [{\"marker\": {\"colorbar\": {\"outlinewidth\": 0, \"ticks\": \"\"}}, \"type\": \"scatterpolargl\"}], \"scatterternary\": [{\"marker\": {\"colorbar\": {\"outlinewidth\": 0, \"ticks\": \"\"}}, \"type\": \"scatterternary\"}], \"surface\": [{\"colorbar\": {\"outlinewidth\": 0, \"ticks\": \"\"}, \"colorscale\": [[0.0, \"#0d0887\"], [0.1111111111111111, \"#46039f\"], [0.2222222222222222, \"#7201a8\"], [0.3333333333333333, \"#9c179e\"], [0.4444444444444444, \"#bd3786\"], [0.5555555555555556, \"#d8576b\"], [0.6666666666666666, \"#ed7953\"], [0.7777777777777778, \"#fb9f3a\"], [0.8888888888888888, \"#fdca26\"], [1.0, \"#f0f921\"]], \"type\": \"surface\"}], \"table\": [{\"cells\": {\"fill\": {\"color\": \"#EBF0F8\"}, \"line\": {\"color\": \"white\"}}, \"header\": {\"fill\": {\"color\": \"#C8D4E3\"}, \"line\": {\"color\": \"white\"}}, \"type\": \"table\"}]}, \"layout\": {\"annotationdefaults\": {\"arrowcolor\": \"#2a3f5f\", \"arrowhead\": 0, \"arrowwidth\": 1}, \"coloraxis\": {\"colorbar\": {\"outlinewidth\": 0, \"ticks\": \"\"}}, \"colorscale\": {\"diverging\": [[0, \"#8e0152\"], [0.1, \"#c51b7d\"], [0.2, \"#de77ae\"], [0.3, \"#f1b6da\"], [0.4, \"#fde0ef\"], [0.5, \"#f7f7f7\"], [0.6, \"#e6f5d0\"], [0.7, \"#b8e186\"], [0.8, \"#7fbc41\"], [0.9, \"#4d9221\"], [1, \"#276419\"]], \"sequential\": [[0.0, \"#0d0887\"], [0.1111111111111111, \"#46039f\"], [0.2222222222222222, \"#7201a8\"], [0.3333333333333333, \"#9c179e\"], [0.4444444444444444, \"#bd3786\"], [0.5555555555555556, \"#d8576b\"], [0.6666666666666666, \"#ed7953\"], [0.7777777777777778, \"#fb9f3a\"], [0.8888888888888888, \"#fdca26\"], [1.0, \"#f0f921\"]], \"sequentialminus\": [[0.0, \"#0d0887\"], [0.1111111111111111, \"#46039f\"], [0.2222222222222222, \"#7201a8\"], [0.3333333333333333, \"#9c179e\"], [0.4444444444444444, \"#bd3786\"], [0.5555555555555556, \"#d8576b\"], [0.6666666666666666, \"#ed7953\"], [0.7777777777777778, \"#fb9f3a\"], [0.8888888888888888, \"#fdca26\"], [1.0, \"#f0f921\"]]}, \"colorway\": [\"#636efa\", \"#EF553B\", \"#00cc96\", \"#ab63fa\", \"#FFA15A\", \"#19d3f3\", \"#FF6692\", \"#B6E880\", \"#FF97FF\", \"#FECB52\"], \"font\": {\"color\": \"#2a3f5f\"}, \"geo\": {\"bgcolor\": \"white\", \"lakecolor\": \"white\", \"landcolor\": \"#E5ECF6\", \"showlakes\": true, \"showland\": true, \"subunitcolor\": \"white\"}, \"hoverlabel\": {\"align\": \"left\"}, \"hovermode\": \"closest\", \"mapbox\": {\"style\": \"light\"}, \"paper_bgcolor\": \"white\", \"plot_bgcolor\": \"#E5ECF6\", \"polar\": {\"angularaxis\": {\"gridcolor\": \"white\", \"linecolor\": \"white\", \"ticks\": \"\"}, \"bgcolor\": \"#E5ECF6\", \"radialaxis\": {\"gridcolor\": \"white\", \"linecolor\": \"white\", \"ticks\": \"\"}}, \"scene\": {\"xaxis\": {\"backgroundcolor\": \"#E5ECF6\", \"gridcolor\": \"white\", \"gridwidth\": 2, \"linecolor\": \"white\", \"showbackground\": true, \"ticks\": \"\", \"zerolinecolor\": \"white\"}, \"yaxis\": {\"backgroundcolor\": \"#E5ECF6\", \"gridcolor\": \"white\", \"gridwidth\": 2, \"linecolor\": \"white\", \"showbackground\": true, \"ticks\": \"\", \"zerolinecolor\": \"white\"}, \"zaxis\": {\"backgroundcolor\": \"#E5ECF6\", \"gridcolor\": \"white\", \"gridwidth\": 2, \"linecolor\": \"white\", \"showbackground\": true, \"ticks\": \"\", \"zerolinecolor\": \"white\"}}, \"shapedefaults\": {\"line\": {\"color\": \"#2a3f5f\"}}, \"ternary\": {\"aaxis\": {\"gridcolor\": \"white\", \"linecolor\": \"white\", \"ticks\": \"\"}, \"baxis\": {\"gridcolor\": \"white\", \"linecolor\": \"white\", \"ticks\": \"\"}, \"bgcolor\": \"#E5ECF6\", \"caxis\": {\"gridcolor\": \"white\", \"linecolor\": \"white\", \"ticks\": \"\"}}, \"title\": {\"x\": 0.05}, \"xaxis\": {\"automargin\": true, \"gridcolor\": \"white\", \"linecolor\": \"white\", \"ticks\": \"\", \"title\": {\"standoff\": 15}, \"zerolinecolor\": \"white\", \"zerolinewidth\": 2}, \"yaxis\": {\"automargin\": true, \"gridcolor\": \"white\", \"linecolor\": \"white\", \"ticks\": \"\", \"title\": {\"standoff\": 15}, \"zerolinecolor\": \"white\", \"zerolinewidth\": 2}}}, \"title\": {\"text\": \"Emojis m\\u00e1s usados\"}},                        {\"responsive\": true}                    ).then(function(){\n",
       "                            \n",
       "var gd = document.getElementById('cb20282a-0fb0-431c-a6fa-01c89bcc26ab');\n",
       "var x = new MutationObserver(function (mutations, observer) {{\n",
       "        var display = window.getComputedStyle(gd).display;\n",
       "        if (!display || display === 'none') {{\n",
       "            console.log([gd, 'removed!']);\n",
       "            Plotly.purge(gd);\n",
       "            observer.disconnect();\n",
       "        }}\n",
       "}});\n",
       "\n",
       "// Listen for the removal of the full notebook cells\n",
       "var notebookContainer = gd.closest('#notebook-container');\n",
       "if (notebookContainer) {{\n",
       "    x.observe(notebookContainer, {childList: true});\n",
       "}}\n",
       "\n",
       "// Listen for the clearing of the current output cell\n",
       "var outputEl = gd.closest('.output');\n",
       "if (outputEl) {{\n",
       "    x.observe(outputEl, {childList: true});\n",
       "}}\n",
       "\n",
       "                        })                };                });            </script>        </div>"
      ]
     },
     "metadata": {},
     "output_type": "display_data"
    }
   ],
   "source": [
    "trace = go.Bar(x=temp_emojis.emoji.values[:15],\n",
    "                y=temp_emojis.cnt.values[:15])\n",
    " \n",
    "layout = go.Layout(title='Emojis más usados')\n",
    " \n",
    "fig = go.Figure(data=[trace], layout=layout)\n",
    "\n",
    "iplot(fig)"
   ]
  },
  {
   "cell_type": "markdown",
   "metadata": {},
   "source": [
    "### Hacemos un Mapa de calor de las palabras "
   ]
  },
  {
   "cell_type": "code",
   "execution_count": 117,
   "metadata": {},
   "outputs": [],
   "source": [
    "#Se importan las librerias para quitar las stopwors y hacer TFID \n",
    "import re\n",
    "\n",
    "from nltk.corpus import stopwords\n",
    "\n",
    "from sklearn.feature_extraction.text import TfidfVectorizer\n",
    "\n",
    "stopwords_sp = stopwords.words('spanish')\n",
    " \n",
    "def pre_procesado(texto):\n",
    "     texto = texto.lower()\n",
    "     texto = re.sub(r\"[\\W\\d_]+\", \" \", texto)\n",
    "     texto = \" \".join([palabra for palabra in texto.split() if palabra not in stopwords_sp])\n",
    "     return texto\n",
    " \n",
    "tfidf_vect = TfidfVectorizer(preprocessor=pre_procesado, ngram_range=(1,2), max_features=50)\n",
    "\n",
    "tfidf = tfidf_vect.fit_transform(datos_tw.clean.values)"
   ]
  },
  {
   "cell_type": "code",
   "execution_count": 118,
   "metadata": {},
   "outputs": [
    {
     "data": {
      "text/html": [
       "<div>\n",
       "<style scoped>\n",
       "    .dataframe tbody tr th:only-of-type {\n",
       "        vertical-align: middle;\n",
       "    }\n",
       "\n",
       "    .dataframe tbody tr th {\n",
       "        vertical-align: top;\n",
       "    }\n",
       "\n",
       "    .dataframe thead th {\n",
       "        text-align: right;\n",
       "    }\n",
       "</style>\n",
       "<table border=\"1\" class=\"dataframe\">\n",
       "  <thead>\n",
       "    <tr style=\"text-align: right;\">\n",
       "      <th></th>\n",
       "      <th>ahora</th>\n",
       "      <th>así</th>\n",
       "      <th>barranquilla</th>\n",
       "      <th>bien</th>\n",
       "      <th>camiseta</th>\n",
       "      <th>colombia</th>\n",
       "      <th>colombiano</th>\n",
       "      <th>da</th>\n",
       "      <th>derrota</th>\n",
       "      <th>ecuador</th>\n",
       "      <th>...</th>\n",
       "      <th>selección</th>\n",
       "      <th>selección colombia</th>\n",
       "      <th>si</th>\n",
       "      <th>siempre</th>\n",
       "      <th>solo</th>\n",
       "      <th>tan</th>\n",
       "      <th>técnico</th>\n",
       "      <th>uruguay</th>\n",
       "      <th>venezuela</th>\n",
       "      <th>vergara</th>\n",
       "    </tr>\n",
       "  </thead>\n",
       "  <tbody>\n",
       "    <tr>\n",
       "      <th>ahora</th>\n",
       "      <td>1.000000</td>\n",
       "      <td>0.052785</td>\n",
       "      <td>0.000000</td>\n",
       "      <td>0.000000</td>\n",
       "      <td>0.000000</td>\n",
       "      <td>0.028006</td>\n",
       "      <td>0.000000</td>\n",
       "      <td>0.000000</td>\n",
       "      <td>0.080870</td>\n",
       "      <td>0.114273</td>\n",
       "      <td>...</td>\n",
       "      <td>0.123846</td>\n",
       "      <td>0.000000</td>\n",
       "      <td>0.132759</td>\n",
       "      <td>0.000000</td>\n",
       "      <td>0.013368</td>\n",
       "      <td>0.070561</td>\n",
       "      <td>0.044563</td>\n",
       "      <td>0.000000</td>\n",
       "      <td>0.000000</td>\n",
       "      <td>0.126760</td>\n",
       "    </tr>\n",
       "    <tr>\n",
       "      <th>así</th>\n",
       "      <td>0.052785</td>\n",
       "      <td>1.000000</td>\n",
       "      <td>0.000000</td>\n",
       "      <td>0.000000</td>\n",
       "      <td>0.000000</td>\n",
       "      <td>0.142381</td>\n",
       "      <td>0.000000</td>\n",
       "      <td>0.000000</td>\n",
       "      <td>0.000000</td>\n",
       "      <td>0.034567</td>\n",
       "      <td>...</td>\n",
       "      <td>0.077549</td>\n",
       "      <td>0.038918</td>\n",
       "      <td>0.064233</td>\n",
       "      <td>0.053631</td>\n",
       "      <td>0.000000</td>\n",
       "      <td>0.000000</td>\n",
       "      <td>0.163552</td>\n",
       "      <td>0.092126</td>\n",
       "      <td>0.000000</td>\n",
       "      <td>0.034759</td>\n",
       "    </tr>\n",
       "    <tr>\n",
       "      <th>barranquilla</th>\n",
       "      <td>0.000000</td>\n",
       "      <td>0.000000</td>\n",
       "      <td>1.000000</td>\n",
       "      <td>0.040128</td>\n",
       "      <td>0.023634</td>\n",
       "      <td>0.219473</td>\n",
       "      <td>0.050884</td>\n",
       "      <td>0.021697</td>\n",
       "      <td>0.044305</td>\n",
       "      <td>0.000000</td>\n",
       "      <td>...</td>\n",
       "      <td>0.146012</td>\n",
       "      <td>0.159303</td>\n",
       "      <td>0.039393</td>\n",
       "      <td>0.000000</td>\n",
       "      <td>0.000000</td>\n",
       "      <td>0.000000</td>\n",
       "      <td>0.000000</td>\n",
       "      <td>0.304599</td>\n",
       "      <td>0.053771</td>\n",
       "      <td>0.000000</td>\n",
       "    </tr>\n",
       "    <tr>\n",
       "      <th>bien</th>\n",
       "      <td>0.000000</td>\n",
       "      <td>0.000000</td>\n",
       "      <td>0.040128</td>\n",
       "      <td>1.000000</td>\n",
       "      <td>0.000000</td>\n",
       "      <td>0.063732</td>\n",
       "      <td>0.000000</td>\n",
       "      <td>0.042011</td>\n",
       "      <td>0.000000</td>\n",
       "      <td>0.000000</td>\n",
       "      <td>...</td>\n",
       "      <td>0.058189</td>\n",
       "      <td>0.083241</td>\n",
       "      <td>0.089710</td>\n",
       "      <td>0.000000</td>\n",
       "      <td>0.041715</td>\n",
       "      <td>0.000000</td>\n",
       "      <td>0.032834</td>\n",
       "      <td>0.058691</td>\n",
       "      <td>0.000000</td>\n",
       "      <td>0.000000</td>\n",
       "    </tr>\n",
       "    <tr>\n",
       "      <th>camiseta</th>\n",
       "      <td>0.000000</td>\n",
       "      <td>0.000000</td>\n",
       "      <td>0.023634</td>\n",
       "      <td>0.000000</td>\n",
       "      <td>1.000000</td>\n",
       "      <td>0.011150</td>\n",
       "      <td>0.000000</td>\n",
       "      <td>0.000000</td>\n",
       "      <td>0.000000</td>\n",
       "      <td>0.000000</td>\n",
       "      <td>...</td>\n",
       "      <td>0.069009</td>\n",
       "      <td>0.014564</td>\n",
       "      <td>0.265286</td>\n",
       "      <td>0.000000</td>\n",
       "      <td>0.000000</td>\n",
       "      <td>0.000000</td>\n",
       "      <td>0.000000</td>\n",
       "      <td>0.000000</td>\n",
       "      <td>0.000000</td>\n",
       "      <td>0.000000</td>\n",
       "    </tr>\n",
       "    <tr>\n",
       "      <th>colombia</th>\n",
       "      <td>0.028006</td>\n",
       "      <td>0.142381</td>\n",
       "      <td>0.219473</td>\n",
       "      <td>0.063732</td>\n",
       "      <td>0.011150</td>\n",
       "      <td>1.000000</td>\n",
       "      <td>0.033490</td>\n",
       "      <td>0.014281</td>\n",
       "      <td>0.109985</td>\n",
       "      <td>0.167173</td>\n",
       "      <td>...</td>\n",
       "      <td>0.196857</td>\n",
       "      <td>0.798144</td>\n",
       "      <td>0.092131</td>\n",
       "      <td>0.051857</td>\n",
       "      <td>0.091549</td>\n",
       "      <td>0.083456</td>\n",
       "      <td>0.089157</td>\n",
       "      <td>0.287426</td>\n",
       "      <td>0.000000</td>\n",
       "      <td>0.008253</td>\n",
       "    </tr>\n",
       "    <tr>\n",
       "      <th>colombiano</th>\n",
       "      <td>0.000000</td>\n",
       "      <td>0.000000</td>\n",
       "      <td>0.050884</td>\n",
       "      <td>0.000000</td>\n",
       "      <td>0.000000</td>\n",
       "      <td>0.033490</td>\n",
       "      <td>1.000000</td>\n",
       "      <td>0.298123</td>\n",
       "      <td>0.000000</td>\n",
       "      <td>0.000000</td>\n",
       "      <td>...</td>\n",
       "      <td>0.034972</td>\n",
       "      <td>0.000000</td>\n",
       "      <td>0.000000</td>\n",
       "      <td>0.000000</td>\n",
       "      <td>0.000000</td>\n",
       "      <td>0.000000</td>\n",
       "      <td>0.000000</td>\n",
       "      <td>0.000000</td>\n",
       "      <td>0.000000</td>\n",
       "      <td>0.000000</td>\n",
       "    </tr>\n",
       "    <tr>\n",
       "      <th>da</th>\n",
       "      <td>0.000000</td>\n",
       "      <td>0.000000</td>\n",
       "      <td>0.021697</td>\n",
       "      <td>0.042011</td>\n",
       "      <td>0.000000</td>\n",
       "      <td>0.014281</td>\n",
       "      <td>0.298123</td>\n",
       "      <td>1.000000</td>\n",
       "      <td>0.000000</td>\n",
       "      <td>0.032834</td>\n",
       "      <td>...</td>\n",
       "      <td>0.067130</td>\n",
       "      <td>0.018652</td>\n",
       "      <td>0.000000</td>\n",
       "      <td>0.000000</td>\n",
       "      <td>0.000000</td>\n",
       "      <td>0.163992</td>\n",
       "      <td>0.087438</td>\n",
       "      <td>0.000000</td>\n",
       "      <td>0.000000</td>\n",
       "      <td>0.000000</td>\n",
       "    </tr>\n",
       "    <tr>\n",
       "      <th>derrota</th>\n",
       "      <td>0.080870</td>\n",
       "      <td>0.000000</td>\n",
       "      <td>0.044305</td>\n",
       "      <td>0.000000</td>\n",
       "      <td>0.000000</td>\n",
       "      <td>0.109985</td>\n",
       "      <td>0.000000</td>\n",
       "      <td>0.000000</td>\n",
       "      <td>1.000000</td>\n",
       "      <td>0.120700</td>\n",
       "      <td>...</td>\n",
       "      <td>0.060119</td>\n",
       "      <td>0.055273</td>\n",
       "      <td>0.000000</td>\n",
       "      <td>0.000000</td>\n",
       "      <td>0.000000</td>\n",
       "      <td>0.000000</td>\n",
       "      <td>0.000000</td>\n",
       "      <td>0.066871</td>\n",
       "      <td>0.000000</td>\n",
       "      <td>0.000000</td>\n",
       "    </tr>\n",
       "    <tr>\n",
       "      <th>ecuador</th>\n",
       "      <td>0.114273</td>\n",
       "      <td>0.034567</td>\n",
       "      <td>0.000000</td>\n",
       "      <td>0.000000</td>\n",
       "      <td>0.000000</td>\n",
       "      <td>0.167173</td>\n",
       "      <td>0.000000</td>\n",
       "      <td>0.032834</td>\n",
       "      <td>0.120700</td>\n",
       "      <td>1.000000</td>\n",
       "      <td>...</td>\n",
       "      <td>0.061072</td>\n",
       "      <td>0.135127</td>\n",
       "      <td>0.039284</td>\n",
       "      <td>0.076727</td>\n",
       "      <td>0.086001</td>\n",
       "      <td>0.047611</td>\n",
       "      <td>0.000000</td>\n",
       "      <td>0.039075</td>\n",
       "      <td>0.116476</td>\n",
       "      <td>0.000000</td>\n",
       "    </tr>\n",
       "    <tr>\n",
       "      <th>equipo</th>\n",
       "      <td>0.026428</td>\n",
       "      <td>0.054944</td>\n",
       "      <td>0.039246</td>\n",
       "      <td>0.033692</td>\n",
       "      <td>0.000000</td>\n",
       "      <td>0.148038</td>\n",
       "      <td>0.062114</td>\n",
       "      <td>0.051263</td>\n",
       "      <td>0.000000</td>\n",
       "      <td>0.000000</td>\n",
       "      <td>...</td>\n",
       "      <td>0.122033</td>\n",
       "      <td>0.033738</td>\n",
       "      <td>0.020270</td>\n",
       "      <td>0.000000</td>\n",
       "      <td>0.049610</td>\n",
       "      <td>0.000000</td>\n",
       "      <td>0.055862</td>\n",
       "      <td>0.000000</td>\n",
       "      <td>0.000000</td>\n",
       "      <td>0.043360</td>\n",
       "    </tr>\n",
       "    <tr>\n",
       "      <th>falta</th>\n",
       "      <td>0.000000</td>\n",
       "      <td>0.294718</td>\n",
       "      <td>0.000000</td>\n",
       "      <td>0.050360</td>\n",
       "      <td>0.000000</td>\n",
       "      <td>0.101139</td>\n",
       "      <td>0.000000</td>\n",
       "      <td>0.000000</td>\n",
       "      <td>0.000000</td>\n",
       "      <td>0.000000</td>\n",
       "      <td>...</td>\n",
       "      <td>0.064864</td>\n",
       "      <td>0.000000</td>\n",
       "      <td>0.017697</td>\n",
       "      <td>0.126023</td>\n",
       "      <td>0.000000</td>\n",
       "      <td>0.000000</td>\n",
       "      <td>0.000000</td>\n",
       "      <td>0.031323</td>\n",
       "      <td>0.000000</td>\n",
       "      <td>0.081488</td>\n",
       "    </tr>\n",
       "    <tr>\n",
       "      <th>fútbol</th>\n",
       "      <td>0.000000</td>\n",
       "      <td>0.023118</td>\n",
       "      <td>0.027487</td>\n",
       "      <td>0.058845</td>\n",
       "      <td>0.000000</td>\n",
       "      <td>0.046066</td>\n",
       "      <td>0.141268</td>\n",
       "      <td>0.058312</td>\n",
       "      <td>0.000000</td>\n",
       "      <td>0.000000</td>\n",
       "      <td>...</td>\n",
       "      <td>0.097805</td>\n",
       "      <td>0.055315</td>\n",
       "      <td>0.140583</td>\n",
       "      <td>0.018324</td>\n",
       "      <td>0.000000</td>\n",
       "      <td>0.000000</td>\n",
       "      <td>0.000000</td>\n",
       "      <td>0.030293</td>\n",
       "      <td>0.000000</td>\n",
       "      <td>0.000000</td>\n",
       "    </tr>\n",
       "    <tr>\n",
       "      <th>hace</th>\n",
       "      <td>0.010822</td>\n",
       "      <td>0.277129</td>\n",
       "      <td>0.023688</td>\n",
       "      <td>0.000000</td>\n",
       "      <td>0.000000</td>\n",
       "      <td>0.026140</td>\n",
       "      <td>0.087201</td>\n",
       "      <td>0.071966</td>\n",
       "      <td>0.000000</td>\n",
       "      <td>0.000000</td>\n",
       "      <td>...</td>\n",
       "      <td>0.082739</td>\n",
       "      <td>0.000000</td>\n",
       "      <td>0.126701</td>\n",
       "      <td>0.053236</td>\n",
       "      <td>0.046187</td>\n",
       "      <td>0.019377</td>\n",
       "      <td>0.000000</td>\n",
       "      <td>0.000000</td>\n",
       "      <td>0.000000</td>\n",
       "      <td>0.037718</td>\n",
       "    </tr>\n",
       "    <tr>\n",
       "      <th>hacer</th>\n",
       "      <td>0.000000</td>\n",
       "      <td>0.000000</td>\n",
       "      <td>0.043032</td>\n",
       "      <td>0.092123</td>\n",
       "      <td>0.056857</td>\n",
       "      <td>0.045032</td>\n",
       "      <td>0.294150</td>\n",
       "      <td>0.000000</td>\n",
       "      <td>0.000000</td>\n",
       "      <td>0.000000</td>\n",
       "      <td>...</td>\n",
       "      <td>0.053922</td>\n",
       "      <td>0.058817</td>\n",
       "      <td>0.068258</td>\n",
       "      <td>0.000000</td>\n",
       "      <td>0.088345</td>\n",
       "      <td>0.000000</td>\n",
       "      <td>0.071670</td>\n",
       "      <td>0.000000</td>\n",
       "      <td>0.000000</td>\n",
       "      <td>0.000000</td>\n",
       "    </tr>\n",
       "    <tr>\n",
       "      <th>hoy</th>\n",
       "      <td>0.017388</td>\n",
       "      <td>0.000000</td>\n",
       "      <td>0.012567</td>\n",
       "      <td>0.082301</td>\n",
       "      <td>0.000000</td>\n",
       "      <td>0.108236</td>\n",
       "      <td>0.017275</td>\n",
       "      <td>0.059118</td>\n",
       "      <td>0.108589</td>\n",
       "      <td>0.070525</td>\n",
       "      <td>...</td>\n",
       "      <td>0.149456</td>\n",
       "      <td>0.087165</td>\n",
       "      <td>0.045988</td>\n",
       "      <td>0.060589</td>\n",
       "      <td>0.050734</td>\n",
       "      <td>0.071218</td>\n",
       "      <td>0.082439</td>\n",
       "      <td>0.005647</td>\n",
       "      <td>0.055773</td>\n",
       "      <td>0.000000</td>\n",
       "    </tr>\n",
       "    <tr>\n",
       "      <th>igual</th>\n",
       "      <td>0.000000</td>\n",
       "      <td>0.000000</td>\n",
       "      <td>0.062366</td>\n",
       "      <td>0.000000</td>\n",
       "      <td>0.000000</td>\n",
       "      <td>0.041047</td>\n",
       "      <td>0.401686</td>\n",
       "      <td>0.137043</td>\n",
       "      <td>0.000000</td>\n",
       "      <td>0.132571</td>\n",
       "      <td>...</td>\n",
       "      <td>0.044604</td>\n",
       "      <td>0.000000</td>\n",
       "      <td>0.049647</td>\n",
       "      <td>0.086133</td>\n",
       "      <td>0.143665</td>\n",
       "      <td>0.000000</td>\n",
       "      <td>0.042648</td>\n",
       "      <td>0.000000</td>\n",
       "      <td>0.194575</td>\n",
       "      <td>0.000000</td>\n",
       "    </tr>\n",
       "    <tr>\n",
       "      <th>james</th>\n",
       "      <td>0.010493</td>\n",
       "      <td>0.131345</td>\n",
       "      <td>0.000000</td>\n",
       "      <td>0.000000</td>\n",
       "      <td>0.000000</td>\n",
       "      <td>0.056024</td>\n",
       "      <td>0.000000</td>\n",
       "      <td>0.000000</td>\n",
       "      <td>0.056629</td>\n",
       "      <td>0.029621</td>\n",
       "      <td>...</td>\n",
       "      <td>0.077089</td>\n",
       "      <td>0.043334</td>\n",
       "      <td>0.082802</td>\n",
       "      <td>0.010790</td>\n",
       "      <td>0.075367</td>\n",
       "      <td>0.074196</td>\n",
       "      <td>0.044793</td>\n",
       "      <td>0.068585</td>\n",
       "      <td>0.000000</td>\n",
       "      <td>0.022004</td>\n",
       "    </tr>\n",
       "    <tr>\n",
       "      <th>juega</th>\n",
       "      <td>0.039230</td>\n",
       "      <td>0.000000</td>\n",
       "      <td>0.045586</td>\n",
       "      <td>0.000000</td>\n",
       "      <td>0.127947</td>\n",
       "      <td>0.044835</td>\n",
       "      <td>0.076212</td>\n",
       "      <td>0.000000</td>\n",
       "      <td>0.000000</td>\n",
       "      <td>0.000000</td>\n",
       "      <td>...</td>\n",
       "      <td>0.082068</td>\n",
       "      <td>0.015833</td>\n",
       "      <td>0.073847</td>\n",
       "      <td>0.000000</td>\n",
       "      <td>0.070818</td>\n",
       "      <td>0.045061</td>\n",
       "      <td>0.070104</td>\n",
       "      <td>0.000000</td>\n",
       "      <td>0.032821</td>\n",
       "      <td>0.018780</td>\n",
       "    </tr>\n",
       "    <tr>\n",
       "      <th>juego</th>\n",
       "      <td>0.075121</td>\n",
       "      <td>0.000000</td>\n",
       "      <td>0.000000</td>\n",
       "      <td>0.000000</td>\n",
       "      <td>0.000000</td>\n",
       "      <td>0.090179</td>\n",
       "      <td>0.035116</td>\n",
       "      <td>0.000000</td>\n",
       "      <td>0.000000</td>\n",
       "      <td>0.095801</td>\n",
       "      <td>...</td>\n",
       "      <td>0.084583</td>\n",
       "      <td>0.059759</td>\n",
       "      <td>0.064408</td>\n",
       "      <td>0.131865</td>\n",
       "      <td>0.042939</td>\n",
       "      <td>0.000000</td>\n",
       "      <td>0.277849</td>\n",
       "      <td>0.000000</td>\n",
       "      <td>0.095009</td>\n",
       "      <td>0.067543</td>\n",
       "    </tr>\n",
       "    <tr>\n",
       "      <th>juegue</th>\n",
       "      <td>0.000000</td>\n",
       "      <td>0.087821</td>\n",
       "      <td>0.080208</td>\n",
       "      <td>0.000000</td>\n",
       "      <td>0.000000</td>\n",
       "      <td>0.080895</td>\n",
       "      <td>0.000000</td>\n",
       "      <td>0.000000</td>\n",
       "      <td>0.000000</td>\n",
       "      <td>0.000000</td>\n",
       "      <td>...</td>\n",
       "      <td>0.066497</td>\n",
       "      <td>0.000000</td>\n",
       "      <td>0.042581</td>\n",
       "      <td>0.000000</td>\n",
       "      <td>0.000000</td>\n",
       "      <td>0.000000</td>\n",
       "      <td>0.000000</td>\n",
       "      <td>0.028496</td>\n",
       "      <td>0.130414</td>\n",
       "      <td>0.000000</td>\n",
       "    </tr>\n",
       "    <tr>\n",
       "      <th>jugador</th>\n",
       "      <td>0.000000</td>\n",
       "      <td>0.147903</td>\n",
       "      <td>0.000000</td>\n",
       "      <td>0.091138</td>\n",
       "      <td>0.000000</td>\n",
       "      <td>0.048295</td>\n",
       "      <td>0.000000</td>\n",
       "      <td>0.000000</td>\n",
       "      <td>0.000000</td>\n",
       "      <td>0.000000</td>\n",
       "      <td>...</td>\n",
       "      <td>0.075181</td>\n",
       "      <td>0.009920</td>\n",
       "      <td>0.021794</td>\n",
       "      <td>0.051289</td>\n",
       "      <td>0.055932</td>\n",
       "      <td>0.092120</td>\n",
       "      <td>0.044165</td>\n",
       "      <td>0.000000</td>\n",
       "      <td>0.000000</td>\n",
       "      <td>0.021863</td>\n",
       "    </tr>\n",
       "    <tr>\n",
       "      <th>jugadores</th>\n",
       "      <td>0.065632</td>\n",
       "      <td>0.142062</td>\n",
       "      <td>0.089537</td>\n",
       "      <td>0.033020</td>\n",
       "      <td>0.167826</td>\n",
       "      <td>0.131201</td>\n",
       "      <td>0.063812</td>\n",
       "      <td>0.035847</td>\n",
       "      <td>0.000000</td>\n",
       "      <td>0.000000</td>\n",
       "      <td>...</td>\n",
       "      <td>0.095055</td>\n",
       "      <td>0.072027</td>\n",
       "      <td>0.098688</td>\n",
       "      <td>0.007711</td>\n",
       "      <td>0.021380</td>\n",
       "      <td>0.023511</td>\n",
       "      <td>0.075299</td>\n",
       "      <td>0.041866</td>\n",
       "      <td>0.054992</td>\n",
       "      <td>0.042179</td>\n",
       "    </tr>\n",
       "    <tr>\n",
       "      <th>jugando</th>\n",
       "      <td>0.000000</td>\n",
       "      <td>0.090883</td>\n",
       "      <td>0.000000</td>\n",
       "      <td>0.046601</td>\n",
       "      <td>0.000000</td>\n",
       "      <td>0.037065</td>\n",
       "      <td>0.000000</td>\n",
       "      <td>0.000000</td>\n",
       "      <td>0.000000</td>\n",
       "      <td>0.096075</td>\n",
       "      <td>...</td>\n",
       "      <td>0.049544</td>\n",
       "      <td>0.000000</td>\n",
       "      <td>0.000000</td>\n",
       "      <td>0.093631</td>\n",
       "      <td>0.152783</td>\n",
       "      <td>0.000000</td>\n",
       "      <td>0.000000</td>\n",
       "      <td>0.000000</td>\n",
       "      <td>0.141010</td>\n",
       "      <td>0.000000</td>\n",
       "    </tr>\n",
       "    <tr>\n",
       "      <th>jugar</th>\n",
       "      <td>0.000000</td>\n",
       "      <td>0.023260</td>\n",
       "      <td>0.125065</td>\n",
       "      <td>0.038294</td>\n",
       "      <td>0.073083</td>\n",
       "      <td>0.018046</td>\n",
       "      <td>0.000000</td>\n",
       "      <td>0.032013</td>\n",
       "      <td>0.000000</td>\n",
       "      <td>0.000000</td>\n",
       "      <td>...</td>\n",
       "      <td>0.095234</td>\n",
       "      <td>0.011859</td>\n",
       "      <td>0.017127</td>\n",
       "      <td>0.027509</td>\n",
       "      <td>0.039428</td>\n",
       "      <td>0.000000</td>\n",
       "      <td>0.036130</td>\n",
       "      <td>0.037899</td>\n",
       "      <td>0.000000</td>\n",
       "      <td>0.081271</td>\n",
       "    </tr>\n",
       "    <tr>\n",
       "      <th>local</th>\n",
       "      <td>0.000000</td>\n",
       "      <td>0.000000</td>\n",
       "      <td>0.045449</td>\n",
       "      <td>0.000000</td>\n",
       "      <td>0.000000</td>\n",
       "      <td>0.000000</td>\n",
       "      <td>0.000000</td>\n",
       "      <td>0.000000</td>\n",
       "      <td>0.000000</td>\n",
       "      <td>0.133575</td>\n",
       "      <td>...</td>\n",
       "      <td>0.039304</td>\n",
       "      <td>0.000000</td>\n",
       "      <td>0.067259</td>\n",
       "      <td>0.086786</td>\n",
       "      <td>0.144753</td>\n",
       "      <td>0.065101</td>\n",
       "      <td>0.000000</td>\n",
       "      <td>0.019850</td>\n",
       "      <td>0.196048</td>\n",
       "      <td>0.064793</td>\n",
       "    </tr>\n",
       "    <tr>\n",
       "      <th>mal</th>\n",
       "      <td>0.000000</td>\n",
       "      <td>0.098115</td>\n",
       "      <td>0.000000</td>\n",
       "      <td>0.029732</td>\n",
       "      <td>0.000000</td>\n",
       "      <td>0.105138</td>\n",
       "      <td>0.024492</td>\n",
       "      <td>0.022291</td>\n",
       "      <td>0.000000</td>\n",
       "      <td>0.019817</td>\n",
       "      <td>...</td>\n",
       "      <td>0.097267</td>\n",
       "      <td>0.036360</td>\n",
       "      <td>0.021441</td>\n",
       "      <td>0.059384</td>\n",
       "      <td>0.000000</td>\n",
       "      <td>0.027143</td>\n",
       "      <td>0.139617</td>\n",
       "      <td>0.000000</td>\n",
       "      <td>0.000000</td>\n",
       "      <td>0.000000</td>\n",
       "    </tr>\n",
       "    <tr>\n",
       "      <th>mejor</th>\n",
       "      <td>0.021189</td>\n",
       "      <td>0.000000</td>\n",
       "      <td>0.000000</td>\n",
       "      <td>0.000000</td>\n",
       "      <td>0.000000</td>\n",
       "      <td>0.071168</td>\n",
       "      <td>0.000000</td>\n",
       "      <td>0.000000</td>\n",
       "      <td>0.000000</td>\n",
       "      <td>0.000000</td>\n",
       "      <td>...</td>\n",
       "      <td>0.075033</td>\n",
       "      <td>0.081577</td>\n",
       "      <td>0.000000</td>\n",
       "      <td>0.000000</td>\n",
       "      <td>0.058482</td>\n",
       "      <td>0.067747</td>\n",
       "      <td>0.000000</td>\n",
       "      <td>0.000000</td>\n",
       "      <td>0.000000</td>\n",
       "      <td>0.022860</td>\n",
       "    </tr>\n",
       "    <tr>\n",
       "      <th>menos</th>\n",
       "      <td>0.000000</td>\n",
       "      <td>0.015384</td>\n",
       "      <td>0.000000</td>\n",
       "      <td>0.000000</td>\n",
       "      <td>0.040655</td>\n",
       "      <td>0.040979</td>\n",
       "      <td>0.000000</td>\n",
       "      <td>0.000000</td>\n",
       "      <td>0.000000</td>\n",
       "      <td>0.000000</td>\n",
       "      <td>...</td>\n",
       "      <td>0.065750</td>\n",
       "      <td>0.040608</td>\n",
       "      <td>0.008171</td>\n",
       "      <td>0.000000</td>\n",
       "      <td>0.000000</td>\n",
       "      <td>0.000000</td>\n",
       "      <td>0.029068</td>\n",
       "      <td>0.000000</td>\n",
       "      <td>0.000000</td>\n",
       "      <td>0.000000</td>\n",
       "    </tr>\n",
       "    <tr>\n",
       "      <th>mierda</th>\n",
       "      <td>0.000000</td>\n",
       "      <td>0.093273</td>\n",
       "      <td>0.038618</td>\n",
       "      <td>0.082674</td>\n",
       "      <td>0.000000</td>\n",
       "      <td>0.060182</td>\n",
       "      <td>0.000000</td>\n",
       "      <td>0.000000</td>\n",
       "      <td>0.000000</td>\n",
       "      <td>0.000000</td>\n",
       "      <td>...</td>\n",
       "      <td>0.074613</td>\n",
       "      <td>0.039155</td>\n",
       "      <td>0.042006</td>\n",
       "      <td>0.190611</td>\n",
       "      <td>0.000000</td>\n",
       "      <td>0.000000</td>\n",
       "      <td>0.000000</td>\n",
       "      <td>0.068747</td>\n",
       "      <td>0.000000</td>\n",
       "      <td>0.000000</td>\n",
       "    </tr>\n",
       "    <tr>\n",
       "      <th>mina</th>\n",
       "      <td>0.015588</td>\n",
       "      <td>0.000000</td>\n",
       "      <td>0.000000</td>\n",
       "      <td>0.000000</td>\n",
       "      <td>0.000000</td>\n",
       "      <td>0.082824</td>\n",
       "      <td>0.000000</td>\n",
       "      <td>0.000000</td>\n",
       "      <td>0.000000</td>\n",
       "      <td>0.000000</td>\n",
       "      <td>...</td>\n",
       "      <td>0.066469</td>\n",
       "      <td>0.091909</td>\n",
       "      <td>0.025696</td>\n",
       "      <td>0.016030</td>\n",
       "      <td>0.222946</td>\n",
       "      <td>0.098765</td>\n",
       "      <td>0.000000</td>\n",
       "      <td>0.000000</td>\n",
       "      <td>0.000000</td>\n",
       "      <td>0.032689</td>\n",
       "    </tr>\n",
       "    <tr>\n",
       "      <th>morelos</th>\n",
       "      <td>0.024961</td>\n",
       "      <td>0.000000</td>\n",
       "      <td>0.031630</td>\n",
       "      <td>0.045366</td>\n",
       "      <td>0.000000</td>\n",
       "      <td>0.052333</td>\n",
       "      <td>0.088942</td>\n",
       "      <td>0.000000</td>\n",
       "      <td>0.000000</td>\n",
       "      <td>0.000000</td>\n",
       "      <td>...</td>\n",
       "      <td>0.083726</td>\n",
       "      <td>0.009945</td>\n",
       "      <td>0.025697</td>\n",
       "      <td>0.000000</td>\n",
       "      <td>0.028368</td>\n",
       "      <td>0.022420</td>\n",
       "      <td>0.000000</td>\n",
       "      <td>0.000000</td>\n",
       "      <td>0.000000</td>\n",
       "      <td>0.113323</td>\n",
       "    </tr>\n",
       "    <tr>\n",
       "      <th>nivel</th>\n",
       "      <td>0.000000</td>\n",
       "      <td>0.062514</td>\n",
       "      <td>0.027440</td>\n",
       "      <td>0.053699</td>\n",
       "      <td>0.000000</td>\n",
       "      <td>0.018060</td>\n",
       "      <td>0.062538</td>\n",
       "      <td>0.000000</td>\n",
       "      <td>0.000000</td>\n",
       "      <td>0.000000</td>\n",
       "      <td>...</td>\n",
       "      <td>0.080491</td>\n",
       "      <td>0.023589</td>\n",
       "      <td>0.035804</td>\n",
       "      <td>0.012540</td>\n",
       "      <td>0.000000</td>\n",
       "      <td>0.000000</td>\n",
       "      <td>0.045725</td>\n",
       "      <td>0.000000</td>\n",
       "      <td>0.000000</td>\n",
       "      <td>0.000000</td>\n",
       "    </tr>\n",
       "    <tr>\n",
       "      <th>nunca</th>\n",
       "      <td>0.043690</td>\n",
       "      <td>0.000000</td>\n",
       "      <td>0.000000</td>\n",
       "      <td>0.000000</td>\n",
       "      <td>0.000000</td>\n",
       "      <td>0.032484</td>\n",
       "      <td>0.000000</td>\n",
       "      <td>0.000000</td>\n",
       "      <td>0.000000</td>\n",
       "      <td>0.000000</td>\n",
       "      <td>...</td>\n",
       "      <td>0.030084</td>\n",
       "      <td>0.021214</td>\n",
       "      <td>0.062977</td>\n",
       "      <td>0.000000</td>\n",
       "      <td>0.000000</td>\n",
       "      <td>0.000000</td>\n",
       "      <td>0.044759</td>\n",
       "      <td>0.000000</td>\n",
       "      <td>0.000000</td>\n",
       "      <td>0.000000</td>\n",
       "    </tr>\n",
       "    <tr>\n",
       "      <th>partido</th>\n",
       "      <td>0.007090</td>\n",
       "      <td>0.065308</td>\n",
       "      <td>0.107116</td>\n",
       "      <td>0.025171</td>\n",
       "      <td>0.000000</td>\n",
       "      <td>0.088076</td>\n",
       "      <td>0.000000</td>\n",
       "      <td>0.018872</td>\n",
       "      <td>0.000000</td>\n",
       "      <td>0.076277</td>\n",
       "      <td>...</td>\n",
       "      <td>0.110384</td>\n",
       "      <td>0.073529</td>\n",
       "      <td>0.047876</td>\n",
       "      <td>0.034686</td>\n",
       "      <td>0.011468</td>\n",
       "      <td>0.113212</td>\n",
       "      <td>0.073952</td>\n",
       "      <td>0.025050</td>\n",
       "      <td>0.063759</td>\n",
       "      <td>0.000000</td>\n",
       "    </tr>\n",
       "    <tr>\n",
       "      <th>partidos</th>\n",
       "      <td>0.000000</td>\n",
       "      <td>0.000000</td>\n",
       "      <td>0.032414</td>\n",
       "      <td>0.000000</td>\n",
       "      <td>0.041956</td>\n",
       "      <td>0.050119</td>\n",
       "      <td>0.000000</td>\n",
       "      <td>0.000000</td>\n",
       "      <td>0.000000</td>\n",
       "      <td>0.095265</td>\n",
       "      <td>...</td>\n",
       "      <td>0.063926</td>\n",
       "      <td>0.065462</td>\n",
       "      <td>0.000000</td>\n",
       "      <td>0.105679</td>\n",
       "      <td>0.103237</td>\n",
       "      <td>0.000000</td>\n",
       "      <td>0.000000</td>\n",
       "      <td>0.000000</td>\n",
       "      <td>0.281955</td>\n",
       "      <td>0.000000</td>\n",
       "    </tr>\n",
       "    <tr>\n",
       "      <th>perdió</th>\n",
       "      <td>0.055098</td>\n",
       "      <td>0.000000</td>\n",
       "      <td>0.059006</td>\n",
       "      <td>0.000000</td>\n",
       "      <td>0.000000</td>\n",
       "      <td>0.000000</td>\n",
       "      <td>0.000000</td>\n",
       "      <td>0.000000</td>\n",
       "      <td>0.000000</td>\n",
       "      <td>0.042104</td>\n",
       "      <td>...</td>\n",
       "      <td>0.071685</td>\n",
       "      <td>0.000000</td>\n",
       "      <td>0.045991</td>\n",
       "      <td>0.027356</td>\n",
       "      <td>0.000000</td>\n",
       "      <td>0.000000</td>\n",
       "      <td>0.072297</td>\n",
       "      <td>0.000000</td>\n",
       "      <td>0.000000</td>\n",
       "      <td>0.075427</td>\n",
       "    </tr>\n",
       "    <tr>\n",
       "      <th>puede</th>\n",
       "      <td>0.000000</td>\n",
       "      <td>0.067289</td>\n",
       "      <td>0.000000</td>\n",
       "      <td>0.000000</td>\n",
       "      <td>0.000000</td>\n",
       "      <td>0.044750</td>\n",
       "      <td>0.000000</td>\n",
       "      <td>0.000000</td>\n",
       "      <td>0.000000</td>\n",
       "      <td>0.000000</td>\n",
       "      <td>...</td>\n",
       "      <td>0.056729</td>\n",
       "      <td>0.032077</td>\n",
       "      <td>0.112622</td>\n",
       "      <td>0.140367</td>\n",
       "      <td>0.000000</td>\n",
       "      <td>0.000000</td>\n",
       "      <td>0.000000</td>\n",
       "      <td>0.017629</td>\n",
       "      <td>0.066495</td>\n",
       "      <td>0.000000</td>\n",
       "    </tr>\n",
       "    <tr>\n",
       "      <th>queiroz</th>\n",
       "      <td>0.043350</td>\n",
       "      <td>0.064488</td>\n",
       "      <td>0.000000</td>\n",
       "      <td>0.097597</td>\n",
       "      <td>0.000000</td>\n",
       "      <td>0.066017</td>\n",
       "      <td>0.000000</td>\n",
       "      <td>0.034778</td>\n",
       "      <td>0.000000</td>\n",
       "      <td>0.033960</td>\n",
       "      <td>...</td>\n",
       "      <td>0.084761</td>\n",
       "      <td>0.075167</td>\n",
       "      <td>0.012378</td>\n",
       "      <td>0.010898</td>\n",
       "      <td>0.096871</td>\n",
       "      <td>0.000000</td>\n",
       "      <td>0.189982</td>\n",
       "      <td>0.026314</td>\n",
       "      <td>0.000000</td>\n",
       "      <td>0.136005</td>\n",
       "    </tr>\n",
       "    <tr>\n",
       "      <th>seleccion</th>\n",
       "      <td>0.000000</td>\n",
       "      <td>0.008752</td>\n",
       "      <td>0.049417</td>\n",
       "      <td>0.067852</td>\n",
       "      <td>0.032266</td>\n",
       "      <td>0.176972</td>\n",
       "      <td>0.174924</td>\n",
       "      <td>0.021728</td>\n",
       "      <td>0.000000</td>\n",
       "      <td>0.019316</td>\n",
       "      <td>...</td>\n",
       "      <td>0.000000</td>\n",
       "      <td>0.000000</td>\n",
       "      <td>0.041457</td>\n",
       "      <td>0.091543</td>\n",
       "      <td>0.109675</td>\n",
       "      <td>0.078097</td>\n",
       "      <td>0.000000</td>\n",
       "      <td>0.011096</td>\n",
       "      <td>0.000000</td>\n",
       "      <td>0.017119</td>\n",
       "    </tr>\n",
       "    <tr>\n",
       "      <th>selección</th>\n",
       "      <td>0.123846</td>\n",
       "      <td>0.077549</td>\n",
       "      <td>0.146012</td>\n",
       "      <td>0.058189</td>\n",
       "      <td>0.069009</td>\n",
       "      <td>0.196857</td>\n",
       "      <td>0.034972</td>\n",
       "      <td>0.067130</td>\n",
       "      <td>0.060119</td>\n",
       "      <td>0.061072</td>\n",
       "      <td>...</td>\n",
       "      <td>1.000000</td>\n",
       "      <td>0.185651</td>\n",
       "      <td>0.144038</td>\n",
       "      <td>0.106251</td>\n",
       "      <td>0.062324</td>\n",
       "      <td>0.055286</td>\n",
       "      <td>0.087667</td>\n",
       "      <td>0.082368</td>\n",
       "      <td>0.054938</td>\n",
       "      <td>0.087065</td>\n",
       "    </tr>\n",
       "    <tr>\n",
       "      <th>selección colombia</th>\n",
       "      <td>0.000000</td>\n",
       "      <td>0.038918</td>\n",
       "      <td>0.159303</td>\n",
       "      <td>0.083241</td>\n",
       "      <td>0.014564</td>\n",
       "      <td>0.798144</td>\n",
       "      <td>0.000000</td>\n",
       "      <td>0.018652</td>\n",
       "      <td>0.055273</td>\n",
       "      <td>0.135127</td>\n",
       "      <td>...</td>\n",
       "      <td>0.185651</td>\n",
       "      <td>1.000000</td>\n",
       "      <td>0.040689</td>\n",
       "      <td>0.000000</td>\n",
       "      <td>0.105622</td>\n",
       "      <td>0.039833</td>\n",
       "      <td>0.050537</td>\n",
       "      <td>0.214558</td>\n",
       "      <td>0.000000</td>\n",
       "      <td>0.000000</td>\n",
       "    </tr>\n",
       "    <tr>\n",
       "      <th>si</th>\n",
       "      <td>0.132759</td>\n",
       "      <td>0.064233</td>\n",
       "      <td>0.039393</td>\n",
       "      <td>0.089710</td>\n",
       "      <td>0.265286</td>\n",
       "      <td>0.092131</td>\n",
       "      <td>0.000000</td>\n",
       "      <td>0.000000</td>\n",
       "      <td>0.000000</td>\n",
       "      <td>0.039284</td>\n",
       "      <td>...</td>\n",
       "      <td>0.144038</td>\n",
       "      <td>0.040689</td>\n",
       "      <td>1.000000</td>\n",
       "      <td>0.000000</td>\n",
       "      <td>0.000000</td>\n",
       "      <td>0.025102</td>\n",
       "      <td>0.083249</td>\n",
       "      <td>0.006319</td>\n",
       "      <td>0.000000</td>\n",
       "      <td>0.018463</td>\n",
       "    </tr>\n",
       "    <tr>\n",
       "      <th>siempre</th>\n",
       "      <td>0.000000</td>\n",
       "      <td>0.053631</td>\n",
       "      <td>0.000000</td>\n",
       "      <td>0.000000</td>\n",
       "      <td>0.000000</td>\n",
       "      <td>0.051857</td>\n",
       "      <td>0.000000</td>\n",
       "      <td>0.000000</td>\n",
       "      <td>0.000000</td>\n",
       "      <td>0.076727</td>\n",
       "      <td>...</td>\n",
       "      <td>0.106251</td>\n",
       "      <td>0.000000</td>\n",
       "      <td>0.000000</td>\n",
       "      <td>1.000000</td>\n",
       "      <td>0.055876</td>\n",
       "      <td>0.000000</td>\n",
       "      <td>0.000000</td>\n",
       "      <td>0.000000</td>\n",
       "      <td>0.142120</td>\n",
       "      <td>0.000000</td>\n",
       "    </tr>\n",
       "    <tr>\n",
       "      <th>solo</th>\n",
       "      <td>0.013368</td>\n",
       "      <td>0.000000</td>\n",
       "      <td>0.000000</td>\n",
       "      <td>0.041715</td>\n",
       "      <td>0.000000</td>\n",
       "      <td>0.091549</td>\n",
       "      <td>0.000000</td>\n",
       "      <td>0.000000</td>\n",
       "      <td>0.000000</td>\n",
       "      <td>0.086001</td>\n",
       "      <td>...</td>\n",
       "      <td>0.062324</td>\n",
       "      <td>0.105622</td>\n",
       "      <td>0.000000</td>\n",
       "      <td>0.055876</td>\n",
       "      <td>1.000000</td>\n",
       "      <td>0.023937</td>\n",
       "      <td>0.147360</td>\n",
       "      <td>0.000000</td>\n",
       "      <td>0.126223</td>\n",
       "      <td>0.028034</td>\n",
       "    </tr>\n",
       "    <tr>\n",
       "      <th>tan</th>\n",
       "      <td>0.070561</td>\n",
       "      <td>0.000000</td>\n",
       "      <td>0.000000</td>\n",
       "      <td>0.000000</td>\n",
       "      <td>0.000000</td>\n",
       "      <td>0.083456</td>\n",
       "      <td>0.000000</td>\n",
       "      <td>0.163992</td>\n",
       "      <td>0.000000</td>\n",
       "      <td>0.047611</td>\n",
       "      <td>...</td>\n",
       "      <td>0.055286</td>\n",
       "      <td>0.039833</td>\n",
       "      <td>0.025102</td>\n",
       "      <td>0.000000</td>\n",
       "      <td>0.023937</td>\n",
       "      <td>1.000000</td>\n",
       "      <td>0.000000</td>\n",
       "      <td>0.028297</td>\n",
       "      <td>0.000000</td>\n",
       "      <td>0.000000</td>\n",
       "    </tr>\n",
       "    <tr>\n",
       "      <th>técnico</th>\n",
       "      <td>0.044563</td>\n",
       "      <td>0.163552</td>\n",
       "      <td>0.000000</td>\n",
       "      <td>0.032834</td>\n",
       "      <td>0.000000</td>\n",
       "      <td>0.089157</td>\n",
       "      <td>0.000000</td>\n",
       "      <td>0.087438</td>\n",
       "      <td>0.000000</td>\n",
       "      <td>0.000000</td>\n",
       "      <td>...</td>\n",
       "      <td>0.087667</td>\n",
       "      <td>0.050537</td>\n",
       "      <td>0.083249</td>\n",
       "      <td>0.000000</td>\n",
       "      <td>0.147360</td>\n",
       "      <td>0.000000</td>\n",
       "      <td>1.000000</td>\n",
       "      <td>0.000000</td>\n",
       "      <td>0.000000</td>\n",
       "      <td>0.030786</td>\n",
       "    </tr>\n",
       "    <tr>\n",
       "      <th>uruguay</th>\n",
       "      <td>0.000000</td>\n",
       "      <td>0.092126</td>\n",
       "      <td>0.304599</td>\n",
       "      <td>0.058691</td>\n",
       "      <td>0.000000</td>\n",
       "      <td>0.287426</td>\n",
       "      <td>0.000000</td>\n",
       "      <td>0.000000</td>\n",
       "      <td>0.066871</td>\n",
       "      <td>0.039075</td>\n",
       "      <td>...</td>\n",
       "      <td>0.082368</td>\n",
       "      <td>0.214558</td>\n",
       "      <td>0.006319</td>\n",
       "      <td>0.000000</td>\n",
       "      <td>0.000000</td>\n",
       "      <td>0.028297</td>\n",
       "      <td>0.000000</td>\n",
       "      <td>1.000000</td>\n",
       "      <td>0.033093</td>\n",
       "      <td>0.000000</td>\n",
       "    </tr>\n",
       "    <tr>\n",
       "      <th>venezuela</th>\n",
       "      <td>0.000000</td>\n",
       "      <td>0.000000</td>\n",
       "      <td>0.053771</td>\n",
       "      <td>0.000000</td>\n",
       "      <td>0.000000</td>\n",
       "      <td>0.000000</td>\n",
       "      <td>0.000000</td>\n",
       "      <td>0.000000</td>\n",
       "      <td>0.000000</td>\n",
       "      <td>0.116476</td>\n",
       "      <td>...</td>\n",
       "      <td>0.054938</td>\n",
       "      <td>0.000000</td>\n",
       "      <td>0.000000</td>\n",
       "      <td>0.142120</td>\n",
       "      <td>0.126223</td>\n",
       "      <td>0.000000</td>\n",
       "      <td>0.000000</td>\n",
       "      <td>0.033093</td>\n",
       "      <td>1.000000</td>\n",
       "      <td>0.000000</td>\n",
       "    </tr>\n",
       "    <tr>\n",
       "      <th>vergara</th>\n",
       "      <td>0.126760</td>\n",
       "      <td>0.034759</td>\n",
       "      <td>0.000000</td>\n",
       "      <td>0.000000</td>\n",
       "      <td>0.000000</td>\n",
       "      <td>0.008253</td>\n",
       "      <td>0.000000</td>\n",
       "      <td>0.000000</td>\n",
       "      <td>0.000000</td>\n",
       "      <td>0.000000</td>\n",
       "      <td>...</td>\n",
       "      <td>0.087065</td>\n",
       "      <td>0.000000</td>\n",
       "      <td>0.018463</td>\n",
       "      <td>0.000000</td>\n",
       "      <td>0.028034</td>\n",
       "      <td>0.000000</td>\n",
       "      <td>0.030786</td>\n",
       "      <td>0.000000</td>\n",
       "      <td>0.000000</td>\n",
       "      <td>1.000000</td>\n",
       "    </tr>\n",
       "  </tbody>\n",
       "</table>\n",
       "<p>50 rows × 50 columns</p>\n",
       "</div>"
      ],
      "text/plain": [
       "                       ahora       así  barranquilla      bien  camiseta  \\\n",
       "ahora               1.000000  0.052785      0.000000  0.000000  0.000000   \n",
       "así                 0.052785  1.000000      0.000000  0.000000  0.000000   \n",
       "barranquilla        0.000000  0.000000      1.000000  0.040128  0.023634   \n",
       "bien                0.000000  0.000000      0.040128  1.000000  0.000000   \n",
       "camiseta            0.000000  0.000000      0.023634  0.000000  1.000000   \n",
       "colombia            0.028006  0.142381      0.219473  0.063732  0.011150   \n",
       "colombiano          0.000000  0.000000      0.050884  0.000000  0.000000   \n",
       "da                  0.000000  0.000000      0.021697  0.042011  0.000000   \n",
       "derrota             0.080870  0.000000      0.044305  0.000000  0.000000   \n",
       "ecuador             0.114273  0.034567      0.000000  0.000000  0.000000   \n",
       "equipo              0.026428  0.054944      0.039246  0.033692  0.000000   \n",
       "falta               0.000000  0.294718      0.000000  0.050360  0.000000   \n",
       "fútbol              0.000000  0.023118      0.027487  0.058845  0.000000   \n",
       "hace                0.010822  0.277129      0.023688  0.000000  0.000000   \n",
       "hacer               0.000000  0.000000      0.043032  0.092123  0.056857   \n",
       "hoy                 0.017388  0.000000      0.012567  0.082301  0.000000   \n",
       "igual               0.000000  0.000000      0.062366  0.000000  0.000000   \n",
       "james               0.010493  0.131345      0.000000  0.000000  0.000000   \n",
       "juega               0.039230  0.000000      0.045586  0.000000  0.127947   \n",
       "juego               0.075121  0.000000      0.000000  0.000000  0.000000   \n",
       "juegue              0.000000  0.087821      0.080208  0.000000  0.000000   \n",
       "jugador             0.000000  0.147903      0.000000  0.091138  0.000000   \n",
       "jugadores           0.065632  0.142062      0.089537  0.033020  0.167826   \n",
       "jugando             0.000000  0.090883      0.000000  0.046601  0.000000   \n",
       "jugar               0.000000  0.023260      0.125065  0.038294  0.073083   \n",
       "local               0.000000  0.000000      0.045449  0.000000  0.000000   \n",
       "mal                 0.000000  0.098115      0.000000  0.029732  0.000000   \n",
       "mejor               0.021189  0.000000      0.000000  0.000000  0.000000   \n",
       "menos               0.000000  0.015384      0.000000  0.000000  0.040655   \n",
       "mierda              0.000000  0.093273      0.038618  0.082674  0.000000   \n",
       "mina                0.015588  0.000000      0.000000  0.000000  0.000000   \n",
       "morelos             0.024961  0.000000      0.031630  0.045366  0.000000   \n",
       "nivel               0.000000  0.062514      0.027440  0.053699  0.000000   \n",
       "nunca               0.043690  0.000000      0.000000  0.000000  0.000000   \n",
       "partido             0.007090  0.065308      0.107116  0.025171  0.000000   \n",
       "partidos            0.000000  0.000000      0.032414  0.000000  0.041956   \n",
       "perdió              0.055098  0.000000      0.059006  0.000000  0.000000   \n",
       "puede               0.000000  0.067289      0.000000  0.000000  0.000000   \n",
       "queiroz             0.043350  0.064488      0.000000  0.097597  0.000000   \n",
       "seleccion           0.000000  0.008752      0.049417  0.067852  0.032266   \n",
       "selección           0.123846  0.077549      0.146012  0.058189  0.069009   \n",
       "selección colombia  0.000000  0.038918      0.159303  0.083241  0.014564   \n",
       "si                  0.132759  0.064233      0.039393  0.089710  0.265286   \n",
       "siempre             0.000000  0.053631      0.000000  0.000000  0.000000   \n",
       "solo                0.013368  0.000000      0.000000  0.041715  0.000000   \n",
       "tan                 0.070561  0.000000      0.000000  0.000000  0.000000   \n",
       "técnico             0.044563  0.163552      0.000000  0.032834  0.000000   \n",
       "uruguay             0.000000  0.092126      0.304599  0.058691  0.000000   \n",
       "venezuela           0.000000  0.000000      0.053771  0.000000  0.000000   \n",
       "vergara             0.126760  0.034759      0.000000  0.000000  0.000000   \n",
       "\n",
       "                    colombia  colombiano        da   derrota   ecuador  ...  \\\n",
       "ahora               0.028006    0.000000  0.000000  0.080870  0.114273  ...   \n",
       "así                 0.142381    0.000000  0.000000  0.000000  0.034567  ...   \n",
       "barranquilla        0.219473    0.050884  0.021697  0.044305  0.000000  ...   \n",
       "bien                0.063732    0.000000  0.042011  0.000000  0.000000  ...   \n",
       "camiseta            0.011150    0.000000  0.000000  0.000000  0.000000  ...   \n",
       "colombia            1.000000    0.033490  0.014281  0.109985  0.167173  ...   \n",
       "colombiano          0.033490    1.000000  0.298123  0.000000  0.000000  ...   \n",
       "da                  0.014281    0.298123  1.000000  0.000000  0.032834  ...   \n",
       "derrota             0.109985    0.000000  0.000000  1.000000  0.120700  ...   \n",
       "ecuador             0.167173    0.000000  0.032834  0.120700  1.000000  ...   \n",
       "equipo              0.148038    0.062114  0.051263  0.000000  0.000000  ...   \n",
       "falta               0.101139    0.000000  0.000000  0.000000  0.000000  ...   \n",
       "fútbol              0.046066    0.141268  0.058312  0.000000  0.000000  ...   \n",
       "hace                0.026140    0.087201  0.071966  0.000000  0.000000  ...   \n",
       "hacer               0.045032    0.294150  0.000000  0.000000  0.000000  ...   \n",
       "hoy                 0.108236    0.017275  0.059118  0.108589  0.070525  ...   \n",
       "igual               0.041047    0.401686  0.137043  0.000000  0.132571  ...   \n",
       "james               0.056024    0.000000  0.000000  0.056629  0.029621  ...   \n",
       "juega               0.044835    0.076212  0.000000  0.000000  0.000000  ...   \n",
       "juego               0.090179    0.035116  0.000000  0.000000  0.095801  ...   \n",
       "juegue              0.080895    0.000000  0.000000  0.000000  0.000000  ...   \n",
       "jugador             0.048295    0.000000  0.000000  0.000000  0.000000  ...   \n",
       "jugadores           0.131201    0.063812  0.035847  0.000000  0.000000  ...   \n",
       "jugando             0.037065    0.000000  0.000000  0.000000  0.096075  ...   \n",
       "jugar               0.018046    0.000000  0.032013  0.000000  0.000000  ...   \n",
       "local               0.000000    0.000000  0.000000  0.000000  0.133575  ...   \n",
       "mal                 0.105138    0.024492  0.022291  0.000000  0.019817  ...   \n",
       "mejor               0.071168    0.000000  0.000000  0.000000  0.000000  ...   \n",
       "menos               0.040979    0.000000  0.000000  0.000000  0.000000  ...   \n",
       "mierda              0.060182    0.000000  0.000000  0.000000  0.000000  ...   \n",
       "mina                0.082824    0.000000  0.000000  0.000000  0.000000  ...   \n",
       "morelos             0.052333    0.088942  0.000000  0.000000  0.000000  ...   \n",
       "nivel               0.018060    0.062538  0.000000  0.000000  0.000000  ...   \n",
       "nunca               0.032484    0.000000  0.000000  0.000000  0.000000  ...   \n",
       "partido             0.088076    0.000000  0.018872  0.000000  0.076277  ...   \n",
       "partidos            0.050119    0.000000  0.000000  0.000000  0.095265  ...   \n",
       "perdió              0.000000    0.000000  0.000000  0.000000  0.042104  ...   \n",
       "puede               0.044750    0.000000  0.000000  0.000000  0.000000  ...   \n",
       "queiroz             0.066017    0.000000  0.034778  0.000000  0.033960  ...   \n",
       "seleccion           0.176972    0.174924  0.021728  0.000000  0.019316  ...   \n",
       "selección           0.196857    0.034972  0.067130  0.060119  0.061072  ...   \n",
       "selección colombia  0.798144    0.000000  0.018652  0.055273  0.135127  ...   \n",
       "si                  0.092131    0.000000  0.000000  0.000000  0.039284  ...   \n",
       "siempre             0.051857    0.000000  0.000000  0.000000  0.076727  ...   \n",
       "solo                0.091549    0.000000  0.000000  0.000000  0.086001  ...   \n",
       "tan                 0.083456    0.000000  0.163992  0.000000  0.047611  ...   \n",
       "técnico             0.089157    0.000000  0.087438  0.000000  0.000000  ...   \n",
       "uruguay             0.287426    0.000000  0.000000  0.066871  0.039075  ...   \n",
       "venezuela           0.000000    0.000000  0.000000  0.000000  0.116476  ...   \n",
       "vergara             0.008253    0.000000  0.000000  0.000000  0.000000  ...   \n",
       "\n",
       "                    selección  selección colombia        si   siempre  \\\n",
       "ahora                0.123846            0.000000  0.132759  0.000000   \n",
       "así                  0.077549            0.038918  0.064233  0.053631   \n",
       "barranquilla         0.146012            0.159303  0.039393  0.000000   \n",
       "bien                 0.058189            0.083241  0.089710  0.000000   \n",
       "camiseta             0.069009            0.014564  0.265286  0.000000   \n",
       "colombia             0.196857            0.798144  0.092131  0.051857   \n",
       "colombiano           0.034972            0.000000  0.000000  0.000000   \n",
       "da                   0.067130            0.018652  0.000000  0.000000   \n",
       "derrota              0.060119            0.055273  0.000000  0.000000   \n",
       "ecuador              0.061072            0.135127  0.039284  0.076727   \n",
       "equipo               0.122033            0.033738  0.020270  0.000000   \n",
       "falta                0.064864            0.000000  0.017697  0.126023   \n",
       "fútbol               0.097805            0.055315  0.140583  0.018324   \n",
       "hace                 0.082739            0.000000  0.126701  0.053236   \n",
       "hacer                0.053922            0.058817  0.068258  0.000000   \n",
       "hoy                  0.149456            0.087165  0.045988  0.060589   \n",
       "igual                0.044604            0.000000  0.049647  0.086133   \n",
       "james                0.077089            0.043334  0.082802  0.010790   \n",
       "juega                0.082068            0.015833  0.073847  0.000000   \n",
       "juego                0.084583            0.059759  0.064408  0.131865   \n",
       "juegue               0.066497            0.000000  0.042581  0.000000   \n",
       "jugador              0.075181            0.009920  0.021794  0.051289   \n",
       "jugadores            0.095055            0.072027  0.098688  0.007711   \n",
       "jugando              0.049544            0.000000  0.000000  0.093631   \n",
       "jugar                0.095234            0.011859  0.017127  0.027509   \n",
       "local                0.039304            0.000000  0.067259  0.086786   \n",
       "mal                  0.097267            0.036360  0.021441  0.059384   \n",
       "mejor                0.075033            0.081577  0.000000  0.000000   \n",
       "menos                0.065750            0.040608  0.008171  0.000000   \n",
       "mierda               0.074613            0.039155  0.042006  0.190611   \n",
       "mina                 0.066469            0.091909  0.025696  0.016030   \n",
       "morelos              0.083726            0.009945  0.025697  0.000000   \n",
       "nivel                0.080491            0.023589  0.035804  0.012540   \n",
       "nunca                0.030084            0.021214  0.062977  0.000000   \n",
       "partido              0.110384            0.073529  0.047876  0.034686   \n",
       "partidos             0.063926            0.065462  0.000000  0.105679   \n",
       "perdió               0.071685            0.000000  0.045991  0.027356   \n",
       "puede                0.056729            0.032077  0.112622  0.140367   \n",
       "queiroz              0.084761            0.075167  0.012378  0.010898   \n",
       "seleccion            0.000000            0.000000  0.041457  0.091543   \n",
       "selección            1.000000            0.185651  0.144038  0.106251   \n",
       "selección colombia   0.185651            1.000000  0.040689  0.000000   \n",
       "si                   0.144038            0.040689  1.000000  0.000000   \n",
       "siempre              0.106251            0.000000  0.000000  1.000000   \n",
       "solo                 0.062324            0.105622  0.000000  0.055876   \n",
       "tan                  0.055286            0.039833  0.025102  0.000000   \n",
       "técnico              0.087667            0.050537  0.083249  0.000000   \n",
       "uruguay              0.082368            0.214558  0.006319  0.000000   \n",
       "venezuela            0.054938            0.000000  0.000000  0.142120   \n",
       "vergara              0.087065            0.000000  0.018463  0.000000   \n",
       "\n",
       "                        solo       tan   técnico   uruguay  venezuela  \\\n",
       "ahora               0.013368  0.070561  0.044563  0.000000   0.000000   \n",
       "así                 0.000000  0.000000  0.163552  0.092126   0.000000   \n",
       "barranquilla        0.000000  0.000000  0.000000  0.304599   0.053771   \n",
       "bien                0.041715  0.000000  0.032834  0.058691   0.000000   \n",
       "camiseta            0.000000  0.000000  0.000000  0.000000   0.000000   \n",
       "colombia            0.091549  0.083456  0.089157  0.287426   0.000000   \n",
       "colombiano          0.000000  0.000000  0.000000  0.000000   0.000000   \n",
       "da                  0.000000  0.163992  0.087438  0.000000   0.000000   \n",
       "derrota             0.000000  0.000000  0.000000  0.066871   0.000000   \n",
       "ecuador             0.086001  0.047611  0.000000  0.039075   0.116476   \n",
       "equipo              0.049610  0.000000  0.055862  0.000000   0.000000   \n",
       "falta               0.000000  0.000000  0.000000  0.031323   0.000000   \n",
       "fútbol              0.000000  0.000000  0.000000  0.030293   0.000000   \n",
       "hace                0.046187  0.019377  0.000000  0.000000   0.000000   \n",
       "hacer               0.088345  0.000000  0.071670  0.000000   0.000000   \n",
       "hoy                 0.050734  0.071218  0.082439  0.005647   0.055773   \n",
       "igual               0.143665  0.000000  0.042648  0.000000   0.194575   \n",
       "james               0.075367  0.074196  0.044793  0.068585   0.000000   \n",
       "juega               0.070818  0.045061  0.070104  0.000000   0.032821   \n",
       "juego               0.042939  0.000000  0.277849  0.000000   0.095009   \n",
       "juegue              0.000000  0.000000  0.000000  0.028496   0.130414   \n",
       "jugador             0.055932  0.092120  0.044165  0.000000   0.000000   \n",
       "jugadores           0.021380  0.023511  0.075299  0.041866   0.054992   \n",
       "jugando             0.152783  0.000000  0.000000  0.000000   0.141010   \n",
       "jugar               0.039428  0.000000  0.036130  0.037899   0.000000   \n",
       "local               0.144753  0.065101  0.000000  0.019850   0.196048   \n",
       "mal                 0.000000  0.027143  0.139617  0.000000   0.000000   \n",
       "mejor               0.058482  0.067747  0.000000  0.000000   0.000000   \n",
       "menos               0.000000  0.000000  0.029068  0.000000   0.000000   \n",
       "mierda              0.000000  0.000000  0.000000  0.068747   0.000000   \n",
       "mina                0.222946  0.098765  0.000000  0.000000   0.000000   \n",
       "morelos             0.028368  0.022420  0.000000  0.000000   0.000000   \n",
       "nivel               0.000000  0.000000  0.045725  0.000000   0.000000   \n",
       "nunca               0.000000  0.000000  0.044759  0.000000   0.000000   \n",
       "partido             0.011468  0.113212  0.073952  0.025050   0.063759   \n",
       "partidos            0.103237  0.000000  0.000000  0.000000   0.281955   \n",
       "perdió              0.000000  0.000000  0.072297  0.000000   0.000000   \n",
       "puede               0.000000  0.000000  0.000000  0.017629   0.066495   \n",
       "queiroz             0.096871  0.000000  0.189982  0.026314   0.000000   \n",
       "seleccion           0.109675  0.078097  0.000000  0.011096   0.000000   \n",
       "selección           0.062324  0.055286  0.087667  0.082368   0.054938   \n",
       "selección colombia  0.105622  0.039833  0.050537  0.214558   0.000000   \n",
       "si                  0.000000  0.025102  0.083249  0.006319   0.000000   \n",
       "siempre             0.055876  0.000000  0.000000  0.000000   0.142120   \n",
       "solo                1.000000  0.023937  0.147360  0.000000   0.126223   \n",
       "tan                 0.023937  1.000000  0.000000  0.028297   0.000000   \n",
       "técnico             0.147360  0.000000  1.000000  0.000000   0.000000   \n",
       "uruguay             0.000000  0.028297  0.000000  1.000000   0.033093   \n",
       "venezuela           0.126223  0.000000  0.000000  0.033093   1.000000   \n",
       "vergara             0.028034  0.000000  0.030786  0.000000   0.000000   \n",
       "\n",
       "                     vergara  \n",
       "ahora               0.126760  \n",
       "así                 0.034759  \n",
       "barranquilla        0.000000  \n",
       "bien                0.000000  \n",
       "camiseta            0.000000  \n",
       "colombia            0.008253  \n",
       "colombiano          0.000000  \n",
       "da                  0.000000  \n",
       "derrota             0.000000  \n",
       "ecuador             0.000000  \n",
       "equipo              0.043360  \n",
       "falta               0.081488  \n",
       "fútbol              0.000000  \n",
       "hace                0.037718  \n",
       "hacer               0.000000  \n",
       "hoy                 0.000000  \n",
       "igual               0.000000  \n",
       "james               0.022004  \n",
       "juega               0.018780  \n",
       "juego               0.067543  \n",
       "juegue              0.000000  \n",
       "jugador             0.021863  \n",
       "jugadores           0.042179  \n",
       "jugando             0.000000  \n",
       "jugar               0.081271  \n",
       "local               0.064793  \n",
       "mal                 0.000000  \n",
       "mejor               0.022860  \n",
       "menos               0.000000  \n",
       "mierda              0.000000  \n",
       "mina                0.032689  \n",
       "morelos             0.113323  \n",
       "nivel               0.000000  \n",
       "nunca               0.000000  \n",
       "partido             0.000000  \n",
       "partidos            0.000000  \n",
       "perdió              0.075427  \n",
       "puede               0.000000  \n",
       "queiroz             0.136005  \n",
       "seleccion           0.017119  \n",
       "selección           0.087065  \n",
       "selección colombia  0.000000  \n",
       "si                  0.018463  \n",
       "siempre             0.000000  \n",
       "solo                0.028034  \n",
       "tan                 0.000000  \n",
       "técnico             0.030786  \n",
       "uruguay             0.000000  \n",
       "venezuela           0.000000  \n",
       "vergara             1.000000  \n",
       "\n",
       "[50 rows x 50 columns]"
      ]
     },
     "execution_count": 118,
     "metadata": {},
     "output_type": "execute_result"
    }
   ],
   "source": [
    "# Se obtienen las distancias entre palabras\n",
    "from sklearn.metrics.pairwise import cosine_similarity\n",
    " \n",
    "voc = [k for k,v in sorted(tfidf_vect.vocabulary_.items(), key=lambda kv: kv[1])]\n",
    "\n",
    "temp = pd.DataFrame(tfidf.toarray())\n",
    "temp = cosine_similarity(temp.T.values)\n",
    "temp = pd.DataFrame(temp)\n",
    "temp.columns = voc\n",
    "temp.index = voc\n",
    "\n",
    "temp"
   ]
  },
  {
   "cell_type": "markdown",
   "metadata": {},
   "source": [
    "#### Se hace la grafica de calor con base en las distancias"
   ]
  },
  {
   "cell_type": "code",
   "execution_count": 119,
   "metadata": {},
   "outputs": [],
   "source": [
    "import scipy.cluster.hierarchy as sch\n",
    "\n",
    "import numpy as np\n",
    " \n",
    "pairwise_distances = sch.distance.pdist(temp)\n",
    "linkage = sch.linkage(pairwise_distances, method='ward')\n",
    "\n",
    "idx_to_cluster_array = sch.fcluster(linkage, pairwise_distances.max() * 1, criterion='distance')\n",
    "idx = np.argsort(idx_to_cluster_array)\n",
    "\n",
    "temp = temp.copy()\n",
    "\n",
    "temp2 = temp.iloc[idx, :].T.iloc[idx, :]\n",
    "\n",
    "my_idx = idx_to_cluster_array"
   ]
  },
  {
   "cell_type": "code",
   "execution_count": 22,
   "metadata": {},
   "outputs": [
    {
     "data": {
      "application/vnd.plotly.v1+json": {
       "config": {
        "linkText": "Export to plot.ly",
        "plotlyServerURL": "https://plot.ly",
        "showLink": false
       },
       "data": [
        {
         "colorscale": [
          [
           0,
           "rgb(247,251,255)"
          ],
          [
           0.125,
           "rgb(222,235,247)"
          ],
          [
           0.25,
           "rgb(198,219,239)"
          ],
          [
           0.375,
           "rgb(158,202,225)"
          ],
          [
           0.5,
           "rgb(107,174,214)"
          ],
          [
           0.625,
           "rgb(66,146,198)"
          ],
          [
           0.75,
           "rgb(33,113,181)"
          ],
          [
           0.875,
           "rgb(8,81,156)"
          ],
          [
           1,
           "rgb(8,48,107)"
          ]
         ],
         "type": "heatmap",
         "x": [
          "hoy",
          "juega selección",
          "juega",
          "hoy juega",
          "siempre",
          "luis díaz",
          "luis",
          "díaz",
          "colombia",
          "selección colombia",
          "partido",
          "partido selección",
          "vamos selección",
          "vamos",
          "partidos",
          "partidos selección",
          "jugando",
          "mina",
          "tan",
          "hace",
          "mal",
          "falta",
          "cuadrado selección",
          "cuadrado",
          "si",
          "queiroz",
          "seleccion",
          "selección",
          "va",
          "uruguay",
          "ser",
          "país",
          "así",
          "lateral",
          "liga",
          "ver",
          "jugar",
          "jugadores",
          "jugador",
          "gran",
          "gol",
          "fútbol",
          "equipo",
          "debe",
          "camiseta",
          "bien",
          "barranquilla",
          "años",
          "mejor",
          "vez"
         ],
         "y": [
          "hoy",
          "juega selección",
          "juega",
          "hoy juega",
          "siempre",
          "luis díaz",
          "luis",
          "díaz",
          "colombia",
          "selección colombia",
          "partido",
          "partido selección",
          "vamos selección",
          "vamos",
          "partidos",
          "partidos selección",
          "jugando",
          "mina",
          "tan",
          "hace",
          "mal",
          "falta",
          "cuadrado selección",
          "cuadrado",
          "si",
          "queiroz",
          "seleccion",
          "selección",
          "va",
          "uruguay",
          "ser",
          "país",
          "así",
          "lateral",
          "liga",
          "ver",
          "jugar",
          "jugadores",
          "jugador",
          "gran",
          "gol",
          "fútbol",
          "equipo",
          "debe",
          "camiseta",
          "bien",
          "barranquilla",
          "años",
          "mejor",
          "vez"
         ],
         "z": [
          [
           1.0000000000000009,
           0.2920200378090734,
           0.2901977073029096,
           0.5468709584903407,
           0.15466124945098852,
           0,
           0,
           0,
           0.31586634414030745,
           0.33629415800011675,
           0.03727722379715917,
           0.029367732268780724,
           0.025597411790756846,
           0.10225546440912749,
           0.00709877470708179,
           0.011134415923573816,
           0,
           0,
           0.03652828803334966,
           0,
           0,
           0,
           0,
           0,
           0,
           0,
           0.046742674984207214,
           0.11648213013807318,
           0.06294441300334225,
           0.03622323923196872,
           0,
           0.233603424620518,
           0,
           0,
           0.08325023069558425,
           0,
           0,
           0,
           0,
           0.06617738098119719,
           0.08000693454767248,
           0.09280059734875917,
           0.06598343834951491,
           0,
           0.015190626409897458,
           0,
           0,
           0,
           0,
           0
          ],
          [
           0.2920200378090734,
           1.0000000000000004,
           0.7652263138166588,
           0.49655110902877675,
           0.22996582285742379,
           0,
           0,
           0,
           0.09910719514267613,
           0.11081731092650078,
           0,
           0,
           0,
           0,
           0.008881958682617883,
           0.013931336923484338,
           0.0173724104680077,
           0.014923489976734,
           0,
           0.011433680635070763,
           0.04348478450067919,
           0,
           0,
           0.007936964651310762,
           0,
           0,
           0,
           0.09518916958286908,
           0,
           0,
           0.015756449224571173,
           0.05134671056699374,
           0,
           0,
           0,
           0.020728593992950607,
           0,
           0,
           0,
           0,
           0.017222014456247,
           0.03468152399631149,
           0,
           0.022387397861648544,
           0.01900645135296286,
           0,
           0.026810293334805484,
           0,
           0,
           0.02654270769359656
          ],
          [
           0.2901977073029096,
           0.7652263138166588,
           0.9999999999999998,
           0.5062014573615591,
           0.1906823639777555,
           0.037947860080072775,
           0.02710321778854469,
           0.02552566272284618,
           0.08277352039037203,
           0.0925537135056208,
           0.021817874123594195,
           0.03546903500501572,
           0,
           0,
           0.006796708502171545,
           0.010660625600495825,
           0.01329382562454346,
           0.03698188469824782,
           0,
           0.00874935328573211,
           0.07181305467094652,
           0,
           0.059255676113576614,
           0.07620128678976762,
           0,
           0.028626130120064108,
           0.04512529285794044,
           0.1173736031074338,
           0,
           0,
           0.012057249558957945,
           0.039291854053791486,
           0,
           0.07245044645687741,
           0,
           0.015862065571827722,
           0,
           0,
           0,
           0,
           0.013178738638851096,
           0.026539214765241424,
           0,
           0.09048031667506881,
           0.01454423670756341,
           0.20767536893085095,
           0.020515941940936522,
           0,
           0,
           0.049711916762671254
          ],
          [
           0.5468709584903407,
           0.49655110902877675,
           0.5062014573615591,
           1,
           0.2925319958483533,
           0,
           0,
           0,
           0.13764963248250894,
           0.15391377083947255,
           0,
           0,
           0,
           0,
           0.013426884500881503,
           0.02106004525562118,
           0,
           0,
           0,
           0,
           0,
           0,
           0,
           0,
           0,
           0,
           0,
           0.06251682723842976,
           0,
           0,
           0,
           0.04771102083835779,
           0,
           0,
           0,
           0,
           0,
           0,
           0,
           0,
           0,
           0,
           0,
           0,
           0.028732111486544098,
           0,
           0,
           0,
           0,
           0
          ],
          [
           0.15466124945098852,
           0.22996582285742379,
           0.1906823639777555,
           0.2925319958483533,
           1.0000000000000002,
           0,
           0,
           0,
           0.1434850968579225,
           0.16043873069894354,
           0,
           0,
           0,
           0,
           0.06217841793297644,
           0.013893850556121226,
           0,
           0,
           0.026582821353463237,
           0.08937889211887012,
           0,
           0.042390095057106766,
           0.02750848863643487,
           0.012521993723215242,
           0,
           0,
           0.024331450601029543,
           0.08827019964821312,
           0,
           0,
           0,
           0,
           0,
           0,
           0,
           0.10998758064434558,
           0,
           0,
           0.05589528111860444,
           0.04073075956679286,
           0.030424387965922273,
           0,
           0.13756766047828517,
           0,
           0.018955308894661876,
           0.029648671085731746,
           0,
           0,
           0.08947047546696521,
           0
          ],
          [
           0,
           0,
           0.037947860080072775,
           0,
           0,
           0.9999999999999998,
           0.7142225604119681,
           0.6726509128310568,
           0.13348949999599766,
           0.129711908373669,
           0,
           0,
           0,
           0,
           0,
           0,
           0,
           0,
           0,
           0,
           0,
           0,
           0,
           0,
           0,
           0.07539411382708966,
           0,
           0.03865332108378938,
           0,
           0.02647616351910214,
           0,
           0,
           0,
           0,
           0,
           0,
           0,
           0,
           0,
           0,
           0,
           0,
           0,
           0,
           0,
           0,
           0,
           0,
           0.16847679767222049,
           0.1284588691740194
          ],
          [
           0,
           0,
           0.02710321778854469,
           0,
           0,
           0.7142225604119681,
           0.9999999999999998,
           0.4804224572256451,
           0.09534121247525486,
           0.09264317131456448,
           0,
           0,
           0,
           0,
           0,
           0,
           0,
           0,
           0,
           0,
           0,
           0.020265852883817548,
           0,
           0,
           0,
           0.05384817701757534,
           0,
           0.05922751547041294,
           0,
           0.018909873298499077,
           0.02228097318853034,
           0,
           0,
           0,
           0,
           0,
           0,
           0,
           0.022173636134380056,
           0,
           0,
           0,
           0.025360467960760465,
           0.033939400352923935,
           0,
           0,
           0,
           0,
           0.12032992980346245,
           0.0917482224490942
          ],
          [
           0,
           0,
           0.02552566272284618,
           0,
           0,
           0.6726509128310568,
           0.4804224572256451,
           1,
           0.12423016982719086,
           0.08725083357260688,
           0,
           0,
           0,
           0,
           0,
           0,
           0,
           0,
           0,
           0,
           0,
           0,
           0,
           0,
           0,
           0.050713919487880475,
           0,
           0.05483772501139898,
           0.16035722966808122,
           0.017809215559388386,
           0,
           0,
           0,
           0,
           0,
           0,
           0,
           0,
           0,
           0,
           0,
           0,
           0,
           0,
           0,
           0,
           0,
           0,
           0.11332607174507241,
           0.08640797561114949
          ],
          [
           0.31586634414030745,
           0.09910719514267613,
           0.08277352039037203,
           0.13764963248250894,
           0.1434850968579225,
           0.13348949999599766,
           0.09534121247525486,
           0.12423016982719086,
           1.0000000000000009,
           0.9223469899996063,
           0.1916496596214174,
           0.14704790035830767,
           0.05011229354632448,
           0.060464604992476446,
           0.04442936416843296,
           0.06968738131353125,
           0.023288581270557485,
           0.044100696589126624,
           0.10455647361576091,
           0.07118871226927843,
           0,
           0.07853794090789858,
           0.0059129292703325965,
           0.0026915932818952683,
           0.05103215101473981,
           0.06604149926250333,
           0.014021077005474744,
           0.23056657753384688,
           0.10516797335705562,
           0.26375315512574793,
           0.010371184232466312,
           0.07176775149800148,
           0.07763069941852571,
           0.007499047815080436,
           0.06673788267738472,
           0.038053306427167706,
           0.049232605423430664,
           0.04233119817284767,
           0.06341466720507972,
           0.01565616444769242,
           0.07709562631024645,
           0.19453843112332983,
           0.1618475008416708,
           0,
           0.06147279875502502,
           0.036013635938904526,
           0.07482624344828101,
           0.07735303176238457,
           0.05203620002850467,
           0.06123122896292371
          ],
          [
           0.33629415800011675,
           0.11081731092650078,
           0.0925537135056208,
           0.15391377083947255,
           0.16043873069894354,
           0.129711908373669,
           0.09264317131456448,
           0.08725083357260688,
           0.9223469899996063,
           1.0000000000000004,
           0.17769508896975686,
           0.13596123078402875,
           0.05603336475387576,
           0.06760886454160206,
           0.049678962826381706,
           0.07792136778321382,
           0.026040268297181913,
           0.04190166654596904,
           0.11691045467865291,
           0.07960009009078292,
           0,
           0.0878176746359157,
           0.006611577701230875,
           0.0030096213415995413,
           0.05706190895733845,
           0.07384470267057022,
           0,
           0.2270151735963065,
           0.06888587982549148,
           0.18139085921160406,
           0,
           0.08024754631387215,
           0.08680323706588339,
           0.00838510576532925,
           0.07462336800662248,
           0.04254953521840719,
           0.055049736147569896,
           0.047332885801666634,
           0.07090749448462427,
           0.01750603516746352,
           0.08620494182684217,
           0.15663453348628895,
           0.17206610620414636,
           0,
           0.023350537365512205,
           0.028491514203051287,
           0.0703546812812658,
           0.07377458367641213,
           0.05818459244750933,
           0.0331902662806032
          ],
          [
           0.03727722379715917,
           0,
           0.021817874123594195,
           0,
           0,
           0,
           0,
           0,
           0.1916496596214174,
           0.17769508896975686,
           0.9999999999999994,
           0.6309302328444439,
           0,
           0,
           0.01908178926316061,
           0.029929753653128208,
           0.03807088320857957,
           0.06073139596760535,
           0.03099517666256605,
           0.1605818183921049,
           0,
           0.031088026332880155,
           0.012442626722176917,
           0.0442923611615578,
           0.13439183758105303,
           0.01082819351392496,
           0,
           0.10909634191596286,
           0,
           0.05463814199659949,
           0.029591563465595244,
           0,
           0.08867065288933812,
           0.01578030929660584,
           0,
           0.030198311058208433,
           0.06823019763686394,
           0.06805211074889687,
           0,
           0,
           0,
           0.08160104182210949,
           0.03930197104026265,
           0,
           0,
           0.05343033623354602,
           0.10267530040359885,
           0.07625742061738651,
           0,
           0.08850451536220796
          ],
          [
           0.029367732268780724,
           0,
           0.03546903500501572,
           0,
           0,
           0,
           0,
           0,
           0.14704790035830767,
           0.13596123078402875,
           0.6309302328444439,
           1,
           0,
           0,
           0,
           0,
           0,
           0,
           0.025194228360734892,
           0.08834916703300033,
           0,
           0.05053940122632482,
           0,
           0.030006835682220356,
           0,
           0,
           0,
           0.07374932254225346,
           0,
           0,
           0,
           0,
           0.09268576574176708,
           0,
           0,
           0.04909300264307779,
           0.08838670615045202,
           0,
           0,
           0,
           0,
           0.04941419084075053,
           0,
           0,
           0,
           0,
           0.0716290015687523,
           0.12397069970924898,
           0,
           0.14388064280237817
          ],
          [
           0.025597411790756846,
           0,
           0,
           0,
           0,
           0,
           0,
           0,
           0.05011229354632448,
           0.05603336475387576,
           0,
           0,
           0.9999999999999996,
           0.7656947672370791,
           0,
           0,
           0,
           0,
           0,
           0,
           0,
           0,
           0,
           0.020115943665042615,
           0,
           0,
           0,
           0.06094751808678635,
           0.0549204992119321,
           0,
           0,
           0,
           0,
           0.05604502894411989,
           0,
           0,
           0,
           0,
           0,
           0,
           0,
           0,
           0,
           0,
           0,
           0,
           0,
           0,
           0,
           0
          ],
          [
           0.10225546440912749,
           0,
           0,
           0,
           0,
           0,
           0,
           0,
           0.060464604992476446,
           0.06760886454160206,
           0,
           0,
           0.7656947672370791,
           1.0000000000000002,
           0,
           0,
           0,
           0,
           0,
           0,
           0,
           0,
           0,
           0.01540267280235901,
           0,
           0,
           0.16831787967550843,
           0.06754289636823964,
           0.04205233886062456,
           0,
           0,
           0,
           0,
           0.04291338539216326,
           0,
           0,
           0,
           0,
           0,
           0.0966508388002985,
           0,
           0,
           0,
           0,
           0,
           0,
           0,
           0,
           0,
           0
          ],
          [
           0.00709877470708179,
           0.008881958682617883,
           0.006796708502171545,
           0.013426884500881503,
           0.06217841793297644,
           0,
           0,
           0,
           0.04442936416843296,
           0.049678962826381706,
           0.01908178926316061,
           0,
           0,
           0,
           1,
           0.7095240351525905,
           0.0614031721628957,
           0,
           0,
           0,
           0,
           0,
           0,
           0.06770626054383115,
           0,
           0,
           0.015275354169839661,
           0.08284829392245324,
           0,
           0.1097363219268612,
           0,
           0,
           0,
           0.0452149817216196,
           0,
           0.038014049834520496,
           0.024237656746713084,
           0,
           0.032443489018629576,
           0,
           0,
           0.11796227269430258,
           0,
           0,
           0.02247194749800431,
           0,
           0,
           0,
           0.0167018580131486,
           0
          ],
          [
           0.011134415923573816,
           0.013931336923484338,
           0.010660625600495825,
           0.02106004525562118,
           0.013893850556121226,
           0,
           0,
           0,
           0.06968738131353125,
           0.07792136778321382,
           0.029929753653128208,
           0,
           0,
           0,
           0.7095240351525905,
           0.9999999999999998,
           0,
           0,
           0,
           0,
           0,
           0,
           0,
           0,
           0,
           0,
           0,
           0.05139549312616144,
           0,
           0.12650113327637444,
           0,
           0,
           0,
           0,
           0,
           0.05962497181024239,
           0,
           0,
           0,
           0,
           0,
           0.18502362191577948,
           0,
           0,
           0.035247211015991334,
           0,
           0,
           0,
           0,
           0
          ],
          [
           0,
           0.0173724104680077,
           0.01329382562454346,
           0,
           0,
           0,
           0,
           0,
           0.023288581270557485,
           0.026040268297181913,
           0.03807088320857957,
           0,
           0,
           0,
           0.0614031721628957,
           0,
           1.0000000000000002,
           0.0759909026512455,
           0.16596298113205044,
           0.09055575620355817,
           0.26139126631156917,
           0,
           0,
           0,
           0.05104348146617149,
           0,
           0,
           0.06984495945524616,
           0,
           0,
           0.02096014713602149,
           0,
           0,
           0,
           0,
           0,
           0,
           0,
           0,
           0,
           0,
           0,
           0.06746433410683471,
           0,
           0,
           0,
           0,
           0.04886977284705963,
           0,
           0
          ],
          [
           0,
           0.014923489976734,
           0.03698188469824782,
           0,
           0,
           0,
           0,
           0,
           0.044100696589126624,
           0.04190166654596904,
           0.06073139596760535,
           0,
           0,
           0,
           0,
           0,
           0.0759909026512455,
           1,
           0.043458603709557585,
           0.2079292375827048,
           0.28453404074021615,
           0,
           0,
           0,
           0.07339843704095549,
           0,
           0.052209884320314315,
           0.07534415928245826,
           0.09105477722726976,
           0.029159354382679244,
           0.10373003064259961,
           0,
           0,
           0,
           0,
           0,
           0,
           0.04675284596168304,
           0.110764926264844,
           0,
           0.06528397349847906,
           0,
           0.08266538528382528,
           0,
           0,
           0.025766914035337627,
           0,
           0.08277126203664595,
           0,
           0
          ],
          [
           0.03652828803334966,
           0,
           0,
           0,
           0.026582821353463237,
           0,
           0,
           0,
           0.10455647361576091,
           0.11691045467865291,
           0.03099517666256605,
           0.025194228360734892,
           0,
           0,
           0,
           0,
           0.16596298113205044,
           0.043458603709557585,
           0.9999999999999998,
           0.0787828083244138,
           0.2149354054321451,
           0,
           0,
           0,
           0.06510617462619621,
           0,
           0.08951192922483062,
           0.07268702472275813,
           0.04757399848431008,
           0.022478505068934656,
           0.08263229689083049,
           0,
           0,
           0,
           0,
           0.08351718420110615,
           0,
           0,
           0.04602347922790909,
           0,
           0.03768389895761681,
           0,
           0,
           0,
           0.05756197274968033,
           0,
           0,
           0,
           0,
           0
          ],
          [
           0,
           0.011433680635070763,
           0.00874935328573211,
           0,
           0.08937889211887012,
           0,
           0,
           0,
           0.07118871226927843,
           0.07960009009078292,
           0.1605818183921049,
           0.08834916703300033,
           0,
           0,
           0,
           0,
           0.09055575620355817,
           0.2079292375827048,
           0.0787828083244138,
           1,
           0.019697847176781896,
           0.4757185829470555,
           0.028114343725200566,
           0.10165315568880581,
           0.029193641969578764,
           0.05681622784881257,
           0,
           0.10954421214454081,
           0,
           0,
           0.04604176138821381,
           0,
           0,
           0.03565589883557438,
           0,
           0.021720521192468516,
           0.034665703221724804,
           0,
           0.03075682182331277,
           0,
           0,
           0.039469079057254955,
           0.044401762890404574,
           0,
           0,
           0,
           0,
           0.16163120355077182,
           0,
           0.027812858178433375
          ],
          [
           0,
           0.04348478450067919,
           0.07181305467094652,
           0,
           0,
           0,
           0,
           0,
           0,
           0,
           0,
           0,
           0,
           0,
           0,
           0,
           0.26139126631156917,
           0.28453404074021615,
           0.2149354054321451,
           0.019697847176781896,
           0.9999999999999996,
           0,
           0,
           0.013673734796255468,
           0,
           0,
           0.0787116739387059,
           0.04266433480138389,
           0.13727427342499834,
           0,
           0.027145075919151357,
           0.03408647145066957,
           0,
           0,
           0,
           0.10344500603143769,
           0.16509704565002692,
           0.025935522039689907,
           0,
           0,
           0.1280921230513077,
           0,
           0,
           0.03856881749975848,
           0,
           0.03884622542952131,
           0,
           0,
           0,
           0
          ],
          [
           0,
           0,
           0,
           0,
           0.042390095057106766,
           0,
           0.020265852883817548,
           0,
           0.07853794090789858,
           0.0878176746359157,
           0.031088026332880155,
           0.05053940122632482,
           0,
           0,
           0,
           0,
           0,
           0,
           0,
           0.4757185829470555,
           0,
           1.0000000000000002,
           0,
           0.052275977597392054,
           0,
           0,
           0,
           0.08093817353573475,
           0,
           0,
           0.016986381377190864,
           0,
           0.04859558757542985,
           0,
           0,
           0,
           0,
           0,
           0.05545633494466696,
           0,
           0,
           0,
           0.019334100761238864,
           0.02587443525154023,
           0,
           0,
           0,
           0.1274550630249481,
           0,
           0.06264014119777965
          ],
          [
           0,
           0,
           0.059255676113576614,
           0,
           0.02750848863643487,
           0,
           0,
           0,
           0.0059129292703325965,
           0.006611577701230875,
           0.012442626722176917,
           0,
           0,
           0,
           0,
           0,
           0,
           0,
           0,
           0.028114343725200566,
           0,
           0,
           1,
           0.5187385939583037,
           0.08639981737649817,
           0,
           0,
           0.06640344719466601,
           0,
           0,
           0,
           0,
           0.10955013029608231,
           0.02914659161964322,
           0,
           0.12789817140574364,
           0,
           0,
           0.03752082810594333,
           0,
           0,
           0,
           0,
           0,
           0,
           0.04255236819892855,
           0,
           0,
           0,
           0
          ],
          [
           0,
           0.007936964651310762,
           0.07620128678976762,
           0,
           0.012521993723215242,
           0,
           0,
           0,
           0.0026915932818952683,
           0.0030096213415995413,
           0.0442923611615578,
           0.030006835682220356,
           0.020115943665042615,
           0.01540267280235901,
           0.06770626054383115,
           0,
           0,
           0,
           0,
           0.10165315568880581,
           0.013673734796255468,
           0.052275977597392054,
           0.5187385939583037,
           1.0000000000000002,
           0.03932960422414789,
           0.089752986687094,
           0.03842246468149316,
           0.12773344133682724,
           0.01796801522067506,
           0.008014152271729054,
           0.012642160098567036,
           0.012891528776639061,
           0.049867735813302005,
           0.2940787286265555,
           0,
           0.05821985063302228,
           0.013356911236350974,
           0,
           0.017079657855508835,
           0,
           0.011221192990192069,
           0,
           0,
           0.07704053650715338,
           0,
           0.07010987385146773,
           0,
           0,
           0.19480036702552386,
           0.03719142645983305
          ],
          [
           0,
           0,
           0,
           0,
           0,
           0,
           0,
           0,
           0.05103215101473981,
           0.05706190895733845,
           0.13439183758105303,
           0,
           0,
           0,
           0,
           0,
           0.05104348146617149,
           0.07339843704095549,
           0.06510617462619621,
           0.029193641969578764,
           0,
           0,
           0.08639981737649817,
           0.03932960422414789,
           1,
           0,
           0,
           0.06559125341151663,
           0.09037981263616537,
           0.11227628477523117,
           0,
           0,
           0.08980492658479153,
           0,
           0,
           0.1331397908910395,
           0,
           0,
           0,
           0,
           0.07806440972903288,
           0.052896950957719215,
           0.11791861829438717,
           0,
           0,
           0.08518346998778539,
           0,
           0.08499020615850936,
           0,
           0.17243845896172483
          ],
          [
           0,
           0,
           0.028626130120064108,
           0,
           0,
           0.07539411382708966,
           0.05384817701757534,
           0.050713919487880475,
           0.06604149926250333,
           0.07384470267057022,
           0.01082819351392496,
           0,
           0,
           0,
           0,
           0,
           0,
           0,
           0,
           0.05681622784881257,
           0,
           0,
           0,
           0.089752986687094,
           0,
           0.9999999999999996,
           0,
           0.046608170127783406,
           0,
           0.011321156114357144,
           0.058886733826466996,
           0,
           0,
           0,
           0,
           0,
           0.0271938049880428,
           0.10575663273912053,
           0,
           0,
           0.0782106164140789,
           0,
           0,
           0.18227326995170243,
           0,
           0.04311186106875841,
           0,
           0,
           0,
           0.058412848906897935
          ],
          [
           0.046742674984207214,
           0,
           0.04512529285794044,
           0,
           0.024331450601029543,
           0,
           0,
           0,
           0.014021077005474744,
           0,
           0,
           0,
           0,
           0.16831787967550843,
           0.015275354169839661,
           0,
           0,
           0.052209884320314315,
           0.08951192922483062,
           0,
           0.0787116739387059,
           0,
           0,
           0.03842246468149316,
           0,
           0,
           1,
           0,
           0.03708343775160024,
           0,
           0,
           0,
           0,
           0.10704882560000678,
           0,
           0.026371035637549965,
           0,
           0.03886757345920364,
           0.031025487649661076,
           0.03411292749483707,
           0.09908617679076073,
           0,
           0,
           0.10837631782921839,
           0.0481633475297745,
           0.06948711366664362,
           0,
           0,
           0.015971873099585112,
           0.07033201864218722
          ],
          [
           0.11648213013807318,
           0.09518916958286908,
           0.1173736031074338,
           0.06251682723842976,
           0.08827019964821312,
           0.03865332108378938,
           0.05922751547041294,
           0.05483772501139898,
           0.23056657753384688,
           0.2270151735963065,
           0.10909634191596286,
           0.07374932254225346,
           0.06094751808678635,
           0.06754289636823964,
           0.08284829392245324,
           0.05139549312616144,
           0.06984495945524616,
           0.07534415928245826,
           0.07268702472275813,
           0.10954421214454081,
           0.04266433480138389,
           0.08093817353573475,
           0.06640344719466601,
           0.12773344133682724,
           0.06559125341151663,
           0.046608170127783406,
           0,
           0.9999999999999973,
           0.044114920630885866,
           0.09142346149399506,
           0.0698107222836741,
           0.052107276852703,
           0.05833605566072597,
           0.04072429096022721,
           0.053624491546545056,
           0.07595113539678339,
           0.04773984516686588,
           0.11610271502335978,
           0.06882022242370932,
           0.047914857877716446,
           0.0575759028980649,
           0.0483338955392947,
           0.05284334022737524,
           0.030685994209906073,
           0.069488328229835,
           0.04736612673752978,
           0.0613996419473886,
           0.07021706668316462,
           0.07384405446407556,
           0.04309065403625601
          ],
          [
           0.06294441300334225,
           0,
           0,
           0,
           0,
           0,
           0,
           0.16035722966808122,
           0.10516797335705562,
           0.06888587982549148,
           0,
           0,
           0.0549204992119321,
           0.04205233886062456,
           0,
           0,
           0,
           0.09105477722726976,
           0.04757399848431008,
           0,
           0.13727427342499834,
           0,
           0,
           0.01796801522067506,
           0.09037981263616537,
           0,
           0.03708343775160024,
           0.044114920630885866,
           1.0000000000000002,
           0.06582539724417144,
           0.03327202773306198,
           0,
           0,
           0.050060685686901724,
           0,
           0.03999535119521131,
           0,
           0.08827951093541471,
           0,
           0.051737009278090905,
           0,
           0,
           0.2363246097423595,
           0,
           0,
           0.04254336690439015,
           0,
           0,
           0,
           0
          ],
          [
           0.03622323923196872,
           0,
           0,
           0,
           0,
           0.02647616351910214,
           0.018909873298499077,
           0.017809215559388386,
           0.26375315512574793,
           0.18139085921160406,
           0.05463814199659949,
           0,
           0,
           0,
           0.1097363219268612,
           0.12650113327637444,
           0,
           0.029159354382679244,
           0.022478505068934656,
           0,
           0,
           0,
           0,
           0.008014152271729054,
           0.11227628477523117,
           0.011321156114357144,
           0,
           0.09142346149399506,
           0.06582539724417144,
           1,
           0,
           0,
           0.03935157909044631,
           0,
           0,
           0,
           0.01449241524900859,
           0.030221046342073583,
           0,
           0,
           0.03833349070470754,
           0.023829055903725506,
           0.11646697970893473,
           0,
           0,
           0.07903617584781318,
           0.06734440319260114,
           0,
           0,
           0.020512849886696997
          ],
          [
           0,
           0.015756449224571173,
           0.012057249558957945,
           0,
           0,
           0,
           0.02228097318853034,
           0,
           0.010371184232466312,
           0,
           0.029591563465595244,
           0,
           0,
           0,
           0,
           0,
           0.02096014713602149,
           0.10373003064259961,
           0.08263229689083049,
           0.04604176138821381,
           0.027145075919151357,
           0.016986381377190864,
           0,
           0.012642160098567036,
           0,
           0.058886733826466996,
           0,
           0.0698107222836741,
           0.03327202773306198,
           0,
           1,
           0,
           0,
           0.03522232118156441,
           0,
           0.08157297107427923,
           0,
           0.11854136200926807,
           0.018585442322952905,
           0,
           0,
           0.04467514611016539,
           0.021256572973027483,
           0.17081500677432715,
           0,
           0.029933192338267172,
           0.28230880524552515,
           0.03726404803904454,
           0,
           0
          ],
          [
           0.233603424620518,
           0.05134671056699374,
           0.039291854053791486,
           0.04771102083835779,
           0,
           0,
           0,
           0,
           0.07176775149800148,
           0.08024754631387215,
           0,
           0,
           0,
           0,
           0,
           0,
           0,
           0,
           0,
           0,
           0.03408647145066957,
           0,
           0,
           0.012891528776639061,
           0,
           0,
           0,
           0.052107276852703,
           0,
           0,
           0,
           1,
           0,
           0,
           0.22428423175260678,
           0,
           0,
           0,
           0,
           0,
           0.027972670247150038,
           0,
           0.13409428662326114,
           0.03636248823658897,
           0,
           0.08722666679073506,
           0.05015716533566994,
           0,
           0,
           0
          ],
          [
           0,
           0,
           0,
           0,
           0,
           0,
           0,
           0,
           0.07763069941852571,
           0.08680323706588339,
           0.08867065288933812,
           0.09268576574176708,
           0,
           0,
           0,
           0,
           0,
           0,
           0,
           0,
           0,
           0.04859558757542985,
           0.10955013029608231,
           0.049867735813302005,
           0.08980492658479153,
           0,
           0,
           0.05833605566072597,
           0,
           0.03935157909044631,
           0,
           0,
           1.0000000000000002,
           0.09117319035591952,
           0,
           0.15255168278965073,
           0.0945159050110974,
           0,
           0,
           0.06324910220934074,
           0,
           0.07704051386774424,
           0,
           0,
           0,
           0,
           0.06443037457457038,
           0,
           0,
           0
          ],
          [
           0,
           0,
           0.07245044645687741,
           0,
           0,
           0,
           0,
           0,
           0.007499047815080436,
           0.00838510576532925,
           0.01578030929660584,
           0,
           0.05604502894411989,
           0.04291338539216326,
           0.0452149817216196,
           0,
           0,
           0,
           0,
           0.03565589883557438,
           0,
           0,
           0.02914659161964322,
           0.2940787286265555,
           0,
           0,
           0.10704882560000678,
           0.04072429096022721,
           0.050060685686901724,
           0,
           0.03522232118156441,
           0,
           0.09117319035591952,
           0.9999999999999998,
           0,
           0,
           0.07442737853220613,
           0,
           0,
           0,
           0,
           0,
           0,
           0.17400247432848873,
           0,
           0.045037114818299806,
           0,
           0,
           0,
           0
          ],
          [
           0.08325023069558425,
           0,
           0,
           0,
           0,
           0,
           0,
           0,
           0.06673788267738472,
           0.07462336800662248,
           0,
           0,
           0,
           0,
           0,
           0,
           0,
           0,
           0,
           0,
           0,
           0,
           0,
           0,
           0,
           0,
           0,
           0.053624491546545056,
           0,
           0,
           0,
           0.22428423175260678,
           0,
           0,
           0.9999999999999998,
           0,
           0,
           0,
           0,
           0.2099570383535329,
           0,
           0,
           0.14304350820566725,
           0,
           0,
           0,
           0.053504568106045876,
           0.19490398952841112,
           0,
           0
          ],
          [
           0,
           0.020728593992950607,
           0.015862065571827722,
           0,
           0.10998758064434558,
           0,
           0,
           0,
           0.038053306427167706,
           0.04254953521840719,
           0.030198311058208433,
           0.04909300264307779,
           0,
           0,
           0.038014049834520496,
           0.05962497181024239,
           0,
           0,
           0.08351718420110615,
           0.021720521192468516,
           0.10344500603143769,
           0,
           0.12789817140574364,
           0.05821985063302228,
           0.1331397908910395,
           0,
           0.026371035637549965,
           0.07595113539678339,
           0.03999535119521131,
           0,
           0.08157297107427923,
           0,
           0.15255168278965073,
           0,
           0,
           0.9999999999999999,
           0.242612992074418,
           0,
           0.03196570946485153,
           0.03679158670757037,
           0,
           0.06314569770233788,
           0,
           0,
           0,
           0,
           0.03269353108062155,
           0,
           0,
           0.0711058279640071
          ],
          [
           0,
           0,
           0,
           0,
           0,
           0,
           0,
           0,
           0.049232605423430664,
           0.055049736147569896,
           0.06823019763686394,
           0.08838670615045202,
           0,
           0,
           0.024237656746713084,
           0,
           0,
           0,
           0,
           0.034665703221724804,
           0.16509704565002692,
           0,
           0,
           0.013356911236350974,
           0,
           0.0271938049880428,
           0,
           0.04773984516686588,
           0,
           0.01449241524900859,
           0,
           0,
           0.0945159050110974,
           0.07442737853220613,
           0,
           0.242612992074418,
           0.9999999999999998,
           0.012984951818919007,
           0,
           0,
           0,
           0.1007798108010878,
           0,
           0,
           0,
           0.05518826756338676,
           0.21457153730131948,
           0,
           0.1736100577079587,
           0.06182636443350795
          ],
          [
           0,
           0,
           0,
           0,
           0,
           0,
           0,
           0,
           0.04233119817284767,
           0.047332885801666634,
           0.06805211074889687,
           0,
           0,
           0,
           0,
           0,
           0,
           0.04675284596168304,
           0,
           0,
           0.025935522039689907,
           0,
           0,
           0,
           0,
           0.10575663273912053,
           0.03886757345920364,
           0.11610271502335978,
           0.08827951093541471,
           0.030221046342073583,
           0.11854136200926807,
           0,
           0,
           0,
           0,
           0,
           0.012984951818919007,
           0.9999999999999998,
           0.0377195197156683,
           0,
           0,
           0.032002094510468065,
           0.10004751207550401,
           0,
           0,
           0.05586406641795848,
           0,
           0,
           0,
           0
          ],
          [
           0,
           0,
           0,
           0,
           0.05589528111860444,
           0,
           0.022173636134380056,
           0,
           0.06341466720507972,
           0.07090749448462427,
           0,
           0,
           0,
           0,
           0.032443489018629576,
           0,
           0,
           0.110764926264844,
           0.04602347922790909,
           0.03075682182331277,
           0,
           0.05545633494466696,
           0.03752082810594333,
           0.017079657855508835,
           0,
           0,
           0.031025487649661076,
           0.06882022242370932,
           0,
           0,
           0.018585442322952905,
           0,
           0,
           0,
           0,
           0.03196570946485153,
           0,
           0.0377195197156683,
           1,
           0,
           0,
           0.06930784450697478,
           0.02115417089637897,
           0.02831019823046076,
           0,
           0,
           0,
           0,
           0.10320948130189456,
           0
          ],
          [
           0.06617738098119719,
           0,
           0,
           0,
           0.04073075956679286,
           0,
           0,
           0,
           0.01565616444769242,
           0.01750603516746352,
           0,
           0,
           0,
           0.0966508388002985,
           0,
           0,
           0,
           0,
           0,
           0,
           0,
           0,
           0,
           0,
           0,
           0,
           0.03411292749483707,
           0.047914857877716446,
           0.051737009278090905,
           0,
           0,
           0,
           0.06324910220934074,
           0,
           0.2099570383535329,
           0.03679158670757037,
           0,
           0,
           0,
           1,
           0,
           0,
           0,
           0,
           0,
           0,
           0,
           0,
           0.05048901721300439,
           0
          ],
          [
           0.08000693454767248,
           0.017222014456247,
           0.013178738638851096,
           0,
           0.030424387965922273,
           0,
           0,
           0,
           0.07709562631024645,
           0.08620494182684217,
           0,
           0,
           0,
           0,
           0,
           0,
           0,
           0.06528397349847906,
           0.03768389895761681,
           0,
           0.1280921230513077,
           0,
           0,
           0.011221192990192069,
           0.07806440972903288,
           0.0782106164140789,
           0.09908617679076073,
           0.0575759028980649,
           0,
           0.03833349070470754,
           0,
           0.027972670247150038,
           0,
           0,
           0,
           0,
           0,
           0,
           0,
           0,
           0.9999999999999996,
           0,
           0.05882271294570204,
           0.031651055912449426,
           0,
           0.05131854360605437,
           0,
           0,
           0,
           0.16351904331559863
          ],
          [
           0.09280059734875917,
           0.03468152399631149,
           0.026539214765241424,
           0,
           0,
           0,
           0,
           0,
           0.19453843112332983,
           0.15663453348628895,
           0.08160104182210949,
           0.04941419084075053,
           0,
           0,
           0.11796227269430258,
           0.18502362191577948,
           0,
           0,
           0,
           0.039469079057254955,
           0,
           0,
           0,
           0,
           0.052896950957719215,
           0,
           0,
           0.0483338955392947,
           0,
           0.023829055903725506,
           0.04467514611016539,
           0,
           0.07704051386774424,
           0,
           0,
           0.06314569770233788,
           0.1007798108010878,
           0.032002094510468065,
           0.06930784450697478,
           0,
           0,
           0.9999999999999999,
           0,
           0,
           0,
           0.04537146812321942,
           0,
           0.04899594022380556,
           0,
           0
          ],
          [
           0.06598343834951491,
           0,
           0,
           0,
           0.13756766047828517,
           0,
           0.025360467960760465,
           0,
           0.1618475008416708,
           0.17206610620414636,
           0.03930197104026265,
           0,
           0,
           0,
           0,
           0,
           0.06746433410683471,
           0.08266538528382528,
           0,
           0.044401762890404574,
           0,
           0.019334100761238864,
           0,
           0,
           0.11791861829438717,
           0,
           0,
           0.05284334022737524,
           0.2363246097423595,
           0.11646697970893473,
           0.021256572973027483,
           0.13409428662326114,
           0,
           0,
           0.14304350820566725,
           0,
           0,
           0.10004751207550401,
           0.02115417089637897,
           0,
           0.05882271294570204,
           0,
           1,
           0.03237898695709119,
           0,
           0,
           0,
           0,
           0,
           0
          ],
          [
           0,
           0.022387397861648544,
           0.09048031667506881,
           0,
           0,
           0,
           0.033939400352923935,
           0,
           0,
           0,
           0,
           0,
           0,
           0,
           0,
           0,
           0,
           0,
           0,
           0,
           0.03856881749975848,
           0.02587443525154023,
           0,
           0.07704053650715338,
           0,
           0.18227326995170243,
           0.10837631782921839,
           0.030685994209906073,
           0,
           0,
           0.17081500677432715,
           0.03636248823658897,
           0,
           0.17400247432848873,
           0,
           0,
           0,
           0,
           0.02831019823046076,
           0,
           0.031651055912449426,
           0,
           0.03237898695709119,
           0.9999999999999999,
           0,
           0,
           0,
           0,
           0,
           0
          ],
          [
           0.015190626409897458,
           0.01900645135296286,
           0.01454423670756341,
           0.028732111486544098,
           0.018955308894661876,
           0,
           0,
           0,
           0.06147279875502502,
           0.023350537365512205,
           0,
           0,
           0,
           0,
           0.02247194749800431,
           0.035247211015991334,
           0,
           0,
           0.05756197274968033,
           0,
           0,
           0,
           0,
           0,
           0,
           0,
           0.0481633475297745,
           0.069488328229835,
           0,
           0,
           0,
           0,
           0,
           0,
           0,
           0,
           0,
           0,
           0,
           0,
           0,
           0,
           0,
           0,
           1.0000000000000002,
           0,
           0,
           0,
           0.056423083556014636,
           0
          ],
          [
           0,
           0,
           0.20767536893085095,
           0,
           0.029648671085731746,
           0,
           0,
           0,
           0.036013635938904526,
           0.028491514203051287,
           0.05343033623354602,
           0,
           0,
           0,
           0,
           0,
           0,
           0.025766914035337627,
           0,
           0,
           0.03884622542952131,
           0,
           0.04255236819892855,
           0.07010987385146773,
           0.08518346998778539,
           0.04311186106875841,
           0.06948711366664362,
           0.04736612673752978,
           0.04254336690439015,
           0.07903617584781318,
           0.029933192338267172,
           0.08722666679073506,
           0,
           0.045037114818299806,
           0,
           0,
           0.05518826756338676,
           0.05586406641795848,
           0,
           0,
           0.05131854360605437,
           0.04537146812321942,
           0,
           0,
           0,
           1.0000000000000002,
           0,
           0,
           0,
           0.11335883543223613
          ],
          [
           0,
           0.026810293334805484,
           0.020515941940936522,
           0,
           0,
           0,
           0,
           0,
           0.07482624344828101,
           0.0703546812812658,
           0.10267530040359885,
           0.0716290015687523,
           0,
           0,
           0,
           0,
           0,
           0,
           0,
           0,
           0,
           0,
           0,
           0,
           0,
           0,
           0,
           0.0613996419473886,
           0,
           0.06734440319260114,
           0.28230880524552515,
           0.05015716533566994,
           0.06443037457457038,
           0,
           0.053504568106045876,
           0.03269353108062155,
           0.21457153730131948,
           0,
           0,
           0,
           0,
           0,
           0,
           0,
           0,
           0,
           0.9999999999999999,
           0,
           0,
           0.041863661338514574
          ],
          [
           0,
           0,
           0,
           0,
           0,
           0,
           0,
           0,
           0.07735303176238457,
           0.07377458367641213,
           0.07625742061738651,
           0.12397069970924898,
           0,
           0,
           0,
           0,
           0.04886977284705963,
           0.08277126203664595,
           0,
           0.16163120355077182,
           0,
           0.1274550630249481,
           0,
           0,
           0.08499020615850936,
           0,
           0,
           0.07021706668316462,
           0,
           0,
           0.03726404803904454,
           0,
           0,
           0,
           0.19490398952841112,
           0,
           0,
           0,
           0,
           0,
           0,
           0.04899594022380556,
           0,
           0,
           0,
           0,
           0,
           0.9999999999999999,
           0,
           0
          ],
          [
           0,
           0,
           0,
           0,
           0.08947047546696521,
           0.16847679767222049,
           0.12032992980346245,
           0.11332607174507241,
           0.05203620002850467,
           0.05818459244750933,
           0,
           0,
           0,
           0,
           0.0167018580131486,
           0,
           0,
           0,
           0,
           0,
           0,
           0,
           0,
           0.19480036702552386,
           0,
           0,
           0.015971873099585112,
           0.07384405446407556,
           0,
           0,
           0,
           0,
           0,
           0,
           0,
           0,
           0.1736100577079587,
           0,
           0.10320948130189456,
           0.05048901721300439,
           0,
           0,
           0,
           0,
           0.056423083556014636,
           0,
           0,
           0,
           0.9999999999999999,
           0
          ],
          [
           0,
           0.02654270769359656,
           0.049711916762671254,
           0,
           0,
           0.1284588691740194,
           0.0917482224490942,
           0.08640797561114949,
           0.06123122896292371,
           0.0331902662806032,
           0.08850451536220796,
           0.14388064280237817,
           0,
           0,
           0,
           0,
           0,
           0,
           0,
           0.027812858178433375,
           0,
           0.06264014119777965,
           0,
           0.03719142645983305,
           0.17243845896172483,
           0.058412848906897935,
           0.07033201864218722,
           0.04309065403625601,
           0,
           0.020512849886696997,
           0,
           0,
           0,
           0,
           0,
           0.0711058279640071,
           0.06182636443350795,
           0,
           0,
           0,
           0.16351904331559863,
           0,
           0,
           0,
           0,
           0.11335883543223613,
           0.041863661338514574,
           0,
           0,
           0.9999999999999998
          ]
         ]
        }
       ],
       "layout": {
        "height": 800,
        "template": {
         "data": {
          "bar": [
           {
            "error_x": {
             "color": "#2a3f5f"
            },
            "error_y": {
             "color": "#2a3f5f"
            },
            "marker": {
             "line": {
              "color": "#E5ECF6",
              "width": 0.5
             }
            },
            "type": "bar"
           }
          ],
          "barpolar": [
           {
            "marker": {
             "line": {
              "color": "#E5ECF6",
              "width": 0.5
             }
            },
            "type": "barpolar"
           }
          ],
          "carpet": [
           {
            "aaxis": {
             "endlinecolor": "#2a3f5f",
             "gridcolor": "white",
             "linecolor": "white",
             "minorgridcolor": "white",
             "startlinecolor": "#2a3f5f"
            },
            "baxis": {
             "endlinecolor": "#2a3f5f",
             "gridcolor": "white",
             "linecolor": "white",
             "minorgridcolor": "white",
             "startlinecolor": "#2a3f5f"
            },
            "type": "carpet"
           }
          ],
          "choropleth": [
           {
            "colorbar": {
             "outlinewidth": 0,
             "ticks": ""
            },
            "type": "choropleth"
           }
          ],
          "contour": [
           {
            "colorbar": {
             "outlinewidth": 0,
             "ticks": ""
            },
            "colorscale": [
             [
              0,
              "#0d0887"
             ],
             [
              0.1111111111111111,
              "#46039f"
             ],
             [
              0.2222222222222222,
              "#7201a8"
             ],
             [
              0.3333333333333333,
              "#9c179e"
             ],
             [
              0.4444444444444444,
              "#bd3786"
             ],
             [
              0.5555555555555556,
              "#d8576b"
             ],
             [
              0.6666666666666666,
              "#ed7953"
             ],
             [
              0.7777777777777778,
              "#fb9f3a"
             ],
             [
              0.8888888888888888,
              "#fdca26"
             ],
             [
              1,
              "#f0f921"
             ]
            ],
            "type": "contour"
           }
          ],
          "contourcarpet": [
           {
            "colorbar": {
             "outlinewidth": 0,
             "ticks": ""
            },
            "type": "contourcarpet"
           }
          ],
          "heatmap": [
           {
            "colorbar": {
             "outlinewidth": 0,
             "ticks": ""
            },
            "colorscale": [
             [
              0,
              "#0d0887"
             ],
             [
              0.1111111111111111,
              "#46039f"
             ],
             [
              0.2222222222222222,
              "#7201a8"
             ],
             [
              0.3333333333333333,
              "#9c179e"
             ],
             [
              0.4444444444444444,
              "#bd3786"
             ],
             [
              0.5555555555555556,
              "#d8576b"
             ],
             [
              0.6666666666666666,
              "#ed7953"
             ],
             [
              0.7777777777777778,
              "#fb9f3a"
             ],
             [
              0.8888888888888888,
              "#fdca26"
             ],
             [
              1,
              "#f0f921"
             ]
            ],
            "type": "heatmap"
           }
          ],
          "heatmapgl": [
           {
            "colorbar": {
             "outlinewidth": 0,
             "ticks": ""
            },
            "colorscale": [
             [
              0,
              "#0d0887"
             ],
             [
              0.1111111111111111,
              "#46039f"
             ],
             [
              0.2222222222222222,
              "#7201a8"
             ],
             [
              0.3333333333333333,
              "#9c179e"
             ],
             [
              0.4444444444444444,
              "#bd3786"
             ],
             [
              0.5555555555555556,
              "#d8576b"
             ],
             [
              0.6666666666666666,
              "#ed7953"
             ],
             [
              0.7777777777777778,
              "#fb9f3a"
             ],
             [
              0.8888888888888888,
              "#fdca26"
             ],
             [
              1,
              "#f0f921"
             ]
            ],
            "type": "heatmapgl"
           }
          ],
          "histogram": [
           {
            "marker": {
             "colorbar": {
              "outlinewidth": 0,
              "ticks": ""
             }
            },
            "type": "histogram"
           }
          ],
          "histogram2d": [
           {
            "colorbar": {
             "outlinewidth": 0,
             "ticks": ""
            },
            "colorscale": [
             [
              0,
              "#0d0887"
             ],
             [
              0.1111111111111111,
              "#46039f"
             ],
             [
              0.2222222222222222,
              "#7201a8"
             ],
             [
              0.3333333333333333,
              "#9c179e"
             ],
             [
              0.4444444444444444,
              "#bd3786"
             ],
             [
              0.5555555555555556,
              "#d8576b"
             ],
             [
              0.6666666666666666,
              "#ed7953"
             ],
             [
              0.7777777777777778,
              "#fb9f3a"
             ],
             [
              0.8888888888888888,
              "#fdca26"
             ],
             [
              1,
              "#f0f921"
             ]
            ],
            "type": "histogram2d"
           }
          ],
          "histogram2dcontour": [
           {
            "colorbar": {
             "outlinewidth": 0,
             "ticks": ""
            },
            "colorscale": [
             [
              0,
              "#0d0887"
             ],
             [
              0.1111111111111111,
              "#46039f"
             ],
             [
              0.2222222222222222,
              "#7201a8"
             ],
             [
              0.3333333333333333,
              "#9c179e"
             ],
             [
              0.4444444444444444,
              "#bd3786"
             ],
             [
              0.5555555555555556,
              "#d8576b"
             ],
             [
              0.6666666666666666,
              "#ed7953"
             ],
             [
              0.7777777777777778,
              "#fb9f3a"
             ],
             [
              0.8888888888888888,
              "#fdca26"
             ],
             [
              1,
              "#f0f921"
             ]
            ],
            "type": "histogram2dcontour"
           }
          ],
          "mesh3d": [
           {
            "colorbar": {
             "outlinewidth": 0,
             "ticks": ""
            },
            "type": "mesh3d"
           }
          ],
          "parcoords": [
           {
            "line": {
             "colorbar": {
              "outlinewidth": 0,
              "ticks": ""
             }
            },
            "type": "parcoords"
           }
          ],
          "pie": [
           {
            "automargin": true,
            "type": "pie"
           }
          ],
          "scatter": [
           {
            "marker": {
             "colorbar": {
              "outlinewidth": 0,
              "ticks": ""
             }
            },
            "type": "scatter"
           }
          ],
          "scatter3d": [
           {
            "line": {
             "colorbar": {
              "outlinewidth": 0,
              "ticks": ""
             }
            },
            "marker": {
             "colorbar": {
              "outlinewidth": 0,
              "ticks": ""
             }
            },
            "type": "scatter3d"
           }
          ],
          "scattercarpet": [
           {
            "marker": {
             "colorbar": {
              "outlinewidth": 0,
              "ticks": ""
             }
            },
            "type": "scattercarpet"
           }
          ],
          "scattergeo": [
           {
            "marker": {
             "colorbar": {
              "outlinewidth": 0,
              "ticks": ""
             }
            },
            "type": "scattergeo"
           }
          ],
          "scattergl": [
           {
            "marker": {
             "colorbar": {
              "outlinewidth": 0,
              "ticks": ""
             }
            },
            "type": "scattergl"
           }
          ],
          "scattermapbox": [
           {
            "marker": {
             "colorbar": {
              "outlinewidth": 0,
              "ticks": ""
             }
            },
            "type": "scattermapbox"
           }
          ],
          "scatterpolar": [
           {
            "marker": {
             "colorbar": {
              "outlinewidth": 0,
              "ticks": ""
             }
            },
            "type": "scatterpolar"
           }
          ],
          "scatterpolargl": [
           {
            "marker": {
             "colorbar": {
              "outlinewidth": 0,
              "ticks": ""
             }
            },
            "type": "scatterpolargl"
           }
          ],
          "scatterternary": [
           {
            "marker": {
             "colorbar": {
              "outlinewidth": 0,
              "ticks": ""
             }
            },
            "type": "scatterternary"
           }
          ],
          "surface": [
           {
            "colorbar": {
             "outlinewidth": 0,
             "ticks": ""
            },
            "colorscale": [
             [
              0,
              "#0d0887"
             ],
             [
              0.1111111111111111,
              "#46039f"
             ],
             [
              0.2222222222222222,
              "#7201a8"
             ],
             [
              0.3333333333333333,
              "#9c179e"
             ],
             [
              0.4444444444444444,
              "#bd3786"
             ],
             [
              0.5555555555555556,
              "#d8576b"
             ],
             [
              0.6666666666666666,
              "#ed7953"
             ],
             [
              0.7777777777777778,
              "#fb9f3a"
             ],
             [
              0.8888888888888888,
              "#fdca26"
             ],
             [
              1,
              "#f0f921"
             ]
            ],
            "type": "surface"
           }
          ],
          "table": [
           {
            "cells": {
             "fill": {
              "color": "#EBF0F8"
             },
             "line": {
              "color": "white"
             }
            },
            "header": {
             "fill": {
              "color": "#C8D4E3"
             },
             "line": {
              "color": "white"
             }
            },
            "type": "table"
           }
          ]
         },
         "layout": {
          "annotationdefaults": {
           "arrowcolor": "#2a3f5f",
           "arrowhead": 0,
           "arrowwidth": 1
          },
          "coloraxis": {
           "colorbar": {
            "outlinewidth": 0,
            "ticks": ""
           }
          },
          "colorscale": {
           "diverging": [
            [
             0,
             "#8e0152"
            ],
            [
             0.1,
             "#c51b7d"
            ],
            [
             0.2,
             "#de77ae"
            ],
            [
             0.3,
             "#f1b6da"
            ],
            [
             0.4,
             "#fde0ef"
            ],
            [
             0.5,
             "#f7f7f7"
            ],
            [
             0.6,
             "#e6f5d0"
            ],
            [
             0.7,
             "#b8e186"
            ],
            [
             0.8,
             "#7fbc41"
            ],
            [
             0.9,
             "#4d9221"
            ],
            [
             1,
             "#276419"
            ]
           ],
           "sequential": [
            [
             0,
             "#0d0887"
            ],
            [
             0.1111111111111111,
             "#46039f"
            ],
            [
             0.2222222222222222,
             "#7201a8"
            ],
            [
             0.3333333333333333,
             "#9c179e"
            ],
            [
             0.4444444444444444,
             "#bd3786"
            ],
            [
             0.5555555555555556,
             "#d8576b"
            ],
            [
             0.6666666666666666,
             "#ed7953"
            ],
            [
             0.7777777777777778,
             "#fb9f3a"
            ],
            [
             0.8888888888888888,
             "#fdca26"
            ],
            [
             1,
             "#f0f921"
            ]
           ],
           "sequentialminus": [
            [
             0,
             "#0d0887"
            ],
            [
             0.1111111111111111,
             "#46039f"
            ],
            [
             0.2222222222222222,
             "#7201a8"
            ],
            [
             0.3333333333333333,
             "#9c179e"
            ],
            [
             0.4444444444444444,
             "#bd3786"
            ],
            [
             0.5555555555555556,
             "#d8576b"
            ],
            [
             0.6666666666666666,
             "#ed7953"
            ],
            [
             0.7777777777777778,
             "#fb9f3a"
            ],
            [
             0.8888888888888888,
             "#fdca26"
            ],
            [
             1,
             "#f0f921"
            ]
           ]
          },
          "colorway": [
           "#636efa",
           "#EF553B",
           "#00cc96",
           "#ab63fa",
           "#FFA15A",
           "#19d3f3",
           "#FF6692",
           "#B6E880",
           "#FF97FF",
           "#FECB52"
          ],
          "font": {
           "color": "#2a3f5f"
          },
          "geo": {
           "bgcolor": "white",
           "lakecolor": "white",
           "landcolor": "#E5ECF6",
           "showlakes": true,
           "showland": true,
           "subunitcolor": "white"
          },
          "hoverlabel": {
           "align": "left"
          },
          "hovermode": "closest",
          "mapbox": {
           "style": "light"
          },
          "paper_bgcolor": "white",
          "plot_bgcolor": "#E5ECF6",
          "polar": {
           "angularaxis": {
            "gridcolor": "white",
            "linecolor": "white",
            "ticks": ""
           },
           "bgcolor": "#E5ECF6",
           "radialaxis": {
            "gridcolor": "white",
            "linecolor": "white",
            "ticks": ""
           }
          },
          "scene": {
           "xaxis": {
            "backgroundcolor": "#E5ECF6",
            "gridcolor": "white",
            "gridwidth": 2,
            "linecolor": "white",
            "showbackground": true,
            "ticks": "",
            "zerolinecolor": "white"
           },
           "yaxis": {
            "backgroundcolor": "#E5ECF6",
            "gridcolor": "white",
            "gridwidth": 2,
            "linecolor": "white",
            "showbackground": true,
            "ticks": "",
            "zerolinecolor": "white"
           },
           "zaxis": {
            "backgroundcolor": "#E5ECF6",
            "gridcolor": "white",
            "gridwidth": 2,
            "linecolor": "white",
            "showbackground": true,
            "ticks": "",
            "zerolinecolor": "white"
           }
          },
          "shapedefaults": {
           "line": {
            "color": "#2a3f5f"
           }
          },
          "ternary": {
           "aaxis": {
            "gridcolor": "white",
            "linecolor": "white",
            "ticks": ""
           },
           "baxis": {
            "gridcolor": "white",
            "linecolor": "white",
            "ticks": ""
           },
           "bgcolor": "#E5ECF6",
           "caxis": {
            "gridcolor": "white",
            "linecolor": "white",
            "ticks": ""
           }
          },
          "title": {
           "x": 0.05
          },
          "xaxis": {
           "automargin": true,
           "gridcolor": "white",
           "linecolor": "white",
           "ticks": "",
           "title": {
            "standoff": 15
           },
           "zerolinecolor": "white",
           "zerolinewidth": 2
          },
          "yaxis": {
           "automargin": true,
           "gridcolor": "white",
           "linecolor": "white",
           "ticks": "",
           "title": {
            "standoff": 15
           },
           "zerolinecolor": "white",
           "zerolinewidth": 2
          }
         }
        },
        "title": {
         "text": " Mapa de calor entre palabras - Twits relacionados con la \"Selección\""
        },
        "width": 800
       }
      },
      "text/html": [
       "<div>                            <div id=\"158c2e7f-9d9e-42ba-a060-737b16753859\" class=\"plotly-graph-div\" style=\"height:800px; width:800px;\"></div>            <script type=\"text/javascript\">                require([\"plotly\"], function(Plotly) {                    window.PLOTLYENV=window.PLOTLYENV || {};                                    if (document.getElementById(\"158c2e7f-9d9e-42ba-a060-737b16753859\")) {                    Plotly.newPlot(                        \"158c2e7f-9d9e-42ba-a060-737b16753859\",                        [{\"colorscale\": [[0.0, \"rgb(247,251,255)\"], [0.125, \"rgb(222,235,247)\"], [0.25, \"rgb(198,219,239)\"], [0.375, \"rgb(158,202,225)\"], [0.5, \"rgb(107,174,214)\"], [0.625, \"rgb(66,146,198)\"], [0.75, \"rgb(33,113,181)\"], [0.875, \"rgb(8,81,156)\"], [1.0, \"rgb(8,48,107)\"]], \"type\": \"heatmap\", \"x\": [\"hoy\", \"juega selecci\\u00f3n\", \"juega\", \"hoy juega\", \"siempre\", \"luis d\\u00edaz\", \"luis\", \"d\\u00edaz\", \"colombia\", \"selecci\\u00f3n colombia\", \"partido\", \"partido selecci\\u00f3n\", \"vamos selecci\\u00f3n\", \"vamos\", \"partidos\", \"partidos selecci\\u00f3n\", \"jugando\", \"mina\", \"tan\", \"hace\", \"mal\", \"falta\", \"cuadrado selecci\\u00f3n\", \"cuadrado\", \"si\", \"queiroz\", \"seleccion\", \"selecci\\u00f3n\", \"va\", \"uruguay\", \"ser\", \"pa\\u00eds\", \"as\\u00ed\", \"lateral\", \"liga\", \"ver\", \"jugar\", \"jugadores\", \"jugador\", \"gran\", \"gol\", \"f\\u00fatbol\", \"equipo\", \"debe\", \"camiseta\", \"bien\", \"barranquilla\", \"a\\u00f1os\", \"mejor\", \"vez\"], \"y\": [\"hoy\", \"juega selecci\\u00f3n\", \"juega\", \"hoy juega\", \"siempre\", \"luis d\\u00edaz\", \"luis\", \"d\\u00edaz\", \"colombia\", \"selecci\\u00f3n colombia\", \"partido\", \"partido selecci\\u00f3n\", \"vamos selecci\\u00f3n\", \"vamos\", \"partidos\", \"partidos selecci\\u00f3n\", \"jugando\", \"mina\", \"tan\", \"hace\", \"mal\", \"falta\", \"cuadrado selecci\\u00f3n\", \"cuadrado\", \"si\", \"queiroz\", \"seleccion\", \"selecci\\u00f3n\", \"va\", \"uruguay\", \"ser\", \"pa\\u00eds\", \"as\\u00ed\", \"lateral\", \"liga\", \"ver\", \"jugar\", \"jugadores\", \"jugador\", \"gran\", \"gol\", \"f\\u00fatbol\", \"equipo\", \"debe\", \"camiseta\", \"bien\", \"barranquilla\", \"a\\u00f1os\", \"mejor\", \"vez\"], \"z\": [[1.0000000000000009, 0.2920200378090734, 0.2901977073029096, 0.5468709584903407, 0.15466124945098852, 0.0, 0.0, 0.0, 0.31586634414030745, 0.33629415800011675, 0.03727722379715917, 0.029367732268780724, 0.025597411790756846, 0.10225546440912749, 0.00709877470708179, 0.011134415923573816, 0.0, 0.0, 0.03652828803334966, 0.0, 0.0, 0.0, 0.0, 0.0, 0.0, 0.0, 0.046742674984207214, 0.11648213013807318, 0.06294441300334225, 0.03622323923196872, 0.0, 0.233603424620518, 0.0, 0.0, 0.08325023069558425, 0.0, 0.0, 0.0, 0.0, 0.06617738098119719, 0.08000693454767248, 0.09280059734875917, 0.06598343834951491, 0.0, 0.015190626409897458, 0.0, 0.0, 0.0, 0.0, 0.0], [0.2920200378090734, 1.0000000000000004, 0.7652263138166588, 0.49655110902877675, 0.22996582285742379, 0.0, 0.0, 0.0, 0.09910719514267613, 0.11081731092650078, 0.0, 0.0, 0.0, 0.0, 0.008881958682617883, 0.013931336923484338, 0.0173724104680077, 0.014923489976734, 0.0, 0.011433680635070763, 0.04348478450067919, 0.0, 0.0, 0.007936964651310762, 0.0, 0.0, 0.0, 0.09518916958286908, 0.0, 0.0, 0.015756449224571173, 0.05134671056699374, 0.0, 0.0, 0.0, 0.020728593992950607, 0.0, 0.0, 0.0, 0.0, 0.017222014456247, 0.03468152399631149, 0.0, 0.022387397861648544, 0.01900645135296286, 0.0, 0.026810293334805484, 0.0, 0.0, 0.02654270769359656], [0.2901977073029096, 0.7652263138166588, 0.9999999999999998, 0.5062014573615591, 0.1906823639777555, 0.037947860080072775, 0.02710321778854469, 0.02552566272284618, 0.08277352039037203, 0.0925537135056208, 0.021817874123594195, 0.03546903500501572, 0.0, 0.0, 0.006796708502171545, 0.010660625600495825, 0.01329382562454346, 0.03698188469824782, 0.0, 0.00874935328573211, 0.07181305467094652, 0.0, 0.059255676113576614, 0.07620128678976762, 0.0, 0.028626130120064108, 0.04512529285794044, 0.1173736031074338, 0.0, 0.0, 0.012057249558957945, 0.039291854053791486, 0.0, 0.07245044645687741, 0.0, 0.015862065571827722, 0.0, 0.0, 0.0, 0.0, 0.013178738638851096, 0.026539214765241424, 0.0, 0.09048031667506881, 0.01454423670756341, 0.20767536893085095, 0.020515941940936522, 0.0, 0.0, 0.049711916762671254], [0.5468709584903407, 0.49655110902877675, 0.5062014573615591, 1.0, 0.2925319958483533, 0.0, 0.0, 0.0, 0.13764963248250894, 0.15391377083947255, 0.0, 0.0, 0.0, 0.0, 0.013426884500881503, 0.02106004525562118, 0.0, 0.0, 0.0, 0.0, 0.0, 0.0, 0.0, 0.0, 0.0, 0.0, 0.0, 0.06251682723842976, 0.0, 0.0, 0.0, 0.04771102083835779, 0.0, 0.0, 0.0, 0.0, 0.0, 0.0, 0.0, 0.0, 0.0, 0.0, 0.0, 0.0, 0.028732111486544098, 0.0, 0.0, 0.0, 0.0, 0.0], [0.15466124945098852, 0.22996582285742379, 0.1906823639777555, 0.2925319958483533, 1.0000000000000002, 0.0, 0.0, 0.0, 0.1434850968579225, 0.16043873069894354, 0.0, 0.0, 0.0, 0.0, 0.06217841793297644, 0.013893850556121226, 0.0, 0.0, 0.026582821353463237, 0.08937889211887012, 0.0, 0.042390095057106766, 0.02750848863643487, 0.012521993723215242, 0.0, 0.0, 0.024331450601029543, 0.08827019964821312, 0.0, 0.0, 0.0, 0.0, 0.0, 0.0, 0.0, 0.10998758064434558, 0.0, 0.0, 0.05589528111860444, 0.04073075956679286, 0.030424387965922273, 0.0, 0.13756766047828517, 0.0, 0.018955308894661876, 0.029648671085731746, 0.0, 0.0, 0.08947047546696521, 0.0], [0.0, 0.0, 0.037947860080072775, 0.0, 0.0, 0.9999999999999998, 0.7142225604119681, 0.6726509128310568, 0.13348949999599766, 0.129711908373669, 0.0, 0.0, 0.0, 0.0, 0.0, 0.0, 0.0, 0.0, 0.0, 0.0, 0.0, 0.0, 0.0, 0.0, 0.0, 0.07539411382708966, 0.0, 0.03865332108378938, 0.0, 0.02647616351910214, 0.0, 0.0, 0.0, 0.0, 0.0, 0.0, 0.0, 0.0, 0.0, 0.0, 0.0, 0.0, 0.0, 0.0, 0.0, 0.0, 0.0, 0.0, 0.16847679767222049, 0.1284588691740194], [0.0, 0.0, 0.02710321778854469, 0.0, 0.0, 0.7142225604119681, 0.9999999999999998, 0.4804224572256451, 0.09534121247525486, 0.09264317131456448, 0.0, 0.0, 0.0, 0.0, 0.0, 0.0, 0.0, 0.0, 0.0, 0.0, 0.0, 0.020265852883817548, 0.0, 0.0, 0.0, 0.05384817701757534, 0.0, 0.05922751547041294, 0.0, 0.018909873298499077, 0.02228097318853034, 0.0, 0.0, 0.0, 0.0, 0.0, 0.0, 0.0, 0.022173636134380056, 0.0, 0.0, 0.0, 0.025360467960760465, 0.033939400352923935, 0.0, 0.0, 0.0, 0.0, 0.12032992980346245, 0.0917482224490942], [0.0, 0.0, 0.02552566272284618, 0.0, 0.0, 0.6726509128310568, 0.4804224572256451, 1.0, 0.12423016982719086, 0.08725083357260688, 0.0, 0.0, 0.0, 0.0, 0.0, 0.0, 0.0, 0.0, 0.0, 0.0, 0.0, 0.0, 0.0, 0.0, 0.0, 0.050713919487880475, 0.0, 0.05483772501139898, 0.16035722966808122, 0.017809215559388386, 0.0, 0.0, 0.0, 0.0, 0.0, 0.0, 0.0, 0.0, 0.0, 0.0, 0.0, 0.0, 0.0, 0.0, 0.0, 0.0, 0.0, 0.0, 0.11332607174507241, 0.08640797561114949], [0.31586634414030745, 0.09910719514267613, 0.08277352039037203, 0.13764963248250894, 0.1434850968579225, 0.13348949999599766, 0.09534121247525486, 0.12423016982719086, 1.0000000000000009, 0.9223469899996063, 0.1916496596214174, 0.14704790035830767, 0.05011229354632448, 0.060464604992476446, 0.04442936416843296, 0.06968738131353125, 0.023288581270557485, 0.044100696589126624, 0.10455647361576091, 0.07118871226927843, 0.0, 0.07853794090789858, 0.0059129292703325965, 0.0026915932818952683, 0.05103215101473981, 0.06604149926250333, 0.014021077005474744, 0.23056657753384688, 0.10516797335705562, 0.26375315512574793, 0.010371184232466312, 0.07176775149800148, 0.07763069941852571, 0.007499047815080436, 0.06673788267738472, 0.038053306427167706, 0.049232605423430664, 0.04233119817284767, 0.06341466720507972, 0.01565616444769242, 0.07709562631024645, 0.19453843112332983, 0.1618475008416708, 0.0, 0.06147279875502502, 0.036013635938904526, 0.07482624344828101, 0.07735303176238457, 0.05203620002850467, 0.06123122896292371], [0.33629415800011675, 0.11081731092650078, 0.0925537135056208, 0.15391377083947255, 0.16043873069894354, 0.129711908373669, 0.09264317131456448, 0.08725083357260688, 0.9223469899996063, 1.0000000000000004, 0.17769508896975686, 0.13596123078402875, 0.05603336475387576, 0.06760886454160206, 0.049678962826381706, 0.07792136778321382, 0.026040268297181913, 0.04190166654596904, 0.11691045467865291, 0.07960009009078292, 0.0, 0.0878176746359157, 0.006611577701230875, 0.0030096213415995413, 0.05706190895733845, 0.07384470267057022, 0.0, 0.2270151735963065, 0.06888587982549148, 0.18139085921160406, 0.0, 0.08024754631387215, 0.08680323706588339, 0.00838510576532925, 0.07462336800662248, 0.04254953521840719, 0.055049736147569896, 0.047332885801666634, 0.07090749448462427, 0.01750603516746352, 0.08620494182684217, 0.15663453348628895, 0.17206610620414636, 0.0, 0.023350537365512205, 0.028491514203051287, 0.0703546812812658, 0.07377458367641213, 0.05818459244750933, 0.0331902662806032], [0.03727722379715917, 0.0, 0.021817874123594195, 0.0, 0.0, 0.0, 0.0, 0.0, 0.1916496596214174, 0.17769508896975686, 0.9999999999999994, 0.6309302328444439, 0.0, 0.0, 0.01908178926316061, 0.029929753653128208, 0.03807088320857957, 0.06073139596760535, 0.03099517666256605, 0.1605818183921049, 0.0, 0.031088026332880155, 0.012442626722176917, 0.0442923611615578, 0.13439183758105303, 0.01082819351392496, 0.0, 0.10909634191596286, 0.0, 0.05463814199659949, 0.029591563465595244, 0.0, 0.08867065288933812, 0.01578030929660584, 0.0, 0.030198311058208433, 0.06823019763686394, 0.06805211074889687, 0.0, 0.0, 0.0, 0.08160104182210949, 0.03930197104026265, 0.0, 0.0, 0.05343033623354602, 0.10267530040359885, 0.07625742061738651, 0.0, 0.08850451536220796], [0.029367732268780724, 0.0, 0.03546903500501572, 0.0, 0.0, 0.0, 0.0, 0.0, 0.14704790035830767, 0.13596123078402875, 0.6309302328444439, 1.0, 0.0, 0.0, 0.0, 0.0, 0.0, 0.0, 0.025194228360734892, 0.08834916703300033, 0.0, 0.05053940122632482, 0.0, 0.030006835682220356, 0.0, 0.0, 0.0, 0.07374932254225346, 0.0, 0.0, 0.0, 0.0, 0.09268576574176708, 0.0, 0.0, 0.04909300264307779, 0.08838670615045202, 0.0, 0.0, 0.0, 0.0, 0.04941419084075053, 0.0, 0.0, 0.0, 0.0, 0.0716290015687523, 0.12397069970924898, 0.0, 0.14388064280237817], [0.025597411790756846, 0.0, 0.0, 0.0, 0.0, 0.0, 0.0, 0.0, 0.05011229354632448, 0.05603336475387576, 0.0, 0.0, 0.9999999999999996, 0.7656947672370791, 0.0, 0.0, 0.0, 0.0, 0.0, 0.0, 0.0, 0.0, 0.0, 0.020115943665042615, 0.0, 0.0, 0.0, 0.06094751808678635, 0.0549204992119321, 0.0, 0.0, 0.0, 0.0, 0.05604502894411989, 0.0, 0.0, 0.0, 0.0, 0.0, 0.0, 0.0, 0.0, 0.0, 0.0, 0.0, 0.0, 0.0, 0.0, 0.0, 0.0], [0.10225546440912749, 0.0, 0.0, 0.0, 0.0, 0.0, 0.0, 0.0, 0.060464604992476446, 0.06760886454160206, 0.0, 0.0, 0.7656947672370791, 1.0000000000000002, 0.0, 0.0, 0.0, 0.0, 0.0, 0.0, 0.0, 0.0, 0.0, 0.01540267280235901, 0.0, 0.0, 0.16831787967550843, 0.06754289636823964, 0.04205233886062456, 0.0, 0.0, 0.0, 0.0, 0.04291338539216326, 0.0, 0.0, 0.0, 0.0, 0.0, 0.0966508388002985, 0.0, 0.0, 0.0, 0.0, 0.0, 0.0, 0.0, 0.0, 0.0, 0.0], [0.00709877470708179, 0.008881958682617883, 0.006796708502171545, 0.013426884500881503, 0.06217841793297644, 0.0, 0.0, 0.0, 0.04442936416843296, 0.049678962826381706, 0.01908178926316061, 0.0, 0.0, 0.0, 1.0, 0.7095240351525905, 0.0614031721628957, 0.0, 0.0, 0.0, 0.0, 0.0, 0.0, 0.06770626054383115, 0.0, 0.0, 0.015275354169839661, 0.08284829392245324, 0.0, 0.1097363219268612, 0.0, 0.0, 0.0, 0.0452149817216196, 0.0, 0.038014049834520496, 0.024237656746713084, 0.0, 0.032443489018629576, 0.0, 0.0, 0.11796227269430258, 0.0, 0.0, 0.02247194749800431, 0.0, 0.0, 0.0, 0.0167018580131486, 0.0], [0.011134415923573816, 0.013931336923484338, 0.010660625600495825, 0.02106004525562118, 0.013893850556121226, 0.0, 0.0, 0.0, 0.06968738131353125, 0.07792136778321382, 0.029929753653128208, 0.0, 0.0, 0.0, 0.7095240351525905, 0.9999999999999998, 0.0, 0.0, 0.0, 0.0, 0.0, 0.0, 0.0, 0.0, 0.0, 0.0, 0.0, 0.05139549312616144, 0.0, 0.12650113327637444, 0.0, 0.0, 0.0, 0.0, 0.0, 0.05962497181024239, 0.0, 0.0, 0.0, 0.0, 0.0, 0.18502362191577948, 0.0, 0.0, 0.035247211015991334, 0.0, 0.0, 0.0, 0.0, 0.0], [0.0, 0.0173724104680077, 0.01329382562454346, 0.0, 0.0, 0.0, 0.0, 0.0, 0.023288581270557485, 0.026040268297181913, 0.03807088320857957, 0.0, 0.0, 0.0, 0.0614031721628957, 0.0, 1.0000000000000002, 0.0759909026512455, 0.16596298113205044, 0.09055575620355817, 0.26139126631156917, 0.0, 0.0, 0.0, 0.05104348146617149, 0.0, 0.0, 0.06984495945524616, 0.0, 0.0, 0.02096014713602149, 0.0, 0.0, 0.0, 0.0, 0.0, 0.0, 0.0, 0.0, 0.0, 0.0, 0.0, 0.06746433410683471, 0.0, 0.0, 0.0, 0.0, 0.04886977284705963, 0.0, 0.0], [0.0, 0.014923489976734, 0.03698188469824782, 0.0, 0.0, 0.0, 0.0, 0.0, 0.044100696589126624, 0.04190166654596904, 0.06073139596760535, 0.0, 0.0, 0.0, 0.0, 0.0, 0.0759909026512455, 1.0, 0.043458603709557585, 0.2079292375827048, 0.28453404074021615, 0.0, 0.0, 0.0, 0.07339843704095549, 0.0, 0.052209884320314315, 0.07534415928245826, 0.09105477722726976, 0.029159354382679244, 0.10373003064259961, 0.0, 0.0, 0.0, 0.0, 0.0, 0.0, 0.04675284596168304, 0.110764926264844, 0.0, 0.06528397349847906, 0.0, 0.08266538528382528, 0.0, 0.0, 0.025766914035337627, 0.0, 0.08277126203664595, 0.0, 0.0], [0.03652828803334966, 0.0, 0.0, 0.0, 0.026582821353463237, 0.0, 0.0, 0.0, 0.10455647361576091, 0.11691045467865291, 0.03099517666256605, 0.025194228360734892, 0.0, 0.0, 0.0, 0.0, 0.16596298113205044, 0.043458603709557585, 0.9999999999999998, 0.0787828083244138, 0.2149354054321451, 0.0, 0.0, 0.0, 0.06510617462619621, 0.0, 0.08951192922483062, 0.07268702472275813, 0.04757399848431008, 0.022478505068934656, 0.08263229689083049, 0.0, 0.0, 0.0, 0.0, 0.08351718420110615, 0.0, 0.0, 0.04602347922790909, 0.0, 0.03768389895761681, 0.0, 0.0, 0.0, 0.05756197274968033, 0.0, 0.0, 0.0, 0.0, 0.0], [0.0, 0.011433680635070763, 0.00874935328573211, 0.0, 0.08937889211887012, 0.0, 0.0, 0.0, 0.07118871226927843, 0.07960009009078292, 0.1605818183921049, 0.08834916703300033, 0.0, 0.0, 0.0, 0.0, 0.09055575620355817, 0.2079292375827048, 0.0787828083244138, 1.0, 0.019697847176781896, 0.4757185829470555, 0.028114343725200566, 0.10165315568880581, 0.029193641969578764, 0.05681622784881257, 0.0, 0.10954421214454081, 0.0, 0.0, 0.04604176138821381, 0.0, 0.0, 0.03565589883557438, 0.0, 0.021720521192468516, 0.034665703221724804, 0.0, 0.03075682182331277, 0.0, 0.0, 0.039469079057254955, 0.044401762890404574, 0.0, 0.0, 0.0, 0.0, 0.16163120355077182, 0.0, 0.027812858178433375], [0.0, 0.04348478450067919, 0.07181305467094652, 0.0, 0.0, 0.0, 0.0, 0.0, 0.0, 0.0, 0.0, 0.0, 0.0, 0.0, 0.0, 0.0, 0.26139126631156917, 0.28453404074021615, 0.2149354054321451, 0.019697847176781896, 0.9999999999999996, 0.0, 0.0, 0.013673734796255468, 0.0, 0.0, 0.0787116739387059, 0.04266433480138389, 0.13727427342499834, 0.0, 0.027145075919151357, 0.03408647145066957, 0.0, 0.0, 0.0, 0.10344500603143769, 0.16509704565002692, 0.025935522039689907, 0.0, 0.0, 0.1280921230513077, 0.0, 0.0, 0.03856881749975848, 0.0, 0.03884622542952131, 0.0, 0.0, 0.0, 0.0], [0.0, 0.0, 0.0, 0.0, 0.042390095057106766, 0.0, 0.020265852883817548, 0.0, 0.07853794090789858, 0.0878176746359157, 0.031088026332880155, 0.05053940122632482, 0.0, 0.0, 0.0, 0.0, 0.0, 0.0, 0.0, 0.4757185829470555, 0.0, 1.0000000000000002, 0.0, 0.052275977597392054, 0.0, 0.0, 0.0, 0.08093817353573475, 0.0, 0.0, 0.016986381377190864, 0.0, 0.04859558757542985, 0.0, 0.0, 0.0, 0.0, 0.0, 0.05545633494466696, 0.0, 0.0, 0.0, 0.019334100761238864, 0.02587443525154023, 0.0, 0.0, 0.0, 0.1274550630249481, 0.0, 0.06264014119777965], [0.0, 0.0, 0.059255676113576614, 0.0, 0.02750848863643487, 0.0, 0.0, 0.0, 0.0059129292703325965, 0.006611577701230875, 0.012442626722176917, 0.0, 0.0, 0.0, 0.0, 0.0, 0.0, 0.0, 0.0, 0.028114343725200566, 0.0, 0.0, 1.0, 0.5187385939583037, 0.08639981737649817, 0.0, 0.0, 0.06640344719466601, 0.0, 0.0, 0.0, 0.0, 0.10955013029608231, 0.02914659161964322, 0.0, 0.12789817140574364, 0.0, 0.0, 0.03752082810594333, 0.0, 0.0, 0.0, 0.0, 0.0, 0.0, 0.04255236819892855, 0.0, 0.0, 0.0, 0.0], [0.0, 0.007936964651310762, 0.07620128678976762, 0.0, 0.012521993723215242, 0.0, 0.0, 0.0, 0.0026915932818952683, 0.0030096213415995413, 0.0442923611615578, 0.030006835682220356, 0.020115943665042615, 0.01540267280235901, 0.06770626054383115, 0.0, 0.0, 0.0, 0.0, 0.10165315568880581, 0.013673734796255468, 0.052275977597392054, 0.5187385939583037, 1.0000000000000002, 0.03932960422414789, 0.089752986687094, 0.03842246468149316, 0.12773344133682724, 0.01796801522067506, 0.008014152271729054, 0.012642160098567036, 0.012891528776639061, 0.049867735813302005, 0.2940787286265555, 0.0, 0.05821985063302228, 0.013356911236350974, 0.0, 0.017079657855508835, 0.0, 0.011221192990192069, 0.0, 0.0, 0.07704053650715338, 0.0, 0.07010987385146773, 0.0, 0.0, 0.19480036702552386, 0.03719142645983305], [0.0, 0.0, 0.0, 0.0, 0.0, 0.0, 0.0, 0.0, 0.05103215101473981, 0.05706190895733845, 0.13439183758105303, 0.0, 0.0, 0.0, 0.0, 0.0, 0.05104348146617149, 0.07339843704095549, 0.06510617462619621, 0.029193641969578764, 0.0, 0.0, 0.08639981737649817, 0.03932960422414789, 1.0, 0.0, 0.0, 0.06559125341151663, 0.09037981263616537, 0.11227628477523117, 0.0, 0.0, 0.08980492658479153, 0.0, 0.0, 0.1331397908910395, 0.0, 0.0, 0.0, 0.0, 0.07806440972903288, 0.052896950957719215, 0.11791861829438717, 0.0, 0.0, 0.08518346998778539, 0.0, 0.08499020615850936, 0.0, 0.17243845896172483], [0.0, 0.0, 0.028626130120064108, 0.0, 0.0, 0.07539411382708966, 0.05384817701757534, 0.050713919487880475, 0.06604149926250333, 0.07384470267057022, 0.01082819351392496, 0.0, 0.0, 0.0, 0.0, 0.0, 0.0, 0.0, 0.0, 0.05681622784881257, 0.0, 0.0, 0.0, 0.089752986687094, 0.0, 0.9999999999999996, 0.0, 0.046608170127783406, 0.0, 0.011321156114357144, 0.058886733826466996, 0.0, 0.0, 0.0, 0.0, 0.0, 0.0271938049880428, 0.10575663273912053, 0.0, 0.0, 0.0782106164140789, 0.0, 0.0, 0.18227326995170243, 0.0, 0.04311186106875841, 0.0, 0.0, 0.0, 0.058412848906897935], [0.046742674984207214, 0.0, 0.04512529285794044, 0.0, 0.024331450601029543, 0.0, 0.0, 0.0, 0.014021077005474744, 0.0, 0.0, 0.0, 0.0, 0.16831787967550843, 0.015275354169839661, 0.0, 0.0, 0.052209884320314315, 0.08951192922483062, 0.0, 0.0787116739387059, 0.0, 0.0, 0.03842246468149316, 0.0, 0.0, 1.0, 0.0, 0.03708343775160024, 0.0, 0.0, 0.0, 0.0, 0.10704882560000678, 0.0, 0.026371035637549965, 0.0, 0.03886757345920364, 0.031025487649661076, 0.03411292749483707, 0.09908617679076073, 0.0, 0.0, 0.10837631782921839, 0.0481633475297745, 0.06948711366664362, 0.0, 0.0, 0.015971873099585112, 0.07033201864218722], [0.11648213013807318, 0.09518916958286908, 0.1173736031074338, 0.06251682723842976, 0.08827019964821312, 0.03865332108378938, 0.05922751547041294, 0.05483772501139898, 0.23056657753384688, 0.2270151735963065, 0.10909634191596286, 0.07374932254225346, 0.06094751808678635, 0.06754289636823964, 0.08284829392245324, 0.05139549312616144, 0.06984495945524616, 0.07534415928245826, 0.07268702472275813, 0.10954421214454081, 0.04266433480138389, 0.08093817353573475, 0.06640344719466601, 0.12773344133682724, 0.06559125341151663, 0.046608170127783406, 0.0, 0.9999999999999973, 0.044114920630885866, 0.09142346149399506, 0.0698107222836741, 0.052107276852703, 0.05833605566072597, 0.04072429096022721, 0.053624491546545056, 0.07595113539678339, 0.04773984516686588, 0.11610271502335978, 0.06882022242370932, 0.047914857877716446, 0.0575759028980649, 0.0483338955392947, 0.05284334022737524, 0.030685994209906073, 0.069488328229835, 0.04736612673752978, 0.0613996419473886, 0.07021706668316462, 0.07384405446407556, 0.04309065403625601], [0.06294441300334225, 0.0, 0.0, 0.0, 0.0, 0.0, 0.0, 0.16035722966808122, 0.10516797335705562, 0.06888587982549148, 0.0, 0.0, 0.0549204992119321, 0.04205233886062456, 0.0, 0.0, 0.0, 0.09105477722726976, 0.04757399848431008, 0.0, 0.13727427342499834, 0.0, 0.0, 0.01796801522067506, 0.09037981263616537, 0.0, 0.03708343775160024, 0.044114920630885866, 1.0000000000000002, 0.06582539724417144, 0.03327202773306198, 0.0, 0.0, 0.050060685686901724, 0.0, 0.03999535119521131, 0.0, 0.08827951093541471, 0.0, 0.051737009278090905, 0.0, 0.0, 0.2363246097423595, 0.0, 0.0, 0.04254336690439015, 0.0, 0.0, 0.0, 0.0], [0.03622323923196872, 0.0, 0.0, 0.0, 0.0, 0.02647616351910214, 0.018909873298499077, 0.017809215559388386, 0.26375315512574793, 0.18139085921160406, 0.05463814199659949, 0.0, 0.0, 0.0, 0.1097363219268612, 0.12650113327637444, 0.0, 0.029159354382679244, 0.022478505068934656, 0.0, 0.0, 0.0, 0.0, 0.008014152271729054, 0.11227628477523117, 0.011321156114357144, 0.0, 0.09142346149399506, 0.06582539724417144, 1.0, 0.0, 0.0, 0.03935157909044631, 0.0, 0.0, 0.0, 0.01449241524900859, 0.030221046342073583, 0.0, 0.0, 0.03833349070470754, 0.023829055903725506, 0.11646697970893473, 0.0, 0.0, 0.07903617584781318, 0.06734440319260114, 0.0, 0.0, 0.020512849886696997], [0.0, 0.015756449224571173, 0.012057249558957945, 0.0, 0.0, 0.0, 0.02228097318853034, 0.0, 0.010371184232466312, 0.0, 0.029591563465595244, 0.0, 0.0, 0.0, 0.0, 0.0, 0.02096014713602149, 0.10373003064259961, 0.08263229689083049, 0.04604176138821381, 0.027145075919151357, 0.016986381377190864, 0.0, 0.012642160098567036, 0.0, 0.058886733826466996, 0.0, 0.0698107222836741, 0.03327202773306198, 0.0, 1.0, 0.0, 0.0, 0.03522232118156441, 0.0, 0.08157297107427923, 0.0, 0.11854136200926807, 0.018585442322952905, 0.0, 0.0, 0.04467514611016539, 0.021256572973027483, 0.17081500677432715, 0.0, 0.029933192338267172, 0.28230880524552515, 0.03726404803904454, 0.0, 0.0], [0.233603424620518, 0.05134671056699374, 0.039291854053791486, 0.04771102083835779, 0.0, 0.0, 0.0, 0.0, 0.07176775149800148, 0.08024754631387215, 0.0, 0.0, 0.0, 0.0, 0.0, 0.0, 0.0, 0.0, 0.0, 0.0, 0.03408647145066957, 0.0, 0.0, 0.012891528776639061, 0.0, 0.0, 0.0, 0.052107276852703, 0.0, 0.0, 0.0, 1.0, 0.0, 0.0, 0.22428423175260678, 0.0, 0.0, 0.0, 0.0, 0.0, 0.027972670247150038, 0.0, 0.13409428662326114, 0.03636248823658897, 0.0, 0.08722666679073506, 0.05015716533566994, 0.0, 0.0, 0.0], [0.0, 0.0, 0.0, 0.0, 0.0, 0.0, 0.0, 0.0, 0.07763069941852571, 0.08680323706588339, 0.08867065288933812, 0.09268576574176708, 0.0, 0.0, 0.0, 0.0, 0.0, 0.0, 0.0, 0.0, 0.0, 0.04859558757542985, 0.10955013029608231, 0.049867735813302005, 0.08980492658479153, 0.0, 0.0, 0.05833605566072597, 0.0, 0.03935157909044631, 0.0, 0.0, 1.0000000000000002, 0.09117319035591952, 0.0, 0.15255168278965073, 0.0945159050110974, 0.0, 0.0, 0.06324910220934074, 0.0, 0.07704051386774424, 0.0, 0.0, 0.0, 0.0, 0.06443037457457038, 0.0, 0.0, 0.0], [0.0, 0.0, 0.07245044645687741, 0.0, 0.0, 0.0, 0.0, 0.0, 0.007499047815080436, 0.00838510576532925, 0.01578030929660584, 0.0, 0.05604502894411989, 0.04291338539216326, 0.0452149817216196, 0.0, 0.0, 0.0, 0.0, 0.03565589883557438, 0.0, 0.0, 0.02914659161964322, 0.2940787286265555, 0.0, 0.0, 0.10704882560000678, 0.04072429096022721, 0.050060685686901724, 0.0, 0.03522232118156441, 0.0, 0.09117319035591952, 0.9999999999999998, 0.0, 0.0, 0.07442737853220613, 0.0, 0.0, 0.0, 0.0, 0.0, 0.0, 0.17400247432848873, 0.0, 0.045037114818299806, 0.0, 0.0, 0.0, 0.0], [0.08325023069558425, 0.0, 0.0, 0.0, 0.0, 0.0, 0.0, 0.0, 0.06673788267738472, 0.07462336800662248, 0.0, 0.0, 0.0, 0.0, 0.0, 0.0, 0.0, 0.0, 0.0, 0.0, 0.0, 0.0, 0.0, 0.0, 0.0, 0.0, 0.0, 0.053624491546545056, 0.0, 0.0, 0.0, 0.22428423175260678, 0.0, 0.0, 0.9999999999999998, 0.0, 0.0, 0.0, 0.0, 0.2099570383535329, 0.0, 0.0, 0.14304350820566725, 0.0, 0.0, 0.0, 0.053504568106045876, 0.19490398952841112, 0.0, 0.0], [0.0, 0.020728593992950607, 0.015862065571827722, 0.0, 0.10998758064434558, 0.0, 0.0, 0.0, 0.038053306427167706, 0.04254953521840719, 0.030198311058208433, 0.04909300264307779, 0.0, 0.0, 0.038014049834520496, 0.05962497181024239, 0.0, 0.0, 0.08351718420110615, 0.021720521192468516, 0.10344500603143769, 0.0, 0.12789817140574364, 0.05821985063302228, 0.1331397908910395, 0.0, 0.026371035637549965, 0.07595113539678339, 0.03999535119521131, 0.0, 0.08157297107427923, 0.0, 0.15255168278965073, 0.0, 0.0, 0.9999999999999999, 0.242612992074418, 0.0, 0.03196570946485153, 0.03679158670757037, 0.0, 0.06314569770233788, 0.0, 0.0, 0.0, 0.0, 0.03269353108062155, 0.0, 0.0, 0.0711058279640071], [0.0, 0.0, 0.0, 0.0, 0.0, 0.0, 0.0, 0.0, 0.049232605423430664, 0.055049736147569896, 0.06823019763686394, 0.08838670615045202, 0.0, 0.0, 0.024237656746713084, 0.0, 0.0, 0.0, 0.0, 0.034665703221724804, 0.16509704565002692, 0.0, 0.0, 0.013356911236350974, 0.0, 0.0271938049880428, 0.0, 0.04773984516686588, 0.0, 0.01449241524900859, 0.0, 0.0, 0.0945159050110974, 0.07442737853220613, 0.0, 0.242612992074418, 0.9999999999999998, 0.012984951818919007, 0.0, 0.0, 0.0, 0.1007798108010878, 0.0, 0.0, 0.0, 0.05518826756338676, 0.21457153730131948, 0.0, 0.1736100577079587, 0.06182636443350795], [0.0, 0.0, 0.0, 0.0, 0.0, 0.0, 0.0, 0.0, 0.04233119817284767, 0.047332885801666634, 0.06805211074889687, 0.0, 0.0, 0.0, 0.0, 0.0, 0.0, 0.04675284596168304, 0.0, 0.0, 0.025935522039689907, 0.0, 0.0, 0.0, 0.0, 0.10575663273912053, 0.03886757345920364, 0.11610271502335978, 0.08827951093541471, 0.030221046342073583, 0.11854136200926807, 0.0, 0.0, 0.0, 0.0, 0.0, 0.012984951818919007, 0.9999999999999998, 0.0377195197156683, 0.0, 0.0, 0.032002094510468065, 0.10004751207550401, 0.0, 0.0, 0.05586406641795848, 0.0, 0.0, 0.0, 0.0], [0.0, 0.0, 0.0, 0.0, 0.05589528111860444, 0.0, 0.022173636134380056, 0.0, 0.06341466720507972, 0.07090749448462427, 0.0, 0.0, 0.0, 0.0, 0.032443489018629576, 0.0, 0.0, 0.110764926264844, 0.04602347922790909, 0.03075682182331277, 0.0, 0.05545633494466696, 0.03752082810594333, 0.017079657855508835, 0.0, 0.0, 0.031025487649661076, 0.06882022242370932, 0.0, 0.0, 0.018585442322952905, 0.0, 0.0, 0.0, 0.0, 0.03196570946485153, 0.0, 0.0377195197156683, 1.0, 0.0, 0.0, 0.06930784450697478, 0.02115417089637897, 0.02831019823046076, 0.0, 0.0, 0.0, 0.0, 0.10320948130189456, 0.0], [0.06617738098119719, 0.0, 0.0, 0.0, 0.04073075956679286, 0.0, 0.0, 0.0, 0.01565616444769242, 0.01750603516746352, 0.0, 0.0, 0.0, 0.0966508388002985, 0.0, 0.0, 0.0, 0.0, 0.0, 0.0, 0.0, 0.0, 0.0, 0.0, 0.0, 0.0, 0.03411292749483707, 0.047914857877716446, 0.051737009278090905, 0.0, 0.0, 0.0, 0.06324910220934074, 0.0, 0.2099570383535329, 0.03679158670757037, 0.0, 0.0, 0.0, 1.0, 0.0, 0.0, 0.0, 0.0, 0.0, 0.0, 0.0, 0.0, 0.05048901721300439, 0.0], [0.08000693454767248, 0.017222014456247, 0.013178738638851096, 0.0, 0.030424387965922273, 0.0, 0.0, 0.0, 0.07709562631024645, 0.08620494182684217, 0.0, 0.0, 0.0, 0.0, 0.0, 0.0, 0.0, 0.06528397349847906, 0.03768389895761681, 0.0, 0.1280921230513077, 0.0, 0.0, 0.011221192990192069, 0.07806440972903288, 0.0782106164140789, 0.09908617679076073, 0.0575759028980649, 0.0, 0.03833349070470754, 0.0, 0.027972670247150038, 0.0, 0.0, 0.0, 0.0, 0.0, 0.0, 0.0, 0.0, 0.9999999999999996, 0.0, 0.05882271294570204, 0.031651055912449426, 0.0, 0.05131854360605437, 0.0, 0.0, 0.0, 0.16351904331559863], [0.09280059734875917, 0.03468152399631149, 0.026539214765241424, 0.0, 0.0, 0.0, 0.0, 0.0, 0.19453843112332983, 0.15663453348628895, 0.08160104182210949, 0.04941419084075053, 0.0, 0.0, 0.11796227269430258, 0.18502362191577948, 0.0, 0.0, 0.0, 0.039469079057254955, 0.0, 0.0, 0.0, 0.0, 0.052896950957719215, 0.0, 0.0, 0.0483338955392947, 0.0, 0.023829055903725506, 0.04467514611016539, 0.0, 0.07704051386774424, 0.0, 0.0, 0.06314569770233788, 0.1007798108010878, 0.032002094510468065, 0.06930784450697478, 0.0, 0.0, 0.9999999999999999, 0.0, 0.0, 0.0, 0.04537146812321942, 0.0, 0.04899594022380556, 0.0, 0.0], [0.06598343834951491, 0.0, 0.0, 0.0, 0.13756766047828517, 0.0, 0.025360467960760465, 0.0, 0.1618475008416708, 0.17206610620414636, 0.03930197104026265, 0.0, 0.0, 0.0, 0.0, 0.0, 0.06746433410683471, 0.08266538528382528, 0.0, 0.044401762890404574, 0.0, 0.019334100761238864, 0.0, 0.0, 0.11791861829438717, 0.0, 0.0, 0.05284334022737524, 0.2363246097423595, 0.11646697970893473, 0.021256572973027483, 0.13409428662326114, 0.0, 0.0, 0.14304350820566725, 0.0, 0.0, 0.10004751207550401, 0.02115417089637897, 0.0, 0.05882271294570204, 0.0, 1.0, 0.03237898695709119, 0.0, 0.0, 0.0, 0.0, 0.0, 0.0], [0.0, 0.022387397861648544, 0.09048031667506881, 0.0, 0.0, 0.0, 0.033939400352923935, 0.0, 0.0, 0.0, 0.0, 0.0, 0.0, 0.0, 0.0, 0.0, 0.0, 0.0, 0.0, 0.0, 0.03856881749975848, 0.02587443525154023, 0.0, 0.07704053650715338, 0.0, 0.18227326995170243, 0.10837631782921839, 0.030685994209906073, 0.0, 0.0, 0.17081500677432715, 0.03636248823658897, 0.0, 0.17400247432848873, 0.0, 0.0, 0.0, 0.0, 0.02831019823046076, 0.0, 0.031651055912449426, 0.0, 0.03237898695709119, 0.9999999999999999, 0.0, 0.0, 0.0, 0.0, 0.0, 0.0], [0.015190626409897458, 0.01900645135296286, 0.01454423670756341, 0.028732111486544098, 0.018955308894661876, 0.0, 0.0, 0.0, 0.06147279875502502, 0.023350537365512205, 0.0, 0.0, 0.0, 0.0, 0.02247194749800431, 0.035247211015991334, 0.0, 0.0, 0.05756197274968033, 0.0, 0.0, 0.0, 0.0, 0.0, 0.0, 0.0, 0.0481633475297745, 0.069488328229835, 0.0, 0.0, 0.0, 0.0, 0.0, 0.0, 0.0, 0.0, 0.0, 0.0, 0.0, 0.0, 0.0, 0.0, 0.0, 0.0, 1.0000000000000002, 0.0, 0.0, 0.0, 0.056423083556014636, 0.0], [0.0, 0.0, 0.20767536893085095, 0.0, 0.029648671085731746, 0.0, 0.0, 0.0, 0.036013635938904526, 0.028491514203051287, 0.05343033623354602, 0.0, 0.0, 0.0, 0.0, 0.0, 0.0, 0.025766914035337627, 0.0, 0.0, 0.03884622542952131, 0.0, 0.04255236819892855, 0.07010987385146773, 0.08518346998778539, 0.04311186106875841, 0.06948711366664362, 0.04736612673752978, 0.04254336690439015, 0.07903617584781318, 0.029933192338267172, 0.08722666679073506, 0.0, 0.045037114818299806, 0.0, 0.0, 0.05518826756338676, 0.05586406641795848, 0.0, 0.0, 0.05131854360605437, 0.04537146812321942, 0.0, 0.0, 0.0, 1.0000000000000002, 0.0, 0.0, 0.0, 0.11335883543223613], [0.0, 0.026810293334805484, 0.020515941940936522, 0.0, 0.0, 0.0, 0.0, 0.0, 0.07482624344828101, 0.0703546812812658, 0.10267530040359885, 0.0716290015687523, 0.0, 0.0, 0.0, 0.0, 0.0, 0.0, 0.0, 0.0, 0.0, 0.0, 0.0, 0.0, 0.0, 0.0, 0.0, 0.0613996419473886, 0.0, 0.06734440319260114, 0.28230880524552515, 0.05015716533566994, 0.06443037457457038, 0.0, 0.053504568106045876, 0.03269353108062155, 0.21457153730131948, 0.0, 0.0, 0.0, 0.0, 0.0, 0.0, 0.0, 0.0, 0.0, 0.9999999999999999, 0.0, 0.0, 0.041863661338514574], [0.0, 0.0, 0.0, 0.0, 0.0, 0.0, 0.0, 0.0, 0.07735303176238457, 0.07377458367641213, 0.07625742061738651, 0.12397069970924898, 0.0, 0.0, 0.0, 0.0, 0.04886977284705963, 0.08277126203664595, 0.0, 0.16163120355077182, 0.0, 0.1274550630249481, 0.0, 0.0, 0.08499020615850936, 0.0, 0.0, 0.07021706668316462, 0.0, 0.0, 0.03726404803904454, 0.0, 0.0, 0.0, 0.19490398952841112, 0.0, 0.0, 0.0, 0.0, 0.0, 0.0, 0.04899594022380556, 0.0, 0.0, 0.0, 0.0, 0.0, 0.9999999999999999, 0.0, 0.0], [0.0, 0.0, 0.0, 0.0, 0.08947047546696521, 0.16847679767222049, 0.12032992980346245, 0.11332607174507241, 0.05203620002850467, 0.05818459244750933, 0.0, 0.0, 0.0, 0.0, 0.0167018580131486, 0.0, 0.0, 0.0, 0.0, 0.0, 0.0, 0.0, 0.0, 0.19480036702552386, 0.0, 0.0, 0.015971873099585112, 0.07384405446407556, 0.0, 0.0, 0.0, 0.0, 0.0, 0.0, 0.0, 0.0, 0.1736100577079587, 0.0, 0.10320948130189456, 0.05048901721300439, 0.0, 0.0, 0.0, 0.0, 0.056423083556014636, 0.0, 0.0, 0.0, 0.9999999999999999, 0.0], [0.0, 0.02654270769359656, 0.049711916762671254, 0.0, 0.0, 0.1284588691740194, 0.0917482224490942, 0.08640797561114949, 0.06123122896292371, 0.0331902662806032, 0.08850451536220796, 0.14388064280237817, 0.0, 0.0, 0.0, 0.0, 0.0, 0.0, 0.0, 0.027812858178433375, 0.0, 0.06264014119777965, 0.0, 0.03719142645983305, 0.17243845896172483, 0.058412848906897935, 0.07033201864218722, 0.04309065403625601, 0.0, 0.020512849886696997, 0.0, 0.0, 0.0, 0.0, 0.0, 0.0711058279640071, 0.06182636443350795, 0.0, 0.0, 0.0, 0.16351904331559863, 0.0, 0.0, 0.0, 0.0, 0.11335883543223613, 0.041863661338514574, 0.0, 0.0, 0.9999999999999998]]}],                        {\"height\": 800, \"template\": {\"data\": {\"bar\": [{\"error_x\": {\"color\": \"#2a3f5f\"}, \"error_y\": {\"color\": \"#2a3f5f\"}, \"marker\": {\"line\": {\"color\": \"#E5ECF6\", \"width\": 0.5}}, \"type\": \"bar\"}], \"barpolar\": [{\"marker\": {\"line\": {\"color\": \"#E5ECF6\", \"width\": 0.5}}, \"type\": \"barpolar\"}], \"carpet\": [{\"aaxis\": {\"endlinecolor\": \"#2a3f5f\", \"gridcolor\": \"white\", \"linecolor\": \"white\", \"minorgridcolor\": \"white\", \"startlinecolor\": \"#2a3f5f\"}, \"baxis\": {\"endlinecolor\": \"#2a3f5f\", \"gridcolor\": \"white\", \"linecolor\": \"white\", \"minorgridcolor\": \"white\", \"startlinecolor\": \"#2a3f5f\"}, \"type\": \"carpet\"}], \"choropleth\": [{\"colorbar\": {\"outlinewidth\": 0, \"ticks\": \"\"}, \"type\": \"choropleth\"}], \"contour\": [{\"colorbar\": {\"outlinewidth\": 0, \"ticks\": \"\"}, \"colorscale\": [[0.0, \"#0d0887\"], [0.1111111111111111, \"#46039f\"], [0.2222222222222222, \"#7201a8\"], [0.3333333333333333, \"#9c179e\"], [0.4444444444444444, \"#bd3786\"], [0.5555555555555556, \"#d8576b\"], [0.6666666666666666, \"#ed7953\"], [0.7777777777777778, \"#fb9f3a\"], [0.8888888888888888, \"#fdca26\"], [1.0, \"#f0f921\"]], \"type\": \"contour\"}], \"contourcarpet\": [{\"colorbar\": {\"outlinewidth\": 0, \"ticks\": \"\"}, \"type\": \"contourcarpet\"}], \"heatmap\": [{\"colorbar\": {\"outlinewidth\": 0, \"ticks\": \"\"}, \"colorscale\": [[0.0, \"#0d0887\"], [0.1111111111111111, \"#46039f\"], [0.2222222222222222, \"#7201a8\"], [0.3333333333333333, \"#9c179e\"], [0.4444444444444444, \"#bd3786\"], [0.5555555555555556, \"#d8576b\"], [0.6666666666666666, \"#ed7953\"], [0.7777777777777778, \"#fb9f3a\"], [0.8888888888888888, \"#fdca26\"], [1.0, \"#f0f921\"]], \"type\": \"heatmap\"}], \"heatmapgl\": [{\"colorbar\": {\"outlinewidth\": 0, \"ticks\": \"\"}, \"colorscale\": [[0.0, \"#0d0887\"], [0.1111111111111111, \"#46039f\"], [0.2222222222222222, \"#7201a8\"], [0.3333333333333333, \"#9c179e\"], [0.4444444444444444, \"#bd3786\"], [0.5555555555555556, \"#d8576b\"], [0.6666666666666666, \"#ed7953\"], [0.7777777777777778, \"#fb9f3a\"], [0.8888888888888888, \"#fdca26\"], [1.0, \"#f0f921\"]], \"type\": \"heatmapgl\"}], \"histogram\": [{\"marker\": {\"colorbar\": {\"outlinewidth\": 0, \"ticks\": \"\"}}, \"type\": \"histogram\"}], \"histogram2d\": [{\"colorbar\": {\"outlinewidth\": 0, \"ticks\": \"\"}, \"colorscale\": [[0.0, \"#0d0887\"], [0.1111111111111111, \"#46039f\"], [0.2222222222222222, \"#7201a8\"], [0.3333333333333333, \"#9c179e\"], [0.4444444444444444, \"#bd3786\"], [0.5555555555555556, \"#d8576b\"], [0.6666666666666666, \"#ed7953\"], [0.7777777777777778, \"#fb9f3a\"], [0.8888888888888888, \"#fdca26\"], [1.0, \"#f0f921\"]], \"type\": \"histogram2d\"}], \"histogram2dcontour\": [{\"colorbar\": {\"outlinewidth\": 0, \"ticks\": \"\"}, \"colorscale\": [[0.0, \"#0d0887\"], [0.1111111111111111, \"#46039f\"], [0.2222222222222222, \"#7201a8\"], [0.3333333333333333, \"#9c179e\"], [0.4444444444444444, \"#bd3786\"], [0.5555555555555556, \"#d8576b\"], [0.6666666666666666, \"#ed7953\"], [0.7777777777777778, \"#fb9f3a\"], [0.8888888888888888, \"#fdca26\"], [1.0, \"#f0f921\"]], \"type\": \"histogram2dcontour\"}], \"mesh3d\": [{\"colorbar\": {\"outlinewidth\": 0, \"ticks\": \"\"}, \"type\": \"mesh3d\"}], \"parcoords\": [{\"line\": {\"colorbar\": {\"outlinewidth\": 0, \"ticks\": \"\"}}, \"type\": \"parcoords\"}], \"pie\": [{\"automargin\": true, \"type\": \"pie\"}], \"scatter\": [{\"marker\": {\"colorbar\": {\"outlinewidth\": 0, \"ticks\": \"\"}}, \"type\": \"scatter\"}], \"scatter3d\": [{\"line\": {\"colorbar\": {\"outlinewidth\": 0, \"ticks\": \"\"}}, \"marker\": {\"colorbar\": {\"outlinewidth\": 0, \"ticks\": \"\"}}, \"type\": \"scatter3d\"}], \"scattercarpet\": [{\"marker\": {\"colorbar\": {\"outlinewidth\": 0, \"ticks\": \"\"}}, \"type\": \"scattercarpet\"}], \"scattergeo\": [{\"marker\": {\"colorbar\": {\"outlinewidth\": 0, \"ticks\": \"\"}}, \"type\": \"scattergeo\"}], \"scattergl\": [{\"marker\": {\"colorbar\": {\"outlinewidth\": 0, \"ticks\": \"\"}}, \"type\": \"scattergl\"}], \"scattermapbox\": [{\"marker\": {\"colorbar\": {\"outlinewidth\": 0, \"ticks\": \"\"}}, \"type\": \"scattermapbox\"}], \"scatterpolar\": [{\"marker\": {\"colorbar\": {\"outlinewidth\": 0, \"ticks\": \"\"}}, \"type\": \"scatterpolar\"}], \"scatterpolargl\": [{\"marker\": {\"colorbar\": {\"outlinewidth\": 0, \"ticks\": \"\"}}, \"type\": \"scatterpolargl\"}], \"scatterternary\": [{\"marker\": {\"colorbar\": {\"outlinewidth\": 0, \"ticks\": \"\"}}, \"type\": \"scatterternary\"}], \"surface\": [{\"colorbar\": {\"outlinewidth\": 0, \"ticks\": \"\"}, \"colorscale\": [[0.0, \"#0d0887\"], [0.1111111111111111, \"#46039f\"], [0.2222222222222222, \"#7201a8\"], [0.3333333333333333, \"#9c179e\"], [0.4444444444444444, \"#bd3786\"], [0.5555555555555556, \"#d8576b\"], [0.6666666666666666, \"#ed7953\"], [0.7777777777777778, \"#fb9f3a\"], [0.8888888888888888, \"#fdca26\"], [1.0, \"#f0f921\"]], \"type\": \"surface\"}], \"table\": [{\"cells\": {\"fill\": {\"color\": \"#EBF0F8\"}, \"line\": {\"color\": \"white\"}}, \"header\": {\"fill\": {\"color\": \"#C8D4E3\"}, \"line\": {\"color\": \"white\"}}, \"type\": \"table\"}]}, \"layout\": {\"annotationdefaults\": {\"arrowcolor\": \"#2a3f5f\", \"arrowhead\": 0, \"arrowwidth\": 1}, \"coloraxis\": {\"colorbar\": {\"outlinewidth\": 0, \"ticks\": \"\"}}, \"colorscale\": {\"diverging\": [[0, \"#8e0152\"], [0.1, \"#c51b7d\"], [0.2, \"#de77ae\"], [0.3, \"#f1b6da\"], [0.4, \"#fde0ef\"], [0.5, \"#f7f7f7\"], [0.6, \"#e6f5d0\"], [0.7, \"#b8e186\"], [0.8, \"#7fbc41\"], [0.9, \"#4d9221\"], [1, \"#276419\"]], \"sequential\": [[0.0, \"#0d0887\"], [0.1111111111111111, \"#46039f\"], [0.2222222222222222, \"#7201a8\"], [0.3333333333333333, \"#9c179e\"], [0.4444444444444444, \"#bd3786\"], [0.5555555555555556, \"#d8576b\"], [0.6666666666666666, \"#ed7953\"], [0.7777777777777778, \"#fb9f3a\"], [0.8888888888888888, \"#fdca26\"], [1.0, \"#f0f921\"]], \"sequentialminus\": [[0.0, \"#0d0887\"], [0.1111111111111111, \"#46039f\"], [0.2222222222222222, \"#7201a8\"], [0.3333333333333333, \"#9c179e\"], [0.4444444444444444, \"#bd3786\"], [0.5555555555555556, \"#d8576b\"], [0.6666666666666666, \"#ed7953\"], [0.7777777777777778, \"#fb9f3a\"], [0.8888888888888888, \"#fdca26\"], [1.0, \"#f0f921\"]]}, \"colorway\": [\"#636efa\", \"#EF553B\", \"#00cc96\", \"#ab63fa\", \"#FFA15A\", \"#19d3f3\", \"#FF6692\", \"#B6E880\", \"#FF97FF\", \"#FECB52\"], \"font\": {\"color\": \"#2a3f5f\"}, \"geo\": {\"bgcolor\": \"white\", \"lakecolor\": \"white\", \"landcolor\": \"#E5ECF6\", \"showlakes\": true, \"showland\": true, \"subunitcolor\": \"white\"}, \"hoverlabel\": {\"align\": \"left\"}, \"hovermode\": \"closest\", \"mapbox\": {\"style\": \"light\"}, \"paper_bgcolor\": \"white\", \"plot_bgcolor\": \"#E5ECF6\", \"polar\": {\"angularaxis\": {\"gridcolor\": \"white\", \"linecolor\": \"white\", \"ticks\": \"\"}, \"bgcolor\": \"#E5ECF6\", \"radialaxis\": {\"gridcolor\": \"white\", \"linecolor\": \"white\", \"ticks\": \"\"}}, \"scene\": {\"xaxis\": {\"backgroundcolor\": \"#E5ECF6\", \"gridcolor\": \"white\", \"gridwidth\": 2, \"linecolor\": \"white\", \"showbackground\": true, \"ticks\": \"\", \"zerolinecolor\": \"white\"}, \"yaxis\": {\"backgroundcolor\": \"#E5ECF6\", \"gridcolor\": \"white\", \"gridwidth\": 2, \"linecolor\": \"white\", \"showbackground\": true, \"ticks\": \"\", \"zerolinecolor\": \"white\"}, \"zaxis\": {\"backgroundcolor\": \"#E5ECF6\", \"gridcolor\": \"white\", \"gridwidth\": 2, \"linecolor\": \"white\", \"showbackground\": true, \"ticks\": \"\", \"zerolinecolor\": \"white\"}}, \"shapedefaults\": {\"line\": {\"color\": \"#2a3f5f\"}}, \"ternary\": {\"aaxis\": {\"gridcolor\": \"white\", \"linecolor\": \"white\", \"ticks\": \"\"}, \"baxis\": {\"gridcolor\": \"white\", \"linecolor\": \"white\", \"ticks\": \"\"}, \"bgcolor\": \"#E5ECF6\", \"caxis\": {\"gridcolor\": \"white\", \"linecolor\": \"white\", \"ticks\": \"\"}}, \"title\": {\"x\": 0.05}, \"xaxis\": {\"automargin\": true, \"gridcolor\": \"white\", \"linecolor\": \"white\", \"ticks\": \"\", \"title\": {\"standoff\": 15}, \"zerolinecolor\": \"white\", \"zerolinewidth\": 2}, \"yaxis\": {\"automargin\": true, \"gridcolor\": \"white\", \"linecolor\": \"white\", \"ticks\": \"\", \"title\": {\"standoff\": 15}, \"zerolinecolor\": \"white\", \"zerolinewidth\": 2}}}, \"title\": {\"text\": \" Mapa de calor entre palabras - Twits relacionados con la \\\"Selecci\\u00f3n\\\"\"}, \"width\": 800},                        {\"responsive\": true}                    ).then(function(){\n",
       "                            \n",
       "var gd = document.getElementById('158c2e7f-9d9e-42ba-a060-737b16753859');\n",
       "var x = new MutationObserver(function (mutations, observer) {{\n",
       "        var display = window.getComputedStyle(gd).display;\n",
       "        if (!display || display === 'none') {{\n",
       "            console.log([gd, 'removed!']);\n",
       "            Plotly.purge(gd);\n",
       "            observer.disconnect();\n",
       "        }}\n",
       "}});\n",
       "\n",
       "// Listen for the removal of the full notebook cells\n",
       "var notebookContainer = gd.closest('#notebook-container');\n",
       "if (notebookContainer) {{\n",
       "    x.observe(notebookContainer, {childList: true});\n",
       "}}\n",
       "\n",
       "// Listen for the clearing of the current output cell\n",
       "var outputEl = gd.closest('.output');\n",
       "if (outputEl) {{\n",
       "    x.observe(outputEl, {childList: true});\n",
       "}}\n",
       "\n",
       "                        })                };                });            </script>        </div>"
      ]
     },
     "metadata": {},
     "output_type": "display_data"
    }
   ],
   "source": [
    "trace = go.Heatmap(z=temp2.values.tolist(),\n",
    "                    x=temp2.index.values,\n",
    "                    y=temp2.columns.values,\n",
    "                    colorscale='Blues')\n",
    " \n",
    "layout = go.Layout(title=' Mapa de calor entre palabras - Twits relacionados con la \"Selección\"', width=800, height=800)\n",
    " \n",
    "fig = go.Figure(data=[trace],layout=layout)\n",
    "\n",
    "iplot(fig)"
   ]
  }
 ],
 "metadata": {
  "kernelspec": {
   "display_name": "Python 3",
   "language": "python",
   "name": "python3"
  },
  "language_info": {
   "codemirror_mode": {
    "name": "ipython",
    "version": 3
   },
   "file_extension": ".py",
   "mimetype": "text/x-python",
   "name": "python",
   "nbconvert_exporter": "python",
   "pygments_lexer": "ipython3",
   "version": "3.7.6"
  }
 },
 "nbformat": 4,
 "nbformat_minor": 2
}
