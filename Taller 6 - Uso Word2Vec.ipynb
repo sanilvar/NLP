{
 "cells": [
  {
   "cell_type": "markdown",
   "metadata": {},
   "source": [
    "<img src='https://encrypted-tbn0.gstatic.com/images?q=tbn%3AANd9GcQ-VfNtOyJbsaxu43Kztf_cv1mgBG6ZIQZEVw&usqp=CAU'>\n",
    "\n",
    "# Procesamiento de Lenguage Natural\n",
    "\n",
    "## Taller #6: Word2Vec\n",
    "\n",
    "`Fecha de entrega: Septiembre 26, 2020. (Antes del inicio de la próxima clase).`\n",
    "\n",
    "`Modo de entrega: Subir link de GitHub al aula virtual.`\n",
    "\n",
    "### Estudiante: Ilvar Dario Sanabria G. \n",
    "### Código      : 616201058"
   ]
  },
  {
   "cell_type": "code",
   "execution_count": 1,
   "metadata": {},
   "outputs": [],
   "source": [
    "import re\n",
    "import numpy as np\n",
    "import pandas as pd\n",
    "\n",
    "from nltk.corpus import stopwords #Palabras vacias\n",
    "stopwords_sp = stopwords.words('spanish')\n",
    "\n",
    "from nltk.stem.snowball import SnowballStemmer #Stemmer\n",
    "spanishStemmer=SnowballStemmer(\"spanish\")\n"
   ]
  },
  {
   "cell_type": "markdown",
   "metadata": {},
   "source": [
    "# Punto 1: Pre-Procesamiento\n",
    "\n",
    "- `[18 pts]` Leer el archivo `Princesas.csv` usando `pandas` y crear una nueva columna con el texto en minúscula, sin caracteres especiales ni números, sin palabras vacias y hacer stemming de las palabras"
   ]
  },
  {
   "cell_type": "code",
   "execution_count": 49,
   "metadata": {},
   "outputs": [],
   "source": [
    "def pre_procesado(texto):\n",
    "    texto = texto.lower()\n",
    "    texto = re.sub(r\"[\\W\\d_]+\", \" \", texto)\n",
    "    texto = \" \".join([palabra for palabra in texto.split() if palabra not in stopwords_sp])\n",
    "    return texto.split()"
   ]
  },
  {
   "cell_type": "markdown",
   "metadata": {},
   "source": [
    "### Busque un texto sobre planificación familiar, lo econtre en PDF y lo converti a Texto"
   ]
  },
  {
   "cell_type": "code",
   "execution_count": 83,
   "metadata": {},
   "outputs": [
    {
     "data": {
      "text/html": [
       "<div>\n",
       "<style scoped>\n",
       "    .dataframe tbody tr th:only-of-type {\n",
       "        vertical-align: middle;\n",
       "    }\n",
       "\n",
       "    .dataframe tbody tr th {\n",
       "        vertical-align: top;\n",
       "    }\n",
       "\n",
       "    .dataframe thead th {\n",
       "        text-align: right;\n",
       "    }\n",
       "</style>\n",
       "<table border=\"1\" class=\"dataframe\">\n",
       "  <thead>\n",
       "    <tr style=\"text-align: right;\">\n",
       "      <th></th>\n",
       "      <th>0</th>\n",
       "    </tr>\n",
       "  </thead>\n",
       "  <tbody>\n",
       "    <tr>\n",
       "      <th>0</th>\n",
       "      <td>SPINE</td>\n",
       "    </tr>\n",
       "    <tr>\n",
       "      <th>1</th>\n",
       "      <td>Planificación familiar</td>\n",
       "    </tr>\n",
       "    <tr>\n",
       "      <th>2</th>\n",
       "      <td>Planificación familiar</td>\n",
       "    </tr>\n",
       "    <tr>\n",
       "      <th>3</th>\n",
       "      <td>2019</td>\n",
       "    </tr>\n",
       "    <tr>\n",
       "      <th>4</th>\n",
       "      <td>EDICIÓN DEL 2019</td>\n",
       "    </tr>\n",
       "    <tr>\n",
       "      <th>...</th>\n",
       "      <td>...</td>\n",
       "    </tr>\n",
       "    <tr>\n",
       "      <th>23953</th>\n",
       "      <td>Menos de 1 embarazo por</td>\n",
       "    </tr>\n",
       "    <tr>\n",
       "      <th>23954</th>\n",
       "      <td>cada 100 mujeres en un año</td>\n",
       "    </tr>\n",
       "    <tr>\n",
       "      <th>23955</th>\n",
       "      <td>Más efectivo</td>\n",
       "    </tr>\n",
       "    <tr>\n",
       "      <th>23956</th>\n",
       "      <td>NUEVO</td>\n",
       "    </tr>\n",
       "    <tr>\n",
       "      <th>23957</th>\n",
       "      <td>2019</td>\n",
       "    </tr>\n",
       "  </tbody>\n",
       "</table>\n",
       "<p>23958 rows × 1 columns</p>\n",
       "</div>"
      ],
      "text/plain": [
       "                                0\n",
       "0                           SPINE\n",
       "1          Planificación familiar\n",
       "2          Planificación familiar\n",
       "3                            2019\n",
       "4                EDICIÓN DEL 2019\n",
       "...                           ...\n",
       "23953     Menos de 1 embarazo por\n",
       "23954  cada 100 mujeres en un año\n",
       "23955                Más efectivo\n",
       "23956                       NUEVO\n",
       "23957                        2019\n",
       "\n",
       "[23958 rows x 1 columns]"
      ]
     },
     "execution_count": 83,
     "metadata": {},
     "output_type": "execute_result"
    }
   ],
   "source": [
    "textoPF = pd.read_fwf(\"c:/tmp/PF texto02.txt\", encoding='utf-8',sep=\" \",header=None )\n",
    "textoPF"
   ]
  },
  {
   "cell_type": "code",
   "execution_count": 84,
   "metadata": {},
   "outputs": [
    {
     "data": {
      "text/html": [
       "<div>\n",
       "<style scoped>\n",
       "    .dataframe tbody tr th:only-of-type {\n",
       "        vertical-align: middle;\n",
       "    }\n",
       "\n",
       "    .dataframe tbody tr th {\n",
       "        vertical-align: top;\n",
       "    }\n",
       "\n",
       "    .dataframe thead th {\n",
       "        text-align: right;\n",
       "    }\n",
       "</style>\n",
       "<table border=\"1\" class=\"dataframe\">\n",
       "  <thead>\n",
       "    <tr style=\"text-align: right;\">\n",
       "      <th></th>\n",
       "      <th>0</th>\n",
       "      <th>pp</th>\n",
       "    </tr>\n",
       "  </thead>\n",
       "  <tbody>\n",
       "    <tr>\n",
       "      <th>0</th>\n",
       "      <td>SPINE</td>\n",
       "      <td>[spine]</td>\n",
       "    </tr>\n",
       "    <tr>\n",
       "      <th>1</th>\n",
       "      <td>Planificación familiar</td>\n",
       "      <td>[planificación, familiar]</td>\n",
       "    </tr>\n",
       "    <tr>\n",
       "      <th>2</th>\n",
       "      <td>Planificación familiar</td>\n",
       "      <td>[planificación, familiar]</td>\n",
       "    </tr>\n",
       "    <tr>\n",
       "      <th>3</th>\n",
       "      <td>2019</td>\n",
       "      <td>[]</td>\n",
       "    </tr>\n",
       "    <tr>\n",
       "      <th>4</th>\n",
       "      <td>EDICIÓN DEL 2019</td>\n",
       "      <td>[edición]</td>\n",
       "    </tr>\n",
       "  </tbody>\n",
       "</table>\n",
       "</div>"
      ],
      "text/plain": [
       "                        0                         pp\n",
       "0                   SPINE                    [spine]\n",
       "1  Planificación familiar  [planificación, familiar]\n",
       "2  Planificación familiar  [planificación, familiar]\n",
       "3                    2019                         []\n",
       "4        EDICIÓN DEL 2019                  [edición]"
      ]
     },
     "execution_count": 84,
     "metadata": {},
     "output_type": "execute_result"
    }
   ],
   "source": [
    "textoPF['pp'] = textoPF[0].apply(lambda texto: pre_procesado(texto))\n",
    "\n",
    "textoPF.head()"
   ]
  },
  {
   "cell_type": "code",
   "execution_count": 76,
   "metadata": {},
   "outputs": [],
   "source": [
    "import gensim.models.word2vec as w2v"
   ]
  },
  {
   "cell_type": "code",
   "execution_count": 85,
   "metadata": {},
   "outputs": [
    {
     "data": {
      "text/plain": [
       "array([list(['spine']), list(['planificación', 'familiar']),\n",
       "       list(['planificación', 'familiar']), ..., list(['efectivo']),\n",
       "       list(['nuevo']), list([])], dtype=object)"
      ]
     },
     "execution_count": 85,
     "metadata": {},
     "output_type": "execute_result"
    }
   ],
   "source": [
    "textoPF['pp'].values"
   ]
  },
  {
   "cell_type": "markdown",
   "metadata": {},
   "source": [
    "### Se genera un modelo con base en el texto de PF"
   ]
  },
  {
   "cell_type": "code",
   "execution_count": 86,
   "metadata": {},
   "outputs": [],
   "source": [
    "mi_modelo = w2v.Word2Vec(textoPF['pp'].values,\n",
    "                          sg=1, # 1 skip-gram. 0 CBOW\n",
    "                          seed=24092020, # semilla\n",
    "                          size=256, # número de dimensiones\n",
    "                          min_count=50,\n",
    "                          window=12)"
   ]
  },
  {
   "cell_type": "code",
   "execution_count": 101,
   "metadata": {},
   "outputs": [],
   "source": [
    "from sklearn.decomposition import PCA\n",
    "\n",
    "import matplotlib.pyplot as plt\n",
    "import plotly.graph_objs as go\n",
    "from plotly.offline import iplot"
   ]
  },
  {
   "cell_type": "markdown",
   "metadata": {},
   "source": [
    "### Buscamos parabras similares para algunos terminos tipicos de la jerga de Planificación Familiar"
   ]
  },
  {
   "cell_type": "code",
   "execution_count": 88,
   "metadata": {},
   "outputs": [
    {
     "name": "stdout",
     "output_type": "stream",
     "text": [
      "['hijo', 'además', 'ejemplo', 'período', 'usa', 'hombre', 'pene', 'm', 'ambos', 'diafragma']\n"
     ]
    }
   ],
   "source": [
    "#obtener palabras similares\n",
    "vocab = [e[0] for e in mi_modelo.wv.most_similar(\"hijos\")]\n",
    "print(vocab)\n"
   ]
  },
  {
   "cell_type": "code",
   "execution_count": 89,
   "metadata": {},
   "outputs": [
    {
     "name": "stdout",
     "output_type": "stream",
     "text": [
      "['quiere', 'menstruación', 'restablecido', 'si', 'seguir', 'incluso', 'siempre', 'afección', 'vez', 'algún']\n"
     ]
    }
   ],
   "source": [
    "vocab = [e[0] for e in mi_modelo.wv.most_similar(\"mujer\")]\n",
    "print(vocab)"
   ]
  },
  {
   "cell_type": "code",
   "execution_count": 90,
   "metadata": {},
   "outputs": [
    {
     "name": "stdout",
     "output_type": "stream",
     "text": [
      "['cómo', 'personas', 'parejas', 'hombre', 'hijos', 'usuario', 'mayor', 'tener', 'usuaria', 'usan']\n"
     ]
    }
   ],
   "source": [
    "vocab = [e[0] for e in mi_modelo.wv.most_similar(\"pareja\")]\n",
    "print(vocab)"
   ]
  },
  {
   "cell_type": "code",
   "execution_count": 96,
   "metadata": {},
   "outputs": [
    {
     "name": "stdout",
     "output_type": "stream",
     "text": [
      "['síntomas', 'haga', 'afecciones', 'seguimiento', 's', 'prevención', 'pélvica', 'l', 'tratamiento', 'mayor']\n"
     ]
    }
   ],
   "source": [
    "vocab = [e[0] for e in mi_modelo.wv.most_similar(\"embarazo\")]\n",
    "print(vocab)"
   ]
  },
  {
   "cell_type": "code",
   "execution_count": 113,
   "metadata": {},
   "outputs": [
    {
     "ename": "KeyError",
     "evalue": "\"word 'sexo' not in vocabulary\"",
     "output_type": "error",
     "traceback": [
      "\u001b[1;31m---------------------------------------------------------------------------\u001b[0m",
      "\u001b[1;31mKeyError\u001b[0m                                  Traceback (most recent call last)",
      "\u001b[1;32m<ipython-input-113-034a4f11ccd9>\u001b[0m in \u001b[0;36m<module>\u001b[1;34m\u001b[0m\n\u001b[1;32m----> 1\u001b[1;33m \u001b[0mvocab\u001b[0m \u001b[1;33m=\u001b[0m \u001b[1;33m[\u001b[0m\u001b[0me\u001b[0m\u001b[1;33m[\u001b[0m\u001b[1;36m0\u001b[0m\u001b[1;33m]\u001b[0m \u001b[1;32mfor\u001b[0m \u001b[0me\u001b[0m \u001b[1;32min\u001b[0m \u001b[0mmi_modelo\u001b[0m\u001b[1;33m.\u001b[0m\u001b[0mwv\u001b[0m\u001b[1;33m.\u001b[0m\u001b[0mmost_similar\u001b[0m\u001b[1;33m(\u001b[0m\u001b[1;34m\"sexo\"\u001b[0m\u001b[1;33m)\u001b[0m\u001b[1;33m]\u001b[0m\u001b[1;33m\u001b[0m\u001b[1;33m\u001b[0m\u001b[0m\n\u001b[0m\u001b[0;32m      2\u001b[0m \u001b[0mprint\u001b[0m\u001b[1;33m(\u001b[0m\u001b[0mvocab\u001b[0m\u001b[1;33m)\u001b[0m\u001b[1;33m\u001b[0m\u001b[1;33m\u001b[0m\u001b[0m\n",
      "\u001b[1;32m~\\Anaconda3\\lib\\site-packages\\gensim\\models\\keyedvectors.py\u001b[0m in \u001b[0;36mmost_similar\u001b[1;34m(self, positive, negative, topn, restrict_vocab, indexer)\u001b[0m\n\u001b[0;32m    551\u001b[0m                 \u001b[0mmean\u001b[0m\u001b[1;33m.\u001b[0m\u001b[0mappend\u001b[0m\u001b[1;33m(\u001b[0m\u001b[0mweight\u001b[0m \u001b[1;33m*\u001b[0m \u001b[0mword\u001b[0m\u001b[1;33m)\u001b[0m\u001b[1;33m\u001b[0m\u001b[1;33m\u001b[0m\u001b[0m\n\u001b[0;32m    552\u001b[0m             \u001b[1;32melse\u001b[0m\u001b[1;33m:\u001b[0m\u001b[1;33m\u001b[0m\u001b[1;33m\u001b[0m\u001b[0m\n\u001b[1;32m--> 553\u001b[1;33m                 \u001b[0mmean\u001b[0m\u001b[1;33m.\u001b[0m\u001b[0mappend\u001b[0m\u001b[1;33m(\u001b[0m\u001b[0mweight\u001b[0m \u001b[1;33m*\u001b[0m \u001b[0mself\u001b[0m\u001b[1;33m.\u001b[0m\u001b[0mword_vec\u001b[0m\u001b[1;33m(\u001b[0m\u001b[0mword\u001b[0m\u001b[1;33m,\u001b[0m \u001b[0muse_norm\u001b[0m\u001b[1;33m=\u001b[0m\u001b[1;32mTrue\u001b[0m\u001b[1;33m)\u001b[0m\u001b[1;33m)\u001b[0m\u001b[1;33m\u001b[0m\u001b[1;33m\u001b[0m\u001b[0m\n\u001b[0m\u001b[0;32m    554\u001b[0m                 \u001b[1;32mif\u001b[0m \u001b[0mword\u001b[0m \u001b[1;32min\u001b[0m \u001b[0mself\u001b[0m\u001b[1;33m.\u001b[0m\u001b[0mvocab\u001b[0m\u001b[1;33m:\u001b[0m\u001b[1;33m\u001b[0m\u001b[1;33m\u001b[0m\u001b[0m\n\u001b[0;32m    555\u001b[0m                     \u001b[0mall_words\u001b[0m\u001b[1;33m.\u001b[0m\u001b[0madd\u001b[0m\u001b[1;33m(\u001b[0m\u001b[0mself\u001b[0m\u001b[1;33m.\u001b[0m\u001b[0mvocab\u001b[0m\u001b[1;33m[\u001b[0m\u001b[0mword\u001b[0m\u001b[1;33m]\u001b[0m\u001b[1;33m.\u001b[0m\u001b[0mindex\u001b[0m\u001b[1;33m)\u001b[0m\u001b[1;33m\u001b[0m\u001b[1;33m\u001b[0m\u001b[0m\n",
      "\u001b[1;32m~\\Anaconda3\\lib\\site-packages\\gensim\\models\\keyedvectors.py\u001b[0m in \u001b[0;36mword_vec\u001b[1;34m(self, word, use_norm)\u001b[0m\n\u001b[0;32m    466\u001b[0m             \u001b[1;32mreturn\u001b[0m \u001b[0mresult\u001b[0m\u001b[1;33m\u001b[0m\u001b[1;33m\u001b[0m\u001b[0m\n\u001b[0;32m    467\u001b[0m         \u001b[1;32melse\u001b[0m\u001b[1;33m:\u001b[0m\u001b[1;33m\u001b[0m\u001b[1;33m\u001b[0m\u001b[0m\n\u001b[1;32m--> 468\u001b[1;33m             \u001b[1;32mraise\u001b[0m \u001b[0mKeyError\u001b[0m\u001b[1;33m(\u001b[0m\u001b[1;34m\"word '%s' not in vocabulary\"\u001b[0m \u001b[1;33m%\u001b[0m \u001b[0mword\u001b[0m\u001b[1;33m)\u001b[0m\u001b[1;33m\u001b[0m\u001b[1;33m\u001b[0m\u001b[0m\n\u001b[0m\u001b[0;32m    469\u001b[0m \u001b[1;33m\u001b[0m\u001b[0m\n\u001b[0;32m    470\u001b[0m     \u001b[1;32mdef\u001b[0m \u001b[0mget_vector\u001b[0m\u001b[1;33m(\u001b[0m\u001b[0mself\u001b[0m\u001b[1;33m,\u001b[0m \u001b[0mword\u001b[0m\u001b[1;33m)\u001b[0m\u001b[1;33m:\u001b[0m\u001b[1;33m\u001b[0m\u001b[1;33m\u001b[0m\u001b[0m\n",
      "\u001b[1;31mKeyError\u001b[0m: \"word 'sexo' not in vocabulary\""
     ]
    }
   ],
   "source": [
    "vocab = [e[0] for e in mi_modelo.wv.most_similar(\"sexo\")]\n",
    "print(vocab)\n"
   ]
  },
  {
   "cell_type": "code",
   "execution_count": 108,
   "metadata": {},
   "outputs": [
    {
     "name": "stderr",
     "output_type": "stream",
     "text": [
      "C:\\Users\\User\\Anaconda3\\lib\\site-packages\\ipykernel_launcher.py:2: DeprecationWarning:\n",
      "\n",
      "Call to deprecated `__getitem__` (Method will be removed in 4.0.0, use self.wv.__getitem__() instead).\n",
      "\n"
     ]
    },
    {
     "data": {
      "text/html": [
       "<div>\n",
       "<style scoped>\n",
       "    .dataframe tbody tr th:only-of-type {\n",
       "        vertical-align: middle;\n",
       "    }\n",
       "\n",
       "    .dataframe tbody tr th {\n",
       "        vertical-align: top;\n",
       "    }\n",
       "\n",
       "    .dataframe thead th {\n",
       "        text-align: right;\n",
       "    }\n",
       "</style>\n",
       "<table border=\"1\" class=\"dataframe\">\n",
       "  <thead>\n",
       "    <tr style=\"text-align: right;\">\n",
       "      <th></th>\n",
       "      <th>0</th>\n",
       "      <th>1</th>\n",
       "      <th>2</th>\n",
       "      <th>3</th>\n",
       "      <th>4</th>\n",
       "      <th>5</th>\n",
       "      <th>6</th>\n",
       "      <th>7</th>\n",
       "      <th>8</th>\n",
       "      <th>9</th>\n",
       "      <th>...</th>\n",
       "      <th>246</th>\n",
       "      <th>247</th>\n",
       "      <th>248</th>\n",
       "      <th>249</th>\n",
       "      <th>250</th>\n",
       "      <th>251</th>\n",
       "      <th>252</th>\n",
       "      <th>253</th>\n",
       "      <th>254</th>\n",
       "      <th>255</th>\n",
       "    </tr>\n",
       "  </thead>\n",
       "  <tbody>\n",
       "    <tr>\n",
       "      <th>planificación</th>\n",
       "      <td>0.484532</td>\n",
       "      <td>0.031767</td>\n",
       "      <td>0.180959</td>\n",
       "      <td>-0.300420</td>\n",
       "      <td>0.229313</td>\n",
       "      <td>0.165234</td>\n",
       "      <td>0.289575</td>\n",
       "      <td>-0.139772</td>\n",
       "      <td>0.033905</td>\n",
       "      <td>0.188920</td>\n",
       "      <td>...</td>\n",
       "      <td>-0.094749</td>\n",
       "      <td>-0.125020</td>\n",
       "      <td>-0.085986</td>\n",
       "      <td>-0.164748</td>\n",
       "      <td>0.467016</td>\n",
       "      <td>0.155249</td>\n",
       "      <td>-0.103843</td>\n",
       "      <td>0.221451</td>\n",
       "      <td>-0.150140</td>\n",
       "      <td>-0.070342</td>\n",
       "    </tr>\n",
       "    <tr>\n",
       "      <th>familiar</th>\n",
       "      <td>0.451668</td>\n",
       "      <td>0.030278</td>\n",
       "      <td>0.170718</td>\n",
       "      <td>-0.275606</td>\n",
       "      <td>0.197108</td>\n",
       "      <td>0.149303</td>\n",
       "      <td>0.292427</td>\n",
       "      <td>-0.173422</td>\n",
       "      <td>0.032559</td>\n",
       "      <td>0.205342</td>\n",
       "      <td>...</td>\n",
       "      <td>-0.086525</td>\n",
       "      <td>-0.138698</td>\n",
       "      <td>-0.108876</td>\n",
       "      <td>-0.187925</td>\n",
       "      <td>0.505206</td>\n",
       "      <td>0.178896</td>\n",
       "      <td>-0.108134</td>\n",
       "      <td>0.237065</td>\n",
       "      <td>-0.166672</td>\n",
       "      <td>-0.070168</td>\n",
       "    </tr>\n",
       "    <tr>\n",
       "      <th>embarazos</th>\n",
       "      <td>0.190497</td>\n",
       "      <td>-0.032928</td>\n",
       "      <td>-0.026884</td>\n",
       "      <td>-0.106884</td>\n",
       "      <td>0.152387</td>\n",
       "      <td>0.016502</td>\n",
       "      <td>0.153093</td>\n",
       "      <td>0.010658</td>\n",
       "      <td>0.057413</td>\n",
       "      <td>-0.008811</td>\n",
       "      <td>...</td>\n",
       "      <td>-0.072826</td>\n",
       "      <td>-0.010502</td>\n",
       "      <td>-0.058083</td>\n",
       "      <td>-0.020084</td>\n",
       "      <td>0.122712</td>\n",
       "      <td>0.044625</td>\n",
       "      <td>-0.057293</td>\n",
       "      <td>0.115261</td>\n",
       "      <td>0.087659</td>\n",
       "      <td>-0.001141</td>\n",
       "    </tr>\n",
       "    <tr>\n",
       "      <th>cada</th>\n",
       "      <td>0.152270</td>\n",
       "      <td>-0.032350</td>\n",
       "      <td>-0.040603</td>\n",
       "      <td>-0.080021</td>\n",
       "      <td>0.127565</td>\n",
       "      <td>0.004792</td>\n",
       "      <td>0.149220</td>\n",
       "      <td>-0.003396</td>\n",
       "      <td>0.065097</td>\n",
       "      <td>-0.013324</td>\n",
       "      <td>...</td>\n",
       "      <td>-0.079053</td>\n",
       "      <td>0.003584</td>\n",
       "      <td>-0.076410</td>\n",
       "      <td>-0.019393</td>\n",
       "      <td>0.118536</td>\n",
       "      <td>0.060567</td>\n",
       "      <td>-0.064124</td>\n",
       "      <td>0.113948</td>\n",
       "      <td>0.109067</td>\n",
       "      <td>0.018467</td>\n",
       "    </tr>\n",
       "    <tr>\n",
       "      <th>mujeres</th>\n",
       "      <td>0.116867</td>\n",
       "      <td>-0.037226</td>\n",
       "      <td>-0.022280</td>\n",
       "      <td>-0.044902</td>\n",
       "      <td>0.083390</td>\n",
       "      <td>-0.027420</td>\n",
       "      <td>0.113128</td>\n",
       "      <td>-0.019506</td>\n",
       "      <td>0.034965</td>\n",
       "      <td>-0.007491</td>\n",
       "      <td>...</td>\n",
       "      <td>-0.057785</td>\n",
       "      <td>-0.003837</td>\n",
       "      <td>-0.066075</td>\n",
       "      <td>-0.018531</td>\n",
       "      <td>0.168266</td>\n",
       "      <td>0.044770</td>\n",
       "      <td>-0.015982</td>\n",
       "      <td>0.103789</td>\n",
       "      <td>0.105032</td>\n",
       "      <td>0.015013</td>\n",
       "    </tr>\n",
       "    <tr>\n",
       "      <th>...</th>\n",
       "      <td>...</td>\n",
       "      <td>...</td>\n",
       "      <td>...</td>\n",
       "      <td>...</td>\n",
       "      <td>...</td>\n",
       "      <td>...</td>\n",
       "      <td>...</td>\n",
       "      <td>...</td>\n",
       "      <td>...</td>\n",
       "      <td>...</td>\n",
       "      <td>...</td>\n",
       "      <td>...</td>\n",
       "      <td>...</td>\n",
       "      <td>...</td>\n",
       "      <td>...</td>\n",
       "      <td>...</td>\n",
       "      <td>...</td>\n",
       "      <td>...</td>\n",
       "      <td>...</td>\n",
       "      <td>...</td>\n",
       "      <td>...</td>\n",
       "    </tr>\n",
       "    <tr>\n",
       "      <th>útero</th>\n",
       "      <td>0.178249</td>\n",
       "      <td>-0.027496</td>\n",
       "      <td>-0.028352</td>\n",
       "      <td>-0.096632</td>\n",
       "      <td>0.160710</td>\n",
       "      <td>-0.014247</td>\n",
       "      <td>0.154349</td>\n",
       "      <td>0.025201</td>\n",
       "      <td>0.033649</td>\n",
       "      <td>-0.033970</td>\n",
       "      <td>...</td>\n",
       "      <td>-0.056808</td>\n",
       "      <td>-0.015325</td>\n",
       "      <td>-0.029319</td>\n",
       "      <td>0.001026</td>\n",
       "      <td>0.091136</td>\n",
       "      <td>0.033957</td>\n",
       "      <td>-0.042666</td>\n",
       "      <td>0.099330</td>\n",
       "      <td>0.075589</td>\n",
       "      <td>-0.020234</td>\n",
       "    </tr>\n",
       "    <tr>\n",
       "      <th>zona</th>\n",
       "      <td>0.191682</td>\n",
       "      <td>-0.030788</td>\n",
       "      <td>-0.025539</td>\n",
       "      <td>-0.118433</td>\n",
       "      <td>0.172381</td>\n",
       "      <td>-0.006820</td>\n",
       "      <td>0.160489</td>\n",
       "      <td>0.026208</td>\n",
       "      <td>0.044212</td>\n",
       "      <td>-0.027648</td>\n",
       "      <td>...</td>\n",
       "      <td>-0.059722</td>\n",
       "      <td>-0.016316</td>\n",
       "      <td>-0.024004</td>\n",
       "      <td>-0.001848</td>\n",
       "      <td>0.092724</td>\n",
       "      <td>0.048876</td>\n",
       "      <td>-0.038121</td>\n",
       "      <td>0.102519</td>\n",
       "      <td>0.065685</td>\n",
       "      <td>-0.031930</td>\n",
       "    </tr>\n",
       "    <tr>\n",
       "      <th>capuchón</th>\n",
       "      <td>0.194403</td>\n",
       "      <td>-0.033792</td>\n",
       "      <td>-0.019391</td>\n",
       "      <td>-0.118012</td>\n",
       "      <td>0.172176</td>\n",
       "      <td>0.006997</td>\n",
       "      <td>0.157148</td>\n",
       "      <td>0.036829</td>\n",
       "      <td>0.046902</td>\n",
       "      <td>-0.019826</td>\n",
       "      <td>...</td>\n",
       "      <td>-0.061665</td>\n",
       "      <td>-0.024074</td>\n",
       "      <td>-0.032483</td>\n",
       "      <td>-0.008971</td>\n",
       "      <td>0.100153</td>\n",
       "      <td>0.034106</td>\n",
       "      <td>-0.050410</td>\n",
       "      <td>0.104034</td>\n",
       "      <td>0.072846</td>\n",
       "      <td>-0.020959</td>\n",
       "    </tr>\n",
       "    <tr>\n",
       "      <th>pene</th>\n",
       "      <td>0.165317</td>\n",
       "      <td>-0.033421</td>\n",
       "      <td>-0.021785</td>\n",
       "      <td>-0.089898</td>\n",
       "      <td>0.144358</td>\n",
       "      <td>-0.020891</td>\n",
       "      <td>0.148253</td>\n",
       "      <td>0.013346</td>\n",
       "      <td>0.040049</td>\n",
       "      <td>-0.021151</td>\n",
       "      <td>...</td>\n",
       "      <td>-0.053575</td>\n",
       "      <td>-0.016447</td>\n",
       "      <td>-0.038927</td>\n",
       "      <td>-0.006977</td>\n",
       "      <td>0.102870</td>\n",
       "      <td>0.053387</td>\n",
       "      <td>-0.040216</td>\n",
       "      <td>0.104648</td>\n",
       "      <td>0.067675</td>\n",
       "      <td>-0.015055</td>\n",
       "    </tr>\n",
       "    <tr>\n",
       "      <th>látex</th>\n",
       "      <td>0.183732</td>\n",
       "      <td>-0.031258</td>\n",
       "      <td>-0.021956</td>\n",
       "      <td>-0.107573</td>\n",
       "      <td>0.154594</td>\n",
       "      <td>-0.008324</td>\n",
       "      <td>0.151788</td>\n",
       "      <td>0.015358</td>\n",
       "      <td>0.037334</td>\n",
       "      <td>-0.016987</td>\n",
       "      <td>...</td>\n",
       "      <td>-0.054975</td>\n",
       "      <td>-0.016090</td>\n",
       "      <td>-0.037117</td>\n",
       "      <td>-0.014829</td>\n",
       "      <td>0.108498</td>\n",
       "      <td>0.043687</td>\n",
       "      <td>-0.040686</td>\n",
       "      <td>0.106443</td>\n",
       "      <td>0.067858</td>\n",
       "      <td>-0.012292</td>\n",
       "    </tr>\n",
       "  </tbody>\n",
       "</table>\n",
       "<p>306 rows × 256 columns</p>\n",
       "</div>"
      ],
      "text/plain": [
       "                    0         1         2         3         4         5    \\\n",
       "planificación  0.484532  0.031767  0.180959 -0.300420  0.229313  0.165234   \n",
       "familiar       0.451668  0.030278  0.170718 -0.275606  0.197108  0.149303   \n",
       "embarazos      0.190497 -0.032928 -0.026884 -0.106884  0.152387  0.016502   \n",
       "cada           0.152270 -0.032350 -0.040603 -0.080021  0.127565  0.004792   \n",
       "mujeres        0.116867 -0.037226 -0.022280 -0.044902  0.083390 -0.027420   \n",
       "...                 ...       ...       ...       ...       ...       ...   \n",
       "útero          0.178249 -0.027496 -0.028352 -0.096632  0.160710 -0.014247   \n",
       "zona           0.191682 -0.030788 -0.025539 -0.118433  0.172381 -0.006820   \n",
       "capuchón       0.194403 -0.033792 -0.019391 -0.118012  0.172176  0.006997   \n",
       "pene           0.165317 -0.033421 -0.021785 -0.089898  0.144358 -0.020891   \n",
       "látex          0.183732 -0.031258 -0.021956 -0.107573  0.154594 -0.008324   \n",
       "\n",
       "                    6         7         8         9    ...       246  \\\n",
       "planificación  0.289575 -0.139772  0.033905  0.188920  ... -0.094749   \n",
       "familiar       0.292427 -0.173422  0.032559  0.205342  ... -0.086525   \n",
       "embarazos      0.153093  0.010658  0.057413 -0.008811  ... -0.072826   \n",
       "cada           0.149220 -0.003396  0.065097 -0.013324  ... -0.079053   \n",
       "mujeres        0.113128 -0.019506  0.034965 -0.007491  ... -0.057785   \n",
       "...                 ...       ...       ...       ...  ...       ...   \n",
       "útero          0.154349  0.025201  0.033649 -0.033970  ... -0.056808   \n",
       "zona           0.160489  0.026208  0.044212 -0.027648  ... -0.059722   \n",
       "capuchón       0.157148  0.036829  0.046902 -0.019826  ... -0.061665   \n",
       "pene           0.148253  0.013346  0.040049 -0.021151  ... -0.053575   \n",
       "látex          0.151788  0.015358  0.037334 -0.016987  ... -0.054975   \n",
       "\n",
       "                    247       248       249       250       251       252  \\\n",
       "planificación -0.125020 -0.085986 -0.164748  0.467016  0.155249 -0.103843   \n",
       "familiar      -0.138698 -0.108876 -0.187925  0.505206  0.178896 -0.108134   \n",
       "embarazos     -0.010502 -0.058083 -0.020084  0.122712  0.044625 -0.057293   \n",
       "cada           0.003584 -0.076410 -0.019393  0.118536  0.060567 -0.064124   \n",
       "mujeres       -0.003837 -0.066075 -0.018531  0.168266  0.044770 -0.015982   \n",
       "...                 ...       ...       ...       ...       ...       ...   \n",
       "útero         -0.015325 -0.029319  0.001026  0.091136  0.033957 -0.042666   \n",
       "zona          -0.016316 -0.024004 -0.001848  0.092724  0.048876 -0.038121   \n",
       "capuchón      -0.024074 -0.032483 -0.008971  0.100153  0.034106 -0.050410   \n",
       "pene          -0.016447 -0.038927 -0.006977  0.102870  0.053387 -0.040216   \n",
       "látex         -0.016090 -0.037117 -0.014829  0.108498  0.043687 -0.040686   \n",
       "\n",
       "                    253       254       255  \n",
       "planificación  0.221451 -0.150140 -0.070342  \n",
       "familiar       0.237065 -0.166672 -0.070168  \n",
       "embarazos      0.115261  0.087659 -0.001141  \n",
       "cada           0.113948  0.109067  0.018467  \n",
       "mujeres        0.103789  0.105032  0.015013  \n",
       "...                 ...       ...       ...  \n",
       "útero          0.099330  0.075589 -0.020234  \n",
       "zona           0.102519  0.065685 -0.031930  \n",
       "capuchón       0.104034  0.072846 -0.020959  \n",
       "pene           0.104648  0.067675 -0.015055  \n",
       "látex          0.106443  0.067858 -0.012292  \n",
       "\n",
       "[306 rows x 256 columns]"
      ]
     },
     "execution_count": 108,
     "metadata": {},
     "output_type": "execute_result"
    }
   ],
   "source": [
    "#Se obtiene la matriz\n",
    "X = mi_modelo[mi_modelo.wv.vocab]\n",
    "matrix = pd.DataFrame(X)\n",
    "matrix.index = mi_modelo.wv.vocab.keys()\n",
    "matrix"
   ]
  },
  {
   "cell_type": "code",
   "execution_count": 105,
   "metadata": {},
   "outputs": [
    {
     "data": {
      "text/html": [
       "<div>\n",
       "<style scoped>\n",
       "    .dataframe tbody tr th:only-of-type {\n",
       "        vertical-align: middle;\n",
       "    }\n",
       "\n",
       "    .dataframe tbody tr th {\n",
       "        vertical-align: top;\n",
       "    }\n",
       "\n",
       "    .dataframe thead th {\n",
       "        text-align: right;\n",
       "    }\n",
       "</style>\n",
       "<table border=\"1\" class=\"dataframe\">\n",
       "  <thead>\n",
       "    <tr style=\"text-align: right;\">\n",
       "      <th></th>\n",
       "      <th>X</th>\n",
       "      <th>Y</th>\n",
       "      <th>Palabra</th>\n",
       "    </tr>\n",
       "  </thead>\n",
       "  <tbody>\n",
       "    <tr>\n",
       "      <th>0</th>\n",
       "      <td>1.759023</td>\n",
       "      <td>2.062819</td>\n",
       "      <td>planificación</td>\n",
       "    </tr>\n",
       "    <tr>\n",
       "      <th>1</th>\n",
       "      <td>1.733612</td>\n",
       "      <td>2.210212</td>\n",
       "      <td>familiar</td>\n",
       "    </tr>\n",
       "    <tr>\n",
       "      <th>2</th>\n",
       "      <td>0.044063</td>\n",
       "      <td>0.039438</td>\n",
       "      <td>embarazos</td>\n",
       "    </tr>\n",
       "    <tr>\n",
       "      <th>3</th>\n",
       "      <td>-0.159692</td>\n",
       "      <td>-0.027642</td>\n",
       "      <td>cada</td>\n",
       "    </tr>\n",
       "    <tr>\n",
       "      <th>4</th>\n",
       "      <td>-0.326172</td>\n",
       "      <td>0.050669</td>\n",
       "      <td>mujeres</td>\n",
       "    </tr>\n",
       "    <tr>\n",
       "      <th>...</th>\n",
       "      <td>...</td>\n",
       "      <td>...</td>\n",
       "      <td>...</td>\n",
       "    </tr>\n",
       "    <tr>\n",
       "      <th>301</th>\n",
       "      <td>-0.025136</td>\n",
       "      <td>-0.121583</td>\n",
       "      <td>útero</td>\n",
       "    </tr>\n",
       "    <tr>\n",
       "      <th>302</th>\n",
       "      <td>0.055360</td>\n",
       "      <td>-0.087240</td>\n",
       "      <td>zona</td>\n",
       "    </tr>\n",
       "    <tr>\n",
       "      <th>303</th>\n",
       "      <td>0.083582</td>\n",
       "      <td>-0.042596</td>\n",
       "      <td>capuchón</td>\n",
       "    </tr>\n",
       "    <tr>\n",
       "      <th>304</th>\n",
       "      <td>-0.049722</td>\n",
       "      <td>-0.034791</td>\n",
       "      <td>pene</td>\n",
       "    </tr>\n",
       "    <tr>\n",
       "      <th>305</th>\n",
       "      <td>0.015930</td>\n",
       "      <td>-0.012280</td>\n",
       "      <td>látex</td>\n",
       "    </tr>\n",
       "  </tbody>\n",
       "</table>\n",
       "<p>306 rows × 3 columns</p>\n",
       "</div>"
      ],
      "text/plain": [
       "            X         Y        Palabra\n",
       "0    1.759023  2.062819  planificación\n",
       "1    1.733612  2.210212       familiar\n",
       "2    0.044063  0.039438      embarazos\n",
       "3   -0.159692 -0.027642           cada\n",
       "4   -0.326172  0.050669        mujeres\n",
       "..        ...       ...            ...\n",
       "301 -0.025136 -0.121583          útero\n",
       "302  0.055360 -0.087240           zona\n",
       "303  0.083582 -0.042596       capuchón\n",
       "304 -0.049722 -0.034791           pene\n",
       "305  0.015930 -0.012280          látex\n",
       "\n",
       "[306 rows x 3 columns]"
      ]
     },
     "execution_count": 105,
     "metadata": {},
     "output_type": "execute_result"
    }
   ],
   "source": [
    "#Se cambia el tamaño a dos componentes\n",
    "pca = PCA(n_components=2)\n",
    " \n",
    "result = pca.fit_transform(matrix)\n",
    "result = pd.DataFrame(result)\n",
    "result.columns = ['X', 'Y']\n",
    "result['Palabra'] = matrix.index.values\n",
    " \n",
    "result"
   ]
  },
  {
   "cell_type": "code",
   "execution_count": 106,
   "metadata": {},
   "outputs": [
    {
     "data": {
      "application/vnd.plotly.v1+json": {
       "config": {
        "linkText": "Export to plot.ly",
        "plotlyServerURL": "https://plot.ly",
        "showLink": false
       },
       "data": [
        {
         "mode": "markers",
         "text": [
          "planificación",
          "familiar",
          "embarazos",
          "cada",
          "mujeres",
          "año",
          "implantes",
          "inyectables",
          "preservativo",
          "femenino",
          "vasectomía",
          "mundial",
          "salud",
          "anillo",
          "vaginal",
          "espermicidas",
          "métodos",
          "basados",
          "conocimiento",
          "fertilidad",
          "parche",
          "esterilización",
          "femenina",
          "píldoras",
          "coito",
          "interrumpido",
          "diafragma",
          "diu",
          "usar",
          "correctamente",
          "vez",
          "relaciones",
          "sexuales",
          "días",
          "tener",
          "método",
          "dos",
          "pueden",
          "ser",
          "ponerse",
          "tiempo",
          "amenorrea",
          "lactancia",
          "meses",
          "día",
          "píldora",
          "tomar",
          "lugar",
          "primeros",
          "usuaria",
          "hacer",
          "después",
          "procedimiento",
          "cómo",
          "efectividad",
          "manual",
          "proveedores",
          "menos",
          "efectivo",
          "embarazo",
          "nuevo",
          "yy",
          "amamantando",
          "comenzar",
          "progestágeno",
          "solo",
          "utilizar",
          "cualquier",
          "momento",
          "parto",
          "oms",
          "uso",
          "levonorgestrel",
          "p",
          "acetato",
          "ampd",
          "anticonceptivo",
          "combinado",
          "ulipristal",
          "anticoncepción",
          "urgencia",
          "cuándo",
          "anticonceptivas",
          "servicios",
          "puede",
          "ayudar",
          "pareja",
          "mayoría",
          "usuarias",
          "parejas",
          "vih",
          "atención",
          "usuarios",
          "asesoramiento",
          "riesgo",
          "contraer",
          "infección",
          "alto",
          "lista",
          "verificación",
          "inserción",
          "criterios",
          "médicos",
          "elegibilidad",
          "haga",
          "preguntas",
          "pregunta",
          "menstruación",
          "hace",
          "aborto",
          "espontáneo",
          "provocado",
          "algún",
          "manera",
          "bebé",
          "semanas",
          "exclusiva",
          "casi",
          "si",
          "cobre",
          "período",
          "todas",
          "usando",
          "razonablemente",
          "seguro",
          "embarazada",
          "anticonceptivos",
          "span",
          "jhu",
          "hbk",
          "indd",
          "pm",
          "am",
          "información",
          "m",
          "apoyo",
          "deben",
          "embargo",
          "tipo",
          "orales",
          "combinados",
          "mensuales",
          "dispositivo",
          "intrauterino",
          "preservativos",
          "masculinos",
          "femeninos",
          "hombres",
          "personas",
          "infecciones",
          "transmisión",
          "sexual",
          "incluida",
          "materna",
          "mujer",
          "quién",
          "prevención",
          "signos",
          "síntomas",
          "afecciones",
          "c",
          "d",
          "ayuda",
          "usted",
          "alguna",
          "pruebas",
          "efectivos",
          "evitar",
          "así",
          "vida",
          "ejemplo",
          "inyección",
          "l",
          "importante",
          "además",
          "hormonal",
          "seguridad",
          "quiere",
          "beneficios",
          "lng",
          "elegir",
          "siempre",
          "s",
          "disponibles",
          "usuario",
          "proveedor",
          "u",
          "general",
          "posible",
          "situación",
          "muchas",
          "siguientes",
          "comienza",
          "problemas",
          "toma",
          "seguimiento",
          "pueda",
          "hijos",
          "incluso",
          "explique",
          "efectos",
          "secundarios",
          "necesario",
          "respuestas",
          "proporcione",
          "use",
          "usa",
          "ginecológica",
          "tome",
          "debe",
          "envase",
          "cambios",
          "sangrado",
          "irregular",
          "cuerpo",
          "aoc",
          "mayor",
          "primer",
          "usan",
          "embarazadas",
          "tras",
          "inmediato",
          "protección",
          "its",
          "ninguna",
          "riesgos",
          "véase",
          "manejo",
          "presentan",
          "tensión",
          "arterial",
          "cáncer",
          "uterino",
          "enfermedad",
          "pélvica",
          "aparato",
          "genital",
          "anemia",
          "dolor",
          "plazo",
          "años",
          "cervicouterino",
          "cuello",
          "tratamiento",
          "veces",
          "casos",
          "edad",
          "ectópico",
          "exploración",
          "sangre",
          "continuación",
          "dígale",
          "leche",
          "ayúdela",
          "chapter",
          "mientras",
          "grave",
          "hipertensión",
          "respaldo",
          "siguiente",
          "página",
          "diabetes",
          "presenta",
          "horas",
          "semana",
          "parte",
          "afección",
          "utilizan",
          "hijo",
          "hormonales",
          "suministro",
          "utilice",
          "ciclos",
          "anterior",
          "cambio",
          "próxima",
          "restablecido",
          "consulta",
          "pau",
          "debido",
          "ambos",
          "caso",
          "según",
          "seguir",
          "médico",
          "mg",
          "sospecha",
          "causa",
          "prolongado",
          "vaginales",
          "utiliza",
          "frente",
          "ciclo",
          "aop",
          "abdomen",
          "hombre",
          "fecha",
          "vagina",
          "insertar",
          "piel",
          "i",
          "útero",
          "zona",
          "capuchón",
          "pene",
          "látex"
         ],
         "type": "scatter",
         "x": [
          1.7590234279632568,
          1.733612298965454,
          0.044062793254852295,
          -0.1596917361021042,
          -0.3261716663837433,
          -0.08197082579135895,
          -0.22445915639400482,
          -0.3435755670070648,
          -0.09458162635564804,
          -0.05144566297531128,
          -0.07507845014333725,
          2.4020235538482666,
          0.5606176257133484,
          0.008729036897420883,
          -0.07081960141658783,
          -0.004742599558085203,
          -0.11993248015642166,
          -0.18624518811702728,
          -0.25843870639801025,
          -0.14636091887950897,
          0.06757739186286926,
          -0.17521989345550537,
          -0.14143507182598114,
          -0.3691466450691223,
          0.05608224868774414,
          0.10308682918548584,
          -0.03876679763197899,
          -0.2395215779542923,
          -0.31095772981643677,
          -0.1226818859577179,
          -0.17380625009536743,
          -0.5104882121086121,
          -0.4718070924282074,
          -0.29185840487480164,
          -0.39995020627975464,
          -0.04761503264307976,
          -0.08308859169483185,
          -0.0727323368191719,
          -0.15602992475032806,
          0.08051741123199463,
          -0.05576488375663757,
          -0.2135302871465683,
          -0.5465367436408997,
          -0.24923773109912872,
          -0.19415462017059326,
          -0.158011794090271,
          -0.3514374792575836,
          -0.07218219339847565,
          -0.19373661279678345,
          -0.022825423628091812,
          0.0817352905869484,
          -0.32435503602027893,
          -0.061148013919591904,
          -0.07597159594297409,
          0.06711776554584503,
          2.276038646697998,
          1.8207658529281616,
          -0.2476838082075119,
          0.02152525819838047,
          -0.1786275953054428,
          0.015692319720983505,
          -0.13450589776039124,
          -0.13891451060771942,
          -0.2800178527832031,
          -0.3931952118873596,
          -0.43011027574539185,
          -0.29051172733306885,
          -0.3645367920398712,
          -0.41870006918907166,
          -0.2418409138917923,
          0.15848837792873383,
          -0.038991741836071014,
          0.10720128566026688,
          -0.09695779532194138,
          -0.11922828108072281,
          -0.0650131106376648,
          -0.027947500348091125,
          -0.05503232777118683,
          -0.05206551030278206,
          0.023885490372776985,
          -0.18682119250297546,
          -0.0985599085688591,
          -0.32963818311691284,
          0.6783299446105957,
          -0.38154107332229614,
          0.23166343569755554,
          -0.16273972392082214,
          0.06720751523971558,
          0.1397024393081665,
          -0.10348381102085114,
          -0.6952924728393555,
          0.5642527937889099,
          0.27650684118270874,
          0.17228280007839203,
          -0.3757699728012085,
          -0.47204169631004333,
          -0.7196564078330994,
          -0.2953459620475769,
          -0.07622743397951126,
          0.016694407910108566,
          -0.09200438857078552,
          0.4331420361995697,
          0.3774876892566681,
          0.3755960464477539,
          -0.17134255170822144,
          -0.07805675268173218,
          -0.03174418956041336,
          -0.15963052213191986,
          -0.03669583797454834,
          -0.14873065054416656,
          -0.12543123960494995,
          0.003837929107248783,
          -0.052075281739234924,
          0.007900926284492016,
          -0.24660596251487732,
          -0.22974897921085358,
          -0.3927707374095917,
          -0.2603273093700409,
          -0.3216490149497986,
          0.026954803615808487,
          -0.07985793799161911,
          -0.09669498354196548,
          -0.0988800972700119,
          -0.27837714552879333,
          -0.26956358551979065,
          -0.25036799907684326,
          -0.3017480671405792,
          3.2503459453582764,
          3.273383378982544,
          3.2532856464385986,
          3.1951375007629395,
          -0.5631983876228333,
          -0.4632106125354767,
          0.1475629061460495,
          -0.1092526763677597,
          -0.005025092978030443,
          -0.022187110036611557,
          -0.07759729027748108,
          -0.0540190190076828,
          -0.3754112720489502,
          -0.279612272977829,
          -0.1541767418384552,
          0.2720050811767578,
          0.2715376019477844,
          -0.07709351927042007,
          -0.001244356855750084,
          0.015815453603863716,
          -0.002787272445857525,
          -0.03910675272345543,
          -0.6073011755943298,
          -0.8330206871032715,
          -0.5573801398277283,
          -0.6184710264205933,
          -0.4731246531009674,
          -0.26779603958129883,
          -0.0747162476181984,
          -0.18311291933059692,
          -0.04639122262597084,
          -0.1457735002040863,
          -0.09113384783267975,
          0.09836556762456894,
          1.4583690166473389,
          0.026059621945023537,
          -0.012229522690176964,
          -0.015337505377829075,
          -0.026066619902849197,
          -0.17193560302257538,
          -0.2418506145477295,
          -0.08647853881120682,
          -0.0849815383553505,
          -0.09262488782405853,
          0.07220075279474258,
          -0.13309389352798462,
          -0.06472595781087875,
          -0.10343877226114273,
          -0.05772210657596588,
          -0.030884813517332077,
          -0.15756012499332428,
          0.4090556800365448,
          -0.2136523425579071,
          -0.02201509103178978,
          -0.11675290763378143,
          -0.09009867161512375,
          -0.049978919327259064,
          0.003423970425501466,
          0.1503249704837799,
          -0.10957161337137222,
          -0.10132519155740738,
          -0.24916306138038635,
          -0.060822613537311554,
          0.04641759395599365,
          -0.06884823739528656,
          -0.12146483361721039,
          0.11774197965860367,
          -0.12535740435123444,
          -0.06012335419654846,
          -0.08653482049703598,
          -0.10752025991678238,
          -0.1575639545917511,
          0.045564331114292145,
          0.3869435787200928,
          0.46319931745529175,
          -0.07628529518842697,
          0.01441050786525011,
          -0.03569146245718002,
          -0.07944571226835251,
          -0.0696956217288971,
          0.05894596874713898,
          -0.059711676090955734,
          -0.07884784787893295,
          -0.017281368374824524,
          -0.06179694086313248,
          -0.14666025340557098,
          -0.062276698648929596,
          -0.040670037269592285,
          -0.25910821557044983,
          -0.08750629425048828,
          -0.018463751301169395,
          -0.06941959261894226,
          0.016922008246183395,
          -0.09246017038822174,
          0.0012478656135499477,
          -0.5913703441619873,
          -0.5715953707695007,
          -0.3829227387905121,
          0.41788405179977417,
          -0.15010060369968414,
          0.15698887407779694,
          0.09788630157709122,
          -0.12650951743125916,
          -0.2152828574180603,
          0.06505365669727325,
          0.16065111756324768,
          -0.14915958046913147,
          -0.10013488680124283,
          -0.06355434656143188,
          -0.019721880555152893,
          -0.05588281527161598,
          -0.015507346019148827,
          -0.09619821608066559,
          -0.1025804728269577,
          0.04601573944091797,
          0.17067942023277283,
          -0.2368539571762085,
          -0.09795907884836197,
          -0.08173956722021103,
          -0.056909725069999695,
          0.05471150577068329,
          0.026617970317602158,
          -0.017244473099708557,
          -0.04730087146162987,
          0.03244591876864433,
          -0.20080608129501343,
          -0.04974079877138138,
          3.1424083709716797,
          -0.10834033042192459,
          0.13344676792621613,
          0.031424615532159805,
          -0.07845960557460785,
          -0.030667370185256004,
          0.060355160385370255,
          -0.004156180191785097,
          -0.08570940047502518,
          -0.173410564661026,
          0.024490617215633392,
          -0.019940005615353584,
          -0.060060400515794754,
          -0.0657305046916008,
          -0.09599129855632782,
          -0.15769147872924805,
          -0.06314168125391006,
          -0.07931222021579742,
          -0.046336863189935684,
          0.029668457806110382,
          0.008322959765791893,
          -0.008389742113649845,
          -0.20638053119182587,
          0.044196367263793945,
          -0.315845251083374,
          0.016590621322393417,
          -0.07571696490049362,
          -0.21032831072807312,
          -0.0021390216425061226,
          -0.21922726929187775,
          0.023617763072252274,
          -0.027683990076184273,
          0.05537613108754158,
          -0.04900669306516647,
          -0.06342700123786926,
          -0.13863232731819153,
          -0.043605171144008636,
          -0.3525121510028839,
          -0.015659131109714508,
          -0.2632790207862854,
          -0.012839184142649174,
          -0.09715477377176285,
          -0.04209187254309654,
          0.047496575862169266,
          -0.27058371901512146,
          -0.020922325551509857,
          0.05748807266354561,
          -0.025136174634099007,
          0.055359985679388046,
          0.08358243852853775,
          -0.04972238466143608,
          0.015930458903312683
         ],
         "y": [
          2.062818765640259,
          2.210211992263794,
          0.039437659084796906,
          -0.027641739696264267,
          0.05066867917776108,
          -0.1477028727531433,
          -0.21130087971687317,
          -0.14117562770843506,
          -0.08712680637836456,
          -0.162845641374588,
          0.012300251051783562,
          2.5035557746887207,
          0.819367527961731,
          -0.1654120683670044,
          -0.21018923819065094,
          0.0441158227622509,
          0.7961295247077942,
          0.44321832060813904,
          0.41057372093200684,
          0.40297725796699524,
          -0.051167309284210205,
          -0.03850402310490608,
          -0.11528969556093216,
          -0.23412439227104187,
          -0.0225156731903553,
          -0.03329984471201897,
          -0.03398624062538147,
          -0.44552233815193176,
          -0.049932289868593216,
          -0.06930125504732132,
          -0.1599874347448349,
          -0.10375379025936127,
          -0.08287898451089859,
          -0.3131299912929535,
          -0.037632402032613754,
          0.42021527886390686,
          -0.011290661990642548,
          0.37939292192459106,
          0.0030309194698929787,
          0.007442345842719078,
          -0.04038037359714508,
          0.2116602659225464,
          0.4620858430862427,
          -0.11928125470876694,
          -0.2588021159172058,
          -0.16417992115020752,
          -0.2614887058734894,
          -0.05244414508342743,
          -0.26708030700683594,
          0.11620685458183289,
          0.17440290749073029,
          -0.22014905512332916,
          -0.14297406375408173,
          0.33421796560287476,
          0.2704026699066162,
          2.4071810245513916,
          2.0997326374053955,
          -0.01714416965842247,
          0.008563751354813576,
          0.03727991133928299,
          -0.040547214448451996,
          -0.01336077693849802,
          -0.058826349675655365,
          -0.3663860261440277,
          -0.335100382566452,
          -0.2627834677696228,
          -0.10973046720027924,
          -0.3581997752189636,
          -0.5474510788917542,
          0.025835931301116943,
          0.2646051049232483,
          0.19692859053611755,
          -0.2665763199329376,
          0.38031628727912903,
          -0.2252059429883957,
          -0.04169151559472084,
          0.12645241618156433,
          -0.05587036907672882,
          -0.1993725746870041,
          0.14151965081691742,
          -0.000714954687282443,
          -0.10719608515501022,
          -0.12588992714881897,
          1.0560792684555054,
          -0.1344219446182251,
          0.5749154686927795,
          0.22127211093902588,
          0.23276178538799286,
          0.3831585645675659,
          0.098729208111763,
          0.11404601484537125,
          0.7859518527984619,
          0.611359179019928,
          0.4586661458015442,
          -0.013614282943308353,
          0.03148048743605614,
          -0.04523147642612457,
          -0.01241274829953909,
          -0.19629067182540894,
          -0.1238219141960144,
          -0.2298482358455658,
          0.1514274924993515,
          0.20219063758850098,
          0.15267948806285858,
          -0.10591797530651093,
          0.032525110989809036,
          0.036849044263362885,
          -0.27037328481674194,
          -0.039036039263010025,
          -0.33144286274909973,
          -0.229363813996315,
          -0.1810545176267624,
          -0.14996996521949768,
          0.25986769795417786,
          0.07123935222625732,
          -0.1186932921409607,
          0.3177616000175476,
          0.1962731033563614,
          -0.33348312973976135,
          -0.3535171151161194,
          -0.0182458758354187,
          0.08505793660879135,
          -0.09374360740184784,
          -0.4972364604473114,
          -0.5044577717781067,
          -0.3941151201725006,
          0.2859000265598297,
          -1.6336833238601685,
          -1.6357234716415405,
          -1.6749871969223022,
          -1.6518231630325317,
          0.06226671114563942,
          0.05545508861541748,
          0.3666483759880066,
          -0.0737626776099205,
          0.17770415544509888,
          0.3297034800052643,
          0.051313962787389755,
          0.03678790479898453,
          -0.0018883561715483665,
          -0.012557430192828178,
          -0.09970323741436005,
          -0.3008088171482086,
          -0.411477267742157,
          0.09954722970724106,
          0.0065917051397264,
          0.013518355786800385,
          0.16064822673797607,
          0.24387454986572266,
          0.04136684909462929,
          0.026047946885228157,
          0.18553823232650757,
          0.015467634424567223,
          0.4939848482608795,
          -0.17416833341121674,
          0.08642279356718063,
          0.04662497714161873,
          -0.0546567440032959,
          0.03316735103726387,
          -0.0836491733789444,
          0.5319761633872986,
          -0.8619633913040161,
          0.25828859210014343,
          -0.008995206095278263,
          -0.25259682536125183,
          0.0120378527790308,
          0.15149150788784027,
          -0.04110467806458473,
          0.03284819796681404,
          -0.05352592095732689,
          0.0033534085378050804,
          -0.07168498635292053,
          0.07134547829627991,
          0.057222332805395126,
          0.010321704670786858,
          -0.0019297234248369932,
          -0.032040975987911224,
          -0.1877952665090561,
          0.42846810817718506,
          -0.4899066090583801,
          0.3009515404701233,
          -0.20163270831108093,
          0.11377513408660889,
          0.052745748311281204,
          0.12733662128448486,
          0.20296747982501984,
          -0.12297844141721725,
          -0.02963991090655327,
          -0.027702821418642998,
          -0.0977468267083168,
          0.1424233317375183,
          -0.0806841179728508,
          -0.2908343970775604,
          0.21017004549503326,
          -0.0994226485490799,
          -0.0008869066368788481,
          -0.0843905657529831,
          -0.021093040704727173,
          -0.1417226493358612,
          0.0029310898389667273,
          0.19570569694042206,
          0.18108457326889038,
          0.027125759050250053,
          0.020537445321679115,
          -0.002255106810480356,
          0.05664771422743797,
          -0.02507064677774906,
          -0.09000953286886215,
          -0.08198820799589157,
          -0.00616954592987895,
          -0.08987177163362503,
          -0.021145254373550415,
          -0.36990025639533997,
          -0.28345367312431335,
          -0.06152770295739174,
          -0.04003645479679108,
          0.04979754611849785,
          -0.14716778695583344,
          0.06265845149755478,
          0.09045873582363129,
          -0.10983221232891083,
          -0.003218906931579113,
          -0.12175365537405014,
          0.12019888311624527,
          -0.06176991015672684,
          0.3457544445991516,
          0.18925026059150696,
          0.15427441895008087,
          0.20254288613796234,
          -0.26463988423347473,
          -0.29123562574386597,
          0.029355579987168312,
          -0.016239650547504425,
          -0.19265438616275787,
          -0.07938206195831299,
          -0.13056138157844543,
          -0.13736355304718018,
          0.04680313915014267,
          -0.12777481973171234,
          -0.21869750320911407,
          -0.02709774672985077,
          0.06816837191581726,
          -0.07981560379266739,
          -0.07089274376630783,
          -0.13919387757778168,
          -0.02750357612967491,
          0.0015867054462432861,
          -0.15881824493408203,
          -0.07936619222164154,
          -0.0544339194893837,
          0.11522036790847778,
          -0.05844755843281746,
          0.08880200982093811,
          0.051817841827869415,
          -1.5442728996276855,
          -0.1281520426273346,
          -0.08829928189516068,
          -0.1109485775232315,
          0.02489660494029522,
          0.05637810751795769,
          0.023297714069485664,
          0.006440104451030493,
          -0.24603481590747833,
          -0.21420401334762573,
          -0.05819922313094139,
          0.09039224684238434,
          -0.24917608499526978,
          0.048517704010009766,
          -0.015990084037184715,
          -0.011017519049346447,
          -0.053830668330192566,
          -0.11101415008306503,
          -0.03879532590508461,
          -0.054412078112363815,
          0.11183111369609833,
          -0.0352267362177372,
          -0.3139481246471405,
          0.03293996304273605,
          -0.27252069115638733,
          0.023409942165017128,
          0.004529247060418129,
          -0.12342968583106995,
          0.08571159839630127,
          -0.1878795474767685,
          0.003393450053408742,
          -0.22533820569515228,
          -0.2319764345884323,
          -0.14218847453594208,
          -0.1478443443775177,
          -0.03208218514919281,
          -0.06031899154186249,
          -0.06929624825716019,
          -0.11657432466745377,
          -0.10409371554851532,
          -0.05671951547265053,
          0.07661737501621246,
          -0.07535243034362793,
          -0.10509680956602097,
          -0.45925459265708923,
          -0.04953252896666527,
          0.5482794046401978,
          -0.12158287316560745,
          -0.08724025636911392,
          -0.042596060782670975,
          -0.034791357815265656,
          -0.012280190363526344
         ]
        }
       ],
       "layout": {
        "template": {
         "data": {
          "bar": [
           {
            "error_x": {
             "color": "#2a3f5f"
            },
            "error_y": {
             "color": "#2a3f5f"
            },
            "marker": {
             "line": {
              "color": "#E5ECF6",
              "width": 0.5
             }
            },
            "type": "bar"
           }
          ],
          "barpolar": [
           {
            "marker": {
             "line": {
              "color": "#E5ECF6",
              "width": 0.5
             }
            },
            "type": "barpolar"
           }
          ],
          "carpet": [
           {
            "aaxis": {
             "endlinecolor": "#2a3f5f",
             "gridcolor": "white",
             "linecolor": "white",
             "minorgridcolor": "white",
             "startlinecolor": "#2a3f5f"
            },
            "baxis": {
             "endlinecolor": "#2a3f5f",
             "gridcolor": "white",
             "linecolor": "white",
             "minorgridcolor": "white",
             "startlinecolor": "#2a3f5f"
            },
            "type": "carpet"
           }
          ],
          "choropleth": [
           {
            "colorbar": {
             "outlinewidth": 0,
             "ticks": ""
            },
            "type": "choropleth"
           }
          ],
          "contour": [
           {
            "colorbar": {
             "outlinewidth": 0,
             "ticks": ""
            },
            "colorscale": [
             [
              0,
              "#0d0887"
             ],
             [
              0.1111111111111111,
              "#46039f"
             ],
             [
              0.2222222222222222,
              "#7201a8"
             ],
             [
              0.3333333333333333,
              "#9c179e"
             ],
             [
              0.4444444444444444,
              "#bd3786"
             ],
             [
              0.5555555555555556,
              "#d8576b"
             ],
             [
              0.6666666666666666,
              "#ed7953"
             ],
             [
              0.7777777777777778,
              "#fb9f3a"
             ],
             [
              0.8888888888888888,
              "#fdca26"
             ],
             [
              1,
              "#f0f921"
             ]
            ],
            "type": "contour"
           }
          ],
          "contourcarpet": [
           {
            "colorbar": {
             "outlinewidth": 0,
             "ticks": ""
            },
            "type": "contourcarpet"
           }
          ],
          "heatmap": [
           {
            "colorbar": {
             "outlinewidth": 0,
             "ticks": ""
            },
            "colorscale": [
             [
              0,
              "#0d0887"
             ],
             [
              0.1111111111111111,
              "#46039f"
             ],
             [
              0.2222222222222222,
              "#7201a8"
             ],
             [
              0.3333333333333333,
              "#9c179e"
             ],
             [
              0.4444444444444444,
              "#bd3786"
             ],
             [
              0.5555555555555556,
              "#d8576b"
             ],
             [
              0.6666666666666666,
              "#ed7953"
             ],
             [
              0.7777777777777778,
              "#fb9f3a"
             ],
             [
              0.8888888888888888,
              "#fdca26"
             ],
             [
              1,
              "#f0f921"
             ]
            ],
            "type": "heatmap"
           }
          ],
          "heatmapgl": [
           {
            "colorbar": {
             "outlinewidth": 0,
             "ticks": ""
            },
            "colorscale": [
             [
              0,
              "#0d0887"
             ],
             [
              0.1111111111111111,
              "#46039f"
             ],
             [
              0.2222222222222222,
              "#7201a8"
             ],
             [
              0.3333333333333333,
              "#9c179e"
             ],
             [
              0.4444444444444444,
              "#bd3786"
             ],
             [
              0.5555555555555556,
              "#d8576b"
             ],
             [
              0.6666666666666666,
              "#ed7953"
             ],
             [
              0.7777777777777778,
              "#fb9f3a"
             ],
             [
              0.8888888888888888,
              "#fdca26"
             ],
             [
              1,
              "#f0f921"
             ]
            ],
            "type": "heatmapgl"
           }
          ],
          "histogram": [
           {
            "marker": {
             "colorbar": {
              "outlinewidth": 0,
              "ticks": ""
             }
            },
            "type": "histogram"
           }
          ],
          "histogram2d": [
           {
            "colorbar": {
             "outlinewidth": 0,
             "ticks": ""
            },
            "colorscale": [
             [
              0,
              "#0d0887"
             ],
             [
              0.1111111111111111,
              "#46039f"
             ],
             [
              0.2222222222222222,
              "#7201a8"
             ],
             [
              0.3333333333333333,
              "#9c179e"
             ],
             [
              0.4444444444444444,
              "#bd3786"
             ],
             [
              0.5555555555555556,
              "#d8576b"
             ],
             [
              0.6666666666666666,
              "#ed7953"
             ],
             [
              0.7777777777777778,
              "#fb9f3a"
             ],
             [
              0.8888888888888888,
              "#fdca26"
             ],
             [
              1,
              "#f0f921"
             ]
            ],
            "type": "histogram2d"
           }
          ],
          "histogram2dcontour": [
           {
            "colorbar": {
             "outlinewidth": 0,
             "ticks": ""
            },
            "colorscale": [
             [
              0,
              "#0d0887"
             ],
             [
              0.1111111111111111,
              "#46039f"
             ],
             [
              0.2222222222222222,
              "#7201a8"
             ],
             [
              0.3333333333333333,
              "#9c179e"
             ],
             [
              0.4444444444444444,
              "#bd3786"
             ],
             [
              0.5555555555555556,
              "#d8576b"
             ],
             [
              0.6666666666666666,
              "#ed7953"
             ],
             [
              0.7777777777777778,
              "#fb9f3a"
             ],
             [
              0.8888888888888888,
              "#fdca26"
             ],
             [
              1,
              "#f0f921"
             ]
            ],
            "type": "histogram2dcontour"
           }
          ],
          "mesh3d": [
           {
            "colorbar": {
             "outlinewidth": 0,
             "ticks": ""
            },
            "type": "mesh3d"
           }
          ],
          "parcoords": [
           {
            "line": {
             "colorbar": {
              "outlinewidth": 0,
              "ticks": ""
             }
            },
            "type": "parcoords"
           }
          ],
          "pie": [
           {
            "automargin": true,
            "type": "pie"
           }
          ],
          "scatter": [
           {
            "marker": {
             "colorbar": {
              "outlinewidth": 0,
              "ticks": ""
             }
            },
            "type": "scatter"
           }
          ],
          "scatter3d": [
           {
            "line": {
             "colorbar": {
              "outlinewidth": 0,
              "ticks": ""
             }
            },
            "marker": {
             "colorbar": {
              "outlinewidth": 0,
              "ticks": ""
             }
            },
            "type": "scatter3d"
           }
          ],
          "scattercarpet": [
           {
            "marker": {
             "colorbar": {
              "outlinewidth": 0,
              "ticks": ""
             }
            },
            "type": "scattercarpet"
           }
          ],
          "scattergeo": [
           {
            "marker": {
             "colorbar": {
              "outlinewidth": 0,
              "ticks": ""
             }
            },
            "type": "scattergeo"
           }
          ],
          "scattergl": [
           {
            "marker": {
             "colorbar": {
              "outlinewidth": 0,
              "ticks": ""
             }
            },
            "type": "scattergl"
           }
          ],
          "scattermapbox": [
           {
            "marker": {
             "colorbar": {
              "outlinewidth": 0,
              "ticks": ""
             }
            },
            "type": "scattermapbox"
           }
          ],
          "scatterpolar": [
           {
            "marker": {
             "colorbar": {
              "outlinewidth": 0,
              "ticks": ""
             }
            },
            "type": "scatterpolar"
           }
          ],
          "scatterpolargl": [
           {
            "marker": {
             "colorbar": {
              "outlinewidth": 0,
              "ticks": ""
             }
            },
            "type": "scatterpolargl"
           }
          ],
          "scatterternary": [
           {
            "marker": {
             "colorbar": {
              "outlinewidth": 0,
              "ticks": ""
             }
            },
            "type": "scatterternary"
           }
          ],
          "surface": [
           {
            "colorbar": {
             "outlinewidth": 0,
             "ticks": ""
            },
            "colorscale": [
             [
              0,
              "#0d0887"
             ],
             [
              0.1111111111111111,
              "#46039f"
             ],
             [
              0.2222222222222222,
              "#7201a8"
             ],
             [
              0.3333333333333333,
              "#9c179e"
             ],
             [
              0.4444444444444444,
              "#bd3786"
             ],
             [
              0.5555555555555556,
              "#d8576b"
             ],
             [
              0.6666666666666666,
              "#ed7953"
             ],
             [
              0.7777777777777778,
              "#fb9f3a"
             ],
             [
              0.8888888888888888,
              "#fdca26"
             ],
             [
              1,
              "#f0f921"
             ]
            ],
            "type": "surface"
           }
          ],
          "table": [
           {
            "cells": {
             "fill": {
              "color": "#EBF0F8"
             },
             "line": {
              "color": "white"
             }
            },
            "header": {
             "fill": {
              "color": "#C8D4E3"
             },
             "line": {
              "color": "white"
             }
            },
            "type": "table"
           }
          ]
         },
         "layout": {
          "annotationdefaults": {
           "arrowcolor": "#2a3f5f",
           "arrowhead": 0,
           "arrowwidth": 1
          },
          "coloraxis": {
           "colorbar": {
            "outlinewidth": 0,
            "ticks": ""
           }
          },
          "colorscale": {
           "diverging": [
            [
             0,
             "#8e0152"
            ],
            [
             0.1,
             "#c51b7d"
            ],
            [
             0.2,
             "#de77ae"
            ],
            [
             0.3,
             "#f1b6da"
            ],
            [
             0.4,
             "#fde0ef"
            ],
            [
             0.5,
             "#f7f7f7"
            ],
            [
             0.6,
             "#e6f5d0"
            ],
            [
             0.7,
             "#b8e186"
            ],
            [
             0.8,
             "#7fbc41"
            ],
            [
             0.9,
             "#4d9221"
            ],
            [
             1,
             "#276419"
            ]
           ],
           "sequential": [
            [
             0,
             "#0d0887"
            ],
            [
             0.1111111111111111,
             "#46039f"
            ],
            [
             0.2222222222222222,
             "#7201a8"
            ],
            [
             0.3333333333333333,
             "#9c179e"
            ],
            [
             0.4444444444444444,
             "#bd3786"
            ],
            [
             0.5555555555555556,
             "#d8576b"
            ],
            [
             0.6666666666666666,
             "#ed7953"
            ],
            [
             0.7777777777777778,
             "#fb9f3a"
            ],
            [
             0.8888888888888888,
             "#fdca26"
            ],
            [
             1,
             "#f0f921"
            ]
           ],
           "sequentialminus": [
            [
             0,
             "#0d0887"
            ],
            [
             0.1111111111111111,
             "#46039f"
            ],
            [
             0.2222222222222222,
             "#7201a8"
            ],
            [
             0.3333333333333333,
             "#9c179e"
            ],
            [
             0.4444444444444444,
             "#bd3786"
            ],
            [
             0.5555555555555556,
             "#d8576b"
            ],
            [
             0.6666666666666666,
             "#ed7953"
            ],
            [
             0.7777777777777778,
             "#fb9f3a"
            ],
            [
             0.8888888888888888,
             "#fdca26"
            ],
            [
             1,
             "#f0f921"
            ]
           ]
          },
          "colorway": [
           "#636efa",
           "#EF553B",
           "#00cc96",
           "#ab63fa",
           "#FFA15A",
           "#19d3f3",
           "#FF6692",
           "#B6E880",
           "#FF97FF",
           "#FECB52"
          ],
          "font": {
           "color": "#2a3f5f"
          },
          "geo": {
           "bgcolor": "white",
           "lakecolor": "white",
           "landcolor": "#E5ECF6",
           "showlakes": true,
           "showland": true,
           "subunitcolor": "white"
          },
          "hoverlabel": {
           "align": "left"
          },
          "hovermode": "closest",
          "mapbox": {
           "style": "light"
          },
          "paper_bgcolor": "white",
          "plot_bgcolor": "#E5ECF6",
          "polar": {
           "angularaxis": {
            "gridcolor": "white",
            "linecolor": "white",
            "ticks": ""
           },
           "bgcolor": "#E5ECF6",
           "radialaxis": {
            "gridcolor": "white",
            "linecolor": "white",
            "ticks": ""
           }
          },
          "scene": {
           "xaxis": {
            "backgroundcolor": "#E5ECF6",
            "gridcolor": "white",
            "gridwidth": 2,
            "linecolor": "white",
            "showbackground": true,
            "ticks": "",
            "zerolinecolor": "white"
           },
           "yaxis": {
            "backgroundcolor": "#E5ECF6",
            "gridcolor": "white",
            "gridwidth": 2,
            "linecolor": "white",
            "showbackground": true,
            "ticks": "",
            "zerolinecolor": "white"
           },
           "zaxis": {
            "backgroundcolor": "#E5ECF6",
            "gridcolor": "white",
            "gridwidth": 2,
            "linecolor": "white",
            "showbackground": true,
            "ticks": "",
            "zerolinecolor": "white"
           }
          },
          "shapedefaults": {
           "line": {
            "color": "#2a3f5f"
           }
          },
          "ternary": {
           "aaxis": {
            "gridcolor": "white",
            "linecolor": "white",
            "ticks": ""
           },
           "baxis": {
            "gridcolor": "white",
            "linecolor": "white",
            "ticks": ""
           },
           "bgcolor": "#E5ECF6",
           "caxis": {
            "gridcolor": "white",
            "linecolor": "white",
            "ticks": ""
           }
          },
          "title": {
           "x": 0.05
          },
          "xaxis": {
           "automargin": true,
           "gridcolor": "white",
           "linecolor": "white",
           "ticks": "",
           "title": {
            "standoff": 15
           },
           "zerolinecolor": "white",
           "zerolinewidth": 2
          },
          "yaxis": {
           "automargin": true,
           "gridcolor": "white",
           "linecolor": "white",
           "ticks": "",
           "title": {
            "standoff": 15
           },
           "zerolinecolor": "white",
           "zerolinewidth": 2
          }
         }
        },
        "title": {
         "text": "PCA"
        }
       }
      },
      "text/html": [
       "<div>                            <div id=\"03cc6216-8623-460d-b57d-440fe05f49f2\" class=\"plotly-graph-div\" style=\"height:525px; width:100%;\"></div>            <script type=\"text/javascript\">                require([\"plotly\"], function(Plotly) {                    window.PLOTLYENV=window.PLOTLYENV || {};                                    if (document.getElementById(\"03cc6216-8623-460d-b57d-440fe05f49f2\")) {                    Plotly.newPlot(                        \"03cc6216-8623-460d-b57d-440fe05f49f2\",                        [{\"mode\": \"markers\", \"text\": [\"planificaci\\u00f3n\", \"familiar\", \"embarazos\", \"cada\", \"mujeres\", \"a\\u00f1o\", \"implantes\", \"inyectables\", \"preservativo\", \"femenino\", \"vasectom\\u00eda\", \"mundial\", \"salud\", \"anillo\", \"vaginal\", \"espermicidas\", \"m\\u00e9todos\", \"basados\", \"conocimiento\", \"fertilidad\", \"parche\", \"esterilizaci\\u00f3n\", \"femenina\", \"p\\u00edldoras\", \"coito\", \"interrumpido\", \"diafragma\", \"diu\", \"usar\", \"correctamente\", \"vez\", \"relaciones\", \"sexuales\", \"d\\u00edas\", \"tener\", \"m\\u00e9todo\", \"dos\", \"pueden\", \"ser\", \"ponerse\", \"tiempo\", \"amenorrea\", \"lactancia\", \"meses\", \"d\\u00eda\", \"p\\u00edldora\", \"tomar\", \"lugar\", \"primeros\", \"usuaria\", \"hacer\", \"despu\\u00e9s\", \"procedimiento\", \"c\\u00f3mo\", \"efectividad\", \"manual\", \"proveedores\", \"menos\", \"efectivo\", \"embarazo\", \"nuevo\", \"yy\", \"amamantando\", \"comenzar\", \"progest\\u00e1geno\", \"solo\", \"utilizar\", \"cualquier\", \"momento\", \"parto\", \"oms\", \"uso\", \"levonorgestrel\", \"p\", \"acetato\", \"ampd\", \"anticonceptivo\", \"combinado\", \"ulipristal\", \"anticoncepci\\u00f3n\", \"urgencia\", \"cu\\u00e1ndo\", \"anticonceptivas\", \"servicios\", \"puede\", \"ayudar\", \"pareja\", \"mayor\\u00eda\", \"usuarias\", \"parejas\", \"vih\", \"atenci\\u00f3n\", \"usuarios\", \"asesoramiento\", \"riesgo\", \"contraer\", \"infecci\\u00f3n\", \"alto\", \"lista\", \"verificaci\\u00f3n\", \"inserci\\u00f3n\", \"criterios\", \"m\\u00e9dicos\", \"elegibilidad\", \"haga\", \"preguntas\", \"pregunta\", \"menstruaci\\u00f3n\", \"hace\", \"aborto\", \"espont\\u00e1neo\", \"provocado\", \"alg\\u00fan\", \"manera\", \"beb\\u00e9\", \"semanas\", \"exclusiva\", \"casi\", \"si\", \"cobre\", \"per\\u00edodo\", \"todas\", \"usando\", \"razonablemente\", \"seguro\", \"embarazada\", \"anticonceptivos\", \"span\", \"jhu\", \"hbk\", \"indd\", \"pm\", \"am\", \"informaci\\u00f3n\", \"m\", \"apoyo\", \"deben\", \"embargo\", \"tipo\", \"orales\", \"combinados\", \"mensuales\", \"dispositivo\", \"intrauterino\", \"preservativos\", \"masculinos\", \"femeninos\", \"hombres\", \"personas\", \"infecciones\", \"transmisi\\u00f3n\", \"sexual\", \"incluida\", \"materna\", \"mujer\", \"qui\\u00e9n\", \"prevenci\\u00f3n\", \"signos\", \"s\\u00edntomas\", \"afecciones\", \"c\", \"d\", \"ayuda\", \"usted\", \"alguna\", \"pruebas\", \"efectivos\", \"evitar\", \"as\\u00ed\", \"vida\", \"ejemplo\", \"inyecci\\u00f3n\", \"l\", \"importante\", \"adem\\u00e1s\", \"hormonal\", \"seguridad\", \"quiere\", \"beneficios\", \"lng\", \"elegir\", \"siempre\", \"s\", \"disponibles\", \"usuario\", \"proveedor\", \"u\", \"general\", \"posible\", \"situaci\\u00f3n\", \"muchas\", \"siguientes\", \"comienza\", \"problemas\", \"toma\", \"seguimiento\", \"pueda\", \"hijos\", \"incluso\", \"explique\", \"efectos\", \"secundarios\", \"necesario\", \"respuestas\", \"proporcione\", \"use\", \"usa\", \"ginecol\\u00f3gica\", \"tome\", \"debe\", \"envase\", \"cambios\", \"sangrado\", \"irregular\", \"cuerpo\", \"aoc\", \"mayor\", \"primer\", \"usan\", \"embarazadas\", \"tras\", \"inmediato\", \"protecci\\u00f3n\", \"its\", \"ninguna\", \"riesgos\", \"v\\u00e9ase\", \"manejo\", \"presentan\", \"tensi\\u00f3n\", \"arterial\", \"c\\u00e1ncer\", \"uterino\", \"enfermedad\", \"p\\u00e9lvica\", \"aparato\", \"genital\", \"anemia\", \"dolor\", \"plazo\", \"a\\u00f1os\", \"cervicouterino\", \"cuello\", \"tratamiento\", \"veces\", \"casos\", \"edad\", \"ect\\u00f3pico\", \"exploraci\\u00f3n\", \"sangre\", \"continuaci\\u00f3n\", \"d\\u00edgale\", \"leche\", \"ay\\u00fadela\", \"chapter\", \"mientras\", \"grave\", \"hipertensi\\u00f3n\", \"respaldo\", \"siguiente\", \"p\\u00e1gina\", \"diabetes\", \"presenta\", \"horas\", \"semana\", \"parte\", \"afecci\\u00f3n\", \"utilizan\", \"hijo\", \"hormonales\", \"suministro\", \"utilice\", \"ciclos\", \"anterior\", \"cambio\", \"pr\\u00f3xima\", \"restablecido\", \"consulta\", \"pau\", \"debido\", \"ambos\", \"caso\", \"seg\\u00fan\", \"seguir\", \"m\\u00e9dico\", \"mg\", \"sospecha\", \"causa\", \"prolongado\", \"vaginales\", \"utiliza\", \"frente\", \"ciclo\", \"aop\", \"abdomen\", \"hombre\", \"fecha\", \"vagina\", \"insertar\", \"piel\", \"i\", \"\\u00fatero\", \"zona\", \"capuch\\u00f3n\", \"pene\", \"l\\u00e1tex\"], \"type\": \"scatter\", \"x\": [1.7590234279632568, 1.733612298965454, 0.044062793254852295, -0.1596917361021042, -0.3261716663837433, -0.08197082579135895, -0.22445915639400482, -0.3435755670070648, -0.09458162635564804, -0.05144566297531128, -0.07507845014333725, 2.4020235538482666, 0.5606176257133484, 0.008729036897420883, -0.07081960141658783, -0.004742599558085203, -0.11993248015642166, -0.18624518811702728, -0.25843870639801025, -0.14636091887950897, 0.06757739186286926, -0.17521989345550537, -0.14143507182598114, -0.3691466450691223, 0.05608224868774414, 0.10308682918548584, -0.03876679763197899, -0.2395215779542923, -0.31095772981643677, -0.1226818859577179, -0.17380625009536743, -0.5104882121086121, -0.4718070924282074, -0.29185840487480164, -0.39995020627975464, -0.04761503264307976, -0.08308859169483185, -0.0727323368191719, -0.15602992475032806, 0.08051741123199463, -0.05576488375663757, -0.2135302871465683, -0.5465367436408997, -0.24923773109912872, -0.19415462017059326, -0.158011794090271, -0.3514374792575836, -0.07218219339847565, -0.19373661279678345, -0.022825423628091812, 0.0817352905869484, -0.32435503602027893, -0.061148013919591904, -0.07597159594297409, 0.06711776554584503, 2.276038646697998, 1.8207658529281616, -0.2476838082075119, 0.02152525819838047, -0.1786275953054428, 0.015692319720983505, -0.13450589776039124, -0.13891451060771942, -0.2800178527832031, -0.3931952118873596, -0.43011027574539185, -0.29051172733306885, -0.3645367920398712, -0.41870006918907166, -0.2418409138917923, 0.15848837792873383, -0.038991741836071014, 0.10720128566026688, -0.09695779532194138, -0.11922828108072281, -0.0650131106376648, -0.027947500348091125, -0.05503232777118683, -0.05206551030278206, 0.023885490372776985, -0.18682119250297546, -0.0985599085688591, -0.32963818311691284, 0.6783299446105957, -0.38154107332229614, 0.23166343569755554, -0.16273972392082214, 0.06720751523971558, 0.1397024393081665, -0.10348381102085114, -0.6952924728393555, 0.5642527937889099, 0.27650684118270874, 0.17228280007839203, -0.3757699728012085, -0.47204169631004333, -0.7196564078330994, -0.2953459620475769, -0.07622743397951126, 0.016694407910108566, -0.09200438857078552, 0.4331420361995697, 0.3774876892566681, 0.3755960464477539, -0.17134255170822144, -0.07805675268173218, -0.03174418956041336, -0.15963052213191986, -0.03669583797454834, -0.14873065054416656, -0.12543123960494995, 0.003837929107248783, -0.052075281739234924, 0.007900926284492016, -0.24660596251487732, -0.22974897921085358, -0.3927707374095917, -0.2603273093700409, -0.3216490149497986, 0.026954803615808487, -0.07985793799161911, -0.09669498354196548, -0.0988800972700119, -0.27837714552879333, -0.26956358551979065, -0.25036799907684326, -0.3017480671405792, 3.2503459453582764, 3.273383378982544, 3.2532856464385986, 3.1951375007629395, -0.5631983876228333, -0.4632106125354767, 0.1475629061460495, -0.1092526763677597, -0.005025092978030443, -0.022187110036611557, -0.07759729027748108, -0.0540190190076828, -0.3754112720489502, -0.279612272977829, -0.1541767418384552, 0.2720050811767578, 0.2715376019477844, -0.07709351927042007, -0.001244356855750084, 0.015815453603863716, -0.002787272445857525, -0.03910675272345543, -0.6073011755943298, -0.8330206871032715, -0.5573801398277283, -0.6184710264205933, -0.4731246531009674, -0.26779603958129883, -0.0747162476181984, -0.18311291933059692, -0.04639122262597084, -0.1457735002040863, -0.09113384783267975, 0.09836556762456894, 1.4583690166473389, 0.026059621945023537, -0.012229522690176964, -0.015337505377829075, -0.026066619902849197, -0.17193560302257538, -0.2418506145477295, -0.08647853881120682, -0.0849815383553505, -0.09262488782405853, 0.07220075279474258, -0.13309389352798462, -0.06472595781087875, -0.10343877226114273, -0.05772210657596588, -0.030884813517332077, -0.15756012499332428, 0.4090556800365448, -0.2136523425579071, -0.02201509103178978, -0.11675290763378143, -0.09009867161512375, -0.049978919327259064, 0.003423970425501466, 0.1503249704837799, -0.10957161337137222, -0.10132519155740738, -0.24916306138038635, -0.060822613537311554, 0.04641759395599365, -0.06884823739528656, -0.12146483361721039, 0.11774197965860367, -0.12535740435123444, -0.06012335419654846, -0.08653482049703598, -0.10752025991678238, -0.1575639545917511, 0.045564331114292145, 0.3869435787200928, 0.46319931745529175, -0.07628529518842697, 0.01441050786525011, -0.03569146245718002, -0.07944571226835251, -0.0696956217288971, 0.05894596874713898, -0.059711676090955734, -0.07884784787893295, -0.017281368374824524, -0.06179694086313248, -0.14666025340557098, -0.062276698648929596, -0.040670037269592285, -0.25910821557044983, -0.08750629425048828, -0.018463751301169395, -0.06941959261894226, 0.016922008246183395, -0.09246017038822174, 0.0012478656135499477, -0.5913703441619873, -0.5715953707695007, -0.3829227387905121, 0.41788405179977417, -0.15010060369968414, 0.15698887407779694, 0.09788630157709122, -0.12650951743125916, -0.2152828574180603, 0.06505365669727325, 0.16065111756324768, -0.14915958046913147, -0.10013488680124283, -0.06355434656143188, -0.019721880555152893, -0.05588281527161598, -0.015507346019148827, -0.09619821608066559, -0.1025804728269577, 0.04601573944091797, 0.17067942023277283, -0.2368539571762085, -0.09795907884836197, -0.08173956722021103, -0.056909725069999695, 0.05471150577068329, 0.026617970317602158, -0.017244473099708557, -0.04730087146162987, 0.03244591876864433, -0.20080608129501343, -0.04974079877138138, 3.1424083709716797, -0.10834033042192459, 0.13344676792621613, 0.031424615532159805, -0.07845960557460785, -0.030667370185256004, 0.060355160385370255, -0.004156180191785097, -0.08570940047502518, -0.173410564661026, 0.024490617215633392, -0.019940005615353584, -0.060060400515794754, -0.0657305046916008, -0.09599129855632782, -0.15769147872924805, -0.06314168125391006, -0.07931222021579742, -0.046336863189935684, 0.029668457806110382, 0.008322959765791893, -0.008389742113649845, -0.20638053119182587, 0.044196367263793945, -0.315845251083374, 0.016590621322393417, -0.07571696490049362, -0.21032831072807312, -0.0021390216425061226, -0.21922726929187775, 0.023617763072252274, -0.027683990076184273, 0.05537613108754158, -0.04900669306516647, -0.06342700123786926, -0.13863232731819153, -0.043605171144008636, -0.3525121510028839, -0.015659131109714508, -0.2632790207862854, -0.012839184142649174, -0.09715477377176285, -0.04209187254309654, 0.047496575862169266, -0.27058371901512146, -0.020922325551509857, 0.05748807266354561, -0.025136174634099007, 0.055359985679388046, 0.08358243852853775, -0.04972238466143608, 0.015930458903312683], \"y\": [2.062818765640259, 2.210211992263794, 0.039437659084796906, -0.027641739696264267, 0.05066867917776108, -0.1477028727531433, -0.21130087971687317, -0.14117562770843506, -0.08712680637836456, -0.162845641374588, 0.012300251051783562, 2.5035557746887207, 0.819367527961731, -0.1654120683670044, -0.21018923819065094, 0.0441158227622509, 0.7961295247077942, 0.44321832060813904, 0.41057372093200684, 0.40297725796699524, -0.051167309284210205, -0.03850402310490608, -0.11528969556093216, -0.23412439227104187, -0.0225156731903553, -0.03329984471201897, -0.03398624062538147, -0.44552233815193176, -0.049932289868593216, -0.06930125504732132, -0.1599874347448349, -0.10375379025936127, -0.08287898451089859, -0.3131299912929535, -0.037632402032613754, 0.42021527886390686, -0.011290661990642548, 0.37939292192459106, 0.0030309194698929787, 0.007442345842719078, -0.04038037359714508, 0.2116602659225464, 0.4620858430862427, -0.11928125470876694, -0.2588021159172058, -0.16417992115020752, -0.2614887058734894, -0.05244414508342743, -0.26708030700683594, 0.11620685458183289, 0.17440290749073029, -0.22014905512332916, -0.14297406375408173, 0.33421796560287476, 0.2704026699066162, 2.4071810245513916, 2.0997326374053955, -0.01714416965842247, 0.008563751354813576, 0.03727991133928299, -0.040547214448451996, -0.01336077693849802, -0.058826349675655365, -0.3663860261440277, -0.335100382566452, -0.2627834677696228, -0.10973046720027924, -0.3581997752189636, -0.5474510788917542, 0.025835931301116943, 0.2646051049232483, 0.19692859053611755, -0.2665763199329376, 0.38031628727912903, -0.2252059429883957, -0.04169151559472084, 0.12645241618156433, -0.05587036907672882, -0.1993725746870041, 0.14151965081691742, -0.000714954687282443, -0.10719608515501022, -0.12588992714881897, 1.0560792684555054, -0.1344219446182251, 0.5749154686927795, 0.22127211093902588, 0.23276178538799286, 0.3831585645675659, 0.098729208111763, 0.11404601484537125, 0.7859518527984619, 0.611359179019928, 0.4586661458015442, -0.013614282943308353, 0.03148048743605614, -0.04523147642612457, -0.01241274829953909, -0.19629067182540894, -0.1238219141960144, -0.2298482358455658, 0.1514274924993515, 0.20219063758850098, 0.15267948806285858, -0.10591797530651093, 0.032525110989809036, 0.036849044263362885, -0.27037328481674194, -0.039036039263010025, -0.33144286274909973, -0.229363813996315, -0.1810545176267624, -0.14996996521949768, 0.25986769795417786, 0.07123935222625732, -0.1186932921409607, 0.3177616000175476, 0.1962731033563614, -0.33348312973976135, -0.3535171151161194, -0.0182458758354187, 0.08505793660879135, -0.09374360740184784, -0.4972364604473114, -0.5044577717781067, -0.3941151201725006, 0.2859000265598297, -1.6336833238601685, -1.6357234716415405, -1.6749871969223022, -1.6518231630325317, 0.06226671114563942, 0.05545508861541748, 0.3666483759880066, -0.0737626776099205, 0.17770415544509888, 0.3297034800052643, 0.051313962787389755, 0.03678790479898453, -0.0018883561715483665, -0.012557430192828178, -0.09970323741436005, -0.3008088171482086, -0.411477267742157, 0.09954722970724106, 0.0065917051397264, 0.013518355786800385, 0.16064822673797607, 0.24387454986572266, 0.04136684909462929, 0.026047946885228157, 0.18553823232650757, 0.015467634424567223, 0.4939848482608795, -0.17416833341121674, 0.08642279356718063, 0.04662497714161873, -0.0546567440032959, 0.03316735103726387, -0.0836491733789444, 0.5319761633872986, -0.8619633913040161, 0.25828859210014343, -0.008995206095278263, -0.25259682536125183, 0.0120378527790308, 0.15149150788784027, -0.04110467806458473, 0.03284819796681404, -0.05352592095732689, 0.0033534085378050804, -0.07168498635292053, 0.07134547829627991, 0.057222332805395126, 0.010321704670786858, -0.0019297234248369932, -0.032040975987911224, -0.1877952665090561, 0.42846810817718506, -0.4899066090583801, 0.3009515404701233, -0.20163270831108093, 0.11377513408660889, 0.052745748311281204, 0.12733662128448486, 0.20296747982501984, -0.12297844141721725, -0.02963991090655327, -0.027702821418642998, -0.0977468267083168, 0.1424233317375183, -0.0806841179728508, -0.2908343970775604, 0.21017004549503326, -0.0994226485490799, -0.0008869066368788481, -0.0843905657529831, -0.021093040704727173, -0.1417226493358612, 0.0029310898389667273, 0.19570569694042206, 0.18108457326889038, 0.027125759050250053, 0.020537445321679115, -0.002255106810480356, 0.05664771422743797, -0.02507064677774906, -0.09000953286886215, -0.08198820799589157, -0.00616954592987895, -0.08987177163362503, -0.021145254373550415, -0.36990025639533997, -0.28345367312431335, -0.06152770295739174, -0.04003645479679108, 0.04979754611849785, -0.14716778695583344, 0.06265845149755478, 0.09045873582363129, -0.10983221232891083, -0.003218906931579113, -0.12175365537405014, 0.12019888311624527, -0.06176991015672684, 0.3457544445991516, 0.18925026059150696, 0.15427441895008087, 0.20254288613796234, -0.26463988423347473, -0.29123562574386597, 0.029355579987168312, -0.016239650547504425, -0.19265438616275787, -0.07938206195831299, -0.13056138157844543, -0.13736355304718018, 0.04680313915014267, -0.12777481973171234, -0.21869750320911407, -0.02709774672985077, 0.06816837191581726, -0.07981560379266739, -0.07089274376630783, -0.13919387757778168, -0.02750357612967491, 0.0015867054462432861, -0.15881824493408203, -0.07936619222164154, -0.0544339194893837, 0.11522036790847778, -0.05844755843281746, 0.08880200982093811, 0.051817841827869415, -1.5442728996276855, -0.1281520426273346, -0.08829928189516068, -0.1109485775232315, 0.02489660494029522, 0.05637810751795769, 0.023297714069485664, 0.006440104451030493, -0.24603481590747833, -0.21420401334762573, -0.05819922313094139, 0.09039224684238434, -0.24917608499526978, 0.048517704010009766, -0.015990084037184715, -0.011017519049346447, -0.053830668330192566, -0.11101415008306503, -0.03879532590508461, -0.054412078112363815, 0.11183111369609833, -0.0352267362177372, -0.3139481246471405, 0.03293996304273605, -0.27252069115638733, 0.023409942165017128, 0.004529247060418129, -0.12342968583106995, 0.08571159839630127, -0.1878795474767685, 0.003393450053408742, -0.22533820569515228, -0.2319764345884323, -0.14218847453594208, -0.1478443443775177, -0.03208218514919281, -0.06031899154186249, -0.06929624825716019, -0.11657432466745377, -0.10409371554851532, -0.05671951547265053, 0.07661737501621246, -0.07535243034362793, -0.10509680956602097, -0.45925459265708923, -0.04953252896666527, 0.5482794046401978, -0.12158287316560745, -0.08724025636911392, -0.042596060782670975, -0.034791357815265656, -0.012280190363526344]}],                        {\"template\": {\"data\": {\"bar\": [{\"error_x\": {\"color\": \"#2a3f5f\"}, \"error_y\": {\"color\": \"#2a3f5f\"}, \"marker\": {\"line\": {\"color\": \"#E5ECF6\", \"width\": 0.5}}, \"type\": \"bar\"}], \"barpolar\": [{\"marker\": {\"line\": {\"color\": \"#E5ECF6\", \"width\": 0.5}}, \"type\": \"barpolar\"}], \"carpet\": [{\"aaxis\": {\"endlinecolor\": \"#2a3f5f\", \"gridcolor\": \"white\", \"linecolor\": \"white\", \"minorgridcolor\": \"white\", \"startlinecolor\": \"#2a3f5f\"}, \"baxis\": {\"endlinecolor\": \"#2a3f5f\", \"gridcolor\": \"white\", \"linecolor\": \"white\", \"minorgridcolor\": \"white\", \"startlinecolor\": \"#2a3f5f\"}, \"type\": \"carpet\"}], \"choropleth\": [{\"colorbar\": {\"outlinewidth\": 0, \"ticks\": \"\"}, \"type\": \"choropleth\"}], \"contour\": [{\"colorbar\": {\"outlinewidth\": 0, \"ticks\": \"\"}, \"colorscale\": [[0.0, \"#0d0887\"], [0.1111111111111111, \"#46039f\"], [0.2222222222222222, \"#7201a8\"], [0.3333333333333333, \"#9c179e\"], [0.4444444444444444, \"#bd3786\"], [0.5555555555555556, \"#d8576b\"], [0.6666666666666666, \"#ed7953\"], [0.7777777777777778, \"#fb9f3a\"], [0.8888888888888888, \"#fdca26\"], [1.0, \"#f0f921\"]], \"type\": \"contour\"}], \"contourcarpet\": [{\"colorbar\": {\"outlinewidth\": 0, \"ticks\": \"\"}, \"type\": \"contourcarpet\"}], \"heatmap\": [{\"colorbar\": {\"outlinewidth\": 0, \"ticks\": \"\"}, \"colorscale\": [[0.0, \"#0d0887\"], [0.1111111111111111, \"#46039f\"], [0.2222222222222222, \"#7201a8\"], [0.3333333333333333, \"#9c179e\"], [0.4444444444444444, \"#bd3786\"], [0.5555555555555556, \"#d8576b\"], [0.6666666666666666, \"#ed7953\"], [0.7777777777777778, \"#fb9f3a\"], [0.8888888888888888, \"#fdca26\"], [1.0, \"#f0f921\"]], \"type\": \"heatmap\"}], \"heatmapgl\": [{\"colorbar\": {\"outlinewidth\": 0, \"ticks\": \"\"}, \"colorscale\": [[0.0, \"#0d0887\"], [0.1111111111111111, \"#46039f\"], [0.2222222222222222, \"#7201a8\"], [0.3333333333333333, \"#9c179e\"], [0.4444444444444444, \"#bd3786\"], [0.5555555555555556, \"#d8576b\"], [0.6666666666666666, \"#ed7953\"], [0.7777777777777778, \"#fb9f3a\"], [0.8888888888888888, \"#fdca26\"], [1.0, \"#f0f921\"]], \"type\": \"heatmapgl\"}], \"histogram\": [{\"marker\": {\"colorbar\": {\"outlinewidth\": 0, \"ticks\": \"\"}}, \"type\": \"histogram\"}], \"histogram2d\": [{\"colorbar\": {\"outlinewidth\": 0, \"ticks\": \"\"}, \"colorscale\": [[0.0, \"#0d0887\"], [0.1111111111111111, \"#46039f\"], [0.2222222222222222, \"#7201a8\"], [0.3333333333333333, \"#9c179e\"], [0.4444444444444444, \"#bd3786\"], [0.5555555555555556, \"#d8576b\"], [0.6666666666666666, \"#ed7953\"], [0.7777777777777778, \"#fb9f3a\"], [0.8888888888888888, \"#fdca26\"], [1.0, \"#f0f921\"]], \"type\": \"histogram2d\"}], \"histogram2dcontour\": [{\"colorbar\": {\"outlinewidth\": 0, \"ticks\": \"\"}, \"colorscale\": [[0.0, \"#0d0887\"], [0.1111111111111111, \"#46039f\"], [0.2222222222222222, \"#7201a8\"], [0.3333333333333333, \"#9c179e\"], [0.4444444444444444, \"#bd3786\"], [0.5555555555555556, \"#d8576b\"], [0.6666666666666666, \"#ed7953\"], [0.7777777777777778, \"#fb9f3a\"], [0.8888888888888888, \"#fdca26\"], [1.0, \"#f0f921\"]], \"type\": \"histogram2dcontour\"}], \"mesh3d\": [{\"colorbar\": {\"outlinewidth\": 0, \"ticks\": \"\"}, \"type\": \"mesh3d\"}], \"parcoords\": [{\"line\": {\"colorbar\": {\"outlinewidth\": 0, \"ticks\": \"\"}}, \"type\": \"parcoords\"}], \"pie\": [{\"automargin\": true, \"type\": \"pie\"}], \"scatter\": [{\"marker\": {\"colorbar\": {\"outlinewidth\": 0, \"ticks\": \"\"}}, \"type\": \"scatter\"}], \"scatter3d\": [{\"line\": {\"colorbar\": {\"outlinewidth\": 0, \"ticks\": \"\"}}, \"marker\": {\"colorbar\": {\"outlinewidth\": 0, \"ticks\": \"\"}}, \"type\": \"scatter3d\"}], \"scattercarpet\": [{\"marker\": {\"colorbar\": {\"outlinewidth\": 0, \"ticks\": \"\"}}, \"type\": \"scattercarpet\"}], \"scattergeo\": [{\"marker\": {\"colorbar\": {\"outlinewidth\": 0, \"ticks\": \"\"}}, \"type\": \"scattergeo\"}], \"scattergl\": [{\"marker\": {\"colorbar\": {\"outlinewidth\": 0, \"ticks\": \"\"}}, \"type\": \"scattergl\"}], \"scattermapbox\": [{\"marker\": {\"colorbar\": {\"outlinewidth\": 0, \"ticks\": \"\"}}, \"type\": \"scattermapbox\"}], \"scatterpolar\": [{\"marker\": {\"colorbar\": {\"outlinewidth\": 0, \"ticks\": \"\"}}, \"type\": \"scatterpolar\"}], \"scatterpolargl\": [{\"marker\": {\"colorbar\": {\"outlinewidth\": 0, \"ticks\": \"\"}}, \"type\": \"scatterpolargl\"}], \"scatterternary\": [{\"marker\": {\"colorbar\": {\"outlinewidth\": 0, \"ticks\": \"\"}}, \"type\": \"scatterternary\"}], \"surface\": [{\"colorbar\": {\"outlinewidth\": 0, \"ticks\": \"\"}, \"colorscale\": [[0.0, \"#0d0887\"], [0.1111111111111111, \"#46039f\"], [0.2222222222222222, \"#7201a8\"], [0.3333333333333333, \"#9c179e\"], [0.4444444444444444, \"#bd3786\"], [0.5555555555555556, \"#d8576b\"], [0.6666666666666666, \"#ed7953\"], [0.7777777777777778, \"#fb9f3a\"], [0.8888888888888888, \"#fdca26\"], [1.0, \"#f0f921\"]], \"type\": \"surface\"}], \"table\": [{\"cells\": {\"fill\": {\"color\": \"#EBF0F8\"}, \"line\": {\"color\": \"white\"}}, \"header\": {\"fill\": {\"color\": \"#C8D4E3\"}, \"line\": {\"color\": \"white\"}}, \"type\": \"table\"}]}, \"layout\": {\"annotationdefaults\": {\"arrowcolor\": \"#2a3f5f\", \"arrowhead\": 0, \"arrowwidth\": 1}, \"coloraxis\": {\"colorbar\": {\"outlinewidth\": 0, \"ticks\": \"\"}}, \"colorscale\": {\"diverging\": [[0, \"#8e0152\"], [0.1, \"#c51b7d\"], [0.2, \"#de77ae\"], [0.3, \"#f1b6da\"], [0.4, \"#fde0ef\"], [0.5, \"#f7f7f7\"], [0.6, \"#e6f5d0\"], [0.7, \"#b8e186\"], [0.8, \"#7fbc41\"], [0.9, \"#4d9221\"], [1, \"#276419\"]], \"sequential\": [[0.0, \"#0d0887\"], [0.1111111111111111, \"#46039f\"], [0.2222222222222222, \"#7201a8\"], [0.3333333333333333, \"#9c179e\"], [0.4444444444444444, \"#bd3786\"], [0.5555555555555556, \"#d8576b\"], [0.6666666666666666, \"#ed7953\"], [0.7777777777777778, \"#fb9f3a\"], [0.8888888888888888, \"#fdca26\"], [1.0, \"#f0f921\"]], \"sequentialminus\": [[0.0, \"#0d0887\"], [0.1111111111111111, \"#46039f\"], [0.2222222222222222, \"#7201a8\"], [0.3333333333333333, \"#9c179e\"], [0.4444444444444444, \"#bd3786\"], [0.5555555555555556, \"#d8576b\"], [0.6666666666666666, \"#ed7953\"], [0.7777777777777778, \"#fb9f3a\"], [0.8888888888888888, \"#fdca26\"], [1.0, \"#f0f921\"]]}, \"colorway\": [\"#636efa\", \"#EF553B\", \"#00cc96\", \"#ab63fa\", \"#FFA15A\", \"#19d3f3\", \"#FF6692\", \"#B6E880\", \"#FF97FF\", \"#FECB52\"], \"font\": {\"color\": \"#2a3f5f\"}, \"geo\": {\"bgcolor\": \"white\", \"lakecolor\": \"white\", \"landcolor\": \"#E5ECF6\", \"showlakes\": true, \"showland\": true, \"subunitcolor\": \"white\"}, \"hoverlabel\": {\"align\": \"left\"}, \"hovermode\": \"closest\", \"mapbox\": {\"style\": \"light\"}, \"paper_bgcolor\": \"white\", \"plot_bgcolor\": \"#E5ECF6\", \"polar\": {\"angularaxis\": {\"gridcolor\": \"white\", \"linecolor\": \"white\", \"ticks\": \"\"}, \"bgcolor\": \"#E5ECF6\", \"radialaxis\": {\"gridcolor\": \"white\", \"linecolor\": \"white\", \"ticks\": \"\"}}, \"scene\": {\"xaxis\": {\"backgroundcolor\": \"#E5ECF6\", \"gridcolor\": \"white\", \"gridwidth\": 2, \"linecolor\": \"white\", \"showbackground\": true, \"ticks\": \"\", \"zerolinecolor\": \"white\"}, \"yaxis\": {\"backgroundcolor\": \"#E5ECF6\", \"gridcolor\": \"white\", \"gridwidth\": 2, \"linecolor\": \"white\", \"showbackground\": true, \"ticks\": \"\", \"zerolinecolor\": \"white\"}, \"zaxis\": {\"backgroundcolor\": \"#E5ECF6\", \"gridcolor\": \"white\", \"gridwidth\": 2, \"linecolor\": \"white\", \"showbackground\": true, \"ticks\": \"\", \"zerolinecolor\": \"white\"}}, \"shapedefaults\": {\"line\": {\"color\": \"#2a3f5f\"}}, \"ternary\": {\"aaxis\": {\"gridcolor\": \"white\", \"linecolor\": \"white\", \"ticks\": \"\"}, \"baxis\": {\"gridcolor\": \"white\", \"linecolor\": \"white\", \"ticks\": \"\"}, \"bgcolor\": \"#E5ECF6\", \"caxis\": {\"gridcolor\": \"white\", \"linecolor\": \"white\", \"ticks\": \"\"}}, \"title\": {\"x\": 0.05}, \"xaxis\": {\"automargin\": true, \"gridcolor\": \"white\", \"linecolor\": \"white\", \"ticks\": \"\", \"title\": {\"standoff\": 15}, \"zerolinecolor\": \"white\", \"zerolinewidth\": 2}, \"yaxis\": {\"automargin\": true, \"gridcolor\": \"white\", \"linecolor\": \"white\", \"ticks\": \"\", \"title\": {\"standoff\": 15}, \"zerolinecolor\": \"white\", \"zerolinewidth\": 2}}}, \"title\": {\"text\": \"PCA\"}},                        {\"responsive\": true}                    ).then(function(){\n",
       "                            \n",
       "var gd = document.getElementById('03cc6216-8623-460d-b57d-440fe05f49f2');\n",
       "var x = new MutationObserver(function (mutations, observer) {{\n",
       "        var display = window.getComputedStyle(gd).display;\n",
       "        if (!display || display === 'none') {{\n",
       "            console.log([gd, 'removed!']);\n",
       "            Plotly.purge(gd);\n",
       "            observer.disconnect();\n",
       "        }}\n",
       "}});\n",
       "\n",
       "// Listen for the removal of the full notebook cells\n",
       "var notebookContainer = gd.closest('#notebook-container');\n",
       "if (notebookContainer) {{\n",
       "    x.observe(notebookContainer, {childList: true});\n",
       "}}\n",
       "\n",
       "// Listen for the clearing of the current output cell\n",
       "var outputEl = gd.closest('.output');\n",
       "if (outputEl) {{\n",
       "    x.observe(outputEl, {childList: true});\n",
       "}}\n",
       "\n",
       "                        })                };                });            </script>        </div>"
      ]
     },
     "metadata": {},
     "output_type": "display_data"
    }
   ],
   "source": [
    "#Se grafica la distacia de palabras\n",
    "trace = go.Scatter(x=result['X'].values,\n",
    "                    y=result['Y'].values,\n",
    "                    text=result['Palabra'].values,\n",
    "                    mode='markers') \n",
    " \n",
    "layout = go.Layout(title=\"PCA\") \n",
    "fig = go.Figure(data=trace, layout=layout)\n",
    "\n",
    "iplot(fig)"
   ]
  },
  {
   "cell_type": "markdown",
   "metadata": {},
   "source": [
    "Se observa que las palabras estan bastante concentradas en la grafica y las que son outliers , son palabras que no tienen ningun significado. se debe revisar el preprocesado del texto "
   ]
  },
  {
   "cell_type": "code",
   "execution_count": null,
   "metadata": {},
   "outputs": [],
   "source": [
    "### TRatamos de usar la funcion de accuracy para medir la efectividad del modelo, se creo un cnutno de palabras de evaluación"
   ]
  },
  {
   "cell_type": "code",
   "execution_count": 114,
   "metadata": {},
   "outputs": [
    {
     "name": "stderr",
     "output_type": "stream",
     "text": [
      "C:\\Users\\User\\Anaconda3\\lib\\site-packages\\ipykernel_launcher.py:1: DeprecationWarning:\n",
      "\n",
      "Call to deprecated `accuracy` (Method will be removed in 4.0.0, use self.evaluate_word_analogies() instead).\n",
      "\n"
     ]
    }
   ],
   "source": [
    "efectividad = mi_modelo.wv.accuracy('c:/tmp/evalPF.txt')"
   ]
  },
  {
   "cell_type": "code",
   "execution_count": 115,
   "metadata": {},
   "outputs": [
    {
     "name": "stdout",
     "output_type": "stream",
     "text": [
      "[{'section': 'palabras-comunes-planificacion', 'correct': [], 'incorrect': []}, {'section': 'total', 'correct': [], 'incorrect': []}]\n"
     ]
    }
   ],
   "source": [
    "print(efectividad)"
   ]
  },
  {
   "cell_type": "markdown",
   "metadata": {},
   "source": [
    "### ¿Su modelo da buenos resultados? ¿Por qué sí o por qué no?\n",
    "\n",
    "Entiendo que la fortaleza del modelo se basa en el corpus que se usa para alimentarlo, en el ejemplo qu yo tome solo se tomo un texto sobre planificación Familiar, por lo tanto los resultados pueden no ser tan buenos. Pues buscando palabras similares que tien que ver sobre esta tematica y que son bastante frecuentes, no se econtraron resultados, ej sexo.\n",
    "El investigar y obtener corpus robustos, con seguridad mejora el desempeño del modelo\n"
   ]
  },
  {
   "cell_type": "markdown",
   "metadata": {},
   "source": [
    "### ¿Qué problemas encontró al realizar este taller?\n",
    "\n",
    "1- Encontrar corpus sobre la tematica seleccionada : PLanificación Familiar\n",
    "2- Entender la documentacion , no es facil comprender sin ejemplos\n",
    "3- En consecuencia con el punto anterior, no me fue posible medir la efectivad del modelo pues a pesar de construir un texto de evaluación no entendi los resultados"
   ]
  },
  {
   "cell_type": "code",
   "execution_count": null,
   "metadata": {},
   "outputs": [],
   "source": []
  }
 ],
 "metadata": {
  "kernelspec": {
   "display_name": "Python 3",
   "language": "python",
   "name": "python3"
  },
  "language_info": {
   "codemirror_mode": {
    "name": "ipython",
    "version": 3
   },
   "file_extension": ".py",
   "mimetype": "text/x-python",
   "name": "python",
   "nbconvert_exporter": "python",
   "pygments_lexer": "ipython3",
   "version": "3.7.6"
  }
 },
 "nbformat": 4,
 "nbformat_minor": 2
}
